{
 "cells": [
  {
   "cell_type": "code",
   "execution_count": 1,
   "metadata": {},
   "outputs": [],
   "source": [
    "from sklearn.model_selection import StratifiedShuffleSplit\n",
    "from collections import Counter\n",
    "from sklearn.manifold import TSNE\n",
    "from sklearn.decomposition import PCA, TruncatedSVD\n",
    "import time\n",
    "import lightgbm as lgb\n",
    "from sklearn.metrics import roc_curve, auc, roc_auc_score\n",
    "from sklearn import metrics\n",
    "from sklearn.model_selection import StratifiedKFold\n",
    "import tensorflow as tf\n",
    "from tensorflow import keras\n",
    "import seaborn as sns\n",
    "import matplotlib.patches as mpatches\n",
    "from sklearn.naive_bayes import GaussianNB\n",
    "from sklearn.naive_bayes import BernoulliNB\n",
    "from sklearn.model_selection import train_test_split\n",
    "import matplotlib.pyplot as plt # Plot the graphes\n",
    "%matplotlib inline\n",
    "from imblearn.under_sampling import RandomUnderSampler\n",
    "from imblearn.under_sampling import RandomUnderSampler\n",
    "from sklearn.metrics import classification_report,confusion_matrix\n",
    "from sklearn import preprocessing\n",
    "import seaborn as sns\n",
    "from sklearn.preprocessing import StandardScaler as ss\n",
    "from sklearn.model_selection import cross_val_score\n",
    "from sklearn.ensemble import RandomForestClassifier\n",
    "from sklearn.tree import DecisionTreeClassifier\n",
    "from sklearn.svm import SVC\n",
    "from sklearn.neural_network import MLPClassifier\n",
    "from sklearn.neighbors import KNeighborsClassifier\n",
    "from sklearn.linear_model import LogisticRegression\n",
    "from sklearn.model_selection import GridSearchCV\n",
    "sns.set()\n",
    "from sklearn.model_selection import RepeatedStratifiedKFold\n",
    "import sklearn.metrics as metrics\n",
    "import xgboost as xgb\n",
    "from sklearn.preprocessing import StandardScaler \n",
    "from sklearn.feature_selection import SelectFromModel\n",
    "from sklearn.ensemble import AdaBoostClassifier\n",
    "from sklearn.model_selection import cross_val_predict\n",
    "from sklearn.model_selection import train_test_split, KFold, StratifiedKFold, GridSearchCV, learning_curve\n",
    "from sklearn.metrics import roc_curve, auc, confusion_matrix, accuracy_score, f1_score, precision_score, recall_score, roc_auc_score\n",
    "from sklearn import svm\n",
    "import pandas as pd\n",
    "from geopy.distance import distance\n",
    "from geopy.distance import geodesic\n",
    "import xlsxwriter\n",
    "import numpy as np\n",
    "import datetime\n",
    "from scipy import stats\n",
    "from sqlalchemy import create_engine\n",
    "from datetime import date,timedelta\n",
    "from sklearn.cluster import KMeans, SpectralClustering\n",
    "from sklearn.preprocessing import StandardScaler,RobustScaler,normalize\n",
    "import os\n",
    "import warnings\n",
    "import time\n",
    "warnings.filterwarnings(\"ignore\")"
   ]
  },
  {
   "cell_type": "markdown",
   "metadata": {},
   "source": [
    "### Overview of the Imported Libraries and Initial Setup\n",
    "\n",
    "This code begins by importing essential libraries for handling imbalanced datasets, creating machine learning pipelines, and generating interactive plots:\n",
    "\n",
    "1.  **Imbalanced Data Handling**: The `imblearn` package provides tools like `SMOTE` (Synthetic Minority Over-sampling Technique) and `ADASYN` (Adaptive Synthetic Sampling) for oversampling minority classes, addressing class imbalance in datasets.\n",
    "    \n",
    "2.  **Plotting**: Plotly is used for creating interactive visualizations. The notebook initializes Plotly in offline mode to render plots directly within the notebook, avoiding the need for internet access.\n",
    "    \n",
    "3.  **Configurations**:\n",
    "    \n",
    "    *   A random seed (`SEED = 17`) is set for reproducibility of results.\n",
    "    *   Pandas is configured to display all columns of a DataFrame without abbreviation, ensuring complete visibility of the data structure during analysis.\n",
    "\n",
    "These initial steps establish the foundation for subsequent data processing, modeling, and visualization tasks within the notebook."
   ]
  },
  {
   "cell_type": "code",
   "execution_count": 2,
   "metadata": {},
   "outputs": [
    {
     "data": {
      "text/html": [
       "        <script type=\"text/javascript\">\n",
       "        window.PlotlyConfig = {MathJaxConfig: 'local'};\n",
       "        if (window.MathJax) {MathJax.Hub.Config({SVG: {font: \"STIX-Web\"}});}\n",
       "        if (typeof require !== 'undefined') {\n",
       "        require.undef(\"plotly\");\n",
       "        requirejs.config({\n",
       "            paths: {\n",
       "                'plotly': ['https://cdn.plot.ly/plotly-latest.min']\n",
       "            }\n",
       "        });\n",
       "        require(['plotly'], function(Plotly) {\n",
       "            window._Plotly = Plotly;\n",
       "        });\n",
       "        }\n",
       "        </script>\n",
       "        "
      ]
     },
     "metadata": {},
     "output_type": "display_data"
    }
   ],
   "source": [
    "from imblearn.over_sampling import SMOTE\n",
    "from imblearn.over_sampling import ADASYN\n",
    "from imblearn.pipeline import make_pipeline, Pipeline\n",
    "from imblearn.over_sampling import SMOTE\n",
    "\n",
    "#plot libaries\n",
    "import plotly\n",
    "import plotly.graph_objs as go\n",
    "import plotly.figure_factory as ff\n",
    "from plotly.offline import init_notebook_mode\n",
    "init_notebook_mode(connected=True) # to show plots in notebook\n",
    "\n",
    "# online plotly\n",
    "#from plotly.plotly import plot, iplot\n",
    "#plotly.tools.set_credentials_file(username='XXXXXXXXXXXXXXX', api_key='XXXXXXXXXXXXXXX')\n",
    "\n",
    "# offline plotly\n",
    "from plotly.offline import plot, iplot\n",
    "\n",
    "SEED = 17 # specify seed for reprodufinal_reportle results\n",
    "pd.set_option('display.max_columns', None) # prevents abbreviation (with '...') of columns in prints"
   ]
  },
  {
   "cell_type": "markdown",
   "metadata": {},
   "source": [
    "### Explanation of Model Hyperparameter Grids\n",
    "\n",
    "This section defines hyperparameter grids for various machine learning classifiers. These grids are used to explore different combinations of hyperparameters during model tuning, typically with techniques like Grid Search or Random Search, to identify the best parameters for optimal model performance.\n",
    "\n",
    "1.  **Random Forest Parameters (`RANDOM_FOREST_PARAMS`)**:\n",
    "    \n",
    "    *   `clf__max_depth`: Specifies the maximum depth of the trees in the forest. Values of 25, 50, and 75 are considered, controlling the complexity of the trees.\n",
    "    *   `clf__max_features`: Set to \"sqrt,\" which means the number of features considered for splitting at each node is the square root of the total number of features. This is chosen because it provides a balance between computational efficiency and model performance, especially when the number of features is between 10-19.\n",
    "    *   `clf__criterion`: Specifies the function to measure the quality of a split, with options 'gini' (Gini impurity) and 'entropy' (information gain).\n",
    "    *   `clf__n_estimators`: Specifies the number of trees in the forest, with options 100, 300, 500, and 1000, allowing the model to explore the effect of the number of trees on performance.\n",
    "2.  **Decision Tree Parameters (`DECISION_TREE_PARAMS`)**:\n",
    "    \n",
    "    *   Similar to the Random Forest parameters, with additional options:\n",
    "    *   `clf__min_samples_split`: Determines the minimum number of samples required to split an internal node, with values of 6, 10, and 14. This controls the growth of the tree by setting a threshold for node splitting, impacting the depth and complexity of the tree.\n",
    "3.  **Logistic Regression Parameters (`LOGISTIC_REGRESSION_PARAMS`)**:\n",
    "    \n",
    "    *   `clf__solver`: Set to 'liblinear', a solver suitable for small datasets and `l1` or `l2` penalty types.\n",
    "    *   `clf__C`: Specifies the inverse of regularization strength, with values 0.1, 1, and 10. Smaller values specify stronger regularization, affecting the model's complexity and generalization ability.\n",
    "    *   `clf__penalty`: Regularization type with 'l2' (Ridge) and 'l1' (Lasso), influencing the impact of regularization on model weights.\n",
    "4.  **K-Nearest Neighbors (KNN) Parameters (`KNN_PARAMS` and `KNN_PARAMS_UNIFORM`)**:\n",
    "    \n",
    "    *   `clf__n_neighbors`: Specifies the number of neighbors to use for classification, with a range from 5 to 65 in steps of 10.\n",
    "    *   `clf__weights`: Options 'uniform' (equal weight to all neighbors) and 'distance' (closer neighbors have more influence), affecting how the classification decision is made.\n",
    "    *   `clf__p`: Defines the distance metric with values 1 (Manhattan distance), 2 (Euclidean distance), and 10 (Minkowski distance), which adjusts how the distance between points is calculated.\n",
    "5.  **Support Vector Machine (SVM) Parameters (`SVM_PARAMS`)**:\n",
    "    \n",
    "    *   The parameters are divided into two dictionaries for different kernel types:\n",
    "        *   **Linear Kernel**:\n",
    "            *   `clf__kernel`: Set to 'linear', meaning the decision boundary is a straight line.\n",
    "            *   `clf__C`: Controls the regularization strength, with values 0.1, 1, and 10, influencing how tolerant the model is to misclassifications.\n",
    "        *   **Radial Basis Function (RBF) Kernel**:\n",
    "            *   `clf__kernel`: Set to 'rbf', a non-linear kernel that maps samples into higher-dimensional space.\n",
    "            *   `clf__C`: A broader range of values from 0.01 to 100 is considered, exploring the impact of regularization strength.\n",
    "            *   `clf__gamma`: Specifies the kernel coefficient, controlling the influence of individual training samples. A lower value means a wider influence, while a higher value focuses more narrowly on individual points.\n",
    "\n",
    "These parameter grids provide a comprehensive set of hyperparameters for each model, enabling robust model tuning to optimize performance based on the characteristics of the dataset."
   ]
  },
  {
   "cell_type": "code",
   "execution_count": 3,
   "metadata": {},
   "outputs": [],
   "source": [
    "RANDOM_FOREST_PARAMS = {\n",
    "    'clf__max_depth': [25, 50, 75],\n",
    "    'clf__max_features': [\"sqrt\"], # just sqrt is used because values of log2 and sqrt are very similar for our number of features (10-19) \n",
    "    'clf__criterion': ['gini', 'entropy'],\n",
    "    'clf__n_estimators': [100, 300, 500, 1000]\n",
    "}\n",
    "\n",
    "DECISION_TREE_PARAMS = {\n",
    "    'clf__max_depth': [25, 50, 75],\n",
    "    'clf__max_features': [\"sqrt\"], # just sqrt is used because values of log2 and sqrt are very similar for our number of features (10-19)\n",
    "    'clf__criterion': ['gini', 'entropy'],\n",
    "    'clf__min_samples_split': [6, 10, 14],\n",
    "}\n",
    "\n",
    "LOGISTIC_REGRESSION_PARAMS = {\n",
    "    'clf__solver': ['liblinear'],\n",
    "    'clf__C': [0.1, 1, 10],\n",
    "    'clf__penalty': ['l2', 'l1']\n",
    "}\n",
    "\n",
    "KNN_PARAMS = {\n",
    "    'clf__n_neighbors': [5, 15, 25, 35, 45, 55, 65],\n",
    "    'clf__weights': ['uniform', 'distance'],\n",
    "    'clf__p': [1, 2, 10]\n",
    "}\n",
    "\n",
    "KNN_PARAMS_UNIFORM = {\n",
    "    'clf__n_neighbors': [5, 15, 25, 35, 45, 55, 65],\n",
    "    'clf__weights': ['uniform'],\n",
    "    'clf__p': [1, 2, 10]\n",
    "}\n",
    "\n",
    "SVM_PARAMS = [\n",
    "{\n",
    "    'clf__kernel': ['linear'],\n",
    "    'clf__C': [0.1, 1, 10],\n",
    "}, \n",
    "{\n",
    "    'clf__kernel': ['rbf'],\n",
    "    'clf__C': [0.01, 0.1, 1, 10, 100],\n",
    "    'clf__gamma': [0.01, 0.1, 1, 10, 100],\n",
    "}]"
   ]
  },
  {
   "cell_type": "markdown",
   "metadata": {},
   "source": [
    "### importing and cleaning the dataset"
   ]
  },
  {
   "cell_type": "code",
   "execution_count": 4,
   "metadata": {},
   "outputs": [
    {
     "name": "stdout",
     "output_type": "stream",
     "text": [
      "The dataset contains 2310 rows and 25 columns. \n"
     ]
    }
   ],
   "source": [
    "#fraud_data = pd.read_excel('C:/Users/Snapp/Desktop/impute4.xlsx')\n",
    "fraud_data = pd.read_excel('C:/Users/Snapp/Desktop/dataset2.xlsx')\n",
    "print('The dataset contains {0} rows and {1} columns. '.format(fraud_data.shape[0],fraud_data.shape[1]))"
   ]
  },
  {
   "cell_type": "code",
   "execution_count": 5,
   "metadata": {},
   "outputs": [
    {
     "data": {
      "text/plain": [
       "0    0.869697\n",
       "1    0.130303\n",
       "Name: is_fraud_manuall, dtype: float64"
      ]
     },
     "execution_count": 5,
     "metadata": {},
     "output_type": "execute_result"
    }
   ],
   "source": [
    "fraud_data.is_fraud_manuall.value_counts(normalize=True)"
   ]
  },
  {
   "cell_type": "code",
   "execution_count": 6,
   "metadata": {},
   "outputs": [
    {
     "name": "stdout",
     "output_type": "stream",
     "text": [
      "False\n",
      "True\n"
     ]
    }
   ],
   "source": [
    "print(np.any(np.isnan(fraud_data)))\n",
    "print(np.all(np.isfinite(fraud_data)))"
   ]
  },
  {
   "cell_type": "code",
   "execution_count": 7,
   "metadata": {},
   "outputs": [
    {
     "data": {
      "text/plain": [
       "order_request_id                             0\n",
       "is_fraud_manuall                             0\n",
       "Timesec                                      0\n",
       "order_distance                               0\n",
       "destination_to_next_origin_distance          0\n",
       "origin_to_next_origin_distance               0\n",
       "cancellation_to_next_acception_time          0\n",
       "acception_to_cancellation_time               0\n",
       "acception_to_acception_time                  0\n",
       "biker_delivery_fare                          0\n",
       "total_accepted_requests                      0\n",
       "total_rides                                  0\n",
       "total_cancellation                           0\n",
       "cancellation_by_biker                        0\n",
       "cancellation_by_customer                     0\n",
       "destination_to_next2_origin_distance         0\n",
       "destination_to_next3_origin_distance         0\n",
       "destination_to_next4_origin_distance         0\n",
       "origin_to_next2_origin_distance              0\n",
       "origin_to_next3_origin_distance              0\n",
       "origin_to_next4_origin_distance              0\n",
       "destination_to_next_destination_distance     0\n",
       "destination_to_next2_destination_distance    0\n",
       "destination_to_next3_destination_distance    0\n",
       "cans_query                                   0\n",
       "dtype: int64"
      ]
     },
     "execution_count": 7,
     "metadata": {},
     "output_type": "execute_result"
    }
   ],
   "source": [
    "fraud_data.isnull().sum()"
   ]
  },
  {
   "cell_type": "code",
   "execution_count": 8,
   "metadata": {},
   "outputs": [],
   "source": [
    "scaler = StandardScaler()\n",
    "#fraud_data['normalize_amount'] = scaler.fit_transform(fraud_data['Amount'].values.reshape(-1,1))\n",
    "fraud_data['scaled_time'] = scaler.fit_transform(fraud_data['Timesec'].values.reshape(-1,1))"
   ]
  },
  {
   "cell_type": "code",
   "execution_count": 9,
   "metadata": {},
   "outputs": [],
   "source": [
    "data = fraud_data.drop(['Timesec','order_request_id'],axis=1)"
   ]
  },
  {
   "cell_type": "code",
   "execution_count": 10,
   "metadata": {
    "scrolled": true
   },
   "outputs": [
    {
     "data": {
      "text/html": [
       "<div>\n",
       "<style scoped>\n",
       "    .dataframe tbody tr th:only-of-type {\n",
       "        vertical-align: middle;\n",
       "    }\n",
       "\n",
       "    .dataframe tbody tr th {\n",
       "        vertical-align: top;\n",
       "    }\n",
       "\n",
       "    .dataframe thead th {\n",
       "        text-align: right;\n",
       "    }\n",
       "</style>\n",
       "<table border=\"1\" class=\"dataframe\">\n",
       "  <thead>\n",
       "    <tr style=\"text-align: right;\">\n",
       "      <th></th>\n",
       "      <th>is_fraud_manuall</th>\n",
       "      <th>order_distance</th>\n",
       "      <th>destination_to_next_origin_distance</th>\n",
       "      <th>origin_to_next_origin_distance</th>\n",
       "      <th>cancellation_to_next_acception_time</th>\n",
       "      <th>acception_to_cancellation_time</th>\n",
       "      <th>acception_to_acception_time</th>\n",
       "      <th>biker_delivery_fare</th>\n",
       "      <th>total_accepted_requests</th>\n",
       "      <th>total_rides</th>\n",
       "      <th>total_cancellation</th>\n",
       "      <th>cancellation_by_biker</th>\n",
       "      <th>cancellation_by_customer</th>\n",
       "      <th>destination_to_next2_origin_distance</th>\n",
       "      <th>destination_to_next3_origin_distance</th>\n",
       "      <th>destination_to_next4_origin_distance</th>\n",
       "      <th>origin_to_next2_origin_distance</th>\n",
       "      <th>origin_to_next3_origin_distance</th>\n",
       "      <th>origin_to_next4_origin_distance</th>\n",
       "      <th>destination_to_next_destination_distance</th>\n",
       "      <th>destination_to_next2_destination_distance</th>\n",
       "      <th>destination_to_next3_destination_distance</th>\n",
       "      <th>cans_query</th>\n",
       "      <th>scaled_time</th>\n",
       "    </tr>\n",
       "  </thead>\n",
       "  <tbody>\n",
       "    <tr>\n",
       "      <th>0</th>\n",
       "      <td>0</td>\n",
       "      <td>6.363</td>\n",
       "      <td>4.057</td>\n",
       "      <td>8.210</td>\n",
       "      <td>8.150000</td>\n",
       "      <td>0.050000</td>\n",
       "      <td>8.200000</td>\n",
       "      <td>180000</td>\n",
       "      <td>2</td>\n",
       "      <td>0</td>\n",
       "      <td>2</td>\n",
       "      <td>1</td>\n",
       "      <td>1</td>\n",
       "      <td>6694</td>\n",
       "      <td>3257</td>\n",
       "      <td>5360</td>\n",
       "      <td>2589</td>\n",
       "      <td>15253</td>\n",
       "      <td>14778</td>\n",
       "      <td>3744</td>\n",
       "      <td>9359</td>\n",
       "      <td>2286</td>\n",
       "      <td>0</td>\n",
       "      <td>-0.020934</td>\n",
       "    </tr>\n",
       "    <tr>\n",
       "      <th>1</th>\n",
       "      <td>0</td>\n",
       "      <td>1.266</td>\n",
       "      <td>4.724</td>\n",
       "      <td>3.763</td>\n",
       "      <td>2.250000</td>\n",
       "      <td>0.066667</td>\n",
       "      <td>2.316667</td>\n",
       "      <td>155000</td>\n",
       "      <td>5</td>\n",
       "      <td>3</td>\n",
       "      <td>2</td>\n",
       "      <td>0</td>\n",
       "      <td>2</td>\n",
       "      <td>9250</td>\n",
       "      <td>22954</td>\n",
       "      <td>19554</td>\n",
       "      <td>5831</td>\n",
       "      <td>2723</td>\n",
       "      <td>5970</td>\n",
       "      <td>4564</td>\n",
       "      <td>6213</td>\n",
       "      <td>16748</td>\n",
       "      <td>0</td>\n",
       "      <td>0.660270</td>\n",
       "    </tr>\n",
       "    <tr>\n",
       "      <th>2</th>\n",
       "      <td>0</td>\n",
       "      <td>4.915</td>\n",
       "      <td>5.366</td>\n",
       "      <td>0.482</td>\n",
       "      <td>0.416667</td>\n",
       "      <td>0.016667</td>\n",
       "      <td>0.433333</td>\n",
       "      <td>220000</td>\n",
       "      <td>3</td>\n",
       "      <td>1</td>\n",
       "      <td>2</td>\n",
       "      <td>1</td>\n",
       "      <td>1</td>\n",
       "      <td>5509</td>\n",
       "      <td>10590</td>\n",
       "      <td>5636</td>\n",
       "      <td>2126</td>\n",
       "      <td>4401</td>\n",
       "      <td>5426</td>\n",
       "      <td>5178</td>\n",
       "      <td>9523</td>\n",
       "      <td>5329</td>\n",
       "      <td>0</td>\n",
       "      <td>-1.640024</td>\n",
       "    </tr>\n",
       "    <tr>\n",
       "      <th>3</th>\n",
       "      <td>0</td>\n",
       "      <td>18.322</td>\n",
       "      <td>18.970</td>\n",
       "      <td>2.616</td>\n",
       "      <td>0.633333</td>\n",
       "      <td>0.016667</td>\n",
       "      <td>0.650000</td>\n",
       "      <td>395000</td>\n",
       "      <td>5</td>\n",
       "      <td>4</td>\n",
       "      <td>1</td>\n",
       "      <td>1</td>\n",
       "      <td>0</td>\n",
       "      <td>14328</td>\n",
       "      <td>13554</td>\n",
       "      <td>8105</td>\n",
       "      <td>4436</td>\n",
       "      <td>947</td>\n",
       "      <td>812</td>\n",
       "      <td>20014</td>\n",
       "      <td>17687</td>\n",
       "      <td>889</td>\n",
       "      <td>0</td>\n",
       "      <td>0.414403</td>\n",
       "    </tr>\n",
       "    <tr>\n",
       "      <th>4</th>\n",
       "      <td>0</td>\n",
       "      <td>5.051</td>\n",
       "      <td>4.139</td>\n",
       "      <td>4.088</td>\n",
       "      <td>0.766667</td>\n",
       "      <td>0.000000</td>\n",
       "      <td>0.766667</td>\n",
       "      <td>225000</td>\n",
       "      <td>8</td>\n",
       "      <td>5</td>\n",
       "      <td>3</td>\n",
       "      <td>1</td>\n",
       "      <td>2</td>\n",
       "      <td>1201</td>\n",
       "      <td>1447</td>\n",
       "      <td>6190</td>\n",
       "      <td>8506</td>\n",
       "      <td>1893</td>\n",
       "      <td>7807</td>\n",
       "      <td>1191</td>\n",
       "      <td>6991</td>\n",
       "      <td>4443</td>\n",
       "      <td>0</td>\n",
       "      <td>0.960508</td>\n",
       "    </tr>\n",
       "  </tbody>\n",
       "</table>\n",
       "</div>"
      ],
      "text/plain": [
       "   is_fraud_manuall  order_distance  destination_to_next_origin_distance  \\\n",
       "0                 0           6.363                                4.057   \n",
       "1                 0           1.266                                4.724   \n",
       "2                 0           4.915                                5.366   \n",
       "3                 0          18.322                               18.970   \n",
       "4                 0           5.051                                4.139   \n",
       "\n",
       "   origin_to_next_origin_distance  cancellation_to_next_acception_time  \\\n",
       "0                           8.210                             8.150000   \n",
       "1                           3.763                             2.250000   \n",
       "2                           0.482                             0.416667   \n",
       "3                           2.616                             0.633333   \n",
       "4                           4.088                             0.766667   \n",
       "\n",
       "   acception_to_cancellation_time  acception_to_acception_time  \\\n",
       "0                        0.050000                     8.200000   \n",
       "1                        0.066667                     2.316667   \n",
       "2                        0.016667                     0.433333   \n",
       "3                        0.016667                     0.650000   \n",
       "4                        0.000000                     0.766667   \n",
       "\n",
       "   biker_delivery_fare  total_accepted_requests  total_rides  \\\n",
       "0               180000                        2            0   \n",
       "1               155000                        5            3   \n",
       "2               220000                        3            1   \n",
       "3               395000                        5            4   \n",
       "4               225000                        8            5   \n",
       "\n",
       "   total_cancellation  cancellation_by_biker  cancellation_by_customer  \\\n",
       "0                   2                      1                         1   \n",
       "1                   2                      0                         2   \n",
       "2                   2                      1                         1   \n",
       "3                   1                      1                         0   \n",
       "4                   3                      1                         2   \n",
       "\n",
       "   destination_to_next2_origin_distance  destination_to_next3_origin_distance  \\\n",
       "0                                  6694                                  3257   \n",
       "1                                  9250                                 22954   \n",
       "2                                  5509                                 10590   \n",
       "3                                 14328                                 13554   \n",
       "4                                  1201                                  1447   \n",
       "\n",
       "   destination_to_next4_origin_distance  origin_to_next2_origin_distance  \\\n",
       "0                                  5360                             2589   \n",
       "1                                 19554                             5831   \n",
       "2                                  5636                             2126   \n",
       "3                                  8105                             4436   \n",
       "4                                  6190                             8506   \n",
       "\n",
       "   origin_to_next3_origin_distance  origin_to_next4_origin_distance  \\\n",
       "0                            15253                            14778   \n",
       "1                             2723                             5970   \n",
       "2                             4401                             5426   \n",
       "3                              947                              812   \n",
       "4                             1893                             7807   \n",
       "\n",
       "   destination_to_next_destination_distance  \\\n",
       "0                                      3744   \n",
       "1                                      4564   \n",
       "2                                      5178   \n",
       "3                                     20014   \n",
       "4                                      1191   \n",
       "\n",
       "   destination_to_next2_destination_distance  \\\n",
       "0                                       9359   \n",
       "1                                       6213   \n",
       "2                                       9523   \n",
       "3                                      17687   \n",
       "4                                       6991   \n",
       "\n",
       "   destination_to_next3_destination_distance  cans_query  scaled_time  \n",
       "0                                       2286           0    -0.020934  \n",
       "1                                      16748           0     0.660270  \n",
       "2                                       5329           0    -1.640024  \n",
       "3                                        889           0     0.414403  \n",
       "4                                       4443           0     0.960508  "
      ]
     },
     "execution_count": 10,
     "metadata": {},
     "output_type": "execute_result"
    }
   ],
   "source": [
    "data.head()"
   ]
  },
  {
   "cell_type": "code",
   "execution_count": 11,
   "metadata": {},
   "outputs": [
    {
     "data": {
      "text/plain": [
       "(935, 24)"
      ]
     },
     "execution_count": 11,
     "metadata": {},
     "output_type": "execute_result"
    }
   ],
   "source": [
    "#IQR Score -for outlier detection\n",
    "Q1 = data.quantile(0.25)\n",
    "Q3 = data.quantile(0.75)\n",
    "IQR = Q3 - Q1\n",
    "#print(IQR)\n",
    "#print(data < (Q1 - 1.5 * IQR)) |(data > (Q3 + 1.5 * IQR))\n",
    "data_out = data[~((data < (Q1 - 1.5 * IQR)) |(data > (Q3 + 1.5 * IQR))).any(axis=1)]\n",
    "data_out.shape"
   ]
  },
  {
   "cell_type": "code",
   "execution_count": 12,
   "metadata": {},
   "outputs": [
    {
     "data": {
      "text/plain": [
       "<AxesSubplot:xlabel='order_distance'>"
      ]
     },
     "execution_count": 12,
     "metadata": {},
     "output_type": "execute_result"
    },
    {
     "data": {
      "image/png": "[encoded data removed]",
      "text/plain": [
       "<Figure size 432x288 with 1 Axes>"
      ]
     },
     "metadata": {},
     "output_type": "display_data"
    }
   ],
   "source": [
    "#Z-Score -for outlier detection\n",
    "import seaborn as sns\n",
    "sns.boxplot(x=data['order_distance'])"
   ]
  },
  {
   "cell_type": "markdown",
   "metadata": {},
   "source": [
    "The below code iterates over each column in the specified list and performs the following:\n",
    "1. Calculates the Z-score for each data point in the column using stats.zscore(), which measures how many standard deviations a data point is from the mean.\n",
    "2. Filters the dataset to retain only the rows where the absolute Z-score is less than 3. This threshold of 3 is commonly used, as it typically removes data points that are more than 3 standard deviations away from the mean, which are considered outliers."
   ]
  },
  {
   "cell_type": "code",
   "execution_count": 13,
   "metadata": {},
   "outputs": [
    {
     "name": "stdout",
     "output_type": "stream",
     "text": [
      "(2310, 24)\n",
      "(1395, 24)\n"
     ]
    }
   ],
   "source": [
    "#outlier cleanup\n",
    "from scipy import stats\n",
    "import numpy as np\n",
    "columns = ['order_distance',\n",
    "       'destination_to_next_origin_distance', 'origin_to_next_origin_distance',\n",
    "       'cancellation_to_next_acception_time', 'acception_to_cancellation_time',\n",
    "       'acception_to_acception_time', 'biker_delivery_fare',\n",
    "       'total_accepted_requests', 'total_rides', 'total_cancellation',\n",
    "       'cancellation_by_biker', 'cancellation_by_customer',\n",
    "       'destination_to_next2_origin_distance',\n",
    "       'destination_to_next3_origin_distance',\n",
    "       'destination_to_next4_origin_distance',\n",
    "       'origin_to_next2_origin_distance', 'origin_to_next3_origin_distance',\n",
    "       'origin_to_next4_origin_distance',\n",
    "       'destination_to_next_destination_distance',\n",
    "       'destination_to_next2_destination_distance',\n",
    "       'destination_to_next3_destination_distance',\n",
    "       'scaled_time']\n",
    "print(data.shape)\n",
    "for column in columns : \n",
    "    z = np.abs(stats.zscore(data[column]))\n",
    "    data=data[(z < 3)]\n",
    "data = data.reset_index(drop = True)\n",
    "data.dropna(inplace =True)\n",
    "print(data.shape)"
   ]
  },
  {
   "cell_type": "code",
   "execution_count": 15,
   "metadata": {},
   "outputs": [
    {
     "data": {
      "text/plain": [
       "<AxesSubplot:xlabel='order_distance'>"
      ]
     },
     "execution_count": 15,
     "metadata": {},
     "output_type": "execute_result"
    },
    {
     "data": {
      "image/png": "[encoded data removed]",
      "text/plain": [
       "<Figure size 432x288 with 1 Axes>"
      ]
     },
     "metadata": {},
     "output_type": "display_data"
    }
   ],
   "source": [
    "import seaborn as sns\n",
    "sns.boxplot(x=data['order_distance'])"
   ]
  },
  {
   "cell_type": "markdown",
   "metadata": {},
   "source": [
    "This below code generates a dendrogram to visualize the hierarchical clustering of features in the dataset based on their correlations. A dendrogram is a tree-like diagram that shows the arrangement of the clusters formed by hierarchical clustering."
   ]
  },
  {
   "cell_type": "code",
   "execution_count": 16,
   "metadata": {},
   "outputs": [
    {
     "data": {
      "application/vnd.plotly.v1+json": {
       "config": {
        "linkText": "Export to plot.ly",
        "plotlyServerURL": "https://plot.ly",
        "showLink": false
       },
       "data": [
        {
         "hoverinfo": "text",
         "marker": {
          "color": "rgb(44, 160, 44)"
         },
         "mode": "lines",
         "type": "scatter",
         "x": [
          0,
          0.7700754398353274,
          0.7700754398353274,
          0
         ],
         "xaxis": "x",
         "y": [
          -5,
          -5,
          -15,
          -15
         ],
         "yaxis": "y"
        },
        {
         "hoverinfo": "text",
         "marker": {
          "color": "rgb(140, 86, 75)"
         },
         "mode": "lines",
         "type": "scatter",
         "x": [
          0,
          0.6190716539435708,
          0.6190716539435708,
          0
         ],
         "xaxis": "x",
         "y": [
          -25,
          -25,
          -35,
          -35
         ],
         "yaxis": "y"
        },
        {
         "hoverinfo": "text",
         "marker": {
          "color": "rgb(140, 86, 75)"
         },
         "mode": "lines",
         "type": "scatter",
         "x": [
          0,
          0.4084830844974033,
          0.4084830844974033,
          0
         ],
         "xaxis": "x",
         "y": [
          -65,
          -65,
          -75,
          -75
         ],
         "yaxis": "y"
        },
        {
         "hoverinfo": "text",
         "marker": {
          "color": "rgb(140, 86, 75)"
         },
         "mode": "lines",
         "type": "scatter",
         "x": [
          0,
          0.7678500303806128,
          0.7678500303806128,
          0.4084830844974033
         ],
         "xaxis": "x",
         "y": [
          -55,
          -55,
          -70,
          -70
         ],
         "yaxis": "y"
        },
        {
         "hoverinfo": "text",
         "marker": {
          "color": "rgb(140, 86, 75)"
         },
         "mode": "lines",
         "type": "scatter",
         "x": [
          0,
          0.8532608753955628,
          0.8532608753955628,
          0.7678500303806128
         ],
         "xaxis": "x",
         "y": [
          -45,
          -45,
          -62.5,
          -62.5
         ],
         "yaxis": "y"
        },
        {
         "hoverinfo": "text",
         "marker": {
          "color": "rgb(140, 86, 75)"
         },
         "mode": "lines",
         "type": "scatter",
         "x": [
          0.6190716539435708,
          1.0200558330613165,
          1.0200558330613165,
          0.8532608753955628
         ],
         "xaxis": "x",
         "y": [
          -30,
          -30,
          -53.75,
          -53.75
         ],
         "yaxis": "y"
        },
        {
         "hoverinfo": "text",
         "marker": {
          "color": "rgb(31, 119, 180)"
         },
         "mode": "lines",
         "type": "scatter",
         "x": [
          0.7700754398353274,
          1.2994192037640993,
          1.2994192037640993,
          1.0200558330613165
         ],
         "xaxis": "x",
         "y": [
          -10,
          -10,
          -41.875,
          -41.875
         ],
         "yaxis": "y"
        },
        {
         "hoverinfo": "text",
         "marker": {
          "color": "rgb(255, 127, 14)"
         },
         "mode": "lines",
         "type": "scatter",
         "x": [
          0,
          0.4395931942827679,
          0.4395931942827679,
          0
         ],
         "xaxis": "x",
         "y": [
          -85,
          -85,
          -95,
          -95
         ],
         "yaxis": "y"
        },
        {
         "hoverinfo": "text",
         "marker": {
          "color": "rgb(148, 103, 189)"
         },
         "mode": "lines",
         "type": "scatter",
         "x": [
          0,
          0.3659835054354416,
          0.3659835054354416,
          0
         ],
         "xaxis": "x",
         "y": [
          -115,
          -115,
          -125,
          -125
         ],
         "yaxis": "y"
        },
        {
         "hoverinfo": "text",
         "marker": {
          "color": "rgb(148, 103, 189)"
         },
         "mode": "lines",
         "type": "scatter",
         "x": [
          0,
          1.133821286510185,
          1.133821286510185,
          0.3659835054354416
         ],
         "xaxis": "x",
         "y": [
          -105,
          -105,
          -120,
          -120
         ],
         "yaxis": "y"
        },
        {
         "hoverinfo": "text",
         "marker": {
          "color": "rgb(31, 119, 180)"
         },
         "mode": "lines",
         "type": "scatter",
         "x": [
          0.4395931942827679,
          1.4634863694448044,
          1.4634863694448044,
          1.133821286510185
         ],
         "xaxis": "x",
         "y": [
          -90,
          -90,
          -112.5,
          -112.5
         ],
         "yaxis": "y"
        },
        {
         "hoverinfo": "text",
         "marker": {
          "color": "rgb(127, 127, 127)"
         },
         "mode": "lines",
         "type": "scatter",
         "x": [
          0,
          0.3633951230761346,
          0.3633951230761346,
          0
         ],
         "xaxis": "x",
         "y": [
          -135,
          -135,
          -145,
          -145
         ],
         "yaxis": "y"
        },
        {
         "hoverinfo": "text",
         "marker": {
          "color": "rgb(214, 39, 40)"
         },
         "mode": "lines",
         "type": "scatter",
         "x": [
          0,
          0.7532449896388682,
          0.7532449896388682,
          0
         ],
         "xaxis": "x",
         "y": [
          -175,
          -175,
          -185,
          -185
         ],
         "yaxis": "y"
        },
        {
         "hoverinfo": "text",
         "marker": {
          "color": "rgb(214, 39, 40)"
         },
         "mode": "lines",
         "type": "scatter",
         "x": [
          0,
          0.8144711335111068,
          0.8144711335111068,
          0.7532449896388682
         ],
         "xaxis": "x",
         "y": [
          -165,
          -165,
          -180,
          -180
         ],
         "yaxis": "y"
        },
        {
         "hoverinfo": "text",
         "marker": {
          "color": "rgb(214, 39, 40)"
         },
         "mode": "lines",
         "type": "scatter",
         "x": [
          0,
          1.0442764734217134,
          1.0442764734217134,
          0.8144711335111068
         ],
         "xaxis": "x",
         "y": [
          -155,
          -155,
          -172.5,
          -172.5
         ],
         "yaxis": "y"
        },
        {
         "hoverinfo": "text",
         "marker": {
          "color": "rgb(31, 119, 180)"
         },
         "mode": "lines",
         "type": "scatter",
         "x": [
          0.3633951230761346,
          1.492568313680565,
          1.492568313680565,
          1.0442764734217134
         ],
         "xaxis": "x",
         "y": [
          -140,
          -140,
          -163.75,
          -163.75
         ],
         "yaxis": "y"
        },
        {
         "hoverinfo": "text",
         "marker": {
          "color": "rgb(44, 160, 44)"
         },
         "mode": "lines",
         "type": "scatter",
         "x": [
          0,
          0.39541268565501775,
          0.39541268565501775,
          0
         ],
         "xaxis": "x",
         "y": [
          -225,
          -225,
          -235,
          -235
         ],
         "yaxis": "y"
        },
        {
         "hoverinfo": "text",
         "marker": {
          "color": "rgb(44, 160, 44)"
         },
         "mode": "lines",
         "type": "scatter",
         "x": [
          0,
          0.89903263116382,
          0.89903263116382,
          0.39541268565501775
         ],
         "xaxis": "x",
         "y": [
          -215,
          -215,
          -230,
          -230
         ],
         "yaxis": "y"
        },
        {
         "hoverinfo": "text",
         "marker": {
          "color": "rgb(44, 160, 44)"
         },
         "mode": "lines",
         "type": "scatter",
         "x": [
          0,
          1.049020358548357,
          1.049020358548357,
          0.89903263116382
         ],
         "xaxis": "x",
         "y": [
          -205,
          -205,
          -222.5,
          -222.5
         ],
         "yaxis": "y"
        },
        {
         "hoverinfo": "text",
         "marker": {
          "color": "rgb(31, 119, 180)"
         },
         "mode": "lines",
         "type": "scatter",
         "x": [
          0,
          1.5412255399027655,
          1.5412255399027655,
          1.049020358548357
         ],
         "xaxis": "x",
         "y": [
          -195,
          -195,
          -213.75,
          -213.75
         ],
         "yaxis": "y"
        },
        {
         "hoverinfo": "text",
         "marker": {
          "color": "rgb(31, 119, 180)"
         },
         "mode": "lines",
         "type": "scatter",
         "x": [
          1.492568313680565,
          1.7002923640748087,
          1.7002923640748087,
          1.5412255399027655
         ],
         "xaxis": "x",
         "y": [
          -151.875,
          -151.875,
          -204.375,
          -204.375
         ],
         "yaxis": "y"
        },
        {
         "hoverinfo": "text",
         "marker": {
          "color": "rgb(31, 119, 180)"
         },
         "mode": "lines",
         "type": "scatter",
         "x": [
          1.4634863694448044,
          1.740228932733246,
          1.740228932733246,
          1.7002923640748087
         ],
         "xaxis": "x",
         "y": [
          -101.25,
          -101.25,
          -178.125,
          -178.125
         ],
         "yaxis": "y"
        },
        {
         "hoverinfo": "text",
         "marker": {
          "color": "rgb(31, 119, 180)"
         },
         "mode": "lines",
         "type": "scatter",
         "x": [
          1.2994192037640993,
          1.8497532975955127,
          1.8497532975955127,
          1.740228932733246
         ],
         "xaxis": "x",
         "y": [
          -25.9375,
          -25.9375,
          -139.6875,
          -139.6875
         ],
         "yaxis": "y"
        }
       ],
       "layout": {
        "autosize": false,
        "height": 600,
        "hovermode": "closest",
        "margin": {
         "l": 180,
         "r": 50
        },
        "showlegend": false,
        "template": {
         "data": {
          "bar": [
           {
            "error_x": {
             "color": "#2a3f5f"
            },
            "error_y": {
             "color": "#2a3f5f"
            },
            "marker": {
             "line": {
              "color": "#E5ECF6",
              "width": 0.5
             }
            },
            "type": "bar"
           }
          ],
          "barpolar": [
           {
            "marker": {
             "line": {
              "color": "#E5ECF6",
              "width": 0.5
             }
            },
            "type": "barpolar"
           }
          ],
          "carpet": [
           {
            "aaxis": {
             "endlinecolor": "#2a3f5f",
             "gridcolor": "white",
             "linecolor": "white",
             "minorgridcolor": "white",
             "startlinecolor": "#2a3f5f"
            },
            "baxis": {
             "endlinecolor": "#2a3f5f",
             "gridcolor": "white",
             "linecolor": "white",
             "minorgridcolor": "white",
             "startlinecolor": "#2a3f5f"
            },
            "type": "carpet"
           }
          ],
          "choropleth": [
           {
            "colorbar": {
             "outlinewidth": 0,
             "ticks": ""
            },
            "type": "choropleth"
           }
          ],
          "contour": [
           {
            "colorbar": {
             "outlinewidth": 0,
             "ticks": ""
            },
            "colorscale": [
             [
              0,
              "#0d0887"
             ],
             [
              0.1111111111111111,
              "#46039f"
             ],
             [
              0.2222222222222222,
              "#7201a8"
             ],
             [
              0.3333333333333333,
              "#9c179e"
             ],
             [
              0.4444444444444444,
              "#bd3786"
             ],
             [
              0.5555555555555556,
              "#d8576b"
             ],
             [
              0.6666666666666666,
              "#ed7953"
             ],
             [
              0.7777777777777778,
              "#fb9f3a"
             ],
             [
              0.8888888888888888,
              "#fdca26"
             ],
             [
              1,
              "#f0f921"
             ]
            ],
            "type": "contour"
           }
          ],
          "contourcarpet": [
           {
            "colorbar": {
             "outlinewidth": 0,
             "ticks": ""
            },
            "type": "contourcarpet"
           }
          ],
          "heatmap": [
           {
            "colorbar": {
             "outlinewidth": 0,
             "ticks": ""
            },
            "colorscale": [
             [
              0,
              "#0d0887"
             ],
             [
              0.1111111111111111,
              "#46039f"
             ],
             [
              0.2222222222222222,
              "#7201a8"
             ],
             [
              0.3333333333333333,
              "#9c179e"
             ],
             [
              0.4444444444444444,
              "#bd3786"
             ],
             [
              0.5555555555555556,
              "#d8576b"
             ],
             [
              0.6666666666666666,
              "#ed7953"
             ],
             [
              0.7777777777777778,
              "#fb9f3a"
             ],
             [
              0.8888888888888888,
              "#fdca26"
             ],
             [
              1,
              "#f0f921"
             ]
            ],
            "type": "heatmap"
           }
          ],
          "heatmapgl": [
           {
            "colorbar": {
             "outlinewidth": 0,
             "ticks": ""
            },
            "colorscale": [
             [
              0,
              "#0d0887"
             ],
             [
              0.1111111111111111,
              "#46039f"
             ],
             [
              0.2222222222222222,
              "#7201a8"
             ],
             [
              0.3333333333333333,
              "#9c179e"
             ],
             [
              0.4444444444444444,
              "#bd3786"
             ],
             [
              0.5555555555555556,
              "#d8576b"
             ],
             [
              0.6666666666666666,
              "#ed7953"
             ],
             [
              0.7777777777777778,
              "#fb9f3a"
             ],
             [
              0.8888888888888888,
              "#fdca26"
             ],
             [
              1,
              "#f0f921"
             ]
            ],
            "type": "heatmapgl"
           }
          ],
          "histogram": [
           {
            "marker": {
             "colorbar": {
              "outlinewidth": 0,
              "ticks": ""
             }
            },
            "type": "histogram"
           }
          ],
          "histogram2d": [
           {
            "colorbar": {
             "outlinewidth": 0,
             "ticks": ""
            },
            "colorscale": [
             [
              0,
              "#0d0887"
             ],
             [
              0.1111111111111111,
              "#46039f"
             ],
             [
              0.2222222222222222,
              "#7201a8"
             ],
             [
              0.3333333333333333,
              "#9c179e"
             ],
             [
              0.4444444444444444,
              "#bd3786"
             ],
             [
              0.5555555555555556,
              "#d8576b"
             ],
             [
              0.6666666666666666,
              "#ed7953"
             ],
             [
              0.7777777777777778,
              "#fb9f3a"
             ],
             [
              0.8888888888888888,
              "#fdca26"
             ],
             [
              1,
              "#f0f921"
             ]
            ],
            "type": "histogram2d"
           }
          ],
          "histogram2dcontour": [
           {
            "colorbar": {
             "outlinewidth": 0,
             "ticks": ""
            },
            "colorscale": [
             [
              0,
              "#0d0887"
             ],
             [
              0.1111111111111111,
              "#46039f"
             ],
             [
              0.2222222222222222,
              "#7201a8"
             ],
             [
              0.3333333333333333,
              "#9c179e"
             ],
             [
              0.4444444444444444,
              "#bd3786"
             ],
             [
              0.5555555555555556,
              "#d8576b"
             ],
             [
              0.6666666666666666,
              "#ed7953"
             ],
             [
              0.7777777777777778,
              "#fb9f3a"
             ],
             [
              0.8888888888888888,
              "#fdca26"
             ],
             [
              1,
              "#f0f921"
             ]
            ],
            "type": "histogram2dcontour"
           }
          ],
          "mesh3d": [
           {
            "colorbar": {
             "outlinewidth": 0,
             "ticks": ""
            },
            "type": "mesh3d"
           }
          ],
          "parcoords": [
           {
            "line": {
             "colorbar": {
              "outlinewidth": 0,
              "ticks": ""
             }
            },
            "type": "parcoords"
           }
          ],
          "pie": [
           {
            "automargin": true,
            "type": "pie"
           }
          ],
          "scatter": [
           {
            "marker": {
             "colorbar": {
              "outlinewidth": 0,
              "ticks": ""
             }
            },
            "type": "scatter"
           }
          ],
          "scatter3d": [
           {
            "line": {
             "colorbar": {
              "outlinewidth": 0,
              "ticks": ""
             }
            },
            "marker": {
             "colorbar": {
              "outlinewidth": 0,
              "ticks": ""
             }
            },
            "type": "scatter3d"
           }
          ],
          "scattercarpet": [
           {
            "marker": {
             "colorbar": {
              "outlinewidth": 0,
              "ticks": ""
             }
            },
            "type": "scattercarpet"
           }
          ],
          "scattergeo": [
           {
            "marker": {
             "colorbar": {
              "outlinewidth": 0,
              "ticks": ""
             }
            },
            "type": "scattergeo"
           }
          ],
          "scattergl": [
           {
            "marker": {
             "colorbar": {
              "outlinewidth": 0,
              "ticks": ""
             }
            },
            "type": "scattergl"
           }
          ],
          "scattermapbox": [
           {
            "marker": {
             "colorbar": {
              "outlinewidth": 0,
              "ticks": ""
             }
            },
            "type": "scattermapbox"
           }
          ],
          "scatterpolar": [
           {
            "marker": {
             "colorbar": {
              "outlinewidth": 0,
              "ticks": ""
             }
            },
            "type": "scatterpolar"
           }
          ],
          "scatterpolargl": [
           {
            "marker": {
             "colorbar": {
              "outlinewidth": 0,
              "ticks": ""
             }
            },
            "type": "scatterpolargl"
           }
          ],
          "scatterternary": [
           {
            "marker": {
             "colorbar": {
              "outlinewidth": 0,
              "ticks": ""
             }
            },
            "type": "scatterternary"
           }
          ],
          "surface": [
           {
            "colorbar": {
             "outlinewidth": 0,
             "ticks": ""
            },
            "colorscale": [
             [
              0,
              "#0d0887"
             ],
             [
              0.1111111111111111,
              "#46039f"
             ],
             [
              0.2222222222222222,
              "#7201a8"
             ],
             [
              0.3333333333333333,
              "#9c179e"
             ],
             [
              0.4444444444444444,
              "#bd3786"
             ],
             [
              0.5555555555555556,
              "#d8576b"
             ],
             [
              0.6666666666666666,
              "#ed7953"
             ],
             [
              0.7777777777777778,
              "#fb9f3a"
             ],
             [
              0.8888888888888888,
              "#fdca26"
             ],
             [
              1,
              "#f0f921"
             ]
            ],
            "type": "surface"
           }
          ],
          "table": [
           {
            "cells": {
             "fill": {
              "color": "#EBF0F8"
             },
             "line": {
              "color": "white"
             }
            },
            "header": {
             "fill": {
              "color": "#C8D4E3"
             },
             "line": {
              "color": "white"
             }
            },
            "type": "table"
           }
          ]
         },
         "layout": {
          "annotationdefaults": {
           "arrowcolor": "#2a3f5f",
           "arrowhead": 0,
           "arrowwidth": 1
          },
          "autotypenumbers": "strict",
          "coloraxis": {
           "colorbar": {
            "outlinewidth": 0,
            "ticks": ""
           }
          },
          "colorscale": {
           "diverging": [
            [
             0,
             "#8e0152"
            ],
            [
             0.1,
             "#c51b7d"
            ],
            [
             0.2,
             "#de77ae"
            ],
            [
             0.3,
             "#f1b6da"
            ],
            [
             0.4,
             "#fde0ef"
            ],
            [
             0.5,
             "#f7f7f7"
            ],
            [
             0.6,
             "#e6f5d0"
            ],
            [
             0.7,
             "#b8e186"
            ],
            [
             0.8,
             "#7fbc41"
            ],
            [
             0.9,
             "#4d9221"
            ],
            [
             1,
             "#276419"
            ]
           ],
           "sequential": [
            [
             0,
             "#0d0887"
            ],
            [
             0.1111111111111111,
             "#46039f"
            ],
            [
             0.2222222222222222,
             "#7201a8"
            ],
            [
             0.3333333333333333,
             "#9c179e"
            ],
            [
             0.4444444444444444,
             "#bd3786"
            ],
            [
             0.5555555555555556,
             "#d8576b"
            ],
            [
             0.6666666666666666,
             "#ed7953"
            ],
            [
             0.7777777777777778,
             "#fb9f3a"
            ],
            [
             0.8888888888888888,
             "#fdca26"
            ],
            [
             1,
             "#f0f921"
            ]
           ],
           "sequentialminus": [
            [
             0,
             "#0d0887"
            ],
            [
             0.1111111111111111,
             "#46039f"
            ],
            [
             0.2222222222222222,
             "#7201a8"
            ],
            [
             0.3333333333333333,
             "#9c179e"
            ],
            [
             0.4444444444444444,
             "#bd3786"
            ],
            [
             0.5555555555555556,
             "#d8576b"
            ],
            [
             0.6666666666666666,
             "#ed7953"
            ],
            [
             0.7777777777777778,
             "#fb9f3a"
            ],
            [
             0.8888888888888888,
             "#fdca26"
            ],
            [
             1,
             "#f0f921"
            ]
           ]
          },
          "colorway": [
           "#636efa",
           "#EF553B",
           "#00cc96",
           "#ab63fa",
           "#FFA15A",
           "#19d3f3",
           "#FF6692",
           "#B6E880",
           "#FF97FF",
           "#FECB52"
          ],
          "font": {
           "color": "#2a3f5f"
          },
          "geo": {
           "bgcolor": "white",
           "lakecolor": "white",
           "landcolor": "#E5ECF6",
           "showlakes": true,
           "showland": true,
           "subunitcolor": "white"
          },
          "hoverlabel": {
           "align": "left"
          },
          "hovermode": "closest",
          "mapbox": {
           "style": "light"
          },
          "paper_bgcolor": "white",
          "plot_bgcolor": "#E5ECF6",
          "polar": {
           "angularaxis": {
            "gridcolor": "white",
            "linecolor": "white",
            "ticks": ""
           },
           "bgcolor": "#E5ECF6",
           "radialaxis": {
            "gridcolor": "white",
            "linecolor": "white",
            "ticks": ""
           }
          },
          "scene": {
           "xaxis": {
            "backgroundcolor": "#E5ECF6",
            "gridcolor": "white",
            "gridwidth": 2,
            "linecolor": "white",
            "showbackground": true,
            "ticks": "",
            "zerolinecolor": "white"
           },
           "yaxis": {
            "backgroundcolor": "#E5ECF6",
            "gridcolor": "white",
            "gridwidth": 2,
            "linecolor": "white",
            "showbackground": true,
            "ticks": "",
            "zerolinecolor": "white"
           },
           "zaxis": {
            "backgroundcolor": "#E5ECF6",
            "gridcolor": "white",
            "gridwidth": 2,
            "linecolor": "white",
            "showbackground": true,
            "ticks": "",
            "zerolinecolor": "white"
           }
          },
          "shapedefaults": {
           "line": {
            "color": "#2a3f5f"
           }
          },
          "ternary": {
           "aaxis": {
            "gridcolor": "white",
            "linecolor": "white",
            "ticks": ""
           },
           "baxis": {
            "gridcolor": "white",
            "linecolor": "white",
            "ticks": ""
           },
           "bgcolor": "#E5ECF6",
           "caxis": {
            "gridcolor": "white",
            "linecolor": "white",
            "ticks": ""
           }
          },
          "title": {
           "x": 0.05
          },
          "xaxis": {
           "automargin": true,
           "gridcolor": "white",
           "linecolor": "white",
           "ticks": "",
           "title": {
            "standoff": 15
           },
           "zerolinecolor": "white",
           "zerolinewidth": 2
          },
          "yaxis": {
           "automargin": true,
           "gridcolor": "white",
           "linecolor": "white",
           "ticks": "",
           "title": {
            "standoff": 15
           },
           "zerolinecolor": "white",
           "zerolinewidth": 2
          }
         }
        },
        "title": {
         "text": "Dendogram of clustering the features according to correlation"
        },
        "width": 800,
        "xaxis": {
         "mirror": "allticks",
         "rangemode": "tozero",
         "showgrid": false,
         "showline": true,
         "showticklabels": true,
         "ticks": "outside",
         "title": {
          "text": "distance"
         },
         "type": "linear",
         "zeroline": false
        },
        "yaxis": {
         "automargin": true,
         "mirror": "allticks",
         "rangemode": "tozero",
         "showgrid": false,
         "showline": true,
         "showticklabels": true,
         "tickmode": "array",
         "ticks": "outside",
         "ticktext": [
          "destination_to_next2_destination_distance",
          "destination_to_next3_destination_distance",
          "destination_to_next4_origin_distance",
          "origin_to_next4_origin_distance",
          "destination_to_next3_origin_distance",
          "origin_to_next3_origin_distance",
          "destination_to_next2_origin_distance",
          "origin_to_next2_origin_distance",
          "total_accepted_requests",
          "total_rides",
          "cancellation_by_biker",
          "total_cancellation",
          "cancellation_by_customer",
          "cancellation_to_next_acception_time",
          "acception_to_acception_time",
          "origin_to_next_origin_distance",
          "is_fraud_manuall",
          "acception_to_cancellation_time",
          "cans_query",
          "scaled_time",
          "destination_to_next_destination_distance",
          "biker_delivery_fare",
          "order_distance",
          "destination_to_next_origin_distance"
         ],
         "tickvals": [
          -5,
          -15,
          -25,
          -35,
          -45,
          -55,
          -65,
          -75,
          -85,
          -95,
          -105,
          -115,
          -125,
          -135,
          -145,
          -155,
          -165,
          -175,
          -185,
          -195,
          -205,
          -215,
          -225,
          -235
         ],
         "title": {
          "text": "features"
         },
         "type": "linear",
         "zeroline": false
        }
       }
      },
      "text/html": [
       "<div>                            <div id=\"56460225-046f-497a-974e-e7c649f0698d\" class=\"plotly-graph-div\" style=\"height:600px; width:800px;\"></div>            <script type=\"text/javascript\">                require([\"plotly\"], function(Plotly) {                    window.PLOTLYENV=window.PLOTLYENV || {};                                    if (document.getElementById(\"56460225-046f-497a-974e-e7c649f0698d\")) {                    Plotly.newPlot(                        \"56460225-046f-497a-974e-e7c649f0698d\",                        [{\"hoverinfo\": \"text\", \"marker\": {\"color\": \"rgb(44, 160, 44)\"}, \"mode\": \"lines\", \"type\": \"scatter\", \"x\": [0.0, 0.7700754398353274, 0.7700754398353274, 0.0], \"xaxis\": \"x\", \"y\": [-5.0, -5.0, -15.0, -15.0], \"yaxis\": \"y\"}, {\"hoverinfo\": \"text\", \"marker\": {\"color\": \"rgb(140, 86, 75)\"}, \"mode\": \"lines\", \"type\": \"scatter\", \"x\": [0.0, 0.6190716539435708, 0.6190716539435708, 0.0], \"xaxis\": \"x\", \"y\": [-25.0, -25.0, -35.0, -35.0], \"yaxis\": \"y\"}, {\"hoverinfo\": \"text\", \"marker\": {\"color\": \"rgb(140, 86, 75)\"}, \"mode\": \"lines\", \"type\": \"scatter\", \"x\": [0.0, 0.4084830844974033, 0.4084830844974033, 0.0], \"xaxis\": \"x\", \"y\": [-65.0, -65.0, -75.0, -75.0], \"yaxis\": \"y\"}, {\"hoverinfo\": \"text\", \"marker\": {\"color\": \"rgb(140, 86, 75)\"}, \"mode\": \"lines\", \"type\": \"scatter\", \"x\": [0.0, 0.7678500303806128, 0.7678500303806128, 0.4084830844974033], \"xaxis\": \"x\", \"y\": [-55.0, -55.0, -70.0, -70.0], \"yaxis\": \"y\"}, {\"hoverinfo\": \"text\", \"marker\": {\"color\": \"rgb(140, 86, 75)\"}, \"mode\": \"lines\", \"type\": \"scatter\", \"x\": [0.0, 0.8532608753955628, 0.8532608753955628, 0.7678500303806128], \"xaxis\": \"x\", \"y\": [-45.0, -45.0, -62.5, -62.5], \"yaxis\": \"y\"}, {\"hoverinfo\": \"text\", \"marker\": {\"color\": \"rgb(140, 86, 75)\"}, \"mode\": \"lines\", \"type\": \"scatter\", \"x\": [0.6190716539435708, 1.0200558330613165, 1.0200558330613165, 0.8532608753955628], \"xaxis\": \"x\", \"y\": [-30.0, -30.0, -53.75, -53.75], \"yaxis\": \"y\"}, {\"hoverinfo\": \"text\", \"marker\": {\"color\": \"rgb(31, 119, 180)\"}, \"mode\": \"lines\", \"type\": \"scatter\", \"x\": [0.7700754398353274, 1.2994192037640993, 1.2994192037640993, 1.0200558330613165], \"xaxis\": \"x\", \"y\": [-10.0, -10.0, -41.875, -41.875], \"yaxis\": \"y\"}, {\"hoverinfo\": \"text\", \"marker\": {\"color\": \"rgb(255, 127, 14)\"}, \"mode\": \"lines\", \"type\": \"scatter\", \"x\": [0.0, 0.4395931942827679, 0.4395931942827679, 0.0], \"xaxis\": \"x\", \"y\": [-85.0, -85.0, -95.0, -95.0], \"yaxis\": \"y\"}, {\"hoverinfo\": \"text\", \"marker\": {\"color\": \"rgb(148, 103, 189)\"}, \"mode\": \"lines\", \"type\": \"scatter\", \"x\": [0.0, 0.3659835054354416, 0.3659835054354416, 0.0], \"xaxis\": \"x\", \"y\": [-115.0, -115.0, -125.0, -125.0], \"yaxis\": \"y\"}, {\"hoverinfo\": \"text\", \"marker\": {\"color\": \"rgb(148, 103, 189)\"}, \"mode\": \"lines\", \"type\": \"scatter\", \"x\": [0.0, 1.133821286510185, 1.133821286510185, 0.3659835054354416], \"xaxis\": \"x\", \"y\": [-105.0, -105.0, -120.0, -120.0], \"yaxis\": \"y\"}, {\"hoverinfo\": \"text\", \"marker\": {\"color\": \"rgb(31, 119, 180)\"}, \"mode\": \"lines\", \"type\": \"scatter\", \"x\": [0.4395931942827679, 1.4634863694448044, 1.4634863694448044, 1.133821286510185], \"xaxis\": \"x\", \"y\": [-90.0, -90.0, -112.5, -112.5], \"yaxis\": \"y\"}, {\"hoverinfo\": \"text\", \"marker\": {\"color\": \"rgb(127, 127, 127)\"}, \"mode\": \"lines\", \"type\": \"scatter\", \"x\": [0.0, 0.3633951230761346, 0.3633951230761346, 0.0], \"xaxis\": \"x\", \"y\": [-135.0, -135.0, -145.0, -145.0], \"yaxis\": \"y\"}, {\"hoverinfo\": \"text\", \"marker\": {\"color\": \"rgb(214, 39, 40)\"}, \"mode\": \"lines\", \"type\": \"scatter\", \"x\": [0.0, 0.7532449896388682, 0.7532449896388682, 0.0], \"xaxis\": \"x\", \"y\": [-175.0, -175.0, -185.0, -185.0], \"yaxis\": \"y\"}, {\"hoverinfo\": \"text\", \"marker\": {\"color\": \"rgb(214, 39, 40)\"}, \"mode\": \"lines\", \"type\": \"scatter\", \"x\": [0.0, 0.8144711335111068, 0.8144711335111068, 0.7532449896388682], \"xaxis\": \"x\", \"y\": [-165.0, -165.0, -180.0, -180.0], \"yaxis\": \"y\"}, {\"hoverinfo\": \"text\", \"marker\": {\"color\": \"rgb(214, 39, 40)\"}, \"mode\": \"lines\", \"type\": \"scatter\", \"x\": [0.0, 1.0442764734217134, 1.0442764734217134, 0.8144711335111068], \"xaxis\": \"x\", \"y\": [-155.0, -155.0, -172.5, -172.5], \"yaxis\": \"y\"}, {\"hoverinfo\": \"text\", \"marker\": {\"color\": \"rgb(31, 119, 180)\"}, \"mode\": \"lines\", \"type\": \"scatter\", \"x\": [0.3633951230761346, 1.492568313680565, 1.492568313680565, 1.0442764734217134], \"xaxis\": \"x\", \"y\": [-140.0, -140.0, -163.75, -163.75], \"yaxis\": \"y\"}, {\"hoverinfo\": \"text\", \"marker\": {\"color\": \"rgb(44, 160, 44)\"}, \"mode\": \"lines\", \"type\": \"scatter\", \"x\": [0.0, 0.39541268565501775, 0.39541268565501775, 0.0], \"xaxis\": \"x\", \"y\": [-225.0, -225.0, -235.0, -235.0], \"yaxis\": \"y\"}, {\"hoverinfo\": \"text\", \"marker\": {\"color\": \"rgb(44, 160, 44)\"}, \"mode\": \"lines\", \"type\": \"scatter\", \"x\": [0.0, 0.89903263116382, 0.89903263116382, 0.39541268565501775], \"xaxis\": \"x\", \"y\": [-215.0, -215.0, -230.0, -230.0], \"yaxis\": \"y\"}, {\"hoverinfo\": \"text\", \"marker\": {\"color\": \"rgb(44, 160, 44)\"}, \"mode\": \"lines\", \"type\": \"scatter\", \"x\": [0.0, 1.049020358548357, 1.049020358548357, 0.89903263116382], \"xaxis\": \"x\", \"y\": [-205.0, -205.0, -222.5, -222.5], \"yaxis\": \"y\"}, {\"hoverinfo\": \"text\", \"marker\": {\"color\": \"rgb(31, 119, 180)\"}, \"mode\": \"lines\", \"type\": \"scatter\", \"x\": [0.0, 1.5412255399027655, 1.5412255399027655, 1.049020358548357], \"xaxis\": \"x\", \"y\": [-195.0, -195.0, -213.75, -213.75], \"yaxis\": \"y\"}, {\"hoverinfo\": \"text\", \"marker\": {\"color\": \"rgb(31, 119, 180)\"}, \"mode\": \"lines\", \"type\": \"scatter\", \"x\": [1.492568313680565, 1.7002923640748087, 1.7002923640748087, 1.5412255399027655], \"xaxis\": \"x\", \"y\": [-151.875, -151.875, -204.375, -204.375], \"yaxis\": \"y\"}, {\"hoverinfo\": \"text\", \"marker\": {\"color\": \"rgb(31, 119, 180)\"}, \"mode\": \"lines\", \"type\": \"scatter\", \"x\": [1.4634863694448044, 1.740228932733246, 1.740228932733246, 1.7002923640748087], \"xaxis\": \"x\", \"y\": [-101.25, -101.25, -178.125, -178.125], \"yaxis\": \"y\"}, {\"hoverinfo\": \"text\", \"marker\": {\"color\": \"rgb(31, 119, 180)\"}, \"mode\": \"lines\", \"type\": \"scatter\", \"x\": [1.2994192037640993, 1.8497532975955127, 1.8497532975955127, 1.740228932733246], \"xaxis\": \"x\", \"y\": [-25.9375, -25.9375, -139.6875, -139.6875], \"yaxis\": \"y\"}],                        {\"autosize\": false, \"height\": 600, \"hovermode\": \"closest\", \"margin\": {\"l\": 180, \"r\": 50}, \"showlegend\": false, \"template\": {\"data\": {\"bar\": [{\"error_x\": {\"color\": \"#2a3f5f\"}, \"error_y\": {\"color\": \"#2a3f5f\"}, \"marker\": {\"line\": {\"color\": \"#E5ECF6\", \"width\": 0.5}}, \"type\": \"bar\"}], \"barpolar\": [{\"marker\": {\"line\": {\"color\": \"#E5ECF6\", \"width\": 0.5}}, \"type\": \"barpolar\"}], \"carpet\": [{\"aaxis\": {\"endlinecolor\": \"#2a3f5f\", \"gridcolor\": \"white\", \"linecolor\": \"white\", \"minorgridcolor\": \"white\", \"startlinecolor\": \"#2a3f5f\"}, \"baxis\": {\"endlinecolor\": \"#2a3f5f\", \"gridcolor\": \"white\", \"linecolor\": \"white\", \"minorgridcolor\": \"white\", \"startlinecolor\": \"#2a3f5f\"}, \"type\": \"carpet\"}], \"choropleth\": [{\"colorbar\": {\"outlinewidth\": 0, \"ticks\": \"\"}, \"type\": \"choropleth\"}], \"contour\": [{\"colorbar\": {\"outlinewidth\": 0, \"ticks\": \"\"}, \"colorscale\": [[0.0, \"#0d0887\"], [0.1111111111111111, \"#46039f\"], [0.2222222222222222, \"#7201a8\"], [0.3333333333333333, \"#9c179e\"], [0.4444444444444444, \"#bd3786\"], [0.5555555555555556, \"#d8576b\"], [0.6666666666666666, \"#ed7953\"], [0.7777777777777778, \"#fb9f3a\"], [0.8888888888888888, \"#fdca26\"], [1.0, \"#f0f921\"]], \"type\": \"contour\"}], \"contourcarpet\": [{\"colorbar\": {\"outlinewidth\": 0, \"ticks\": \"\"}, \"type\": \"contourcarpet\"}], \"heatmap\": [{\"colorbar\": {\"outlinewidth\": 0, \"ticks\": \"\"}, \"colorscale\": [[0.0, \"#0d0887\"], [0.1111111111111111, \"#46039f\"], [0.2222222222222222, \"#7201a8\"], [0.3333333333333333, \"#9c179e\"], [0.4444444444444444, \"#bd3786\"], [0.5555555555555556, \"#d8576b\"], [0.6666666666666666, \"#ed7953\"], [0.7777777777777778, \"#fb9f3a\"], [0.8888888888888888, \"#fdca26\"], [1.0, \"#f0f921\"]], \"type\": \"heatmap\"}], \"heatmapgl\": [{\"colorbar\": {\"outlinewidth\": 0, \"ticks\": \"\"}, \"colorscale\": [[0.0, \"#0d0887\"], [0.1111111111111111, \"#46039f\"], [0.2222222222222222, \"#7201a8\"], [0.3333333333333333, \"#9c179e\"], [0.4444444444444444, \"#bd3786\"], [0.5555555555555556, \"#d8576b\"], [0.6666666666666666, \"#ed7953\"], [0.7777777777777778, \"#fb9f3a\"], [0.8888888888888888, \"#fdca26\"], [1.0, \"#f0f921\"]], \"type\": \"heatmapgl\"}], \"histogram\": [{\"marker\": {\"colorbar\": {\"outlinewidth\": 0, \"ticks\": \"\"}}, \"type\": \"histogram\"}], \"histogram2d\": [{\"colorbar\": {\"outlinewidth\": 0, \"ticks\": \"\"}, \"colorscale\": [[0.0, \"#0d0887\"], [0.1111111111111111, \"#46039f\"], [0.2222222222222222, \"#7201a8\"], [0.3333333333333333, \"#9c179e\"], [0.4444444444444444, \"#bd3786\"], [0.5555555555555556, \"#d8576b\"], [0.6666666666666666, \"#ed7953\"], [0.7777777777777778, \"#fb9f3a\"], [0.8888888888888888, \"#fdca26\"], [1.0, \"#f0f921\"]], \"type\": \"histogram2d\"}], \"histogram2dcontour\": [{\"colorbar\": {\"outlinewidth\": 0, \"ticks\": \"\"}, \"colorscale\": [[0.0, \"#0d0887\"], [0.1111111111111111, \"#46039f\"], [0.2222222222222222, \"#7201a8\"], [0.3333333333333333, \"#9c179e\"], [0.4444444444444444, \"#bd3786\"], [0.5555555555555556, \"#d8576b\"], [0.6666666666666666, \"#ed7953\"], [0.7777777777777778, \"#fb9f3a\"], [0.8888888888888888, \"#fdca26\"], [1.0, \"#f0f921\"]], \"type\": \"histogram2dcontour\"}], \"mesh3d\": [{\"colorbar\": {\"outlinewidth\": 0, \"ticks\": \"\"}, \"type\": \"mesh3d\"}], \"parcoords\": [{\"line\": {\"colorbar\": {\"outlinewidth\": 0, \"ticks\": \"\"}}, \"type\": \"parcoords\"}], \"pie\": [{\"automargin\": true, \"type\": \"pie\"}], \"scatter\": [{\"marker\": {\"colorbar\": {\"outlinewidth\": 0, \"ticks\": \"\"}}, \"type\": \"scatter\"}], \"scatter3d\": [{\"line\": {\"colorbar\": {\"outlinewidth\": 0, \"ticks\": \"\"}}, \"marker\": {\"colorbar\": {\"outlinewidth\": 0, \"ticks\": \"\"}}, \"type\": \"scatter3d\"}], \"scattercarpet\": [{\"marker\": {\"colorbar\": {\"outlinewidth\": 0, \"ticks\": \"\"}}, \"type\": \"scattercarpet\"}], \"scattergeo\": [{\"marker\": {\"colorbar\": {\"outlinewidth\": 0, \"ticks\": \"\"}}, \"type\": \"scattergeo\"}], \"scattergl\": [{\"marker\": {\"colorbar\": {\"outlinewidth\": 0, \"ticks\": \"\"}}, \"type\": \"scattergl\"}], \"scattermapbox\": [{\"marker\": {\"colorbar\": {\"outlinewidth\": 0, \"ticks\": \"\"}}, \"type\": \"scattermapbox\"}], \"scatterpolar\": [{\"marker\": {\"colorbar\": {\"outlinewidth\": 0, \"ticks\": \"\"}}, \"type\": \"scatterpolar\"}], \"scatterpolargl\": [{\"marker\": {\"colorbar\": {\"outlinewidth\": 0, \"ticks\": \"\"}}, \"type\": \"scatterpolargl\"}], \"scatterternary\": [{\"marker\": {\"colorbar\": {\"outlinewidth\": 0, \"ticks\": \"\"}}, \"type\": \"scatterternary\"}], \"surface\": [{\"colorbar\": {\"outlinewidth\": 0, \"ticks\": \"\"}, \"colorscale\": [[0.0, \"#0d0887\"], [0.1111111111111111, \"#46039f\"], [0.2222222222222222, \"#7201a8\"], [0.3333333333333333, \"#9c179e\"], [0.4444444444444444, \"#bd3786\"], [0.5555555555555556, \"#d8576b\"], [0.6666666666666666, \"#ed7953\"], [0.7777777777777778, \"#fb9f3a\"], [0.8888888888888888, \"#fdca26\"], [1.0, \"#f0f921\"]], \"type\": \"surface\"}], \"table\": [{\"cells\": {\"fill\": {\"color\": \"#EBF0F8\"}, \"line\": {\"color\": \"white\"}}, \"header\": {\"fill\": {\"color\": \"#C8D4E3\"}, \"line\": {\"color\": \"white\"}}, \"type\": \"table\"}]}, \"layout\": {\"annotationdefaults\": {\"arrowcolor\": \"#2a3f5f\", \"arrowhead\": 0, \"arrowwidth\": 1}, \"autotypenumbers\": \"strict\", \"coloraxis\": {\"colorbar\": {\"outlinewidth\": 0, \"ticks\": \"\"}}, \"colorscale\": {\"diverging\": [[0, \"#8e0152\"], [0.1, \"#c51b7d\"], [0.2, \"#de77ae\"], [0.3, \"#f1b6da\"], [0.4, \"#fde0ef\"], [0.5, \"#f7f7f7\"], [0.6, \"#e6f5d0\"], [0.7, \"#b8e186\"], [0.8, \"#7fbc41\"], [0.9, \"#4d9221\"], [1, \"#276419\"]], \"sequential\": [[0.0, \"#0d0887\"], [0.1111111111111111, \"#46039f\"], [0.2222222222222222, \"#7201a8\"], [0.3333333333333333, \"#9c179e\"], [0.4444444444444444, \"#bd3786\"], [0.5555555555555556, \"#d8576b\"], [0.6666666666666666, \"#ed7953\"], [0.7777777777777778, \"#fb9f3a\"], [0.8888888888888888, \"#fdca26\"], [1.0, \"#f0f921\"]], \"sequentialminus\": [[0.0, \"#0d0887\"], [0.1111111111111111, \"#46039f\"], [0.2222222222222222, \"#7201a8\"], [0.3333333333333333, \"#9c179e\"], [0.4444444444444444, \"#bd3786\"], [0.5555555555555556, \"#d8576b\"], [0.6666666666666666, \"#ed7953\"], [0.7777777777777778, \"#fb9f3a\"], [0.8888888888888888, \"#fdca26\"], [1.0, \"#f0f921\"]]}, \"colorway\": [\"#636efa\", \"#EF553B\", \"#00cc96\", \"#ab63fa\", \"#FFA15A\", \"#19d3f3\", \"#FF6692\", \"#B6E880\", \"#FF97FF\", \"#FECB52\"], \"font\": {\"color\": \"#2a3f5f\"}, \"geo\": {\"bgcolor\": \"white\", \"lakecolor\": \"white\", \"landcolor\": \"#E5ECF6\", \"showlakes\": true, \"showland\": true, \"subunitcolor\": \"white\"}, \"hoverlabel\": {\"align\": \"left\"}, \"hovermode\": \"closest\", \"mapbox\": {\"style\": \"light\"}, \"paper_bgcolor\": \"white\", \"plot_bgcolor\": \"#E5ECF6\", \"polar\": {\"angularaxis\": {\"gridcolor\": \"white\", \"linecolor\": \"white\", \"ticks\": \"\"}, \"bgcolor\": \"#E5ECF6\", \"radialaxis\": {\"gridcolor\": \"white\", \"linecolor\": \"white\", \"ticks\": \"\"}}, \"scene\": {\"xaxis\": {\"backgroundcolor\": \"#E5ECF6\", \"gridcolor\": \"white\", \"gridwidth\": 2, \"linecolor\": \"white\", \"showbackground\": true, \"ticks\": \"\", \"zerolinecolor\": \"white\"}, \"yaxis\": {\"backgroundcolor\": \"#E5ECF6\", \"gridcolor\": \"white\", \"gridwidth\": 2, \"linecolor\": \"white\", \"showbackground\": true, \"ticks\": \"\", \"zerolinecolor\": \"white\"}, \"zaxis\": {\"backgroundcolor\": \"#E5ECF6\", \"gridcolor\": \"white\", \"gridwidth\": 2, \"linecolor\": \"white\", \"showbackground\": true, \"ticks\": \"\", \"zerolinecolor\": \"white\"}}, \"shapedefaults\": {\"line\": {\"color\": \"#2a3f5f\"}}, \"ternary\": {\"aaxis\": {\"gridcolor\": \"white\", \"linecolor\": \"white\", \"ticks\": \"\"}, \"baxis\": {\"gridcolor\": \"white\", \"linecolor\": \"white\", \"ticks\": \"\"}, \"bgcolor\": \"#E5ECF6\", \"caxis\": {\"gridcolor\": \"white\", \"linecolor\": \"white\", \"ticks\": \"\"}}, \"title\": {\"x\": 0.05}, \"xaxis\": {\"automargin\": true, \"gridcolor\": \"white\", \"linecolor\": \"white\", \"ticks\": \"\", \"title\": {\"standoff\": 15}, \"zerolinecolor\": \"white\", \"zerolinewidth\": 2}, \"yaxis\": {\"automargin\": true, \"gridcolor\": \"white\", \"linecolor\": \"white\", \"ticks\": \"\", \"title\": {\"standoff\": 15}, \"zerolinecolor\": \"white\", \"zerolinewidth\": 2}}}, \"title\": {\"text\": \"Dendogram of clustering the features according to correlation\"}, \"width\": 800, \"xaxis\": {\"mirror\": \"allticks\", \"rangemode\": \"tozero\", \"showgrid\": false, \"showline\": true, \"showticklabels\": true, \"ticks\": \"outside\", \"title\": {\"text\": \"distance\"}, \"type\": \"linear\", \"zeroline\": false}, \"yaxis\": {\"automargin\": true, \"mirror\": \"allticks\", \"rangemode\": \"tozero\", \"showgrid\": false, \"showline\": true, \"showticklabels\": true, \"tickmode\": \"array\", \"ticks\": \"outside\", \"ticktext\": [\"destination_to_next2_destination_distance\", \"destination_to_next3_destination_distance\", \"destination_to_next4_origin_distance\", \"origin_to_next4_origin_distance\", \"destination_to_next3_origin_distance\", \"origin_to_next3_origin_distance\", \"destination_to_next2_origin_distance\", \"origin_to_next2_origin_distance\", \"total_accepted_requests\", \"total_rides\", \"cancellation_by_biker\", \"total_cancellation\", \"cancellation_by_customer\", \"cancellation_to_next_acception_time\", \"acception_to_acception_time\", \"origin_to_next_origin_distance\", \"is_fraud_manuall\", \"acception_to_cancellation_time\", \"cans_query\", \"scaled_time\", \"destination_to_next_destination_distance\", \"biker_delivery_fare\", \"order_distance\", \"destination_to_next_origin_distance\"], \"tickvals\": [-5.0, -15.0, -25.0, -35.0, -45.0, -55.0, -65.0, -75.0, -85.0, -95.0, -105.0, -115.0, -125.0, -135.0, -145.0, -155.0, -165.0, -175.0, -185.0, -195.0, -205.0, -215.0, -225.0, -235.0], \"title\": {\"text\": \"features\"}, \"type\": \"linear\", \"zeroline\": false}},                        {\"responsive\": true}                    ).then(function(){\n",
       "                            \n",
       "var gd = document.getElementById('56460225-046f-497a-974e-e7c649f0698d');\n",
       "var x = new MutationObserver(function (mutations, observer) {{\n",
       "        var display = window.getComputedStyle(gd).display;\n",
       "        if (!display || display === 'none') {{\n",
       "            console.log([gd, 'removed!']);\n",
       "            Plotly.purge(gd);\n",
       "            observer.disconnect();\n",
       "        }}\n",
       "}});\n",
       "\n",
       "// Listen for the removal of the full notebook cells\n",
       "var notebookContainer = gd.closest('#notebook-container');\n",
       "if (notebookContainer) {{\n",
       "    x.observe(notebookContainer, {childList: true});\n",
       "}}\n",
       "\n",
       "// Listen for the clearing of the current output cell\n",
       "var outputEl = gd.closest('.output');\n",
       "if (outputEl) {{\n",
       "    x.observe(outputEl, {childList: true});\n",
       "}}\n",
       "\n",
       "                        })                };                });            </script>        </div>"
      ]
     },
     "metadata": {},
     "output_type": "display_data"
    }
   ],
   "source": [
    "from scipy.cluster import hierarchy as hc\n",
    "colors = plotly.colors.DEFAULT_PLOTLY_COLORS\n",
    "X = np.random.rand(10, 10)\n",
    "names = data.columns\n",
    "inverse_correlation = 1 - abs(data.corr())\n",
    "fig = ff.create_dendrogram(inverse_correlation.values, orientation='left', labels=names, colorscale=colors, linkagefun=lambda x: hc.linkage(x, 'average'))\n",
    "fig['layout'].update(dict(\n",
    "    title=\"Dendogram of clustering the features according to correlation\",\n",
    "    width=800, \n",
    "    height=600,\n",
    "    margin=go.layout.Margin(l=180, r=50),\n",
    "    xaxis=dict(\n",
    "        title='distance',\n",
    "    ),\n",
    "    yaxis=dict(\n",
    "        title='features',\n",
    "        automargin=True,\n",
    "    ),\n",
    "))\n",
    "iplot(fig, filename='dendrogram_corr_clustering')"
   ]
  },
  {
   "cell_type": "code",
   "execution_count": 17,
   "metadata": {},
   "outputs": [],
   "source": [
    "#data = data.reset_index()\n",
    "#np.any(np.isnan(df_X_normed))\n",
    "#np.all(np.isfinite(df_X_normed))\n",
    "#df_X_normed"
   ]
  },
  {
   "cell_type": "markdown",
   "metadata": {},
   "source": [
    "Next 3 boxes perform Principal Component Analysis (PCA) on the dataset and visualize the explained variance of each principal component. PCA is a dimensionality reduction technique that transforms the data into a set of linearly uncorrelated components, which capture the most variance in the data."
   ]
  },
  {
   "cell_type": "code",
   "execution_count": 18,
   "metadata": {},
   "outputs": [],
   "source": [
    "from sklearn.decomposition import PCA\n",
    "df_y = data[\"is_fraud_manuall\"]\n",
    "df_X = data.drop([\"is_fraud_manuall\"], axis=1)\n",
    "df_X_normed = (df_X - df_X.mean()) / df_X.std()\n",
    "pca = PCA(random_state=SEED)#42\n",
    "df_X_pca = pca.fit_transform(df_X_normed)"
   ]
  },
  {
   "cell_type": "code",
   "execution_count": 19,
   "metadata": {},
   "outputs": [],
   "source": [
    "tot = sum(pca.explained_variance_) # total explained variance of all principal components\n",
    "var_exp = [(i / tot) * 100 for i in sorted(pca.explained_variance_, reverse=True)] # individual explained variance\n",
    "cum_var_exp = np.cumsum(var_exp) # cumulative explained variance"
   ]
  },
  {
   "cell_type": "code",
   "execution_count": 20,
   "metadata": {},
   "outputs": [
    {
     "data": {
      "application/vnd.plotly.v1+json": {
       "config": {
        "linkText": "Export to plot.ly",
        "plotlyServerURL": "https://plot.ly",
        "showLink": false
       },
       "data": [
        {
         "name": "individual explained variance",
         "type": "bar",
         "x": [
          1,
          2,
          3,
          4,
          5,
          6,
          7,
          8,
          9,
          10,
          11,
          12,
          13,
          14,
          15,
          16,
          17,
          18,
          19,
          20,
          21,
          22,
          23
         ],
         "y": [
          16.12770019726097,
          12.830785710552869,
          10.938438753753156,
          9.617469039240806,
          6.619930204979023,
          5.4457341316602115,
          5.302063550899168,
          5.072150523891956,
          4.225235642172835,
          4.1630023015697954,
          3.2729888601186063,
          2.817914704479827,
          2.4781716983102977,
          2.3841669618793158,
          2.277610549605016,
          2.100149669606124,
          1.7424271812679792,
          1.1747863980387045,
          0.9859766648298679,
          0.40952536822845353,
          0.013771887655023254,
          6.438842237320707e-31,
          1.7139051176430926e-31
         ]
        },
        {
         "line": {
          "shape": "hv"
         },
         "mode": "lines+markers",
         "name": "cumulative explained variance",
         "type": "scatter",
         "x": [
          1,
          2,
          3,
          4,
          5,
          6,
          7,
          8,
          9,
          10,
          11,
          12,
          13,
          14,
          15,
          16,
          17,
          18,
          19,
          20,
          21,
          22,
          23
         ],
         "y": [
          16.12770019726097,
          28.958485907813838,
          39.89692466156699,
          49.5143937008078,
          56.13432390578682,
          61.58005803744703,
          66.8821215883462,
          71.95427211223816,
          76.17950775441099,
          80.34251005598078,
          83.61549891609938,
          86.43341362057922,
          88.91158531888951,
          91.29575228076882,
          93.57336283037384,
          95.67351249997996,
          97.41593968124795,
          98.59072607928665,
          99.57670274411652,
          99.98622811234497,
          100,
          100,
          100
         ]
        }
       ],
       "layout": {
        "autosize": true,
        "legend": {
         "x": 0,
         "y": 1
        },
        "template": {
         "data": {
          "bar": [
           {
            "error_x": {
             "color": "#2a3f5f"
            },
            "error_y": {
             "color": "#2a3f5f"
            },
            "marker": {
             "line": {
              "color": "#E5ECF6",
              "width": 0.5
             }
            },
            "type": "bar"
           }
          ],
          "barpolar": [
           {
            "marker": {
             "line": {
              "color": "#E5ECF6",
              "width": 0.5
             }
            },
            "type": "barpolar"
           }
          ],
          "carpet": [
           {
            "aaxis": {
             "endlinecolor": "#2a3f5f",
             "gridcolor": "white",
             "linecolor": "white",
             "minorgridcolor": "white",
             "startlinecolor": "#2a3f5f"
            },
            "baxis": {
             "endlinecolor": "#2a3f5f",
             "gridcolor": "white",
             "linecolor": "white",
             "minorgridcolor": "white",
             "startlinecolor": "#2a3f5f"
            },
            "type": "carpet"
           }
          ],
          "choropleth": [
           {
            "colorbar": {
             "outlinewidth": 0,
             "ticks": ""
            },
            "type": "choropleth"
           }
          ],
          "contour": [
           {
            "colorbar": {
             "outlinewidth": 0,
             "ticks": ""
            },
            "colorscale": [
             [
              0,
              "#0d0887"
             ],
             [
              0.1111111111111111,
              "#46039f"
             ],
             [
              0.2222222222222222,
              "#7201a8"
             ],
             [
              0.3333333333333333,
              "#9c179e"
             ],
             [
              0.4444444444444444,
              "#bd3786"
             ],
             [
              0.5555555555555556,
              "#d8576b"
             ],
             [
              0.6666666666666666,
              "#ed7953"
             ],
             [
              0.7777777777777778,
              "#fb9f3a"
             ],
             [
              0.8888888888888888,
              "#fdca26"
             ],
             [
              1,
              "#f0f921"
             ]
            ],
            "type": "contour"
           }
          ],
          "contourcarpet": [
           {
            "colorbar": {
             "outlinewidth": 0,
             "ticks": ""
            },
            "type": "contourcarpet"
           }
          ],
          "heatmap": [
           {
            "colorbar": {
             "outlinewidth": 0,
             "ticks": ""
            },
            "colorscale": [
             [
              0,
              "#0d0887"
             ],
             [
              0.1111111111111111,
              "#46039f"
             ],
             [
              0.2222222222222222,
              "#7201a8"
             ],
             [
              0.3333333333333333,
              "#9c179e"
             ],
             [
              0.4444444444444444,
              "#bd3786"
             ],
             [
              0.5555555555555556,
              "#d8576b"
             ],
             [
              0.6666666666666666,
              "#ed7953"
             ],
             [
              0.7777777777777778,
              "#fb9f3a"
             ],
             [
              0.8888888888888888,
              "#fdca26"
             ],
             [
              1,
              "#f0f921"
             ]
            ],
            "type": "heatmap"
           }
          ],
          "heatmapgl": [
           {
            "colorbar": {
             "outlinewidth": 0,
             "ticks": ""
            },
            "colorscale": [
             [
              0,
              "#0d0887"
             ],
             [
              0.1111111111111111,
              "#46039f"
             ],
             [
              0.2222222222222222,
              "#7201a8"
             ],
             [
              0.3333333333333333,
              "#9c179e"
             ],
             [
              0.4444444444444444,
              "#bd3786"
             ],
             [
              0.5555555555555556,
              "#d8576b"
             ],
             [
              0.6666666666666666,
              "#ed7953"
             ],
             [
              0.7777777777777778,
              "#fb9f3a"
             ],
             [
              0.8888888888888888,
              "#fdca26"
             ],
             [
              1,
              "#f0f921"
             ]
            ],
            "type": "heatmapgl"
           }
          ],
          "histogram": [
           {
            "marker": {
             "colorbar": {
              "outlinewidth": 0,
              "ticks": ""
             }
            },
            "type": "histogram"
           }
          ],
          "histogram2d": [
           {
            "colorbar": {
             "outlinewidth": 0,
             "ticks": ""
            },
            "colorscale": [
             [
              0,
              "#0d0887"
             ],
             [
              0.1111111111111111,
              "#46039f"
             ],
             [
              0.2222222222222222,
              "#7201a8"
             ],
             [
              0.3333333333333333,
              "#9c179e"
             ],
             [
              0.4444444444444444,
              "#bd3786"
             ],
             [
              0.5555555555555556,
              "#d8576b"
             ],
             [
              0.6666666666666666,
              "#ed7953"
             ],
             [
              0.7777777777777778,
              "#fb9f3a"
             ],
             [
              0.8888888888888888,
              "#fdca26"
             ],
             [
              1,
              "#f0f921"
             ]
            ],
            "type": "histogram2d"
           }
          ],
          "histogram2dcontour": [
           {
            "colorbar": {
             "outlinewidth": 0,
             "ticks": ""
            },
            "colorscale": [
             [
              0,
              "#0d0887"
             ],
             [
              0.1111111111111111,
              "#46039f"
             ],
             [
              0.2222222222222222,
              "#7201a8"
             ],
             [
              0.3333333333333333,
              "#9c179e"
             ],
             [
              0.4444444444444444,
              "#bd3786"
             ],
             [
              0.5555555555555556,
              "#d8576b"
             ],
             [
              0.6666666666666666,
              "#ed7953"
             ],
             [
              0.7777777777777778,
              "#fb9f3a"
             ],
             [
              0.8888888888888888,
              "#fdca26"
             ],
             [
              1,
              "#f0f921"
             ]
            ],
            "type": "histogram2dcontour"
           }
          ],
          "mesh3d": [
           {
            "colorbar": {
             "outlinewidth": 0,
             "ticks": ""
            },
            "type": "mesh3d"
           }
          ],
          "parcoords": [
           {
            "line": {
             "colorbar": {
              "outlinewidth": 0,
              "ticks": ""
             }
            },
            "type": "parcoords"
           }
          ],
          "pie": [
           {
            "automargin": true,
            "type": "pie"
           }
          ],
          "scatter": [
           {
            "marker": {
             "colorbar": {
              "outlinewidth": 0,
              "ticks": ""
             }
            },
            "type": "scatter"
           }
          ],
          "scatter3d": [
           {
            "line": {
             "colorbar": {
              "outlinewidth": 0,
              "ticks": ""
             }
            },
            "marker": {
             "colorbar": {
              "outlinewidth": 0,
              "ticks": ""
             }
            },
            "type": "scatter3d"
           }
          ],
          "scattercarpet": [
           {
            "marker": {
             "colorbar": {
              "outlinewidth": 0,
              "ticks": ""
             }
            },
            "type": "scattercarpet"
           }
          ],
          "scattergeo": [
           {
            "marker": {
             "colorbar": {
              "outlinewidth": 0,
              "ticks": ""
             }
            },
            "type": "scattergeo"
           }
          ],
          "scattergl": [
           {
            "marker": {
             "colorbar": {
              "outlinewidth": 0,
              "ticks": ""
             }
            },
            "type": "scattergl"
           }
          ],
          "scattermapbox": [
           {
            "marker": {
             "colorbar": {
              "outlinewidth": 0,
              "ticks": ""
             }
            },
            "type": "scattermapbox"
           }
          ],
          "scatterpolar": [
           {
            "marker": {
             "colorbar": {
              "outlinewidth": 0,
              "ticks": ""
             }
            },
            "type": "scatterpolar"
           }
          ],
          "scatterpolargl": [
           {
            "marker": {
             "colorbar": {
              "outlinewidth": 0,
              "ticks": ""
             }
            },
            "type": "scatterpolargl"
           }
          ],
          "scatterternary": [
           {
            "marker": {
             "colorbar": {
              "outlinewidth": 0,
              "ticks": ""
             }
            },
            "type": "scatterternary"
           }
          ],
          "surface": [
           {
            "colorbar": {
             "outlinewidth": 0,
             "ticks": ""
            },
            "colorscale": [
             [
              0,
              "#0d0887"
             ],
             [
              0.1111111111111111,
              "#46039f"
             ],
             [
              0.2222222222222222,
              "#7201a8"
             ],
             [
              0.3333333333333333,
              "#9c179e"
             ],
             [
              0.4444444444444444,
              "#bd3786"
             ],
             [
              0.5555555555555556,
              "#d8576b"
             ],
             [
              0.6666666666666666,
              "#ed7953"
             ],
             [
              0.7777777777777778,
              "#fb9f3a"
             ],
             [
              0.8888888888888888,
              "#fdca26"
             ],
             [
              1,
              "#f0f921"
             ]
            ],
            "type": "surface"
           }
          ],
          "table": [
           {
            "cells": {
             "fill": {
              "color": "#EBF0F8"
             },
             "line": {
              "color": "white"
             }
            },
            "header": {
             "fill": {
              "color": "#C8D4E3"
             },
             "line": {
              "color": "white"
             }
            },
            "type": "table"
           }
          ]
         },
         "layout": {
          "annotationdefaults": {
           "arrowcolor": "#2a3f5f",
           "arrowhead": 0,
           "arrowwidth": 1
          },
          "autotypenumbers": "strict",
          "coloraxis": {
           "colorbar": {
            "outlinewidth": 0,
            "ticks": ""
           }
          },
          "colorscale": {
           "diverging": [
            [
             0,
             "#8e0152"
            ],
            [
             0.1,
             "#c51b7d"
            ],
            [
             0.2,
             "#de77ae"
            ],
            [
             0.3,
             "#f1b6da"
            ],
            [
             0.4,
             "#fde0ef"
            ],
            [
             0.5,
             "#f7f7f7"
            ],
            [
             0.6,
             "#e6f5d0"
            ],
            [
             0.7,
             "#b8e186"
            ],
            [
             0.8,
             "#7fbc41"
            ],
            [
             0.9,
             "#4d9221"
            ],
            [
             1,
             "#276419"
            ]
           ],
           "sequential": [
            [
             0,
             "#0d0887"
            ],
            [
             0.1111111111111111,
             "#46039f"
            ],
            [
             0.2222222222222222,
             "#7201a8"
            ],
            [
             0.3333333333333333,
             "#9c179e"
            ],
            [
             0.4444444444444444,
             "#bd3786"
            ],
            [
             0.5555555555555556,
             "#d8576b"
            ],
            [
             0.6666666666666666,
             "#ed7953"
            ],
            [
             0.7777777777777778,
             "#fb9f3a"
            ],
            [
             0.8888888888888888,
             "#fdca26"
            ],
            [
             1,
             "#f0f921"
            ]
           ],
           "sequentialminus": [
            [
             0,
             "#0d0887"
            ],
            [
             0.1111111111111111,
             "#46039f"
            ],
            [
             0.2222222222222222,
             "#7201a8"
            ],
            [
             0.3333333333333333,
             "#9c179e"
            ],
            [
             0.4444444444444444,
             "#bd3786"
            ],
            [
             0.5555555555555556,
             "#d8576b"
            ],
            [
             0.6666666666666666,
             "#ed7953"
            ],
            [
             0.7777777777777778,
             "#fb9f3a"
            ],
            [
             0.8888888888888888,
             "#fdca26"
            ],
            [
             1,
             "#f0f921"
            ]
           ]
          },
          "colorway": [
           "#636efa",
           "#EF553B",
           "#00cc96",
           "#ab63fa",
           "#FFA15A",
           "#19d3f3",
           "#FF6692",
           "#B6E880",
           "#FF97FF",
           "#FECB52"
          ],
          "font": {
           "color": "#2a3f5f"
          },
          "geo": {
           "bgcolor": "white",
           "lakecolor": "white",
           "landcolor": "#E5ECF6",
           "showlakes": true,
           "showland": true,
           "subunitcolor": "white"
          },
          "hoverlabel": {
           "align": "left"
          },
          "hovermode": "closest",
          "mapbox": {
           "style": "light"
          },
          "paper_bgcolor": "white",
          "plot_bgcolor": "#E5ECF6",
          "polar": {
           "angularaxis": {
            "gridcolor": "white",
            "linecolor": "white",
            "ticks": ""
           },
           "bgcolor": "#E5ECF6",
           "radialaxis": {
            "gridcolor": "white",
            "linecolor": "white",
            "ticks": ""
           }
          },
          "scene": {
           "xaxis": {
            "backgroundcolor": "#E5ECF6",
            "gridcolor": "white",
            "gridwidth": 2,
            "linecolor": "white",
            "showbackground": true,
            "ticks": "",
            "zerolinecolor": "white"
           },
           "yaxis": {
            "backgroundcolor": "#E5ECF6",
            "gridcolor": "white",
            "gridwidth": 2,
            "linecolor": "white",
            "showbackground": true,
            "ticks": "",
            "zerolinecolor": "white"
           },
           "zaxis": {
            "backgroundcolor": "#E5ECF6",
            "gridcolor": "white",
            "gridwidth": 2,
            "linecolor": "white",
            "showbackground": true,
            "ticks": "",
            "zerolinecolor": "white"
           }
          },
          "shapedefaults": {
           "line": {
            "color": "#2a3f5f"
           }
          },
          "ternary": {
           "aaxis": {
            "gridcolor": "white",
            "linecolor": "white",
            "ticks": ""
           },
           "baxis": {
            "gridcolor": "white",
            "linecolor": "white",
            "ticks": ""
           },
           "bgcolor": "#E5ECF6",
           "caxis": {
            "gridcolor": "white",
            "linecolor": "white",
            "ticks": ""
           }
          },
          "title": {
           "x": 0.05
          },
          "xaxis": {
           "automargin": true,
           "gridcolor": "white",
           "linecolor": "white",
           "ticks": "",
           "title": {
            "standoff": 15
           },
           "zerolinecolor": "white",
           "zerolinewidth": 2
          },
          "yaxis": {
           "automargin": true,
           "gridcolor": "white",
           "linecolor": "white",
           "ticks": "",
           "title": {
            "standoff": 15
           },
           "zerolinecolor": "white",
           "zerolinewidth": 2
          }
         }
        },
        "title": {
         "text": "Individual and Cumulative Explained Variance"
        },
        "xaxis": {
         "dtick": 1,
         "title": {
          "text": "principal components"
         }
        },
        "yaxis": {
         "title": {
          "text": "percentage of explained variance"
         }
        }
       }
      },
      "text/html": [
       "<div>                            <div id=\"4a72b3a6-4cc3-4a12-9313-7c7697a95560\" class=\"plotly-graph-div\" style=\"height:525px; width:100%;\"></div>            <script type=\"text/javascript\">                require([\"plotly\"], function(Plotly) {                    window.PLOTLYENV=window.PLOTLYENV || {};                                    if (document.getElementById(\"4a72b3a6-4cc3-4a12-9313-7c7697a95560\")) {                    Plotly.newPlot(                        \"4a72b3a6-4cc3-4a12-9313-7c7697a95560\",                        [{\"name\": \"individual explained variance\", \"type\": \"bar\", \"x\": [1, 2, 3, 4, 5, 6, 7, 8, 9, 10, 11, 12, 13, 14, 15, 16, 17, 18, 19, 20, 21, 22, 23], \"y\": [16.12770019726097, 12.830785710552869, 10.938438753753156, 9.617469039240806, 6.619930204979023, 5.4457341316602115, 5.302063550899168, 5.072150523891956, 4.225235642172835, 4.1630023015697954, 3.2729888601186063, 2.817914704479827, 2.4781716983102977, 2.3841669618793158, 2.277610549605016, 2.100149669606124, 1.7424271812679792, 1.1747863980387045, 0.9859766648298679, 0.40952536822845353, 0.013771887655023254, 6.438842237320707e-31, 1.7139051176430926e-31]}, {\"line\": {\"shape\": \"hv\"}, \"mode\": \"lines+markers\", \"name\": \"cumulative explained variance\", \"type\": \"scatter\", \"x\": [1, 2, 3, 4, 5, 6, 7, 8, 9, 10, 11, 12, 13, 14, 15, 16, 17, 18, 19, 20, 21, 22, 23], \"y\": [16.12770019726097, 28.958485907813838, 39.89692466156699, 49.5143937008078, 56.13432390578682, 61.58005803744703, 66.8821215883462, 71.95427211223816, 76.17950775441099, 80.34251005598078, 83.61549891609938, 86.43341362057922, 88.91158531888951, 91.29575228076882, 93.57336283037384, 95.67351249997996, 97.41593968124795, 98.59072607928665, 99.57670274411652, 99.98622811234497, 100.0, 100.0, 100.0]}],                        {\"autosize\": true, \"legend\": {\"x\": 0, \"y\": 1}, \"template\": {\"data\": {\"bar\": [{\"error_x\": {\"color\": \"#2a3f5f\"}, \"error_y\": {\"color\": \"#2a3f5f\"}, \"marker\": {\"line\": {\"color\": \"#E5ECF6\", \"width\": 0.5}}, \"type\": \"bar\"}], \"barpolar\": [{\"marker\": {\"line\": {\"color\": \"#E5ECF6\", \"width\": 0.5}}, \"type\": \"barpolar\"}], \"carpet\": [{\"aaxis\": {\"endlinecolor\": \"#2a3f5f\", \"gridcolor\": \"white\", \"linecolor\": \"white\", \"minorgridcolor\": \"white\", \"startlinecolor\": \"#2a3f5f\"}, \"baxis\": {\"endlinecolor\": \"#2a3f5f\", \"gridcolor\": \"white\", \"linecolor\": \"white\", \"minorgridcolor\": \"white\", \"startlinecolor\": \"#2a3f5f\"}, \"type\": \"carpet\"}], \"choropleth\": [{\"colorbar\": {\"outlinewidth\": 0, \"ticks\": \"\"}, \"type\": \"choropleth\"}], \"contour\": [{\"colorbar\": {\"outlinewidth\": 0, \"ticks\": \"\"}, \"colorscale\": [[0.0, \"#0d0887\"], [0.1111111111111111, \"#46039f\"], [0.2222222222222222, \"#7201a8\"], [0.3333333333333333, \"#9c179e\"], [0.4444444444444444, \"#bd3786\"], [0.5555555555555556, \"#d8576b\"], [0.6666666666666666, \"#ed7953\"], [0.7777777777777778, \"#fb9f3a\"], [0.8888888888888888, \"#fdca26\"], [1.0, \"#f0f921\"]], \"type\": \"contour\"}], \"contourcarpet\": [{\"colorbar\": {\"outlinewidth\": 0, \"ticks\": \"\"}, \"type\": \"contourcarpet\"}], \"heatmap\": [{\"colorbar\": {\"outlinewidth\": 0, \"ticks\": \"\"}, \"colorscale\": [[0.0, \"#0d0887\"], [0.1111111111111111, \"#46039f\"], [0.2222222222222222, \"#7201a8\"], [0.3333333333333333, \"#9c179e\"], [0.4444444444444444, \"#bd3786\"], [0.5555555555555556, \"#d8576b\"], [0.6666666666666666, \"#ed7953\"], [0.7777777777777778, \"#fb9f3a\"], [0.8888888888888888, \"#fdca26\"], [1.0, \"#f0f921\"]], \"type\": \"heatmap\"}], \"heatmapgl\": [{\"colorbar\": {\"outlinewidth\": 0, \"ticks\": \"\"}, \"colorscale\": [[0.0, \"#0d0887\"], [0.1111111111111111, \"#46039f\"], [0.2222222222222222, \"#7201a8\"], [0.3333333333333333, \"#9c179e\"], [0.4444444444444444, \"#bd3786\"], [0.5555555555555556, \"#d8576b\"], [0.6666666666666666, \"#ed7953\"], [0.7777777777777778, \"#fb9f3a\"], [0.8888888888888888, \"#fdca26\"], [1.0, \"#f0f921\"]], \"type\": \"heatmapgl\"}], \"histogram\": [{\"marker\": {\"colorbar\": {\"outlinewidth\": 0, \"ticks\": \"\"}}, \"type\": \"histogram\"}], \"histogram2d\": [{\"colorbar\": {\"outlinewidth\": 0, \"ticks\": \"\"}, \"colorscale\": [[0.0, \"#0d0887\"], [0.1111111111111111, \"#46039f\"], [0.2222222222222222, \"#7201a8\"], [0.3333333333333333, \"#9c179e\"], [0.4444444444444444, \"#bd3786\"], [0.5555555555555556, \"#d8576b\"], [0.6666666666666666, \"#ed7953\"], [0.7777777777777778, \"#fb9f3a\"], [0.8888888888888888, \"#fdca26\"], [1.0, \"#f0f921\"]], \"type\": \"histogram2d\"}], \"histogram2dcontour\": [{\"colorbar\": {\"outlinewidth\": 0, \"ticks\": \"\"}, \"colorscale\": [[0.0, \"#0d0887\"], [0.1111111111111111, \"#46039f\"], [0.2222222222222222, \"#7201a8\"], [0.3333333333333333, \"#9c179e\"], [0.4444444444444444, \"#bd3786\"], [0.5555555555555556, \"#d8576b\"], [0.6666666666666666, \"#ed7953\"], [0.7777777777777778, \"#fb9f3a\"], [0.8888888888888888, \"#fdca26\"], [1.0, \"#f0f921\"]], \"type\": \"histogram2dcontour\"}], \"mesh3d\": [{\"colorbar\": {\"outlinewidth\": 0, \"ticks\": \"\"}, \"type\": \"mesh3d\"}], \"parcoords\": [{\"line\": {\"colorbar\": {\"outlinewidth\": 0, \"ticks\": \"\"}}, \"type\": \"parcoords\"}], \"pie\": [{\"automargin\": true, \"type\": \"pie\"}], \"scatter\": [{\"marker\": {\"colorbar\": {\"outlinewidth\": 0, \"ticks\": \"\"}}, \"type\": \"scatter\"}], \"scatter3d\": [{\"line\": {\"colorbar\": {\"outlinewidth\": 0, \"ticks\": \"\"}}, \"marker\": {\"colorbar\": {\"outlinewidth\": 0, \"ticks\": \"\"}}, \"type\": \"scatter3d\"}], \"scattercarpet\": [{\"marker\": {\"colorbar\": {\"outlinewidth\": 0, \"ticks\": \"\"}}, \"type\": \"scattercarpet\"}], \"scattergeo\": [{\"marker\": {\"colorbar\": {\"outlinewidth\": 0, \"ticks\": \"\"}}, \"type\": \"scattergeo\"}], \"scattergl\": [{\"marker\": {\"colorbar\": {\"outlinewidth\": 0, \"ticks\": \"\"}}, \"type\": \"scattergl\"}], \"scattermapbox\": [{\"marker\": {\"colorbar\": {\"outlinewidth\": 0, \"ticks\": \"\"}}, \"type\": \"scattermapbox\"}], \"scatterpolar\": [{\"marker\": {\"colorbar\": {\"outlinewidth\": 0, \"ticks\": \"\"}}, \"type\": \"scatterpolar\"}], \"scatterpolargl\": [{\"marker\": {\"colorbar\": {\"outlinewidth\": 0, \"ticks\": \"\"}}, \"type\": \"scatterpolargl\"}], \"scatterternary\": [{\"marker\": {\"colorbar\": {\"outlinewidth\": 0, \"ticks\": \"\"}}, \"type\": \"scatterternary\"}], \"surface\": [{\"colorbar\": {\"outlinewidth\": 0, \"ticks\": \"\"}, \"colorscale\": [[0.0, \"#0d0887\"], [0.1111111111111111, \"#46039f\"], [0.2222222222222222, \"#7201a8\"], [0.3333333333333333, \"#9c179e\"], [0.4444444444444444, \"#bd3786\"], [0.5555555555555556, \"#d8576b\"], [0.6666666666666666, \"#ed7953\"], [0.7777777777777778, \"#fb9f3a\"], [0.8888888888888888, \"#fdca26\"], [1.0, \"#f0f921\"]], \"type\": \"surface\"}], \"table\": [{\"cells\": {\"fill\": {\"color\": \"#EBF0F8\"}, \"line\": {\"color\": \"white\"}}, \"header\": {\"fill\": {\"color\": \"#C8D4E3\"}, \"line\": {\"color\": \"white\"}}, \"type\": \"table\"}]}, \"layout\": {\"annotationdefaults\": {\"arrowcolor\": \"#2a3f5f\", \"arrowhead\": 0, \"arrowwidth\": 1}, \"autotypenumbers\": \"strict\", \"coloraxis\": {\"colorbar\": {\"outlinewidth\": 0, \"ticks\": \"\"}}, \"colorscale\": {\"diverging\": [[0, \"#8e0152\"], [0.1, \"#c51b7d\"], [0.2, \"#de77ae\"], [0.3, \"#f1b6da\"], [0.4, \"#fde0ef\"], [0.5, \"#f7f7f7\"], [0.6, \"#e6f5d0\"], [0.7, \"#b8e186\"], [0.8, \"#7fbc41\"], [0.9, \"#4d9221\"], [1, \"#276419\"]], \"sequential\": [[0.0, \"#0d0887\"], [0.1111111111111111, \"#46039f\"], [0.2222222222222222, \"#7201a8\"], [0.3333333333333333, \"#9c179e\"], [0.4444444444444444, \"#bd3786\"], [0.5555555555555556, \"#d8576b\"], [0.6666666666666666, \"#ed7953\"], [0.7777777777777778, \"#fb9f3a\"], [0.8888888888888888, \"#fdca26\"], [1.0, \"#f0f921\"]], \"sequentialminus\": [[0.0, \"#0d0887\"], [0.1111111111111111, \"#46039f\"], [0.2222222222222222, \"#7201a8\"], [0.3333333333333333, \"#9c179e\"], [0.4444444444444444, \"#bd3786\"], [0.5555555555555556, \"#d8576b\"], [0.6666666666666666, \"#ed7953\"], [0.7777777777777778, \"#fb9f3a\"], [0.8888888888888888, \"#fdca26\"], [1.0, \"#f0f921\"]]}, \"colorway\": [\"#636efa\", \"#EF553B\", \"#00cc96\", \"#ab63fa\", \"#FFA15A\", \"#19d3f3\", \"#FF6692\", \"#B6E880\", \"#FF97FF\", \"#FECB52\"], \"font\": {\"color\": \"#2a3f5f\"}, \"geo\": {\"bgcolor\": \"white\", \"lakecolor\": \"white\", \"landcolor\": \"#E5ECF6\", \"showlakes\": true, \"showland\": true, \"subunitcolor\": \"white\"}, \"hoverlabel\": {\"align\": \"left\"}, \"hovermode\": \"closest\", \"mapbox\": {\"style\": \"light\"}, \"paper_bgcolor\": \"white\", \"plot_bgcolor\": \"#E5ECF6\", \"polar\": {\"angularaxis\": {\"gridcolor\": \"white\", \"linecolor\": \"white\", \"ticks\": \"\"}, \"bgcolor\": \"#E5ECF6\", \"radialaxis\": {\"gridcolor\": \"white\", \"linecolor\": \"white\", \"ticks\": \"\"}}, \"scene\": {\"xaxis\": {\"backgroundcolor\": \"#E5ECF6\", \"gridcolor\": \"white\", \"gridwidth\": 2, \"linecolor\": \"white\", \"showbackground\": true, \"ticks\": \"\", \"zerolinecolor\": \"white\"}, \"yaxis\": {\"backgroundcolor\": \"#E5ECF6\", \"gridcolor\": \"white\", \"gridwidth\": 2, \"linecolor\": \"white\", \"showbackground\": true, \"ticks\": \"\", \"zerolinecolor\": \"white\"}, \"zaxis\": {\"backgroundcolor\": \"#E5ECF6\", \"gridcolor\": \"white\", \"gridwidth\": 2, \"linecolor\": \"white\", \"showbackground\": true, \"ticks\": \"\", \"zerolinecolor\": \"white\"}}, \"shapedefaults\": {\"line\": {\"color\": \"#2a3f5f\"}}, \"ternary\": {\"aaxis\": {\"gridcolor\": \"white\", \"linecolor\": \"white\", \"ticks\": \"\"}, \"baxis\": {\"gridcolor\": \"white\", \"linecolor\": \"white\", \"ticks\": \"\"}, \"bgcolor\": \"#E5ECF6\", \"caxis\": {\"gridcolor\": \"white\", \"linecolor\": \"white\", \"ticks\": \"\"}}, \"title\": {\"x\": 0.05}, \"xaxis\": {\"automargin\": true, \"gridcolor\": \"white\", \"linecolor\": \"white\", \"ticks\": \"\", \"title\": {\"standoff\": 15}, \"zerolinecolor\": \"white\", \"zerolinewidth\": 2}, \"yaxis\": {\"automargin\": true, \"gridcolor\": \"white\", \"linecolor\": \"white\", \"ticks\": \"\", \"title\": {\"standoff\": 15}, \"zerolinecolor\": \"white\", \"zerolinewidth\": 2}}}, \"title\": {\"text\": \"Individual and Cumulative Explained Variance\"}, \"xaxis\": {\"dtick\": 1, \"title\": {\"text\": \"principal components\"}}, \"yaxis\": {\"title\": {\"text\": \"percentage of explained variance\"}}},                        {\"responsive\": true}                    ).then(function(){\n",
       "                            \n",
       "var gd = document.getElementById('4a72b3a6-4cc3-4a12-9313-7c7697a95560');\n",
       "var x = new MutationObserver(function (mutations, observer) {{\n",
       "        var display = window.getComputedStyle(gd).display;\n",
       "        if (!display || display === 'none') {{\n",
       "            console.log([gd, 'removed!']);\n",
       "            Plotly.purge(gd);\n",
       "            observer.disconnect();\n",
       "        }}\n",
       "}});\n",
       "\n",
       "// Listen for the removal of the full notebook cells\n",
       "var notebookContainer = gd.closest('#notebook-container');\n",
       "if (notebookContainer) {{\n",
       "    x.observe(notebookContainer, {childList: true});\n",
       "}}\n",
       "\n",
       "// Listen for the clearing of the current output cell\n",
       "var outputEl = gd.closest('.output');\n",
       "if (outputEl) {{\n",
       "    x.observe(outputEl, {childList: true});\n",
       "}}\n",
       "\n",
       "                        })                };                });            </script>        </div>"
      ]
     },
     "metadata": {},
     "output_type": "display_data"
    }
   ],
   "source": [
    "trace_cum_var_exp = go.Bar(\n",
    "    x=list(range(1, len(cum_var_exp) + 1)), \n",
    "    y=var_exp,\n",
    "    name=\"individual explained variance\",\n",
    ")\n",
    "trace_ind_var_exp = go.Scatter(\n",
    "    x=list(range(1, len(cum_var_exp) + 1)),\n",
    "    y=cum_var_exp,\n",
    "    mode='lines+markers',\n",
    "    name=\"cumulative explained variance\",\n",
    "    line=dict(\n",
    "        shape='hv',\n",
    "    ))\n",
    "data = [trace_cum_var_exp, trace_ind_var_exp]\n",
    "layout = go.Layout(\n",
    "    title='Individual and Cumulative Explained Variance',\n",
    "    autosize=True,\n",
    "    yaxis=dict(\n",
    "        title='percentage of explained variance',\n",
    "    ),\n",
    "    xaxis=dict(\n",
    "        title=\"principal components\",\n",
    "        dtick=1,\n",
    "    ),\n",
    "    legend=dict(\n",
    "        x=0,\n",
    "        y=1,\n",
    "    ),\n",
    ")\n",
    "fig = go.Figure(data=data, layout=layout)\n",
    "iplot(fig, filename='basic-bar')"
   ]
  },
  {
   "cell_type": "code",
   "execution_count": 21,
   "metadata": {},
   "outputs": [],
   "source": [
    "n_components = 10\n",
    "df_X_reduced = np.dot(df_X_normed.values, pca.components_[:n_components,:].T)\n",
    "df_X_reduced = pd.DataFrame(df_X_reduced, columns=[\"PC#%d\" % (x + 1) for x in range(n_components)])"
   ]
  },
  {
   "cell_type": "markdown",
   "metadata": {},
   "source": [
    "### Grid Search, Model Evaluation, and Dataset Preparation\n",
    "\n",
    "Next 3 boxeds provide a comprehensive pipeline for performing grid search with cross-validation, scoring models on test datasets, and managing dataset preparation. They include three main functions and processes for splitting data, which are essential for optimizing and evaluating machine learning models.\n",
    "\n",
    "#### Key Components:\n",
    "\n",
    "1.  **Function: `print_best_grid_search_scores_with_params`** :\n",
    "    \n",
    "    *   **Purpose**: Prints the top `n` best scores from a fitted grid search object along with their parameters.\n",
    "    *   **How it Works**:\n",
    "        *   Checks if the grid search object is fitted.\n",
    "        *   Sorts and retrieves the top scores based on mean test scores.\n",
    "        *   Prints the mean score, a confidence interval (mean ± 2 × standard deviation), and the parameter settings for each of the top results.\n",
    "2.  **Function: `do_gridsearch_with_cv`** :\n",
    "    \n",
    "    *   **Purpose**: Conducts grid search with cross-validation using a specified classifier and hyperparameter grid.\n",
    "    *   **How it Works**:\n",
    "        *   Creates a pipeline with or without SMOTE for handling class imbalance.\n",
    "        *   Sets up `GridSearchCV` with the pipeline, parameters, cross-validation, and F1 scoring.\n",
    "        *   Fits the model to the training data and returns the fitted grid search object.\n",
    "3.  **Function: `score_on_test_set`** :\n",
    "    \n",
    "    *   **Purpose**: Evaluates a list of classifiers on corresponding test datasets.\n",
    "    *   **How it Works**:\n",
    "        *   Iterates through classifiers and test datasets, scoring each classifier on its respective test set.\n",
    "        *   Returns a list of scores, representing model performance on unseen data.\n",
    "4.  **Dataset Preparation**:\n",
    "    \n",
    "    *   **Splitting Data**\n",
    "        \n",
    "    *   **Purpose**: Splits the dataset into training and testing sets with an 80:20 ratio, ensuring consistency with a fixed random state.\n",
    "    *   **Details**:\n",
    "        *   First split: Uses the normalized full dataset (`df_X_normed`).\n",
    "        *   Second split: Uses the PCA-transformed dataset (`df_X_reduced`).\n",
    "        *   Prints the shapes of the training datasets to compare the full dataset and the PCA-transformed dataset (reduced dimensionality).\n",
    "\n",
    "#### Overall Workflow:\n",
    "\n",
    "*   These codes facilitate a robust workflow for model tuning and evaluation by optimizing hyperparameters through grid search and assessing performance with consistent train-test splits. They also handle potential class imbalance using SMOTE when needed, and evaluates models across multiple preprocessing scenarios, including dimensionality reduction via PCA."
   ]
  },
  {
   "cell_type": "code",
   "execution_count": 22,
   "metadata": {},
   "outputs": [],
   "source": [
    "# prints the best grid search scores along with their parameters.\n",
    "def print_best_grid_search_scores_with_params(grid_search, n=10):\n",
    "    if not hasattr(grid_search, 'best_score_'):\n",
    "        raise KeyError('grid_search is not fitted.')\n",
    "    print(\"Best grid scores on validation set:\")\n",
    "    indexes = np.argsort(grid_search.cv_results_['mean_test_score'])[::-1][:n]\n",
    "    means = grid_search.cv_results_['mean_test_score'][indexes]\n",
    "    stds = grid_search.cv_results_['std_test_score'][indexes]\n",
    "    params = np.array(grid_search.cv_results_['params'])[indexes]\n",
    "    for mean, std, params in zip(means, stds, params):\n",
    "        print(\"%0.3f (+/-%0.03f) for %r\" % (mean, std * 2, params))"
   ]
  },
  {
   "cell_type": "code",
   "execution_count": 23,
   "metadata": {},
   "outputs": [],
   "source": [
    "def do_gridsearch_with_cv(clf, params, X_train, y_train, cv, smote=None):\n",
    "\n",
    "    if smote is None:\n",
    "        pipeline = Pipeline([('clf', clf)])\n",
    "    else:\n",
    "        pipeline = Pipeline([('sm', sm), ('clf', clf)])\n",
    "        \n",
    "    gs = GridSearchCV(pipeline, params, cv=kf, n_jobs=-1, scoring='f1', return_train_score=True)\n",
    "    gs.fit(X_train, y_train)\n",
    "    return gs\n",
    "\n",
    "def score_on_test_set(clfs, datasets):\n",
    "    scores = []\n",
    "    for c, (X_test, y_test) in zip(clfs, datasets):\n",
    "        scores.append(c.score(X_test, y_test))\n",
    "    return scores"
   ]
  },
  {
   "cell_type": "code",
   "execution_count": 24,
   "metadata": {},
   "outputs": [],
   "source": [
    "# split data into train and test set in proportion 4:1 for all differntly preprocessed datasets\n",
    "X_train, X_test, y_train, y_test = train_test_split(df_X_normed, df_y, test_size=0.2, random_state=SEED)\n",
    "X_train_pca, X_test_pca, y_train_pca, y_test_pca = train_test_split(df_X_reduced, df_y, test_size=0.2, random_state=SEED)\n"
   ]
  },
  {
   "cell_type": "code",
   "execution_count": 25,
   "metadata": {},
   "outputs": [
    {
     "name": "stdout",
     "output_type": "stream",
     "text": [
      "Shape of the full train dataset: (1116, 23)\n",
      "Shape of the transformed train dataset using the first 4 Principal Components (1116, 8)\n"
     ]
    }
   ],
   "source": [
    "print(\"Shape of the full train dataset:\", X_train.shape)\n",
    "print(\"Shape of the transformed train dataset using the first 4 Principal Components\", X_train_pca.shape)"
   ]
  },
  {
   "cell_type": "markdown",
   "metadata": {},
   "source": [
    "### Model Evaluation with Grid Search, Cross-Validation, and Class Balancing\n",
    "\n",
    "These next 5 boxes perform grid search with cross-validation for Random Forest classifiers across different dataset preprocessing methods and class balancing techniques. They evaluate and compares the models using F1 scores on the test datasets.\n",
    "\n",
    "#### Key Steps and Explanation:\n",
    "\n",
    "1.  **Initial Setup**:\n",
    "    \n",
    "    *   **Define SMOTE and Cross-Validation Strategy**\n",
    "        \n",
    "        *   **SMOTE** (Synthetic Minority Over-sampling Technique): Handles class imbalance by generating synthetic samples for the minority class.\n",
    "        *   **Stratified K-Fold**: Splits the data into 10 folds while maintaining the proportion of classes in each fold, ensuring balanced training and validation sets.\n",
    "2.  **Classifier Definitions**:\n",
    "    \n",
    "    *   **Standard Random Forest**\n",
    "        \n",
    "    *   **Random Forest with Balanced Class Weights**\n",
    "        \n",
    "        *   The balanced classifier adjusts weights inversely proportional to class frequencies, addressing class imbalance directly during training.\n",
    "3.  **Grid Search Execution and Model Evaluation**:\n",
    "    \n",
    "    *   **Without Class Balancing**\n",
    "        \n",
    "        *   Performs grid search without any balancing method using standard Random Forest on both full and PCA-transformed datasets.\n",
    "    *   **With Balanced Class Weights**\n",
    "        \n",
    "        *   Uses Random Forest with balanced class weights to handle imbalance, evaluating performance on the same datasets.\n",
    "    *   **With SMOTE**\n",
    "        \n",
    "        *   Implements SMOTE within the grid search pipeline to generate synthetic samples for the minority class, optimizing and evaluating models accordingly.\n",
    "4.  **Comparing and Displaying Results**:\n",
    "    \n",
    "    *   **Organizing Results**\n",
    "        \n",
    "        *   Creates descriptive strings combining F1 scores, dataset types, and class balancing methods.\n",
    "        *   Sorts results in descending order of F1 scores for easy comparison.\n",
    "    *   **Displaying Results**:\n",
    "        \n",
    "        *   Prints sorted F1 scores with corresponding dataset and balancing method descriptions, facilitating the evaluation of model performance under various preprocessing and balancing strategies.\n",
    "\n",
    "#### Overall Workflow:\n",
    "\n",
    "*   These codes efficiently test different approaches to handling class imbalance (no balancing, balanced weights, SMOTE) and assess their impact on Random Forest classifiers using full and PCA-reduced datasets. The results guide the selection of the best-performing model based on F1 score."
   ]
  },
  {
   "cell_type": "code",
   "execution_count": 26,
   "metadata": {},
   "outputs": [],
   "source": [
    "sm = SMOTE(random_state=SEED)\n",
    "kf = StratifiedKFold(shuffle=True,n_splits=10, random_state=SEED)\n",
    "clf_rf = RandomForestClassifier(random_state=SEED)\n",
    "clf_balanced = RandomForestClassifier(random_state=SEED, class_weight=\"balanced\")"
   ]
  },
  {
   "cell_type": "code",
   "execution_count": 27,
   "metadata": {},
   "outputs": [
    {
     "name": "stdout",
     "output_type": "stream",
     "text": [
      "Wall time: 3min 24s\n"
     ]
    }
   ],
   "source": [
    "%%time\n",
    "gs_full = do_gridsearch_with_cv(clf_rf, RANDOM_FOREST_PARAMS, X_train, y_train, kf, smote=None)\n",
    "gs_pca = do_gridsearch_with_cv(clf_rf, RANDOM_FOREST_PARAMS, X_train_pca, y_train_pca, kf, smote=None)\n",
    "gss_raw = [gs_full, gs_pca]\n",
    "test_results_raw = score_on_test_set(gss_raw, [(X_test, y_test), (X_test_pca, y_test_pca)])"
   ]
  },
  {
   "cell_type": "code",
   "execution_count": 28,
   "metadata": {},
   "outputs": [
    {
     "name": "stdout",
     "output_type": "stream",
     "text": [
      "Wall time: 3min 16s\n"
     ]
    }
   ],
   "source": [
    "%%time\n",
    "gs_full_balanced = do_gridsearch_with_cv(clf_balanced, RANDOM_FOREST_PARAMS, X_train, y_train, kf, smote=None)\n",
    "gs_pca_balanced = do_gridsearch_with_cv(clf_balanced, RANDOM_FOREST_PARAMS, X_train_pca, y_train_pca, kf, smote=None)\n",
    "gss_balanced_weights = [gs_full_balanced, gs_pca_balanced]\n",
    "test_results_balanced_weights = score_on_test_set(gss_balanced_weights, [(X_test, y_test), (X_test_pca, y_test_pca)])\n"
   ]
  },
  {
   "cell_type": "code",
   "execution_count": 29,
   "metadata": {},
   "outputs": [
    {
     "name": "stdout",
     "output_type": "stream",
     "text": [
      "Wall time: 5min 8s\n"
     ]
    }
   ],
   "source": [
    "%%time\n",
    "gs_full_smote = do_gridsearch_with_cv(clf_rf, RANDOM_FOREST_PARAMS, X_train, y_train, kf, smote=sm)\n",
    "gs_pca_smote = do_gridsearch_with_cv(clf_rf, RANDOM_FOREST_PARAMS, X_train_pca, y_train_pca, kf, smote=sm)\n",
    "gss_smote = [gs_full_smote, gs_pca_smote]\n",
    "test_results_smote = score_on_test_set(gss_smote, [(X_test, y_test), (X_test_pca, y_test_pca)])"
   ]
  },
  {
   "cell_type": "code",
   "execution_count": 30,
   "metadata": {},
   "outputs": [
    {
     "name": "stdout",
     "output_type": "stream",
     "text": [
      "F1 score  dataset and method\n",
      "0.667     full dataset using SMOTE\n",
      "0.579     full dataset without any balancing\n",
      "0.579     full dataset using balanced class weights\n",
      "0.560     data set with reduced features using SMOTE\n",
      "0.541     data set with reduced features using balanced class weights\n",
      "0.500     data set with reduced features without any balancing\n"
     ]
    }
   ],
   "source": [
    "dataset_strings = [\"full dataset\", \"data set with reduced features\", \"dataset with first 4 principal components\"]\n",
    "method_strings = [\"without any balancing\", \"using balanced class weights\", \"using SMOTE\"]\n",
    "\n",
    "result_strings = dict()\n",
    "for ms, results in zip(method_strings, [test_results_raw, test_results_balanced_weights, test_results_smote]):\n",
    "    for ds, res in zip(dataset_strings, results):\n",
    "        string = \"%.3f\" % res + \"     \" + ds + \" \" + ms\n",
    "        result_strings[string] = res\n",
    "        2\n",
    "result_strings = sorted(result_strings.items(), key=lambda kv: kv[1], reverse=True)\n",
    "print(\"F1 score  dataset and method\")\n",
    "for k, _ in result_strings:\n",
    "    print(k)"
   ]
  },
  {
   "cell_type": "code",
   "execution_count": 31,
   "metadata": {},
   "outputs": [],
   "source": [
    "def get_color_with_opacity(color, opacity):\n",
    "    return \"rgba(\" + color[4:-1] + \", %.2f)\" % opacity\n",
    "\n",
    "# partially based on https://scikit-learn.org/stable/auto_examples/model_selection/plot_learning_curve.html\n",
    "def plot_learning_curve(estimator, title, X, y, cv=None, n_jobs=-1, train_sizes=np.linspace(.1, 1.0, 5)):\n",
    "    \"\"\"\n",
    "    Generate a simple plot of the test and training learning curve.\n",
    "\n",
    "    Parameters\n",
    "    ----------\n",
    "    estimator : object type that implements the \"fit\" and \"predict\" methods\n",
    "        An object of that type which is cloned for each validation.\n",
    "\n",
    "    title : string\n",
    "        Title for the chart.\n",
    "\n",
    "    X : array-like, shape (n_samples, n_features)\n",
    "        Training vector, where n_samples is the number of samples and\n",
    "        n_features is the number of features.\n",
    "\n",
    "    y : array-like, shape (n_samples) or (n_samples, n_features), optional\n",
    "        Target relative to X for classification or regression;\n",
    "        None for unsupervised learning.\n",
    "\n",
    "    cv : int, cross-validation generator or an iterable, optional\n",
    "        Determines the cross-validation splitting strategy.\n",
    "        Possible inputs for cv are:\n",
    "          - None, to use the default 3-fold cross-validation,\n",
    "          - integer, to specify the number of folds.\n",
    "          - :term:`CV splitter`,\n",
    "          - An iterable yielding (train, test) splits as arrays of indices.\n",
    "\n",
    "        For integer/None inputs, if ``y`` is binary or multiclass,\n",
    "        :class:`StratifiedKFold` used. If the estimator is not a classifier\n",
    "        or if ``y`` is neither binary nor multiclass, :class:`KFold` is used.\n",
    "\n",
    "        Refer :ref:`User Guide <cross_validation>` for the various\n",
    "        cross-validators that can be used here.\n",
    "\n",
    "    n_jobs : int or None, optional (default=None)\n",
    "        Number of jobs to run in parallel.\n",
    "        ``None`` means 1 unless in a :obj:`joblib.parallel_backend` context.\n",
    "        ``-1`` means using all processors. See :term:`Glossary <n_jobs>`\n",
    "        for more details.\n",
    "\n",
    "    train_sizes : array-like, shape (n_ticks,), dtype float or int\n",
    "        Relative or absolute numbers of training examples that will be used to\n",
    "        generate the learning curve. If the dtype is float, it is regarded as a\n",
    "        fraction of the maximum size of the training set (that is determined\n",
    "        by the selected validation method), i.e. it has to be within (0, 1].\n",
    "        Otherwise it is interpreted as absolute sizes of the training sets.\n",
    "        Note that for classification the number of samples usually have to\n",
    "        be big enough to contain at least one sample from each class.\n",
    "        (default: np.linspace(0.1, 1.0, 5))\n",
    "    \"\"\"\n",
    "    \n",
    "    train_sizes, train_scores, test_scores = learning_curve(\n",
    "        estimator, X, y, cv=cv, n_jobs=n_jobs, train_sizes=train_sizes, scoring=\"f1\", random_state=SEED)\n",
    "    train_scores_mean = np.mean(train_scores, axis=1)\n",
    "    train_scores_std = np.std(train_scores, axis=1)\n",
    "    test_scores_mean = np.mean(test_scores, axis=1)\n",
    "    test_scores_std = np.std(test_scores, axis=1)\n",
    "    \n",
    "    trace1 = go.Scatter(\n",
    "        x=train_sizes, \n",
    "        y=train_scores_mean - train_scores_std, \n",
    "        showlegend=False,\n",
    "        mode=\"lines\",\n",
    "        name=\"\",\n",
    "        hoverlabel = dict(\n",
    "            namelength=20\n",
    "        ),\n",
    "        line = dict(\n",
    "            width = 0.1,\n",
    "            color = get_color_with_opacity(colors[0], 0.4),\n",
    "        ),\n",
    "    )\n",
    "    trace2 = go.Scatter(\n",
    "        x=train_sizes, \n",
    "        y=train_scores_mean + train_scores_std, \n",
    "        showlegend=False,\n",
    "        fill=\"tonexty\",\n",
    "        mode=\"lines\",\n",
    "        name=\"\",\n",
    "        hoverlabel = dict(\n",
    "            namelength=20\n",
    "        ),\n",
    "        line = dict(\n",
    "            width = 0.1,\n",
    "            color = get_color_with_opacity(colors[0], 0.4),\n",
    "        ),\n",
    "    )\n",
    "    trace3 = go.Scatter(\n",
    "        x=train_sizes, \n",
    "        y=train_scores_mean, \n",
    "        showlegend=True,\n",
    "        name=\"Train score\",\n",
    "        line = dict(\n",
    "            color = colors[0],\n",
    "        ),\n",
    "    )\n",
    "    \n",
    "    trace4 = go.Scatter(\n",
    "        x=train_sizes, \n",
    "        y=test_scores_mean - test_scores_std, \n",
    "        showlegend=False,\n",
    "        mode=\"lines\",\n",
    "        name=\"\",\n",
    "        hoverlabel = dict(\n",
    "            namelength=20\n",
    "        ),\n",
    "        line = dict(\n",
    "            width = 0.1,\n",
    "            color = get_color_with_opacity(colors[1], 0.4),\n",
    "        ),\n",
    "    )\n",
    "    trace5 = go.Scatter(\n",
    "        x=train_sizes, \n",
    "        y=test_scores_mean + test_scores_std, \n",
    "        showlegend=False,\n",
    "        fill=\"tonexty\",\n",
    "        mode=\"lines\",\n",
    "        name=\"\",\n",
    "        hoverlabel = dict(\n",
    "            namelength=20\n",
    "        ),\n",
    "        line = dict(\n",
    "            width = 0.1,\n",
    "            color = get_color_with_opacity(colors[1], 0.4),\n",
    "        ),\n",
    "    )\n",
    "    trace6 = go.Scatter(\n",
    "        x=train_sizes, \n",
    "        y=test_scores_mean, \n",
    "        showlegend=True,\n",
    "        name=\"Test score\",\n",
    "        line = dict(\n",
    "            color = colors[1],\n",
    "        ),\n",
    "    )\n",
    "    \n",
    "    data1 = [trace1, trace2, trace3, trace4, trace5, trace6]\n",
    "    layout = go.Layout(\n",
    "        title=title,\n",
    "        autosize=True,\n",
    "        yaxis=dict(\n",
    "            title='F1 Score',\n",
    "        ),\n",
    "        xaxis=dict(\n",
    "            title=\"#Training samples\",\n",
    "        ),\n",
    "        legend=dict(\n",
    "            x=0.8,\n",
    "            y=0,\n",
    "        ),\n",
    "    )\n",
    "    fig = go.Figure(data=data1, layout=layout)\n",
    "    return iplot(fig, filename=title)"
   ]
  },
  {
   "cell_type": "code",
   "execution_count": 32,
   "metadata": {},
   "outputs": [],
   "source": [
    "def plot_feature_importance(feature_importance, title):\n",
    "    trace1 = go.Bar(\n",
    "        x=feature_importance[:, 0],\n",
    "        y=feature_importance[:, 1],\n",
    "        marker = dict(color = colors[0]),\n",
    "        name='feature importance'\n",
    "    )\n",
    "    data2 = [trace1]\n",
    "    layout = go.Layout(\n",
    "        title=title,\n",
    "        autosize=True,\n",
    "        margin=go.layout.Margin(l=50, r=100, b=150),\n",
    "        xaxis=dict(\n",
    "            title='feature',\n",
    "            tickangle=30\n",
    "        ),\n",
    "        yaxis=dict(\n",
    "            title='feature importance',\n",
    "            automargin=True,\n",
    "        ),\n",
    "    )\n",
    "    fig = go.Figure(data=data2, layout=layout)\n",
    "    return iplot(fig, filename=title)"
   ]
  },
  {
   "cell_type": "markdown",
   "metadata": {},
   "source": [
    "### Logistic Regression Model Evaluation with Grid Search, Confusion Matrix, and Learning Curve\n",
    "\n",
    "These next 4 boxes perform hyperparameter tuning, evaluation, and visualization for a Logistic Regression model using grid search with cross-validation, confusion matrix analysis, and a learning curve plot.\n",
    "\n",
    "#### Key Steps and Explanation:\n",
    "\n",
    "1.  **Model Setup and Grid Search**:\n",
    "    \n",
    "    *   **Logistic Regression Classifier**\n",
    "        \n",
    "        *   A Logistic Regression model is initialized with a fixed random state to ensure reproducibility.\n",
    "    *   **Grid Search with Cross-Validation**\n",
    "        \n",
    "        *   Performs grid search with the logistic regression classifier using specified parameters (`LOGISTIC_REGRESSION_PARAMS`) and a Stratified K-Fold cross-validation (`kf`) strategy.\n",
    "        *   SMOTE is applied within the pipeline to handle class imbalance by generating synthetic minority class samples.\n",
    "    *   **Best Scores and Parameters**\n",
    "        \n",
    "        *   Displays the top grid search scores along with their corresponding hyperparameters, allowing identification of the optimal model configuration.\n",
    "2.  **Model Evaluation on Test Set**\n",
    "    \n",
    "    *   **Score and Predictions**\n",
    "        \n",
    "        *   Evaluates the logistic regression model on the test set, obtaining an overall score and predictions.\n",
    "    *   **Confusion Matrix Calculation**\n",
    "        \n",
    "        *   Constructs a confusion matrix, which is normalized by dividing each element by the sum of its respective row, thereby showing proportions rather than absolute counts.\n",
    "    *   **Confusion Matrix DataFrame**:\n",
    "        \n",
    "        *   Converts the normalized confusion matrix into a DataFrame with meaningful row and column labels, aiding interpretability of classification results:\n",
    "            *   \"True no Fraud\" and \"True Fraud\" represent the actual classes.\n",
    "            *   \"Predicted no Fraud\" and \"Predicted Fraud\" represent the model's predictions.\n",
    "3.  **Learning Curve Visualization**\n",
    "    \n",
    "    *   **Plotting Learning Curve**\n",
    "        \n",
    "        *   Plots a learning curve for the best estimator from the grid search.\n",
    "        *   **Purpose**: Visualizes model performance (training and validation scores) as a function of the training set size, which helps assess whether the model is overfitting, underfitting, or appropriately fitting the data.\n",
    "\n",
    "#### Overall Workflow:\n",
    "\n",
    "*   These codes systematically tune, evaluate, and visualize a Logistic Regression model. Grid search with cross-validation identifies optimal hyperparameters, while test set evaluation and a normalized confusion matrix provide insight into classification performance. The learning curve further illustrates the model's learning dynamics, aiding in the diagnosis of any issues related to bias or variance."
   ]
  },
  {
   "cell_type": "code",
   "execution_count": 33,
   "metadata": {},
   "outputs": [
    {
     "name": "stdout",
     "output_type": "stream",
     "text": [
      "Best grid scores on validation set:\n",
      "0.553 (+/-0.135) for {'clf__C': 0.1, 'clf__penalty': 'l1', 'clf__solver': 'liblinear'}\n",
      "0.550 (+/-0.160) for {'clf__C': 1, 'clf__penalty': 'l2', 'clf__solver': 'liblinear'}\n",
      "0.550 (+/-0.165) for {'clf__C': 1, 'clf__penalty': 'l1', 'clf__solver': 'liblinear'}\n",
      "0.542 (+/-0.151) for {'clf__C': 10, 'clf__penalty': 'l1', 'clf__solver': 'liblinear'}\n",
      "0.542 (+/-0.151) for {'clf__C': 10, 'clf__penalty': 'l2', 'clf__solver': 'liblinear'}\n",
      "0.537 (+/-0.139) for {'clf__C': 0.1, 'clf__penalty': 'l2', 'clf__solver': 'liblinear'}\n",
      "Wall time: 1.62 s\n"
     ]
    }
   ],
   "source": [
    "%%time\n",
    "clf_lr = LogisticRegression(random_state=SEED)\n",
    "gs_lr = do_gridsearch_with_cv(clf_lr, LOGISTIC_REGRESSION_PARAMS, X_train, y_train, kf, smote=sm)\n",
    "print_best_grid_search_scores_with_params(gs_lr)"
   ]
  },
  {
   "cell_type": "code",
   "execution_count": 34,
   "metadata": {},
   "outputs": [],
   "source": [
    "gs_lr_score = gs_lr.score(X_test, y_test)\n",
    "y_pred_lr = gs_lr.predict(X_test)\n",
    "cm_lr = confusion_matrix(y_test, y_pred_lr)\n",
    "cm_lr = cm_lr.astype('float') / cm_lr.sum(axis=1)[:, np.newaxis] # normalize the confusion matrix"
   ]
  },
  {
   "cell_type": "code",
   "execution_count": 35,
   "metadata": {},
   "outputs": [
    {
     "data": {
      "text/html": [
       "<div>\n",
       "<style scoped>\n",
       "    .dataframe tbody tr th:only-of-type {\n",
       "        vertical-align: middle;\n",
       "    }\n",
       "\n",
       "    .dataframe tbody tr th {\n",
       "        vertical-align: top;\n",
       "    }\n",
       "\n",
       "    .dataframe thead th {\n",
       "        text-align: right;\n",
       "    }\n",
       "</style>\n",
       "<table border=\"1\" class=\"dataframe\">\n",
       "  <thead>\n",
       "    <tr style=\"text-align: right;\">\n",
       "      <th></th>\n",
       "      <th>predicted no Fraud</th>\n",
       "      <th>predicted Fraud</th>\n",
       "    </tr>\n",
       "  </thead>\n",
       "  <tbody>\n",
       "    <tr>\n",
       "      <th>true no Fraud</th>\n",
       "      <td>0.889</td>\n",
       "      <td>0.111</td>\n",
       "    </tr>\n",
       "    <tr>\n",
       "      <th>true Fraud</th>\n",
       "      <td>0.308</td>\n",
       "      <td>0.692</td>\n",
       "    </tr>\n",
       "  </tbody>\n",
       "</table>\n",
       "</div>"
      ],
      "text/plain": [
       "               predicted no Fraud  predicted Fraud\n",
       "true no Fraud               0.889            0.111\n",
       "true Fraud                  0.308            0.692"
      ]
     },
     "execution_count": 35,
     "metadata": {},
     "output_type": "execute_result"
    }
   ],
   "source": [
    "cm_df1 = pd.DataFrame(cm_lr.round(3), index=[\"true no Fraud\", \"true Fraud\"], columns=[\"predicted no Fraud\", \"predicted Fraud\"])\n",
    "cm_df1"
   ]
  },
  {
   "cell_type": "code",
   "execution_count": 36,
   "metadata": {},
   "outputs": [
    {
     "data": {
      "application/vnd.plotly.v1+json": {
       "config": {
        "linkText": "Export to plot.ly",
        "plotlyServerURL": "https://plot.ly",
        "showLink": false
       },
       "data": [
        {
         "hoverlabel": {
          "namelength": 20
         },
         "line": {
          "color": "rgba(31, 119, 180, 0.40)",
          "width": 0.1
         },
         "mode": "lines",
         "name": "",
         "showlegend": false,
         "type": "scatter",
         "x": [
          89,
          289,
          490,
          691,
          892
         ],
         "y": [
          null,
          0.4890385258516885,
          0.5865265406741222,
          0.5457725651086488,
          0.554909310258544
         ]
        },
        {
         "fill": "tonexty",
         "hoverlabel": {
          "namelength": 20
         },
         "line": {
          "color": "rgba(31, 119, 180, 0.40)",
          "width": 0.1
         },
         "mode": "lines",
         "name": "",
         "showlegend": false,
         "type": "scatter",
         "x": [
          89,
          289,
          490,
          691,
          892
         ],
         "y": [
          null,
          0.595974333629256,
          0.6268394064102656,
          0.609649938057438,
          0.5969950713353783
         ]
        },
        {
         "line": {
          "color": "rgb(31, 119, 180)"
         },
         "name": "Train score",
         "showlegend": true,
         "type": "scatter",
         "x": [
          89,
          289,
          490,
          691,
          892
         ],
         "y": [
          null,
          0.5425064297404723,
          0.6066829735421939,
          0.5777112515830434,
          0.5759521907969611
         ]
        },
        {
         "hoverlabel": {
          "namelength": 20
         },
         "line": {
          "color": "rgba(255, 127, 14, 0.40)",
          "width": 0.1
         },
         "mode": "lines",
         "name": "",
         "showlegend": false,
         "type": "scatter",
         "x": [
          89,
          289,
          490,
          691,
          892
         ],
         "y": [
          null,
          0.4182471311404993,
          0.45265820514030775,
          0.45465685708519316,
          0.5062292329705401
         ]
        },
        {
         "fill": "tonexty",
         "hoverlabel": {
          "namelength": 20
         },
         "line": {
          "color": "rgba(255, 127, 14, 0.40)",
          "width": 0.1
         },
         "mode": "lines",
         "name": "",
         "showlegend": false,
         "type": "scatter",
         "x": [
          89,
          289,
          490,
          691,
          892
         ],
         "y": [
          null,
          0.545952715732676,
          0.5453268169837328,
          0.5559939664025627,
          0.5821096312100961
         ]
        },
        {
         "line": {
          "color": "rgb(255, 127, 14)"
         },
         "name": "Test score",
         "showlegend": true,
         "type": "scatter",
         "x": [
          89,
          289,
          490,
          691,
          892
         ],
         "y": [
          null,
          0.48209992343658764,
          0.49899251106202025,
          0.5053254117438779,
          0.5441694320903181
         ]
        }
       ],
       "layout": {
        "autosize": true,
        "legend": {
         "x": 0.8,
         "y": 0
        },
        "template": {
         "data": {
          "bar": [
           {
            "error_x": {
             "color": "#2a3f5f"
            },
            "error_y": {
             "color": "#2a3f5f"
            },
            "marker": {
             "line": {
              "color": "#E5ECF6",
              "width": 0.5
             }
            },
            "type": "bar"
           }
          ],
          "barpolar": [
           {
            "marker": {
             "line": {
              "color": "#E5ECF6",
              "width": 0.5
             }
            },
            "type": "barpolar"
           }
          ],
          "carpet": [
           {
            "aaxis": {
             "endlinecolor": "#2a3f5f",
             "gridcolor": "white",
             "linecolor": "white",
             "minorgridcolor": "white",
             "startlinecolor": "#2a3f5f"
            },
            "baxis": {
             "endlinecolor": "#2a3f5f",
             "gridcolor": "white",
             "linecolor": "white",
             "minorgridcolor": "white",
             "startlinecolor": "#2a3f5f"
            },
            "type": "carpet"
           }
          ],
          "choropleth": [
           {
            "colorbar": {
             "outlinewidth": 0,
             "ticks": ""
            },
            "type": "choropleth"
           }
          ],
          "contour": [
           {
            "colorbar": {
             "outlinewidth": 0,
             "ticks": ""
            },
            "colorscale": [
             [
              0,
              "#0d0887"
             ],
             [
              0.1111111111111111,
              "#46039f"
             ],
             [
              0.2222222222222222,
              "#7201a8"
             ],
             [
              0.3333333333333333,
              "#9c179e"
             ],
             [
              0.4444444444444444,
              "#bd3786"
             ],
             [
              0.5555555555555556,
              "#d8576b"
             ],
             [
              0.6666666666666666,
              "#ed7953"
             ],
             [
              0.7777777777777778,
              "#fb9f3a"
             ],
             [
              0.8888888888888888,
              "#fdca26"
             ],
             [
              1,
              "#f0f921"
             ]
            ],
            "type": "contour"
           }
          ],
          "contourcarpet": [
           {
            "colorbar": {
             "outlinewidth": 0,
             "ticks": ""
            },
            "type": "contourcarpet"
           }
          ],
          "heatmap": [
           {
            "colorbar": {
             "outlinewidth": 0,
             "ticks": ""
            },
            "colorscale": [
             [
              0,
              "#0d0887"
             ],
             [
              0.1111111111111111,
              "#46039f"
             ],
             [
              0.2222222222222222,
              "#7201a8"
             ],
             [
              0.3333333333333333,
              "#9c179e"
             ],
             [
              0.4444444444444444,
              "#bd3786"
             ],
             [
              0.5555555555555556,
              "#d8576b"
             ],
             [
              0.6666666666666666,
              "#ed7953"
             ],
             [
              0.7777777777777778,
              "#fb9f3a"
             ],
             [
              0.8888888888888888,
              "#fdca26"
             ],
             [
              1,
              "#f0f921"
             ]
            ],
            "type": "heatmap"
           }
          ],
          "heatmapgl": [
           {
            "colorbar": {
             "outlinewidth": 0,
             "ticks": ""
            },
            "colorscale": [
             [
              0,
              "#0d0887"
             ],
             [
              0.1111111111111111,
              "#46039f"
             ],
             [
              0.2222222222222222,
              "#7201a8"
             ],
             [
              0.3333333333333333,
              "#9c179e"
             ],
             [
              0.4444444444444444,
              "#bd3786"
             ],
             [
              0.5555555555555556,
              "#d8576b"
             ],
             [
              0.6666666666666666,
              "#ed7953"
             ],
             [
              0.7777777777777778,
              "#fb9f3a"
             ],
             [
              0.8888888888888888,
              "#fdca26"
             ],
             [
              1,
              "#f0f921"
             ]
            ],
            "type": "heatmapgl"
           }
          ],
          "histogram": [
           {
            "marker": {
             "colorbar": {
              "outlinewidth": 0,
              "ticks": ""
             }
            },
            "type": "histogram"
           }
          ],
          "histogram2d": [
           {
            "colorbar": {
             "outlinewidth": 0,
             "ticks": ""
            },
            "colorscale": [
             [
              0,
              "#0d0887"
             ],
             [
              0.1111111111111111,
              "#46039f"
             ],
             [
              0.2222222222222222,
              "#7201a8"
             ],
             [
              0.3333333333333333,
              "#9c179e"
             ],
             [
              0.4444444444444444,
              "#bd3786"
             ],
             [
              0.5555555555555556,
              "#d8576b"
             ],
             [
              0.6666666666666666,
              "#ed7953"
             ],
             [
              0.7777777777777778,
              "#fb9f3a"
             ],
             [
              0.8888888888888888,
              "#fdca26"
             ],
             [
              1,
              "#f0f921"
             ]
            ],
            "type": "histogram2d"
           }
          ],
          "histogram2dcontour": [
           {
            "colorbar": {
             "outlinewidth": 0,
             "ticks": ""
            },
            "colorscale": [
             [
              0,
              "#0d0887"
             ],
             [
              0.1111111111111111,
              "#46039f"
             ],
             [
              0.2222222222222222,
              "#7201a8"
             ],
             [
              0.3333333333333333,
              "#9c179e"
             ],
             [
              0.4444444444444444,
              "#bd3786"
             ],
             [
              0.5555555555555556,
              "#d8576b"
             ],
             [
              0.6666666666666666,
              "#ed7953"
             ],
             [
              0.7777777777777778,
              "#fb9f3a"
             ],
             [
              0.8888888888888888,
              "#fdca26"
             ],
             [
              1,
              "#f0f921"
             ]
            ],
            "type": "histogram2dcontour"
           }
          ],
          "mesh3d": [
           {
            "colorbar": {
             "outlinewidth": 0,
             "ticks": ""
            },
            "type": "mesh3d"
           }
          ],
          "parcoords": [
           {
            "line": {
             "colorbar": {
              "outlinewidth": 0,
              "ticks": ""
             }
            },
            "type": "parcoords"
           }
          ],
          "pie": [
           {
            "automargin": true,
            "type": "pie"
           }
          ],
          "scatter": [
           {
            "marker": {
             "colorbar": {
              "outlinewidth": 0,
              "ticks": ""
             }
            },
            "type": "scatter"
           }
          ],
          "scatter3d": [
           {
            "line": {
             "colorbar": {
              "outlinewidth": 0,
              "ticks": ""
             }
            },
            "marker": {
             "colorbar": {
              "outlinewidth": 0,
              "ticks": ""
             }
            },
            "type": "scatter3d"
           }
          ],
          "scattercarpet": [
           {
            "marker": {
             "colorbar": {
              "outlinewidth": 0,
              "ticks": ""
             }
            },
            "type": "scattercarpet"
           }
          ],
          "scattergeo": [
           {
            "marker": {
             "colorbar": {
              "outlinewidth": 0,
              "ticks": ""
             }
            },
            "type": "scattergeo"
           }
          ],
          "scattergl": [
           {
            "marker": {
             "colorbar": {
              "outlinewidth": 0,
              "ticks": ""
             }
            },
            "type": "scattergl"
           }
          ],
          "scattermapbox": [
           {
            "marker": {
             "colorbar": {
              "outlinewidth": 0,
              "ticks": ""
             }
            },
            "type": "scattermapbox"
           }
          ],
          "scatterpolar": [
           {
            "marker": {
             "colorbar": {
              "outlinewidth": 0,
              "ticks": ""
             }
            },
            "type": "scatterpolar"
           }
          ],
          "scatterpolargl": [
           {
            "marker": {
             "colorbar": {
              "outlinewidth": 0,
              "ticks": ""
             }
            },
            "type": "scatterpolargl"
           }
          ],
          "scatterternary": [
           {
            "marker": {
             "colorbar": {
              "outlinewidth": 0,
              "ticks": ""
             }
            },
            "type": "scatterternary"
           }
          ],
          "surface": [
           {
            "colorbar": {
             "outlinewidth": 0,
             "ticks": ""
            },
            "colorscale": [
             [
              0,
              "#0d0887"
             ],
             [
              0.1111111111111111,
              "#46039f"
             ],
             [
              0.2222222222222222,
              "#7201a8"
             ],
             [
              0.3333333333333333,
              "#9c179e"
             ],
             [
              0.4444444444444444,
              "#bd3786"
             ],
             [
              0.5555555555555556,
              "#d8576b"
             ],
             [
              0.6666666666666666,
              "#ed7953"
             ],
             [
              0.7777777777777778,
              "#fb9f3a"
             ],
             [
              0.8888888888888888,
              "#fdca26"
             ],
             [
              1,
              "#f0f921"
             ]
            ],
            "type": "surface"
           }
          ],
          "table": [
           {
            "cells": {
             "fill": {
              "color": "#EBF0F8"
             },
             "line": {
              "color": "white"
             }
            },
            "header": {
             "fill": {
              "color": "#C8D4E3"
             },
             "line": {
              "color": "white"
             }
            },
            "type": "table"
           }
          ]
         },
         "layout": {
          "annotationdefaults": {
           "arrowcolor": "#2a3f5f",
           "arrowhead": 0,
           "arrowwidth": 1
          },
          "autotypenumbers": "strict",
          "coloraxis": {
           "colorbar": {
            "outlinewidth": 0,
            "ticks": ""
           }
          },
          "colorscale": {
           "diverging": [
            [
             0,
             "#8e0152"
            ],
            [
             0.1,
             "#c51b7d"
            ],
            [
             0.2,
             "#de77ae"
            ],
            [
             0.3,
             "#f1b6da"
            ],
            [
             0.4,
             "#fde0ef"
            ],
            [
             0.5,
             "#f7f7f7"
            ],
            [
             0.6,
             "#e6f5d0"
            ],
            [
             0.7,
             "#b8e186"
            ],
            [
             0.8,
             "#7fbc41"
            ],
            [
             0.9,
             "#4d9221"
            ],
            [
             1,
             "#276419"
            ]
           ],
           "sequential": [
            [
             0,
             "#0d0887"
            ],
            [
             0.1111111111111111,
             "#46039f"
            ],
            [
             0.2222222222222222,
             "#7201a8"
            ],
            [
             0.3333333333333333,
             "#9c179e"
            ],
            [
             0.4444444444444444,
             "#bd3786"
            ],
            [
             0.5555555555555556,
             "#d8576b"
            ],
            [
             0.6666666666666666,
             "#ed7953"
            ],
            [
             0.7777777777777778,
             "#fb9f3a"
            ],
            [
             0.8888888888888888,
             "#fdca26"
            ],
            [
             1,
             "#f0f921"
            ]
           ],
           "sequentialminus": [
            [
             0,
             "#0d0887"
            ],
            [
             0.1111111111111111,
             "#46039f"
            ],
            [
             0.2222222222222222,
             "#7201a8"
            ],
            [
             0.3333333333333333,
             "#9c179e"
            ],
            [
             0.4444444444444444,
             "#bd3786"
            ],
            [
             0.5555555555555556,
             "#d8576b"
            ],
            [
             0.6666666666666666,
             "#ed7953"
            ],
            [
             0.7777777777777778,
             "#fb9f3a"
            ],
            [
             0.8888888888888888,
             "#fdca26"
            ],
            [
             1,
             "#f0f921"
            ]
           ]
          },
          "colorway": [
           "#636efa",
           "#EF553B",
           "#00cc96",
           "#ab63fa",
           "#FFA15A",
           "#19d3f3",
           "#FF6692",
           "#B6E880",
           "#FF97FF",
           "#FECB52"
          ],
          "font": {
           "color": "#2a3f5f"
          },
          "geo": {
           "bgcolor": "white",
           "lakecolor": "white",
           "landcolor": "#E5ECF6",
           "showlakes": true,
           "showland": true,
           "subunitcolor": "white"
          },
          "hoverlabel": {
           "align": "left"
          },
          "hovermode": "closest",
          "mapbox": {
           "style": "light"
          },
          "paper_bgcolor": "white",
          "plot_bgcolor": "#E5ECF6",
          "polar": {
           "angularaxis": {
            "gridcolor": "white",
            "linecolor": "white",
            "ticks": ""
           },
           "bgcolor": "#E5ECF6",
           "radialaxis": {
            "gridcolor": "white",
            "linecolor": "white",
            "ticks": ""
           }
          },
          "scene": {
           "xaxis": {
            "backgroundcolor": "#E5ECF6",
            "gridcolor": "white",
            "gridwidth": 2,
            "linecolor": "white",
            "showbackground": true,
            "ticks": "",
            "zerolinecolor": "white"
           },
           "yaxis": {
            "backgroundcolor": "#E5ECF6",
            "gridcolor": "white",
            "gridwidth": 2,
            "linecolor": "white",
            "showbackground": true,
            "ticks": "",
            "zerolinecolor": "white"
           },
           "zaxis": {
            "backgroundcolor": "#E5ECF6",
            "gridcolor": "white",
            "gridwidth": 2,
            "linecolor": "white",
            "showbackground": true,
            "ticks": "",
            "zerolinecolor": "white"
           }
          },
          "shapedefaults": {
           "line": {
            "color": "#2a3f5f"
           }
          },
          "ternary": {
           "aaxis": {
            "gridcolor": "white",
            "linecolor": "white",
            "ticks": ""
           },
           "baxis": {
            "gridcolor": "white",
            "linecolor": "white",
            "ticks": ""
           },
           "bgcolor": "#E5ECF6",
           "caxis": {
            "gridcolor": "white",
            "linecolor": "white",
            "ticks": ""
           }
          },
          "title": {
           "x": 0.05
          },
          "xaxis": {
           "automargin": true,
           "gridcolor": "white",
           "linecolor": "white",
           "ticks": "",
           "title": {
            "standoff": 15
           },
           "zerolinecolor": "white",
           "zerolinewidth": 2
          },
          "yaxis": {
           "automargin": true,
           "gridcolor": "white",
           "linecolor": "white",
           "ticks": "",
           "title": {
            "standoff": 15
           },
           "zerolinecolor": "white",
           "zerolinewidth": 2
          }
         }
        },
        "title": {
         "text": "Learning Curve of Logistic Regression"
        },
        "xaxis": {
         "title": {
          "text": "#Training samples"
         }
        },
        "yaxis": {
         "title": {
          "text": "F1 Score"
         }
        }
       }
      },
      "text/html": [
       "<div>                            <div id=\"2afa84fc-c0b1-4c01-928a-dd69e3d78dc1\" class=\"plotly-graph-div\" style=\"height:525px; width:100%;\"></div>            <script type=\"text/javascript\">                require([\"plotly\"], function(Plotly) {                    window.PLOTLYENV=window.PLOTLYENV || {};                                    if (document.getElementById(\"2afa84fc-c0b1-4c01-928a-dd69e3d78dc1\")) {                    Plotly.newPlot(                        \"2afa84fc-c0b1-4c01-928a-dd69e3d78dc1\",                        [{\"hoverlabel\": {\"namelength\": 20}, \"line\": {\"color\": \"rgba(31, 119, 180, 0.40)\", \"width\": 0.1}, \"mode\": \"lines\", \"name\": \"\", \"showlegend\": false, \"type\": \"scatter\", \"x\": [89, 289, 490, 691, 892], \"y\": [null, 0.4890385258516885, 0.5865265406741222, 0.5457725651086488, 0.554909310258544]}, {\"fill\": \"tonexty\", \"hoverlabel\": {\"namelength\": 20}, \"line\": {\"color\": \"rgba(31, 119, 180, 0.40)\", \"width\": 0.1}, \"mode\": \"lines\", \"name\": \"\", \"showlegend\": false, \"type\": \"scatter\", \"x\": [89, 289, 490, 691, 892], \"y\": [null, 0.595974333629256, 0.6268394064102656, 0.609649938057438, 0.5969950713353783]}, {\"line\": {\"color\": \"rgb(31, 119, 180)\"}, \"name\": \"Train score\", \"showlegend\": true, \"type\": \"scatter\", \"x\": [89, 289, 490, 691, 892], \"y\": [null, 0.5425064297404723, 0.6066829735421939, 0.5777112515830434, 0.5759521907969611]}, {\"hoverlabel\": {\"namelength\": 20}, \"line\": {\"color\": \"rgba(255, 127, 14, 0.40)\", \"width\": 0.1}, \"mode\": \"lines\", \"name\": \"\", \"showlegend\": false, \"type\": \"scatter\", \"x\": [89, 289, 490, 691, 892], \"y\": [null, 0.4182471311404993, 0.45265820514030775, 0.45465685708519316, 0.5062292329705401]}, {\"fill\": \"tonexty\", \"hoverlabel\": {\"namelength\": 20}, \"line\": {\"color\": \"rgba(255, 127, 14, 0.40)\", \"width\": 0.1}, \"mode\": \"lines\", \"name\": \"\", \"showlegend\": false, \"type\": \"scatter\", \"x\": [89, 289, 490, 691, 892], \"y\": [null, 0.545952715732676, 0.5453268169837328, 0.5559939664025627, 0.5821096312100961]}, {\"line\": {\"color\": \"rgb(255, 127, 14)\"}, \"name\": \"Test score\", \"showlegend\": true, \"type\": \"scatter\", \"x\": [89, 289, 490, 691, 892], \"y\": [null, 0.48209992343658764, 0.49899251106202025, 0.5053254117438779, 0.5441694320903181]}],                        {\"autosize\": true, \"legend\": {\"x\": 0.8, \"y\": 0}, \"template\": {\"data\": {\"bar\": [{\"error_x\": {\"color\": \"#2a3f5f\"}, \"error_y\": {\"color\": \"#2a3f5f\"}, \"marker\": {\"line\": {\"color\": \"#E5ECF6\", \"width\": 0.5}}, \"type\": \"bar\"}], \"barpolar\": [{\"marker\": {\"line\": {\"color\": \"#E5ECF6\", \"width\": 0.5}}, \"type\": \"barpolar\"}], \"carpet\": [{\"aaxis\": {\"endlinecolor\": \"#2a3f5f\", \"gridcolor\": \"white\", \"linecolor\": \"white\", \"minorgridcolor\": \"white\", \"startlinecolor\": \"#2a3f5f\"}, \"baxis\": {\"endlinecolor\": \"#2a3f5f\", \"gridcolor\": \"white\", \"linecolor\": \"white\", \"minorgridcolor\": \"white\", \"startlinecolor\": \"#2a3f5f\"}, \"type\": \"carpet\"}], \"choropleth\": [{\"colorbar\": {\"outlinewidth\": 0, \"ticks\": \"\"}, \"type\": \"choropleth\"}], \"contour\": [{\"colorbar\": {\"outlinewidth\": 0, \"ticks\": \"\"}, \"colorscale\": [[0.0, \"#0d0887\"], [0.1111111111111111, \"#46039f\"], [0.2222222222222222, \"#7201a8\"], [0.3333333333333333, \"#9c179e\"], [0.4444444444444444, \"#bd3786\"], [0.5555555555555556, \"#d8576b\"], [0.6666666666666666, \"#ed7953\"], [0.7777777777777778, \"#fb9f3a\"], [0.8888888888888888, \"#fdca26\"], [1.0, \"#f0f921\"]], \"type\": \"contour\"}], \"contourcarpet\": [{\"colorbar\": {\"outlinewidth\": 0, \"ticks\": \"\"}, \"type\": \"contourcarpet\"}], \"heatmap\": [{\"colorbar\": {\"outlinewidth\": 0, \"ticks\": \"\"}, \"colorscale\": [[0.0, \"#0d0887\"], [0.1111111111111111, \"#46039f\"], [0.2222222222222222, \"#7201a8\"], [0.3333333333333333, \"#9c179e\"], [0.4444444444444444, \"#bd3786\"], [0.5555555555555556, \"#d8576b\"], [0.6666666666666666, \"#ed7953\"], [0.7777777777777778, \"#fb9f3a\"], [0.8888888888888888, \"#fdca26\"], [1.0, \"#f0f921\"]], \"type\": \"heatmap\"}], \"heatmapgl\": [{\"colorbar\": {\"outlinewidth\": 0, \"ticks\": \"\"}, \"colorscale\": [[0.0, \"#0d0887\"], [0.1111111111111111, \"#46039f\"], [0.2222222222222222, \"#7201a8\"], [0.3333333333333333, \"#9c179e\"], [0.4444444444444444, \"#bd3786\"], [0.5555555555555556, \"#d8576b\"], [0.6666666666666666, \"#ed7953\"], [0.7777777777777778, \"#fb9f3a\"], [0.8888888888888888, \"#fdca26\"], [1.0, \"#f0f921\"]], \"type\": \"heatmapgl\"}], \"histogram\": [{\"marker\": {\"colorbar\": {\"outlinewidth\": 0, \"ticks\": \"\"}}, \"type\": \"histogram\"}], \"histogram2d\": [{\"colorbar\": {\"outlinewidth\": 0, \"ticks\": \"\"}, \"colorscale\": [[0.0, \"#0d0887\"], [0.1111111111111111, \"#46039f\"], [0.2222222222222222, \"#7201a8\"], [0.3333333333333333, \"#9c179e\"], [0.4444444444444444, \"#bd3786\"], [0.5555555555555556, \"#d8576b\"], [0.6666666666666666, \"#ed7953\"], [0.7777777777777778, \"#fb9f3a\"], [0.8888888888888888, \"#fdca26\"], [1.0, \"#f0f921\"]], \"type\": \"histogram2d\"}], \"histogram2dcontour\": [{\"colorbar\": {\"outlinewidth\": 0, \"ticks\": \"\"}, \"colorscale\": [[0.0, \"#0d0887\"], [0.1111111111111111, \"#46039f\"], [0.2222222222222222, \"#7201a8\"], [0.3333333333333333, \"#9c179e\"], [0.4444444444444444, \"#bd3786\"], [0.5555555555555556, \"#d8576b\"], [0.6666666666666666, \"#ed7953\"], [0.7777777777777778, \"#fb9f3a\"], [0.8888888888888888, \"#fdca26\"], [1.0, \"#f0f921\"]], \"type\": \"histogram2dcontour\"}], \"mesh3d\": [{\"colorbar\": {\"outlinewidth\": 0, \"ticks\": \"\"}, \"type\": \"mesh3d\"}], \"parcoords\": [{\"line\": {\"colorbar\": {\"outlinewidth\": 0, \"ticks\": \"\"}}, \"type\": \"parcoords\"}], \"pie\": [{\"automargin\": true, \"type\": \"pie\"}], \"scatter\": [{\"marker\": {\"colorbar\": {\"outlinewidth\": 0, \"ticks\": \"\"}}, \"type\": \"scatter\"}], \"scatter3d\": [{\"line\": {\"colorbar\": {\"outlinewidth\": 0, \"ticks\": \"\"}}, \"marker\": {\"colorbar\": {\"outlinewidth\": 0, \"ticks\": \"\"}}, \"type\": \"scatter3d\"}], \"scattercarpet\": [{\"marker\": {\"colorbar\": {\"outlinewidth\": 0, \"ticks\": \"\"}}, \"type\": \"scattercarpet\"}], \"scattergeo\": [{\"marker\": {\"colorbar\": {\"outlinewidth\": 0, \"ticks\": \"\"}}, \"type\": \"scattergeo\"}], \"scattergl\": [{\"marker\": {\"colorbar\": {\"outlinewidth\": 0, \"ticks\": \"\"}}, \"type\": \"scattergl\"}], \"scattermapbox\": [{\"marker\": {\"colorbar\": {\"outlinewidth\": 0, \"ticks\": \"\"}}, \"type\": \"scattermapbox\"}], \"scatterpolar\": [{\"marker\": {\"colorbar\": {\"outlinewidth\": 0, \"ticks\": \"\"}}, \"type\": \"scatterpolar\"}], \"scatterpolargl\": [{\"marker\": {\"colorbar\": {\"outlinewidth\": 0, \"ticks\": \"\"}}, \"type\": \"scatterpolargl\"}], \"scatterternary\": [{\"marker\": {\"colorbar\": {\"outlinewidth\": 0, \"ticks\": \"\"}}, \"type\": \"scatterternary\"}], \"surface\": [{\"colorbar\": {\"outlinewidth\": 0, \"ticks\": \"\"}, \"colorscale\": [[0.0, \"#0d0887\"], [0.1111111111111111, \"#46039f\"], [0.2222222222222222, \"#7201a8\"], [0.3333333333333333, \"#9c179e\"], [0.4444444444444444, \"#bd3786\"], [0.5555555555555556, \"#d8576b\"], [0.6666666666666666, \"#ed7953\"], [0.7777777777777778, \"#fb9f3a\"], [0.8888888888888888, \"#fdca26\"], [1.0, \"#f0f921\"]], \"type\": \"surface\"}], \"table\": [{\"cells\": {\"fill\": {\"color\": \"#EBF0F8\"}, \"line\": {\"color\": \"white\"}}, \"header\": {\"fill\": {\"color\": \"#C8D4E3\"}, \"line\": {\"color\": \"white\"}}, \"type\": \"table\"}]}, \"layout\": {\"annotationdefaults\": {\"arrowcolor\": \"#2a3f5f\", \"arrowhead\": 0, \"arrowwidth\": 1}, \"autotypenumbers\": \"strict\", \"coloraxis\": {\"colorbar\": {\"outlinewidth\": 0, \"ticks\": \"\"}}, \"colorscale\": {\"diverging\": [[0, \"#8e0152\"], [0.1, \"#c51b7d\"], [0.2, \"#de77ae\"], [0.3, \"#f1b6da\"], [0.4, \"#fde0ef\"], [0.5, \"#f7f7f7\"], [0.6, \"#e6f5d0\"], [0.7, \"#b8e186\"], [0.8, \"#7fbc41\"], [0.9, \"#4d9221\"], [1, \"#276419\"]], \"sequential\": [[0.0, \"#0d0887\"], [0.1111111111111111, \"#46039f\"], [0.2222222222222222, \"#7201a8\"], [0.3333333333333333, \"#9c179e\"], [0.4444444444444444, \"#bd3786\"], [0.5555555555555556, \"#d8576b\"], [0.6666666666666666, \"#ed7953\"], [0.7777777777777778, \"#fb9f3a\"], [0.8888888888888888, \"#fdca26\"], [1.0, \"#f0f921\"]], \"sequentialminus\": [[0.0, \"#0d0887\"], [0.1111111111111111, \"#46039f\"], [0.2222222222222222, \"#7201a8\"], [0.3333333333333333, \"#9c179e\"], [0.4444444444444444, \"#bd3786\"], [0.5555555555555556, \"#d8576b\"], [0.6666666666666666, \"#ed7953\"], [0.7777777777777778, \"#fb9f3a\"], [0.8888888888888888, \"#fdca26\"], [1.0, \"#f0f921\"]]}, \"colorway\": [\"#636efa\", \"#EF553B\", \"#00cc96\", \"#ab63fa\", \"#FFA15A\", \"#19d3f3\", \"#FF6692\", \"#B6E880\", \"#FF97FF\", \"#FECB52\"], \"font\": {\"color\": \"#2a3f5f\"}, \"geo\": {\"bgcolor\": \"white\", \"lakecolor\": \"white\", \"landcolor\": \"#E5ECF6\", \"showlakes\": true, \"showland\": true, \"subunitcolor\": \"white\"}, \"hoverlabel\": {\"align\": \"left\"}, \"hovermode\": \"closest\", \"mapbox\": {\"style\": \"light\"}, \"paper_bgcolor\": \"white\", \"plot_bgcolor\": \"#E5ECF6\", \"polar\": {\"angularaxis\": {\"gridcolor\": \"white\", \"linecolor\": \"white\", \"ticks\": \"\"}, \"bgcolor\": \"#E5ECF6\", \"radialaxis\": {\"gridcolor\": \"white\", \"linecolor\": \"white\", \"ticks\": \"\"}}, \"scene\": {\"xaxis\": {\"backgroundcolor\": \"#E5ECF6\", \"gridcolor\": \"white\", \"gridwidth\": 2, \"linecolor\": \"white\", \"showbackground\": true, \"ticks\": \"\", \"zerolinecolor\": \"white\"}, \"yaxis\": {\"backgroundcolor\": \"#E5ECF6\", \"gridcolor\": \"white\", \"gridwidth\": 2, \"linecolor\": \"white\", \"showbackground\": true, \"ticks\": \"\", \"zerolinecolor\": \"white\"}, \"zaxis\": {\"backgroundcolor\": \"#E5ECF6\", \"gridcolor\": \"white\", \"gridwidth\": 2, \"linecolor\": \"white\", \"showbackground\": true, \"ticks\": \"\", \"zerolinecolor\": \"white\"}}, \"shapedefaults\": {\"line\": {\"color\": \"#2a3f5f\"}}, \"ternary\": {\"aaxis\": {\"gridcolor\": \"white\", \"linecolor\": \"white\", \"ticks\": \"\"}, \"baxis\": {\"gridcolor\": \"white\", \"linecolor\": \"white\", \"ticks\": \"\"}, \"bgcolor\": \"#E5ECF6\", \"caxis\": {\"gridcolor\": \"white\", \"linecolor\": \"white\", \"ticks\": \"\"}}, \"title\": {\"x\": 0.05}, \"xaxis\": {\"automargin\": true, \"gridcolor\": \"white\", \"linecolor\": \"white\", \"ticks\": \"\", \"title\": {\"standoff\": 15}, \"zerolinecolor\": \"white\", \"zerolinewidth\": 2}, \"yaxis\": {\"automargin\": true, \"gridcolor\": \"white\", \"linecolor\": \"white\", \"ticks\": \"\", \"title\": {\"standoff\": 15}, \"zerolinecolor\": \"white\", \"zerolinewidth\": 2}}}, \"title\": {\"text\": \"Learning Curve of Logistic Regression\"}, \"xaxis\": {\"title\": {\"text\": \"#Training samples\"}}, \"yaxis\": {\"title\": {\"text\": \"F1 Score\"}}},                        {\"responsive\": true}                    ).then(function(){\n",
       "                            \n",
       "var gd = document.getElementById('2afa84fc-c0b1-4c01-928a-dd69e3d78dc1');\n",
       "var x = new MutationObserver(function (mutations, observer) {{\n",
       "        var display = window.getComputedStyle(gd).display;\n",
       "        if (!display || display === 'none') {{\n",
       "            console.log([gd, 'removed!']);\n",
       "            Plotly.purge(gd);\n",
       "            observer.disconnect();\n",
       "        }}\n",
       "}});\n",
       "\n",
       "// Listen for the removal of the full notebook cells\n",
       "var notebookContainer = gd.closest('#notebook-container');\n",
       "if (notebookContainer) {{\n",
       "    x.observe(notebookContainer, {childList: true});\n",
       "}}\n",
       "\n",
       "// Listen for the clearing of the current output cell\n",
       "var outputEl = gd.closest('.output');\n",
       "if (outputEl) {{\n",
       "    x.observe(outputEl, {childList: true});\n",
       "}}\n",
       "\n",
       "                        })                };                });            </script>        </div>"
      ]
     },
     "metadata": {},
     "output_type": "display_data"
    }
   ],
   "source": [
    "plot_learning_curve(gs_lr.best_estimator_, \"Learning Curve of Logistic Regression\", X_train, y_train, cv=5)"
   ]
  },
  {
   "cell_type": "markdown",
   "metadata": {},
   "source": [
    "### K-Nearest Neighbors Model Evaluation with Grid Search, Confusion Matrix, and Learning Curve\n",
    "\n",
    "These next 4 boxes conduct hyperparameter tuning, model evaluation, and visualization for a K-Nearest Neighbors (KNN) classifier using grid search with cross-validation, a confusion matrix, and a learning curve plot.\n",
    "\n",
    "#### Key Steps and Explanation:\n",
    "\n",
    "1.  **Model Setup and Grid Search**:\n",
    "    \n",
    "    *   **K-Nearest Neighbors Classifier**\n",
    "        \n",
    "        *   Initializes a K-Nearest Neighbors classifier.\n",
    "    *   **Grid Search with Cross-Validation**\n",
    "        \n",
    "        *   Performs grid search to optimize the hyperparameters of the KNN model using the specified parameter grid (`KNN_PARAMS`) and a Stratified K-Fold cross-validation strategy (`kf`).\n",
    "        *   SMOTE is included in the pipeline to address class imbalance by generating synthetic samples for the minority class.\n",
    "    *   **Best Scores and Parameters**\n",
    "        \n",
    "        *   Prints the top grid search results, including mean validation scores, standard deviations, and associated parameters, aiding in identifying the best-performing model configuration.\n",
    "2.  **Model Evaluation on Test Set**:\n",
    "    \n",
    "    *   **Score and Predictions**\n",
    "        \n",
    "        *   Evaluates the KNN model on the test set, obtaining a performance score and making predictions.\n",
    "    *   **Confusion Matrix Calculation**\n",
    "        \n",
    "        *   Constructs a confusion matrix, which is normalized to express the results as proportions of true classes rather than absolute counts. This normalization helps to better understand the classifier’s performance across different classes.\n",
    "    *   **Confusion Matrix DataFrame**\n",
    "        \n",
    "        *   Converts the normalized confusion matrix into a DataFrame with descriptive labels:\n",
    "            *   Rows indicate true classes: \"true no Fraud\" and \"true Fraud\".\n",
    "            *   Columns indicate predicted classes: \"predicted no Fraud\" and \"predicted Fraud\".\n",
    "        *   The DataFrame format enhances interpretability, showing how well the model distinguishes between fraudulent and non-fraudulent instances.\n",
    "3.  **Learning Curve Visualization**:\n",
    "    \n",
    "    *   **Plotting Learning Curve**\n",
    "        \n",
    "        *   Generates a learning curve for the best KNN model obtained from grid search.\n",
    "        *   **Purpose**: Visualizes the training and validation performance as a function of training set size, providing insights into the model's learning behavior. It helps to detect potential issues like overfitting (high training accuracy and low validation accuracy) or underfitting (both accuracies low).\n",
    "\n",
    "#### Overall Workflow:\n",
    "\n",
    "*   Thees codes systematically tune and evaluates a K-Nearest Neighbors classifier. They optimize the model using grid search with cross-validation, evaluate performance on a test set, and analyze classification results with a normalized confusion matrix. Finally, the learning curve plot reveals the model’s training dynamics, allowing further insights into its generalization ability."
   ]
  },
  {
   "cell_type": "code",
   "execution_count": 37,
   "metadata": {},
   "outputs": [
    {
     "name": "stdout",
     "output_type": "stream",
     "text": [
      "Best grid scores on validation set:\n",
      "0.462 (+/-0.164) for {'clf__n_neighbors': 65, 'clf__p': 1, 'clf__weights': 'distance'}\n",
      "0.453 (+/-0.154) for {'clf__n_neighbors': 65, 'clf__p': 1, 'clf__weights': 'uniform'}\n",
      "0.452 (+/-0.206) for {'clf__n_neighbors': 55, 'clf__p': 1, 'clf__weights': 'uniform'}\n",
      "0.451 (+/-0.216) for {'clf__n_neighbors': 55, 'clf__p': 1, 'clf__weights': 'distance'}\n",
      "0.434 (+/-0.189) for {'clf__n_neighbors': 45, 'clf__p': 1, 'clf__weights': 'distance'}\n",
      "0.429 (+/-0.200) for {'clf__n_neighbors': 35, 'clf__p': 1, 'clf__weights': 'uniform'}\n",
      "0.426 (+/-0.195) for {'clf__n_neighbors': 35, 'clf__p': 1, 'clf__weights': 'distance'}\n",
      "0.424 (+/-0.175) for {'clf__n_neighbors': 45, 'clf__p': 1, 'clf__weights': 'uniform'}\n",
      "0.424 (+/-0.215) for {'clf__n_neighbors': 25, 'clf__p': 1, 'clf__weights': 'distance'}\n",
      "0.424 (+/-0.156) for {'clf__n_neighbors': 15, 'clf__p': 1, 'clf__weights': 'uniform'}\n",
      "Wall time: 1min 5s\n"
     ]
    }
   ],
   "source": [
    "%%time\n",
    "clf_knn = KNeighborsClassifier()\n",
    "gs_knn = do_gridsearch_with_cv(clf_knn, KNN_PARAMS, X_train, y_train, kf, smote=sm)\n",
    "print_best_grid_search_scores_with_params(gs_knn)"
   ]
  },
  {
   "cell_type": "code",
   "execution_count": 38,
   "metadata": {},
   "outputs": [],
   "source": [
    "gs_knn_score = gs_knn.score(X_test, y_test)\n",
    "y_pred_knn = gs_knn.predict(X_test)\n",
    "cm_knn = confusion_matrix(y_test, y_pred_knn)\n",
    "cm_knn = cm_knn.astype('float') / cm_knn.sum(axis=1)[:, np.newaxis] # normalize the confusion matrix"
   ]
  },
  {
   "cell_type": "code",
   "execution_count": 39,
   "metadata": {},
   "outputs": [
    {
     "data": {
      "text/html": [
       "<div>\n",
       "<style scoped>\n",
       "    .dataframe tbody tr th:only-of-type {\n",
       "        vertical-align: middle;\n",
       "    }\n",
       "\n",
       "    .dataframe tbody tr th {\n",
       "        vertical-align: top;\n",
       "    }\n",
       "\n",
       "    .dataframe thead th {\n",
       "        text-align: right;\n",
       "    }\n",
       "</style>\n",
       "<table border=\"1\" class=\"dataframe\">\n",
       "  <thead>\n",
       "    <tr style=\"text-align: right;\">\n",
       "      <th></th>\n",
       "      <th>predicted no Fraud</th>\n",
       "      <th>predicted Fraud</th>\n",
       "    </tr>\n",
       "  </thead>\n",
       "  <tbody>\n",
       "    <tr>\n",
       "      <th>true no Fraud</th>\n",
       "      <td>0.814</td>\n",
       "      <td>0.186</td>\n",
       "    </tr>\n",
       "    <tr>\n",
       "      <th>true Fraud</th>\n",
       "      <td>0.346</td>\n",
       "      <td>0.654</td>\n",
       "    </tr>\n",
       "  </tbody>\n",
       "</table>\n",
       "</div>"
      ],
      "text/plain": [
       "               predicted no Fraud  predicted Fraud\n",
       "true no Fraud               0.814            0.186\n",
       "true Fraud                  0.346            0.654"
      ]
     },
     "execution_count": 39,
     "metadata": {},
     "output_type": "execute_result"
    }
   ],
   "source": [
    "cm_df2 = pd.DataFrame(cm_knn.round(3), index=[\"true no Fraud\", \"true Fraud\"], columns=[\"predicted no Fraud\", \"predicted Fraud\"])\n",
    "cm_df2"
   ]
  },
  {
   "cell_type": "code",
   "execution_count": 40,
   "metadata": {},
   "outputs": [
    {
     "data": {
      "application/vnd.plotly.v1+json": {
       "config": {
        "linkText": "Export to plot.ly",
        "plotlyServerURL": "https://plot.ly",
        "showLink": false
       },
       "data": [
        {
         "hoverlabel": {
          "namelength": 20
         },
         "line": {
          "color": "rgba(31, 119, 180, 0.40)",
          "width": 0.1
         },
         "mode": "lines",
         "name": "",
         "showlegend": false,
         "type": "scatter",
         "x": [
          89,
          289,
          490,
          691,
          892
         ],
         "y": [
          null,
          1,
          1,
          1,
          1
         ]
        },
        {
         "fill": "tonexty",
         "hoverlabel": {
          "namelength": 20
         },
         "line": {
          "color": "rgba(31, 119, 180, 0.40)",
          "width": 0.1
         },
         "mode": "lines",
         "name": "",
         "showlegend": false,
         "type": "scatter",
         "x": [
          89,
          289,
          490,
          691,
          892
         ],
         "y": [
          null,
          1,
          1,
          1,
          1
         ]
        },
        {
         "line": {
          "color": "rgb(31, 119, 180)"
         },
         "name": "Train score",
         "showlegend": true,
         "type": "scatter",
         "x": [
          89,
          289,
          490,
          691,
          892
         ],
         "y": [
          null,
          1,
          1,
          1,
          1
         ]
        },
        {
         "hoverlabel": {
          "namelength": 20
         },
         "line": {
          "color": "rgba(255, 127, 14, 0.40)",
          "width": 0.1
         },
         "mode": "lines",
         "name": "",
         "showlegend": false,
         "type": "scatter",
         "x": [
          89,
          289,
          490,
          691,
          892
         ],
         "y": [
          null,
          0.31667896473250867,
          0.3743312491500446,
          0.3668120995256008,
          0.3628642241151763
         ]
        },
        {
         "fill": "tonexty",
         "hoverlabel": {
          "namelength": 20
         },
         "line": {
          "color": "rgba(255, 127, 14, 0.40)",
          "width": 0.1
         },
         "mode": "lines",
         "name": "",
         "showlegend": false,
         "type": "scatter",
         "x": [
          89,
          289,
          490,
          691,
          892
         ],
         "y": [
          null,
          0.4650901659586174,
          0.5718088481665233,
          0.47697939780895926,
          0.44732618408286456
         ]
        },
        {
         "line": {
          "color": "rgb(255, 127, 14)"
         },
         "name": "Test score",
         "showlegend": true,
         "type": "scatter",
         "x": [
          89,
          289,
          490,
          691,
          892
         ],
         "y": [
          null,
          0.39088456534556304,
          0.47307004865828395,
          0.42189574866728,
          0.40509520409902045
         ]
        }
       ],
       "layout": {
        "autosize": true,
        "legend": {
         "x": 0.8,
         "y": 0
        },
        "template": {
         "data": {
          "bar": [
           {
            "error_x": {
             "color": "#2a3f5f"
            },
            "error_y": {
             "color": "#2a3f5f"
            },
            "marker": {
             "line": {
              "color": "#E5ECF6",
              "width": 0.5
             }
            },
            "type": "bar"
           }
          ],
          "barpolar": [
           {
            "marker": {
             "line": {
              "color": "#E5ECF6",
              "width": 0.5
             }
            },
            "type": "barpolar"
           }
          ],
          "carpet": [
           {
            "aaxis": {
             "endlinecolor": "#2a3f5f",
             "gridcolor": "white",
             "linecolor": "white",
             "minorgridcolor": "white",
             "startlinecolor": "#2a3f5f"
            },
            "baxis": {
             "endlinecolor": "#2a3f5f",
             "gridcolor": "white",
             "linecolor": "white",
             "minorgridcolor": "white",
             "startlinecolor": "#2a3f5f"
            },
            "type": "carpet"
           }
          ],
          "choropleth": [
           {
            "colorbar": {
             "outlinewidth": 0,
             "ticks": ""
            },
            "type": "choropleth"
           }
          ],
          "contour": [
           {
            "colorbar": {
             "outlinewidth": 0,
             "ticks": ""
            },
            "colorscale": [
             [
              0,
              "#0d0887"
             ],
             [
              0.1111111111111111,
              "#46039f"
             ],
             [
              0.2222222222222222,
              "#7201a8"
             ],
             [
              0.3333333333333333,
              "#9c179e"
             ],
             [
              0.4444444444444444,
              "#bd3786"
             ],
             [
              0.5555555555555556,
              "#d8576b"
             ],
             [
              0.6666666666666666,
              "#ed7953"
             ],
             [
              0.7777777777777778,
              "#fb9f3a"
             ],
             [
              0.8888888888888888,
              "#fdca26"
             ],
             [
              1,
              "#f0f921"
             ]
            ],
            "type": "contour"
           }
          ],
          "contourcarpet": [
           {
            "colorbar": {
             "outlinewidth": 0,
             "ticks": ""
            },
            "type": "contourcarpet"
           }
          ],
          "heatmap": [
           {
            "colorbar": {
             "outlinewidth": 0,
             "ticks": ""
            },
            "colorscale": [
             [
              0,
              "#0d0887"
             ],
             [
              0.1111111111111111,
              "#46039f"
             ],
             [
              0.2222222222222222,
              "#7201a8"
             ],
             [
              0.3333333333333333,
              "#9c179e"
             ],
             [
              0.4444444444444444,
              "#bd3786"
             ],
             [
              0.5555555555555556,
              "#d8576b"
             ],
             [
              0.6666666666666666,
              "#ed7953"
             ],
             [
              0.7777777777777778,
              "#fb9f3a"
             ],
             [
              0.8888888888888888,
              "#fdca26"
             ],
             [
              1,
              "#f0f921"
             ]
            ],
            "type": "heatmap"
           }
          ],
          "heatmapgl": [
           {
            "colorbar": {
             "outlinewidth": 0,
             "ticks": ""
            },
            "colorscale": [
             [
              0,
              "#0d0887"
             ],
             [
              0.1111111111111111,
              "#46039f"
             ],
             [
              0.2222222222222222,
              "#7201a8"
             ],
             [
              0.3333333333333333,
              "#9c179e"
             ],
             [
              0.4444444444444444,
              "#bd3786"
             ],
             [
              0.5555555555555556,
              "#d8576b"
             ],
             [
              0.6666666666666666,
              "#ed7953"
             ],
             [
              0.7777777777777778,
              "#fb9f3a"
             ],
             [
              0.8888888888888888,
              "#fdca26"
             ],
             [
              1,
              "#f0f921"
             ]
            ],
            "type": "heatmapgl"
           }
          ],
          "histogram": [
           {
            "marker": {
             "colorbar": {
              "outlinewidth": 0,
              "ticks": ""
             }
            },
            "type": "histogram"
           }
          ],
          "histogram2d": [
           {
            "colorbar": {
             "outlinewidth": 0,
             "ticks": ""
            },
            "colorscale": [
             [
              0,
              "#0d0887"
             ],
             [
              0.1111111111111111,
              "#46039f"
             ],
             [
              0.2222222222222222,
              "#7201a8"
             ],
             [
              0.3333333333333333,
              "#9c179e"
             ],
             [
              0.4444444444444444,
              "#bd3786"
             ],
             [
              0.5555555555555556,
              "#d8576b"
             ],
             [
              0.6666666666666666,
              "#ed7953"
             ],
             [
              0.7777777777777778,
              "#fb9f3a"
             ],
             [
              0.8888888888888888,
              "#fdca26"
             ],
             [
              1,
              "#f0f921"
             ]
            ],
            "type": "histogram2d"
           }
          ],
          "histogram2dcontour": [
           {
            "colorbar": {
             "outlinewidth": 0,
             "ticks": ""
            },
            "colorscale": [
             [
              0,
              "#0d0887"
             ],
             [
              0.1111111111111111,
              "#46039f"
             ],
             [
              0.2222222222222222,
              "#7201a8"
             ],
             [
              0.3333333333333333,
              "#9c179e"
             ],
             [
              0.4444444444444444,
              "#bd3786"
             ],
             [
              0.5555555555555556,
              "#d8576b"
             ],
             [
              0.6666666666666666,
              "#ed7953"
             ],
             [
              0.7777777777777778,
              "#fb9f3a"
             ],
             [
              0.8888888888888888,
              "#fdca26"
             ],
             [
              1,
              "#f0f921"
             ]
            ],
            "type": "histogram2dcontour"
           }
          ],
          "mesh3d": [
           {
            "colorbar": {
             "outlinewidth": 0,
             "ticks": ""
            },
            "type": "mesh3d"
           }
          ],
          "parcoords": [
           {
            "line": {
             "colorbar": {
              "outlinewidth": 0,
              "ticks": ""
             }
            },
            "type": "parcoords"
           }
          ],
          "pie": [
           {
            "automargin": true,
            "type": "pie"
           }
          ],
          "scatter": [
           {
            "marker": {
             "colorbar": {
              "outlinewidth": 0,
              "ticks": ""
             }
            },
            "type": "scatter"
           }
          ],
          "scatter3d": [
           {
            "line": {
             "colorbar": {
              "outlinewidth": 0,
              "ticks": ""
             }
            },
            "marker": {
             "colorbar": {
              "outlinewidth": 0,
              "ticks": ""
             }
            },
            "type": "scatter3d"
           }
          ],
          "scattercarpet": [
           {
            "marker": {
             "colorbar": {
              "outlinewidth": 0,
              "ticks": ""
             }
            },
            "type": "scattercarpet"
           }
          ],
          "scattergeo": [
           {
            "marker": {
             "colorbar": {
              "outlinewidth": 0,
              "ticks": ""
             }
            },
            "type": "scattergeo"
           }
          ],
          "scattergl": [
           {
            "marker": {
             "colorbar": {
              "outlinewidth": 0,
              "ticks": ""
             }
            },
            "type": "scattergl"
           }
          ],
          "scattermapbox": [
           {
            "marker": {
             "colorbar": {
              "outlinewidth": 0,
              "ticks": ""
             }
            },
            "type": "scattermapbox"
           }
          ],
          "scatterpolar": [
           {
            "marker": {
             "colorbar": {
              "outlinewidth": 0,
              "ticks": ""
             }
            },
            "type": "scatterpolar"
           }
          ],
          "scatterpolargl": [
           {
            "marker": {
             "colorbar": {
              "outlinewidth": 0,
              "ticks": ""
             }
            },
            "type": "scatterpolargl"
           }
          ],
          "scatterternary": [
           {
            "marker": {
             "colorbar": {
              "outlinewidth": 0,
              "ticks": ""
             }
            },
            "type": "scatterternary"
           }
          ],
          "surface": [
           {
            "colorbar": {
             "outlinewidth": 0,
             "ticks": ""
            },
            "colorscale": [
             [
              0,
              "#0d0887"
             ],
             [
              0.1111111111111111,
              "#46039f"
             ],
             [
              0.2222222222222222,
              "#7201a8"
             ],
             [
              0.3333333333333333,
              "#9c179e"
             ],
             [
              0.4444444444444444,
              "#bd3786"
             ],
             [
              0.5555555555555556,
              "#d8576b"
             ],
             [
              0.6666666666666666,
              "#ed7953"
             ],
             [
              0.7777777777777778,
              "#fb9f3a"
             ],
             [
              0.8888888888888888,
              "#fdca26"
             ],
             [
              1,
              "#f0f921"
             ]
            ],
            "type": "surface"
           }
          ],
          "table": [
           {
            "cells": {
             "fill": {
              "color": "#EBF0F8"
             },
             "line": {
              "color": "white"
             }
            },
            "header": {
             "fill": {
              "color": "#C8D4E3"
             },
             "line": {
              "color": "white"
             }
            },
            "type": "table"
           }
          ]
         },
         "layout": {
          "annotationdefaults": {
           "arrowcolor": "#2a3f5f",
           "arrowhead": 0,
           "arrowwidth": 1
          },
          "autotypenumbers": "strict",
          "coloraxis": {
           "colorbar": {
            "outlinewidth": 0,
            "ticks": ""
           }
          },
          "colorscale": {
           "diverging": [
            [
             0,
             "#8e0152"
            ],
            [
             0.1,
             "#c51b7d"
            ],
            [
             0.2,
             "#de77ae"
            ],
            [
             0.3,
             "#f1b6da"
            ],
            [
             0.4,
             "#fde0ef"
            ],
            [
             0.5,
             "#f7f7f7"
            ],
            [
             0.6,
             "#e6f5d0"
            ],
            [
             0.7,
             "#b8e186"
            ],
            [
             0.8,
             "#7fbc41"
            ],
            [
             0.9,
             "#4d9221"
            ],
            [
             1,
             "#276419"
            ]
           ],
           "sequential": [
            [
             0,
             "#0d0887"
            ],
            [
             0.1111111111111111,
             "#46039f"
            ],
            [
             0.2222222222222222,
             "#7201a8"
            ],
            [
             0.3333333333333333,
             "#9c179e"
            ],
            [
             0.4444444444444444,
             "#bd3786"
            ],
            [
             0.5555555555555556,
             "#d8576b"
            ],
            [
             0.6666666666666666,
             "#ed7953"
            ],
            [
             0.7777777777777778,
             "#fb9f3a"
            ],
            [
             0.8888888888888888,
             "#fdca26"
            ],
            [
             1,
             "#f0f921"
            ]
           ],
           "sequentialminus": [
            [
             0,
             "#0d0887"
            ],
            [
             0.1111111111111111,
             "#46039f"
            ],
            [
             0.2222222222222222,
             "#7201a8"
            ],
            [
             0.3333333333333333,
             "#9c179e"
            ],
            [
             0.4444444444444444,
             "#bd3786"
            ],
            [
             0.5555555555555556,
             "#d8576b"
            ],
            [
             0.6666666666666666,
             "#ed7953"
            ],
            [
             0.7777777777777778,
             "#fb9f3a"
            ],
            [
             0.8888888888888888,
             "#fdca26"
            ],
            [
             1,
             "#f0f921"
            ]
           ]
          },
          "colorway": [
           "#636efa",
           "#EF553B",
           "#00cc96",
           "#ab63fa",
           "#FFA15A",
           "#19d3f3",
           "#FF6692",
           "#B6E880",
           "#FF97FF",
           "#FECB52"
          ],
          "font": {
           "color": "#2a3f5f"
          },
          "geo": {
           "bgcolor": "white",
           "lakecolor": "white",
           "landcolor": "#E5ECF6",
           "showlakes": true,
           "showland": true,
           "subunitcolor": "white"
          },
          "hoverlabel": {
           "align": "left"
          },
          "hovermode": "closest",
          "mapbox": {
           "style": "light"
          },
          "paper_bgcolor": "white",
          "plot_bgcolor": "#E5ECF6",
          "polar": {
           "angularaxis": {
            "gridcolor": "white",
            "linecolor": "white",
            "ticks": ""
           },
           "bgcolor": "#E5ECF6",
           "radialaxis": {
            "gridcolor": "white",
            "linecolor": "white",
            "ticks": ""
           }
          },
          "scene": {
           "xaxis": {
            "backgroundcolor": "#E5ECF6",
            "gridcolor": "white",
            "gridwidth": 2,
            "linecolor": "white",
            "showbackground": true,
            "ticks": "",
            "zerolinecolor": "white"
           },
           "yaxis": {
            "backgroundcolor": "#E5ECF6",
            "gridcolor": "white",
            "gridwidth": 2,
            "linecolor": "white",
            "showbackground": true,
            "ticks": "",
            "zerolinecolor": "white"
           },
           "zaxis": {
            "backgroundcolor": "#E5ECF6",
            "gridcolor": "white",
            "gridwidth": 2,
            "linecolor": "white",
            "showbackground": true,
            "ticks": "",
            "zerolinecolor": "white"
           }
          },
          "shapedefaults": {
           "line": {
            "color": "#2a3f5f"
           }
          },
          "ternary": {
           "aaxis": {
            "gridcolor": "white",
            "linecolor": "white",
            "ticks": ""
           },
           "baxis": {
            "gridcolor": "white",
            "linecolor": "white",
            "ticks": ""
           },
           "bgcolor": "#E5ECF6",
           "caxis": {
            "gridcolor": "white",
            "linecolor": "white",
            "ticks": ""
           }
          },
          "title": {
           "x": 0.05
          },
          "xaxis": {
           "automargin": true,
           "gridcolor": "white",
           "linecolor": "white",
           "ticks": "",
           "title": {
            "standoff": 15
           },
           "zerolinecolor": "white",
           "zerolinewidth": 2
          },
          "yaxis": {
           "automargin": true,
           "gridcolor": "white",
           "linecolor": "white",
           "ticks": "",
           "title": {
            "standoff": 15
           },
           "zerolinecolor": "white",
           "zerolinewidth": 2
          }
         }
        },
        "title": {
         "text": "Learning Curve of KNN"
        },
        "xaxis": {
         "title": {
          "text": "#Training samples"
         }
        },
        "yaxis": {
         "title": {
          "text": "F1 Score"
         }
        }
       }
      },
      "text/html": [
       "<div>                            <div id=\"8c362604-42e8-444e-959a-8d3cd872e53c\" class=\"plotly-graph-div\" style=\"height:525px; width:100%;\"></div>            <script type=\"text/javascript\">                require([\"plotly\"], function(Plotly) {                    window.PLOTLYENV=window.PLOTLYENV || {};                                    if (document.getElementById(\"8c362604-42e8-444e-959a-8d3cd872e53c\")) {                    Plotly.newPlot(                        \"8c362604-42e8-444e-959a-8d3cd872e53c\",                        [{\"hoverlabel\": {\"namelength\": 20}, \"line\": {\"color\": \"rgba(31, 119, 180, 0.40)\", \"width\": 0.1}, \"mode\": \"lines\", \"name\": \"\", \"showlegend\": false, \"type\": \"scatter\", \"x\": [89, 289, 490, 691, 892], \"y\": [null, 1.0, 1.0, 1.0, 1.0]}, {\"fill\": \"tonexty\", \"hoverlabel\": {\"namelength\": 20}, \"line\": {\"color\": \"rgba(31, 119, 180, 0.40)\", \"width\": 0.1}, \"mode\": \"lines\", \"name\": \"\", \"showlegend\": false, \"type\": \"scatter\", \"x\": [89, 289, 490, 691, 892], \"y\": [null, 1.0, 1.0, 1.0, 1.0]}, {\"line\": {\"color\": \"rgb(31, 119, 180)\"}, \"name\": \"Train score\", \"showlegend\": true, \"type\": \"scatter\", \"x\": [89, 289, 490, 691, 892], \"y\": [null, 1.0, 1.0, 1.0, 1.0]}, {\"hoverlabel\": {\"namelength\": 20}, \"line\": {\"color\": \"rgba(255, 127, 14, 0.40)\", \"width\": 0.1}, \"mode\": \"lines\", \"name\": \"\", \"showlegend\": false, \"type\": \"scatter\", \"x\": [89, 289, 490, 691, 892], \"y\": [null, 0.31667896473250867, 0.3743312491500446, 0.3668120995256008, 0.3628642241151763]}, {\"fill\": \"tonexty\", \"hoverlabel\": {\"namelength\": 20}, \"line\": {\"color\": \"rgba(255, 127, 14, 0.40)\", \"width\": 0.1}, \"mode\": \"lines\", \"name\": \"\", \"showlegend\": false, \"type\": \"scatter\", \"x\": [89, 289, 490, 691, 892], \"y\": [null, 0.4650901659586174, 0.5718088481665233, 0.47697939780895926, 0.44732618408286456]}, {\"line\": {\"color\": \"rgb(255, 127, 14)\"}, \"name\": \"Test score\", \"showlegend\": true, \"type\": \"scatter\", \"x\": [89, 289, 490, 691, 892], \"y\": [null, 0.39088456534556304, 0.47307004865828395, 0.42189574866728, 0.40509520409902045]}],                        {\"autosize\": true, \"legend\": {\"x\": 0.8, \"y\": 0}, \"template\": {\"data\": {\"bar\": [{\"error_x\": {\"color\": \"#2a3f5f\"}, \"error_y\": {\"color\": \"#2a3f5f\"}, \"marker\": {\"line\": {\"color\": \"#E5ECF6\", \"width\": 0.5}}, \"type\": \"bar\"}], \"barpolar\": [{\"marker\": {\"line\": {\"color\": \"#E5ECF6\", \"width\": 0.5}}, \"type\": \"barpolar\"}], \"carpet\": [{\"aaxis\": {\"endlinecolor\": \"#2a3f5f\", \"gridcolor\": \"white\", \"linecolor\": \"white\", \"minorgridcolor\": \"white\", \"startlinecolor\": \"#2a3f5f\"}, \"baxis\": {\"endlinecolor\": \"#2a3f5f\", \"gridcolor\": \"white\", \"linecolor\": \"white\", \"minorgridcolor\": \"white\", \"startlinecolor\": \"#2a3f5f\"}, \"type\": \"carpet\"}], \"choropleth\": [{\"colorbar\": {\"outlinewidth\": 0, \"ticks\": \"\"}, \"type\": \"choropleth\"}], \"contour\": [{\"colorbar\": {\"outlinewidth\": 0, \"ticks\": \"\"}, \"colorscale\": [[0.0, \"#0d0887\"], [0.1111111111111111, \"#46039f\"], [0.2222222222222222, \"#7201a8\"], [0.3333333333333333, \"#9c179e\"], [0.4444444444444444, \"#bd3786\"], [0.5555555555555556, \"#d8576b\"], [0.6666666666666666, \"#ed7953\"], [0.7777777777777778, \"#fb9f3a\"], [0.8888888888888888, \"#fdca26\"], [1.0, \"#f0f921\"]], \"type\": \"contour\"}], \"contourcarpet\": [{\"colorbar\": {\"outlinewidth\": 0, \"ticks\": \"\"}, \"type\": \"contourcarpet\"}], \"heatmap\": [{\"colorbar\": {\"outlinewidth\": 0, \"ticks\": \"\"}, \"colorscale\": [[0.0, \"#0d0887\"], [0.1111111111111111, \"#46039f\"], [0.2222222222222222, \"#7201a8\"], [0.3333333333333333, \"#9c179e\"], [0.4444444444444444, \"#bd3786\"], [0.5555555555555556, \"#d8576b\"], [0.6666666666666666, \"#ed7953\"], [0.7777777777777778, \"#fb9f3a\"], [0.8888888888888888, \"#fdca26\"], [1.0, \"#f0f921\"]], \"type\": \"heatmap\"}], \"heatmapgl\": [{\"colorbar\": {\"outlinewidth\": 0, \"ticks\": \"\"}, \"colorscale\": [[0.0, \"#0d0887\"], [0.1111111111111111, \"#46039f\"], [0.2222222222222222, \"#7201a8\"], [0.3333333333333333, \"#9c179e\"], [0.4444444444444444, \"#bd3786\"], [0.5555555555555556, \"#d8576b\"], [0.6666666666666666, \"#ed7953\"], [0.7777777777777778, \"#fb9f3a\"], [0.8888888888888888, \"#fdca26\"], [1.0, \"#f0f921\"]], \"type\": \"heatmapgl\"}], \"histogram\": [{\"marker\": {\"colorbar\": {\"outlinewidth\": 0, \"ticks\": \"\"}}, \"type\": \"histogram\"}], \"histogram2d\": [{\"colorbar\": {\"outlinewidth\": 0, \"ticks\": \"\"}, \"colorscale\": [[0.0, \"#0d0887\"], [0.1111111111111111, \"#46039f\"], [0.2222222222222222, \"#7201a8\"], [0.3333333333333333, \"#9c179e\"], [0.4444444444444444, \"#bd3786\"], [0.5555555555555556, \"#d8576b\"], [0.6666666666666666, \"#ed7953\"], [0.7777777777777778, \"#fb9f3a\"], [0.8888888888888888, \"#fdca26\"], [1.0, \"#f0f921\"]], \"type\": \"histogram2d\"}], \"histogram2dcontour\": [{\"colorbar\": {\"outlinewidth\": 0, \"ticks\": \"\"}, \"colorscale\": [[0.0, \"#0d0887\"], [0.1111111111111111, \"#46039f\"], [0.2222222222222222, \"#7201a8\"], [0.3333333333333333, \"#9c179e\"], [0.4444444444444444, \"#bd3786\"], [0.5555555555555556, \"#d8576b\"], [0.6666666666666666, \"#ed7953\"], [0.7777777777777778, \"#fb9f3a\"], [0.8888888888888888, \"#fdca26\"], [1.0, \"#f0f921\"]], \"type\": \"histogram2dcontour\"}], \"mesh3d\": [{\"colorbar\": {\"outlinewidth\": 0, \"ticks\": \"\"}, \"type\": \"mesh3d\"}], \"parcoords\": [{\"line\": {\"colorbar\": {\"outlinewidth\": 0, \"ticks\": \"\"}}, \"type\": \"parcoords\"}], \"pie\": [{\"automargin\": true, \"type\": \"pie\"}], \"scatter\": [{\"marker\": {\"colorbar\": {\"outlinewidth\": 0, \"ticks\": \"\"}}, \"type\": \"scatter\"}], \"scatter3d\": [{\"line\": {\"colorbar\": {\"outlinewidth\": 0, \"ticks\": \"\"}}, \"marker\": {\"colorbar\": {\"outlinewidth\": 0, \"ticks\": \"\"}}, \"type\": \"scatter3d\"}], \"scattercarpet\": [{\"marker\": {\"colorbar\": {\"outlinewidth\": 0, \"ticks\": \"\"}}, \"type\": \"scattercarpet\"}], \"scattergeo\": [{\"marker\": {\"colorbar\": {\"outlinewidth\": 0, \"ticks\": \"\"}}, \"type\": \"scattergeo\"}], \"scattergl\": [{\"marker\": {\"colorbar\": {\"outlinewidth\": 0, \"ticks\": \"\"}}, \"type\": \"scattergl\"}], \"scattermapbox\": [{\"marker\": {\"colorbar\": {\"outlinewidth\": 0, \"ticks\": \"\"}}, \"type\": \"scattermapbox\"}], \"scatterpolar\": [{\"marker\": {\"colorbar\": {\"outlinewidth\": 0, \"ticks\": \"\"}}, \"type\": \"scatterpolar\"}], \"scatterpolargl\": [{\"marker\": {\"colorbar\": {\"outlinewidth\": 0, \"ticks\": \"\"}}, \"type\": \"scatterpolargl\"}], \"scatterternary\": [{\"marker\": {\"colorbar\": {\"outlinewidth\": 0, \"ticks\": \"\"}}, \"type\": \"scatterternary\"}], \"surface\": [{\"colorbar\": {\"outlinewidth\": 0, \"ticks\": \"\"}, \"colorscale\": [[0.0, \"#0d0887\"], [0.1111111111111111, \"#46039f\"], [0.2222222222222222, \"#7201a8\"], [0.3333333333333333, \"#9c179e\"], [0.4444444444444444, \"#bd3786\"], [0.5555555555555556, \"#d8576b\"], [0.6666666666666666, \"#ed7953\"], [0.7777777777777778, \"#fb9f3a\"], [0.8888888888888888, \"#fdca26\"], [1.0, \"#f0f921\"]], \"type\": \"surface\"}], \"table\": [{\"cells\": {\"fill\": {\"color\": \"#EBF0F8\"}, \"line\": {\"color\": \"white\"}}, \"header\": {\"fill\": {\"color\": \"#C8D4E3\"}, \"line\": {\"color\": \"white\"}}, \"type\": \"table\"}]}, \"layout\": {\"annotationdefaults\": {\"arrowcolor\": \"#2a3f5f\", \"arrowhead\": 0, \"arrowwidth\": 1}, \"autotypenumbers\": \"strict\", \"coloraxis\": {\"colorbar\": {\"outlinewidth\": 0, \"ticks\": \"\"}}, \"colorscale\": {\"diverging\": [[0, \"#8e0152\"], [0.1, \"#c51b7d\"], [0.2, \"#de77ae\"], [0.3, \"#f1b6da\"], [0.4, \"#fde0ef\"], [0.5, \"#f7f7f7\"], [0.6, \"#e6f5d0\"], [0.7, \"#b8e186\"], [0.8, \"#7fbc41\"], [0.9, \"#4d9221\"], [1, \"#276419\"]], \"sequential\": [[0.0, \"#0d0887\"], [0.1111111111111111, \"#46039f\"], [0.2222222222222222, \"#7201a8\"], [0.3333333333333333, \"#9c179e\"], [0.4444444444444444, \"#bd3786\"], [0.5555555555555556, \"#d8576b\"], [0.6666666666666666, \"#ed7953\"], [0.7777777777777778, \"#fb9f3a\"], [0.8888888888888888, \"#fdca26\"], [1.0, \"#f0f921\"]], \"sequentialminus\": [[0.0, \"#0d0887\"], [0.1111111111111111, \"#46039f\"], [0.2222222222222222, \"#7201a8\"], [0.3333333333333333, \"#9c179e\"], [0.4444444444444444, \"#bd3786\"], [0.5555555555555556, \"#d8576b\"], [0.6666666666666666, \"#ed7953\"], [0.7777777777777778, \"#fb9f3a\"], [0.8888888888888888, \"#fdca26\"], [1.0, \"#f0f921\"]]}, \"colorway\": [\"#636efa\", \"#EF553B\", \"#00cc96\", \"#ab63fa\", \"#FFA15A\", \"#19d3f3\", \"#FF6692\", \"#B6E880\", \"#FF97FF\", \"#FECB52\"], \"font\": {\"color\": \"#2a3f5f\"}, \"geo\": {\"bgcolor\": \"white\", \"lakecolor\": \"white\", \"landcolor\": \"#E5ECF6\", \"showlakes\": true, \"showland\": true, \"subunitcolor\": \"white\"}, \"hoverlabel\": {\"align\": \"left\"}, \"hovermode\": \"closest\", \"mapbox\": {\"style\": \"light\"}, \"paper_bgcolor\": \"white\", \"plot_bgcolor\": \"#E5ECF6\", \"polar\": {\"angularaxis\": {\"gridcolor\": \"white\", \"linecolor\": \"white\", \"ticks\": \"\"}, \"bgcolor\": \"#E5ECF6\", \"radialaxis\": {\"gridcolor\": \"white\", \"linecolor\": \"white\", \"ticks\": \"\"}}, \"scene\": {\"xaxis\": {\"backgroundcolor\": \"#E5ECF6\", \"gridcolor\": \"white\", \"gridwidth\": 2, \"linecolor\": \"white\", \"showbackground\": true, \"ticks\": \"\", \"zerolinecolor\": \"white\"}, \"yaxis\": {\"backgroundcolor\": \"#E5ECF6\", \"gridcolor\": \"white\", \"gridwidth\": 2, \"linecolor\": \"white\", \"showbackground\": true, \"ticks\": \"\", \"zerolinecolor\": \"white\"}, \"zaxis\": {\"backgroundcolor\": \"#E5ECF6\", \"gridcolor\": \"white\", \"gridwidth\": 2, \"linecolor\": \"white\", \"showbackground\": true, \"ticks\": \"\", \"zerolinecolor\": \"white\"}}, \"shapedefaults\": {\"line\": {\"color\": \"#2a3f5f\"}}, \"ternary\": {\"aaxis\": {\"gridcolor\": \"white\", \"linecolor\": \"white\", \"ticks\": \"\"}, \"baxis\": {\"gridcolor\": \"white\", \"linecolor\": \"white\", \"ticks\": \"\"}, \"bgcolor\": \"#E5ECF6\", \"caxis\": {\"gridcolor\": \"white\", \"linecolor\": \"white\", \"ticks\": \"\"}}, \"title\": {\"x\": 0.05}, \"xaxis\": {\"automargin\": true, \"gridcolor\": \"white\", \"linecolor\": \"white\", \"ticks\": \"\", \"title\": {\"standoff\": 15}, \"zerolinecolor\": \"white\", \"zerolinewidth\": 2}, \"yaxis\": {\"automargin\": true, \"gridcolor\": \"white\", \"linecolor\": \"white\", \"ticks\": \"\", \"title\": {\"standoff\": 15}, \"zerolinecolor\": \"white\", \"zerolinewidth\": 2}}}, \"title\": {\"text\": \"Learning Curve of KNN\"}, \"xaxis\": {\"title\": {\"text\": \"#Training samples\"}}, \"yaxis\": {\"title\": {\"text\": \"F1 Score\"}}},                        {\"responsive\": true}                    ).then(function(){\n",
       "                            \n",
       "var gd = document.getElementById('8c362604-42e8-444e-959a-8d3cd872e53c');\n",
       "var x = new MutationObserver(function (mutations, observer) {{\n",
       "        var display = window.getComputedStyle(gd).display;\n",
       "        if (!display || display === 'none') {{\n",
       "            console.log([gd, 'removed!']);\n",
       "            Plotly.purge(gd);\n",
       "            observer.disconnect();\n",
       "        }}\n",
       "}});\n",
       "\n",
       "// Listen for the removal of the full notebook cells\n",
       "var notebookContainer = gd.closest('#notebook-container');\n",
       "if (notebookContainer) {{\n",
       "    x.observe(notebookContainer, {childList: true});\n",
       "}}\n",
       "\n",
       "// Listen for the clearing of the current output cell\n",
       "var outputEl = gd.closest('.output');\n",
       "if (outputEl) {{\n",
       "    x.observe(outputEl, {childList: true});\n",
       "}}\n",
       "\n",
       "                        })                };                });            </script>        </div>"
      ]
     },
     "metadata": {},
     "output_type": "display_data"
    }
   ],
   "source": [
    "plot_learning_curve(gs_knn.best_estimator_, \"Learning Curve of KNN\", X_train, y_train, cv=5)"
   ]
  },
  {
   "cell_type": "markdown",
   "metadata": {},
   "source": [
    "### Evaluation of K-Nearest Neighbors with Uniform Weights Using Grid Search, Confusion Matrix, and Learning Curve\n",
    "\n",
    "These codes snippet evaluate a K-Nearest Neighbors (KNN) classifier with uniform weights through hyperparameter tuning, performance analysis, and visualization using grid search with cross-validation, confusion matrix, and learning curve plotting.\n",
    "\n",
    "#### Key Steps and Explanation:\n",
    "\n",
    "1.  **Model Setup and Grid Search**:\n",
    "    \n",
    "    *   **K-Nearest Neighbors Classifier**\n",
    "        \n",
    "        *   Initializes a K-Nearest Neighbors classifier with default settings.\n",
    "    *   **Grid Search with Cross-Validation**\n",
    "        \n",
    "        *   Conducts a grid search with cross-validation to optimize the KNN model's hyperparameters specified in `KNN_PARAMS_UNIFORM`, focusing on uniform weights where each neighbor has equal influence.\n",
    "        *   Utilizes the Stratified K-Fold strategy (`kf`) for robust performance estimation, incorporating SMOTE to mitigate class imbalance by generating synthetic minority class samples.\n",
    "    *   **Best Scores and Parameters**\n",
    "        \n",
    "        *   Displays the top grid search result, including the best validation score and its corresponding hyperparameters, providing insights into the most effective model configuration.\n",
    "2.  **Model Evaluation on Test Set**:\n",
    "    \n",
    "    *   **Score and Predictions**\n",
    "        \n",
    "        *   Evaluates the trained KNN model on the test set, returning a performance score and generating predictions.\n",
    "    *   **Confusion Matrix Calculation**\n",
    "        \n",
    "        *   Creates a confusion matrix for the KNN model predictions, then normalizes it to express values as proportions relative to the true class totals. Normalization aids in interpreting the classifier's effectiveness across different classes.\n",
    "    *   **Confusion Matrix DataFrame**\n",
    "        \n",
    "        *   Converts the normalized confusion matrix into a DataFrame with meaningful labels:\n",
    "            *   Rows represent actual classes: \"true no churn\" and \"true churn\".\n",
    "            *   Columns represent predicted classes: \"predicted no churn\" and \"predicted churn\".\n",
    "        *   This format enhances interpretability by clearly depicting how well the model predicts each class, particularly useful for understanding model behavior in churn prediction scenarios.\n",
    "3.  **Learning Curve Visualization**:\n",
    "    \n",
    "    *   **Plotting Learning Curve**\n",
    "        \n",
    "        *   Generates a learning curve for the best KNN model determined through grid search.\n",
    "        *   **Purpose**: Illustrates the model's performance on the training and validation sets across various training set sizes, offering insights into how the model's accuracy evolves with more data. This visualization helps detect overfitting (when training accuracy is high but validation accuracy is low) or underfitting (when both accuracies are low).\n",
    "\n",
    "#### Overall Workflow:\n",
    "\n",
    "*   These codes efficiently tune and evaluate a K-Nearest Neighbors classifier with uniform weights using grid search with cross-validation and SMOTE for handling imbalanced data. They then assess the model's predictive power on a test set using a normalized confusion matrix, and visualize the learning process through a learning curve plot, enabling a comprehensive understanding of the model's performance and generalization ability."
   ]
  },
  {
   "cell_type": "code",
   "execution_count": 41,
   "metadata": {},
   "outputs": [
    {
     "name": "stdout",
     "output_type": "stream",
     "text": [
      "Best grid scores on validation set:\n",
      "0.453 (+/-0.154) for {'clf__n_neighbors': 65, 'clf__p': 1, 'clf__weights': 'uniform'}\n"
     ]
    }
   ],
   "source": [
    "clf_knn_uni = KNeighborsClassifier()\n",
    "gs_knn_uniform = do_gridsearch_with_cv(clf_knn_uni, KNN_PARAMS_UNIFORM, X_train, y_train, kf, smote=sm)\n",
    "print_best_grid_search_scores_with_params(gs_knn_uniform, 1)"
   ]
  },
  {
   "cell_type": "code",
   "execution_count": 42,
   "metadata": {},
   "outputs": [
    {
     "data": {
      "text/plain": [
       "'\\ngs_knn_score = clf_knn_uni.score(X_test, y_test)\\ny_pred_gs_knn = clf_knn_uni.predict(X_test)\\ncm_gs_knn = confusion_matrix(y_test, y_pred_svm)\\ncm_gs_knn = cm_svm.astype(\\'float\\') / cm_svm.sum(axis=1)[:, np.newaxis] # normalize the confusion matrix\\ncm_df3 = pd.DataFrame(cm_gs_knn.round(3), index=[\"true no churn\", \"true churn\"], columns=[\"predicted no churn\", \"predicted churn\"])\\ncm_df3\\n'"
      ]
     },
     "execution_count": 42,
     "metadata": {},
     "output_type": "execute_result"
    }
   ],
   "source": [
    "\"\"\"\n",
    "gs_knn_score = clf_knn_uni.score(X_test, y_test)\n",
    "y_pred_gs_knn = clf_knn_uni.predict(X_test)\n",
    "cm_gs_knn = confusion_matrix(y_test, y_pred_svm)\n",
    "cm_gs_knn = cm_svm.astype('float') / cm_svm.sum(axis=1)[:, np.newaxis] # normalize the confusion matrix\n",
    "cm_df3 = pd.DataFrame(cm_gs_knn.round(3), index=[\"true no churn\", \"true churn\"], columns=[\"predicted no churn\", \"predicted churn\"])\n",
    "cm_df3\n",
    "\"\"\""
   ]
  },
  {
   "cell_type": "code",
   "execution_count": 43,
   "metadata": {},
   "outputs": [
    {
     "data": {
      "application/vnd.plotly.v1+json": {
       "config": {
        "linkText": "Export to plot.ly",
        "plotlyServerURL": "https://plot.ly",
        "showLink": false
       },
       "data": [
        {
         "hoverlabel": {
          "namelength": 20
         },
         "line": {
          "color": "rgba(31, 119, 180, 0.40)",
          "width": 0.1
         },
         "mode": "lines",
         "name": "",
         "showlegend": false,
         "type": "scatter",
         "x": [
          89,
          289,
          490,
          691,
          892
         ],
         "y": [
          null,
          0.39226188215212426,
          0.5203459655767803,
          0.4349764172907566,
          0.442103047465388
         ]
        },
        {
         "fill": "tonexty",
         "hoverlabel": {
          "namelength": 20
         },
         "line": {
          "color": "rgba(31, 119, 180, 0.40)",
          "width": 0.1
         },
         "mode": "lines",
         "name": "",
         "showlegend": false,
         "type": "scatter",
         "x": [
          89,
          289,
          490,
          691,
          892
         ],
         "y": [
          null,
          0.5152377485846438,
          0.5439489540035466,
          0.522265661581923,
          0.5193198759949019
         ]
        },
        {
         "line": {
          "color": "rgb(31, 119, 180)"
         },
         "name": "Train score",
         "showlegend": true,
         "type": "scatter",
         "x": [
          89,
          289,
          490,
          691,
          892
         ],
         "y": [
          null,
          0.453749815368384,
          0.5321474597901634,
          0.47862103943633977,
          0.48071146173014495
         ]
        },
        {
         "hoverlabel": {
          "namelength": 20
         },
         "line": {
          "color": "rgba(255, 127, 14, 0.40)",
          "width": 0.1
         },
         "mode": "lines",
         "name": "",
         "showlegend": false,
         "type": "scatter",
         "x": [
          89,
          289,
          490,
          691,
          892
         ],
         "y": [
          null,
          0.3104895546452932,
          0.3734579969313708,
          0.35694064216906124,
          0.348406653209377
         ]
        },
        {
         "fill": "tonexty",
         "hoverlabel": {
          "namelength": 20
         },
         "line": {
          "color": "rgba(255, 127, 14, 0.40)",
          "width": 0.1
         },
         "mode": "lines",
         "name": "",
         "showlegend": false,
         "type": "scatter",
         "x": [
          89,
          289,
          490,
          691,
          892
         ],
         "y": [
          null,
          0.44496919979110233,
          0.5696666375451996,
          0.4880359243600965,
          0.4462785396111876
         ]
        },
        {
         "line": {
          "color": "rgb(255, 127, 14)"
         },
         "name": "Test score",
         "showlegend": true,
         "type": "scatter",
         "x": [
          89,
          289,
          490,
          691,
          892
         ],
         "y": [
          null,
          0.37772937721819777,
          0.4715623172382852,
          0.4224882832645789,
          0.3973425964102823
         ]
        }
       ],
       "layout": {
        "autosize": true,
        "legend": {
         "x": 0.8,
         "y": 0
        },
        "template": {
         "data": {
          "bar": [
           {
            "error_x": {
             "color": "#2a3f5f"
            },
            "error_y": {
             "color": "#2a3f5f"
            },
            "marker": {
             "line": {
              "color": "#E5ECF6",
              "width": 0.5
             }
            },
            "type": "bar"
           }
          ],
          "barpolar": [
           {
            "marker": {
             "line": {
              "color": "#E5ECF6",
              "width": 0.5
             }
            },
            "type": "barpolar"
           }
          ],
          "carpet": [
           {
            "aaxis": {
             "endlinecolor": "#2a3f5f",
             "gridcolor": "white",
             "linecolor": "white",
             "minorgridcolor": "white",
             "startlinecolor": "#2a3f5f"
            },
            "baxis": {
             "endlinecolor": "#2a3f5f",
             "gridcolor": "white",
             "linecolor": "white",
             "minorgridcolor": "white",
             "startlinecolor": "#2a3f5f"
            },
            "type": "carpet"
           }
          ],
          "choropleth": [
           {
            "colorbar": {
             "outlinewidth": 0,
             "ticks": ""
            },
            "type": "choropleth"
           }
          ],
          "contour": [
           {
            "colorbar": {
             "outlinewidth": 0,
             "ticks": ""
            },
            "colorscale": [
             [
              0,
              "#0d0887"
             ],
             [
              0.1111111111111111,
              "#46039f"
             ],
             [
              0.2222222222222222,
              "#7201a8"
             ],
             [
              0.3333333333333333,
              "#9c179e"
             ],
             [
              0.4444444444444444,
              "#bd3786"
             ],
             [
              0.5555555555555556,
              "#d8576b"
             ],
             [
              0.6666666666666666,
              "#ed7953"
             ],
             [
              0.7777777777777778,
              "#fb9f3a"
             ],
             [
              0.8888888888888888,
              "#fdca26"
             ],
             [
              1,
              "#f0f921"
             ]
            ],
            "type": "contour"
           }
          ],
          "contourcarpet": [
           {
            "colorbar": {
             "outlinewidth": 0,
             "ticks": ""
            },
            "type": "contourcarpet"
           }
          ],
          "heatmap": [
           {
            "colorbar": {
             "outlinewidth": 0,
             "ticks": ""
            },
            "colorscale": [
             [
              0,
              "#0d0887"
             ],
             [
              0.1111111111111111,
              "#46039f"
             ],
             [
              0.2222222222222222,
              "#7201a8"
             ],
             [
              0.3333333333333333,
              "#9c179e"
             ],
             [
              0.4444444444444444,
              "#bd3786"
             ],
             [
              0.5555555555555556,
              "#d8576b"
             ],
             [
              0.6666666666666666,
              "#ed7953"
             ],
             [
              0.7777777777777778,
              "#fb9f3a"
             ],
             [
              0.8888888888888888,
              "#fdca26"
             ],
             [
              1,
              "#f0f921"
             ]
            ],
            "type": "heatmap"
           }
          ],
          "heatmapgl": [
           {
            "colorbar": {
             "outlinewidth": 0,
             "ticks": ""
            },
            "colorscale": [
             [
              0,
              "#0d0887"
             ],
             [
              0.1111111111111111,
              "#46039f"
             ],
             [
              0.2222222222222222,
              "#7201a8"
             ],
             [
              0.3333333333333333,
              "#9c179e"
             ],
             [
              0.4444444444444444,
              "#bd3786"
             ],
             [
              0.5555555555555556,
              "#d8576b"
             ],
             [
              0.6666666666666666,
              "#ed7953"
             ],
             [
              0.7777777777777778,
              "#fb9f3a"
             ],
             [
              0.8888888888888888,
              "#fdca26"
             ],
             [
              1,
              "#f0f921"
             ]
            ],
            "type": "heatmapgl"
           }
          ],
          "histogram": [
           {
            "marker": {
             "colorbar": {
              "outlinewidth": 0,
              "ticks": ""
             }
            },
            "type": "histogram"
           }
          ],
          "histogram2d": [
           {
            "colorbar": {
             "outlinewidth": 0,
             "ticks": ""
            },
            "colorscale": [
             [
              0,
              "#0d0887"
             ],
             [
              0.1111111111111111,
              "#46039f"
             ],
             [
              0.2222222222222222,
              "#7201a8"
             ],
             [
              0.3333333333333333,
              "#9c179e"
             ],
             [
              0.4444444444444444,
              "#bd3786"
             ],
             [
              0.5555555555555556,
              "#d8576b"
             ],
             [
              0.6666666666666666,
              "#ed7953"
             ],
             [
              0.7777777777777778,
              "#fb9f3a"
             ],
             [
              0.8888888888888888,
              "#fdca26"
             ],
             [
              1,
              "#f0f921"
             ]
            ],
            "type": "histogram2d"
           }
          ],
          "histogram2dcontour": [
           {
            "colorbar": {
             "outlinewidth": 0,
             "ticks": ""
            },
            "colorscale": [
             [
              0,
              "#0d0887"
             ],
             [
              0.1111111111111111,
              "#46039f"
             ],
             [
              0.2222222222222222,
              "#7201a8"
             ],
             [
              0.3333333333333333,
              "#9c179e"
             ],
             [
              0.4444444444444444,
              "#bd3786"
             ],
             [
              0.5555555555555556,
              "#d8576b"
             ],
             [
              0.6666666666666666,
              "#ed7953"
             ],
             [
              0.7777777777777778,
              "#fb9f3a"
             ],
             [
              0.8888888888888888,
              "#fdca26"
             ],
             [
              1,
              "#f0f921"
             ]
            ],
            "type": "histogram2dcontour"
           }
          ],
          "mesh3d": [
           {
            "colorbar": {
             "outlinewidth": 0,
             "ticks": ""
            },
            "type": "mesh3d"
           }
          ],
          "parcoords": [
           {
            "line": {
             "colorbar": {
              "outlinewidth": 0,
              "ticks": ""
             }
            },
            "type": "parcoords"
           }
          ],
          "pie": [
           {
            "automargin": true,
            "type": "pie"
           }
          ],
          "scatter": [
           {
            "marker": {
             "colorbar": {
              "outlinewidth": 0,
              "ticks": ""
             }
            },
            "type": "scatter"
           }
          ],
          "scatter3d": [
           {
            "line": {
             "colorbar": {
              "outlinewidth": 0,
              "ticks": ""
             }
            },
            "marker": {
             "colorbar": {
              "outlinewidth": 0,
              "ticks": ""
             }
            },
            "type": "scatter3d"
           }
          ],
          "scattercarpet": [
           {
            "marker": {
             "colorbar": {
              "outlinewidth": 0,
              "ticks": ""
             }
            },
            "type": "scattercarpet"
           }
          ],
          "scattergeo": [
           {
            "marker": {
             "colorbar": {
              "outlinewidth": 0,
              "ticks": ""
             }
            },
            "type": "scattergeo"
           }
          ],
          "scattergl": [
           {
            "marker": {
             "colorbar": {
              "outlinewidth": 0,
              "ticks": ""
             }
            },
            "type": "scattergl"
           }
          ],
          "scattermapbox": [
           {
            "marker": {
             "colorbar": {
              "outlinewidth": 0,
              "ticks": ""
             }
            },
            "type": "scattermapbox"
           }
          ],
          "scatterpolar": [
           {
            "marker": {
             "colorbar": {
              "outlinewidth": 0,
              "ticks": ""
             }
            },
            "type": "scatterpolar"
           }
          ],
          "scatterpolargl": [
           {
            "marker": {
             "colorbar": {
              "outlinewidth": 0,
              "ticks": ""
             }
            },
            "type": "scatterpolargl"
           }
          ],
          "scatterternary": [
           {
            "marker": {
             "colorbar": {
              "outlinewidth": 0,
              "ticks": ""
             }
            },
            "type": "scatterternary"
           }
          ],
          "surface": [
           {
            "colorbar": {
             "outlinewidth": 0,
             "ticks": ""
            },
            "colorscale": [
             [
              0,
              "#0d0887"
             ],
             [
              0.1111111111111111,
              "#46039f"
             ],
             [
              0.2222222222222222,
              "#7201a8"
             ],
             [
              0.3333333333333333,
              "#9c179e"
             ],
             [
              0.4444444444444444,
              "#bd3786"
             ],
             [
              0.5555555555555556,
              "#d8576b"
             ],
             [
              0.6666666666666666,
              "#ed7953"
             ],
             [
              0.7777777777777778,
              "#fb9f3a"
             ],
             [
              0.8888888888888888,
              "#fdca26"
             ],
             [
              1,
              "#f0f921"
             ]
            ],
            "type": "surface"
           }
          ],
          "table": [
           {
            "cells": {
             "fill": {
              "color": "#EBF0F8"
             },
             "line": {
              "color": "white"
             }
            },
            "header": {
             "fill": {
              "color": "#C8D4E3"
             },
             "line": {
              "color": "white"
             }
            },
            "type": "table"
           }
          ]
         },
         "layout": {
          "annotationdefaults": {
           "arrowcolor": "#2a3f5f",
           "arrowhead": 0,
           "arrowwidth": 1
          },
          "autotypenumbers": "strict",
          "coloraxis": {
           "colorbar": {
            "outlinewidth": 0,
            "ticks": ""
           }
          },
          "colorscale": {
           "diverging": [
            [
             0,
             "#8e0152"
            ],
            [
             0.1,
             "#c51b7d"
            ],
            [
             0.2,
             "#de77ae"
            ],
            [
             0.3,
             "#f1b6da"
            ],
            [
             0.4,
             "#fde0ef"
            ],
            [
             0.5,
             "#f7f7f7"
            ],
            [
             0.6,
             "#e6f5d0"
            ],
            [
             0.7,
             "#b8e186"
            ],
            [
             0.8,
             "#7fbc41"
            ],
            [
             0.9,
             "#4d9221"
            ],
            [
             1,
             "#276419"
            ]
           ],
           "sequential": [
            [
             0,
             "#0d0887"
            ],
            [
             0.1111111111111111,
             "#46039f"
            ],
            [
             0.2222222222222222,
             "#7201a8"
            ],
            [
             0.3333333333333333,
             "#9c179e"
            ],
            [
             0.4444444444444444,
             "#bd3786"
            ],
            [
             0.5555555555555556,
             "#d8576b"
            ],
            [
             0.6666666666666666,
             "#ed7953"
            ],
            [
             0.7777777777777778,
             "#fb9f3a"
            ],
            [
             0.8888888888888888,
             "#fdca26"
            ],
            [
             1,
             "#f0f921"
            ]
           ],
           "sequentialminus": [
            [
             0,
             "#0d0887"
            ],
            [
             0.1111111111111111,
             "#46039f"
            ],
            [
             0.2222222222222222,
             "#7201a8"
            ],
            [
             0.3333333333333333,
             "#9c179e"
            ],
            [
             0.4444444444444444,
             "#bd3786"
            ],
            [
             0.5555555555555556,
             "#d8576b"
            ],
            [
             0.6666666666666666,
             "#ed7953"
            ],
            [
             0.7777777777777778,
             "#fb9f3a"
            ],
            [
             0.8888888888888888,
             "#fdca26"
            ],
            [
             1,
             "#f0f921"
            ]
           ]
          },
          "colorway": [
           "#636efa",
           "#EF553B",
           "#00cc96",
           "#ab63fa",
           "#FFA15A",
           "#19d3f3",
           "#FF6692",
           "#B6E880",
           "#FF97FF",
           "#FECB52"
          ],
          "font": {
           "color": "#2a3f5f"
          },
          "geo": {
           "bgcolor": "white",
           "lakecolor": "white",
           "landcolor": "#E5ECF6",
           "showlakes": true,
           "showland": true,
           "subunitcolor": "white"
          },
          "hoverlabel": {
           "align": "left"
          },
          "hovermode": "closest",
          "mapbox": {
           "style": "light"
          },
          "paper_bgcolor": "white",
          "plot_bgcolor": "#E5ECF6",
          "polar": {
           "angularaxis": {
            "gridcolor": "white",
            "linecolor": "white",
            "ticks": ""
           },
           "bgcolor": "#E5ECF6",
           "radialaxis": {
            "gridcolor": "white",
            "linecolor": "white",
            "ticks": ""
           }
          },
          "scene": {
           "xaxis": {
            "backgroundcolor": "#E5ECF6",
            "gridcolor": "white",
            "gridwidth": 2,
            "linecolor": "white",
            "showbackground": true,
            "ticks": "",
            "zerolinecolor": "white"
           },
           "yaxis": {
            "backgroundcolor": "#E5ECF6",
            "gridcolor": "white",
            "gridwidth": 2,
            "linecolor": "white",
            "showbackground": true,
            "ticks": "",
            "zerolinecolor": "white"
           },
           "zaxis": {
            "backgroundcolor": "#E5ECF6",
            "gridcolor": "white",
            "gridwidth": 2,
            "linecolor": "white",
            "showbackground": true,
            "ticks": "",
            "zerolinecolor": "white"
           }
          },
          "shapedefaults": {
           "line": {
            "color": "#2a3f5f"
           }
          },
          "ternary": {
           "aaxis": {
            "gridcolor": "white",
            "linecolor": "white",
            "ticks": ""
           },
           "baxis": {
            "gridcolor": "white",
            "linecolor": "white",
            "ticks": ""
           },
           "bgcolor": "#E5ECF6",
           "caxis": {
            "gridcolor": "white",
            "linecolor": "white",
            "ticks": ""
           }
          },
          "title": {
           "x": 0.05
          },
          "xaxis": {
           "automargin": true,
           "gridcolor": "white",
           "linecolor": "white",
           "ticks": "",
           "title": {
            "standoff": 15
           },
           "zerolinecolor": "white",
           "zerolinewidth": 2
          },
          "yaxis": {
           "automargin": true,
           "gridcolor": "white",
           "linecolor": "white",
           "ticks": "",
           "title": {
            "standoff": 15
           },
           "zerolinecolor": "white",
           "zerolinewidth": 2
          }
         }
        },
        "title": {
         "text": "Learning Curve of KNN with uniform weights"
        },
        "xaxis": {
         "title": {
          "text": "#Training samples"
         }
        },
        "yaxis": {
         "title": {
          "text": "F1 Score"
         }
        }
       }
      },
      "text/html": [
       "<div>                            <div id=\"f04d65bd-cb87-4bfc-9cd7-1648364a5593\" class=\"plotly-graph-div\" style=\"height:525px; width:100%;\"></div>            <script type=\"text/javascript\">                require([\"plotly\"], function(Plotly) {                    window.PLOTLYENV=window.PLOTLYENV || {};                                    if (document.getElementById(\"f04d65bd-cb87-4bfc-9cd7-1648364a5593\")) {                    Plotly.newPlot(                        \"f04d65bd-cb87-4bfc-9cd7-1648364a5593\",                        [{\"hoverlabel\": {\"namelength\": 20}, \"line\": {\"color\": \"rgba(31, 119, 180, 0.40)\", \"width\": 0.1}, \"mode\": \"lines\", \"name\": \"\", \"showlegend\": false, \"type\": \"scatter\", \"x\": [89, 289, 490, 691, 892], \"y\": [null, 0.39226188215212426, 0.5203459655767803, 0.4349764172907566, 0.442103047465388]}, {\"fill\": \"tonexty\", \"hoverlabel\": {\"namelength\": 20}, \"line\": {\"color\": \"rgba(31, 119, 180, 0.40)\", \"width\": 0.1}, \"mode\": \"lines\", \"name\": \"\", \"showlegend\": false, \"type\": \"scatter\", \"x\": [89, 289, 490, 691, 892], \"y\": [null, 0.5152377485846438, 0.5439489540035466, 0.522265661581923, 0.5193198759949019]}, {\"line\": {\"color\": \"rgb(31, 119, 180)\"}, \"name\": \"Train score\", \"showlegend\": true, \"type\": \"scatter\", \"x\": [89, 289, 490, 691, 892], \"y\": [null, 0.453749815368384, 0.5321474597901634, 0.47862103943633977, 0.48071146173014495]}, {\"hoverlabel\": {\"namelength\": 20}, \"line\": {\"color\": \"rgba(255, 127, 14, 0.40)\", \"width\": 0.1}, \"mode\": \"lines\", \"name\": \"\", \"showlegend\": false, \"type\": \"scatter\", \"x\": [89, 289, 490, 691, 892], \"y\": [null, 0.3104895546452932, 0.3734579969313708, 0.35694064216906124, 0.348406653209377]}, {\"fill\": \"tonexty\", \"hoverlabel\": {\"namelength\": 20}, \"line\": {\"color\": \"rgba(255, 127, 14, 0.40)\", \"width\": 0.1}, \"mode\": \"lines\", \"name\": \"\", \"showlegend\": false, \"type\": \"scatter\", \"x\": [89, 289, 490, 691, 892], \"y\": [null, 0.44496919979110233, 0.5696666375451996, 0.4880359243600965, 0.4462785396111876]}, {\"line\": {\"color\": \"rgb(255, 127, 14)\"}, \"name\": \"Test score\", \"showlegend\": true, \"type\": \"scatter\", \"x\": [89, 289, 490, 691, 892], \"y\": [null, 0.37772937721819777, 0.4715623172382852, 0.4224882832645789, 0.3973425964102823]}],                        {\"autosize\": true, \"legend\": {\"x\": 0.8, \"y\": 0}, \"template\": {\"data\": {\"bar\": [{\"error_x\": {\"color\": \"#2a3f5f\"}, \"error_y\": {\"color\": \"#2a3f5f\"}, \"marker\": {\"line\": {\"color\": \"#E5ECF6\", \"width\": 0.5}}, \"type\": \"bar\"}], \"barpolar\": [{\"marker\": {\"line\": {\"color\": \"#E5ECF6\", \"width\": 0.5}}, \"type\": \"barpolar\"}], \"carpet\": [{\"aaxis\": {\"endlinecolor\": \"#2a3f5f\", \"gridcolor\": \"white\", \"linecolor\": \"white\", \"minorgridcolor\": \"white\", \"startlinecolor\": \"#2a3f5f\"}, \"baxis\": {\"endlinecolor\": \"#2a3f5f\", \"gridcolor\": \"white\", \"linecolor\": \"white\", \"minorgridcolor\": \"white\", \"startlinecolor\": \"#2a3f5f\"}, \"type\": \"carpet\"}], \"choropleth\": [{\"colorbar\": {\"outlinewidth\": 0, \"ticks\": \"\"}, \"type\": \"choropleth\"}], \"contour\": [{\"colorbar\": {\"outlinewidth\": 0, \"ticks\": \"\"}, \"colorscale\": [[0.0, \"#0d0887\"], [0.1111111111111111, \"#46039f\"], [0.2222222222222222, \"#7201a8\"], [0.3333333333333333, \"#9c179e\"], [0.4444444444444444, \"#bd3786\"], [0.5555555555555556, \"#d8576b\"], [0.6666666666666666, \"#ed7953\"], [0.7777777777777778, \"#fb9f3a\"], [0.8888888888888888, \"#fdca26\"], [1.0, \"#f0f921\"]], \"type\": \"contour\"}], \"contourcarpet\": [{\"colorbar\": {\"outlinewidth\": 0, \"ticks\": \"\"}, \"type\": \"contourcarpet\"}], \"heatmap\": [{\"colorbar\": {\"outlinewidth\": 0, \"ticks\": \"\"}, \"colorscale\": [[0.0, \"#0d0887\"], [0.1111111111111111, \"#46039f\"], [0.2222222222222222, \"#7201a8\"], [0.3333333333333333, \"#9c179e\"], [0.4444444444444444, \"#bd3786\"], [0.5555555555555556, \"#d8576b\"], [0.6666666666666666, \"#ed7953\"], [0.7777777777777778, \"#fb9f3a\"], [0.8888888888888888, \"#fdca26\"], [1.0, \"#f0f921\"]], \"type\": \"heatmap\"}], \"heatmapgl\": [{\"colorbar\": {\"outlinewidth\": 0, \"ticks\": \"\"}, \"colorscale\": [[0.0, \"#0d0887\"], [0.1111111111111111, \"#46039f\"], [0.2222222222222222, \"#7201a8\"], [0.3333333333333333, \"#9c179e\"], [0.4444444444444444, \"#bd3786\"], [0.5555555555555556, \"#d8576b\"], [0.6666666666666666, \"#ed7953\"], [0.7777777777777778, \"#fb9f3a\"], [0.8888888888888888, \"#fdca26\"], [1.0, \"#f0f921\"]], \"type\": \"heatmapgl\"}], \"histogram\": [{\"marker\": {\"colorbar\": {\"outlinewidth\": 0, \"ticks\": \"\"}}, \"type\": \"histogram\"}], \"histogram2d\": [{\"colorbar\": {\"outlinewidth\": 0, \"ticks\": \"\"}, \"colorscale\": [[0.0, \"#0d0887\"], [0.1111111111111111, \"#46039f\"], [0.2222222222222222, \"#7201a8\"], [0.3333333333333333, \"#9c179e\"], [0.4444444444444444, \"#bd3786\"], [0.5555555555555556, \"#d8576b\"], [0.6666666666666666, \"#ed7953\"], [0.7777777777777778, \"#fb9f3a\"], [0.8888888888888888, \"#fdca26\"], [1.0, \"#f0f921\"]], \"type\": \"histogram2d\"}], \"histogram2dcontour\": [{\"colorbar\": {\"outlinewidth\": 0, \"ticks\": \"\"}, \"colorscale\": [[0.0, \"#0d0887\"], [0.1111111111111111, \"#46039f\"], [0.2222222222222222, \"#7201a8\"], [0.3333333333333333, \"#9c179e\"], [0.4444444444444444, \"#bd3786\"], [0.5555555555555556, \"#d8576b\"], [0.6666666666666666, \"#ed7953\"], [0.7777777777777778, \"#fb9f3a\"], [0.8888888888888888, \"#fdca26\"], [1.0, \"#f0f921\"]], \"type\": \"histogram2dcontour\"}], \"mesh3d\": [{\"colorbar\": {\"outlinewidth\": 0, \"ticks\": \"\"}, \"type\": \"mesh3d\"}], \"parcoords\": [{\"line\": {\"colorbar\": {\"outlinewidth\": 0, \"ticks\": \"\"}}, \"type\": \"parcoords\"}], \"pie\": [{\"automargin\": true, \"type\": \"pie\"}], \"scatter\": [{\"marker\": {\"colorbar\": {\"outlinewidth\": 0, \"ticks\": \"\"}}, \"type\": \"scatter\"}], \"scatter3d\": [{\"line\": {\"colorbar\": {\"outlinewidth\": 0, \"ticks\": \"\"}}, \"marker\": {\"colorbar\": {\"outlinewidth\": 0, \"ticks\": \"\"}}, \"type\": \"scatter3d\"}], \"scattercarpet\": [{\"marker\": {\"colorbar\": {\"outlinewidth\": 0, \"ticks\": \"\"}}, \"type\": \"scattercarpet\"}], \"scattergeo\": [{\"marker\": {\"colorbar\": {\"outlinewidth\": 0, \"ticks\": \"\"}}, \"type\": \"scattergeo\"}], \"scattergl\": [{\"marker\": {\"colorbar\": {\"outlinewidth\": 0, \"ticks\": \"\"}}, \"type\": \"scattergl\"}], \"scattermapbox\": [{\"marker\": {\"colorbar\": {\"outlinewidth\": 0, \"ticks\": \"\"}}, \"type\": \"scattermapbox\"}], \"scatterpolar\": [{\"marker\": {\"colorbar\": {\"outlinewidth\": 0, \"ticks\": \"\"}}, \"type\": \"scatterpolar\"}], \"scatterpolargl\": [{\"marker\": {\"colorbar\": {\"outlinewidth\": 0, \"ticks\": \"\"}}, \"type\": \"scatterpolargl\"}], \"scatterternary\": [{\"marker\": {\"colorbar\": {\"outlinewidth\": 0, \"ticks\": \"\"}}, \"type\": \"scatterternary\"}], \"surface\": [{\"colorbar\": {\"outlinewidth\": 0, \"ticks\": \"\"}, \"colorscale\": [[0.0, \"#0d0887\"], [0.1111111111111111, \"#46039f\"], [0.2222222222222222, \"#7201a8\"], [0.3333333333333333, \"#9c179e\"], [0.4444444444444444, \"#bd3786\"], [0.5555555555555556, \"#d8576b\"], [0.6666666666666666, \"#ed7953\"], [0.7777777777777778, \"#fb9f3a\"], [0.8888888888888888, \"#fdca26\"], [1.0, \"#f0f921\"]], \"type\": \"surface\"}], \"table\": [{\"cells\": {\"fill\": {\"color\": \"#EBF0F8\"}, \"line\": {\"color\": \"white\"}}, \"header\": {\"fill\": {\"color\": \"#C8D4E3\"}, \"line\": {\"color\": \"white\"}}, \"type\": \"table\"}]}, \"layout\": {\"annotationdefaults\": {\"arrowcolor\": \"#2a3f5f\", \"arrowhead\": 0, \"arrowwidth\": 1}, \"autotypenumbers\": \"strict\", \"coloraxis\": {\"colorbar\": {\"outlinewidth\": 0, \"ticks\": \"\"}}, \"colorscale\": {\"diverging\": [[0, \"#8e0152\"], [0.1, \"#c51b7d\"], [0.2, \"#de77ae\"], [0.3, \"#f1b6da\"], [0.4, \"#fde0ef\"], [0.5, \"#f7f7f7\"], [0.6, \"#e6f5d0\"], [0.7, \"#b8e186\"], [0.8, \"#7fbc41\"], [0.9, \"#4d9221\"], [1, \"#276419\"]], \"sequential\": [[0.0, \"#0d0887\"], [0.1111111111111111, \"#46039f\"], [0.2222222222222222, \"#7201a8\"], [0.3333333333333333, \"#9c179e\"], [0.4444444444444444, \"#bd3786\"], [0.5555555555555556, \"#d8576b\"], [0.6666666666666666, \"#ed7953\"], [0.7777777777777778, \"#fb9f3a\"], [0.8888888888888888, \"#fdca26\"], [1.0, \"#f0f921\"]], \"sequentialminus\": [[0.0, \"#0d0887\"], [0.1111111111111111, \"#46039f\"], [0.2222222222222222, \"#7201a8\"], [0.3333333333333333, \"#9c179e\"], [0.4444444444444444, \"#bd3786\"], [0.5555555555555556, \"#d8576b\"], [0.6666666666666666, \"#ed7953\"], [0.7777777777777778, \"#fb9f3a\"], [0.8888888888888888, \"#fdca26\"], [1.0, \"#f0f921\"]]}, \"colorway\": [\"#636efa\", \"#EF553B\", \"#00cc96\", \"#ab63fa\", \"#FFA15A\", \"#19d3f3\", \"#FF6692\", \"#B6E880\", \"#FF97FF\", \"#FECB52\"], \"font\": {\"color\": \"#2a3f5f\"}, \"geo\": {\"bgcolor\": \"white\", \"lakecolor\": \"white\", \"landcolor\": \"#E5ECF6\", \"showlakes\": true, \"showland\": true, \"subunitcolor\": \"white\"}, \"hoverlabel\": {\"align\": \"left\"}, \"hovermode\": \"closest\", \"mapbox\": {\"style\": \"light\"}, \"paper_bgcolor\": \"white\", \"plot_bgcolor\": \"#E5ECF6\", \"polar\": {\"angularaxis\": {\"gridcolor\": \"white\", \"linecolor\": \"white\", \"ticks\": \"\"}, \"bgcolor\": \"#E5ECF6\", \"radialaxis\": {\"gridcolor\": \"white\", \"linecolor\": \"white\", \"ticks\": \"\"}}, \"scene\": {\"xaxis\": {\"backgroundcolor\": \"#E5ECF6\", \"gridcolor\": \"white\", \"gridwidth\": 2, \"linecolor\": \"white\", \"showbackground\": true, \"ticks\": \"\", \"zerolinecolor\": \"white\"}, \"yaxis\": {\"backgroundcolor\": \"#E5ECF6\", \"gridcolor\": \"white\", \"gridwidth\": 2, \"linecolor\": \"white\", \"showbackground\": true, \"ticks\": \"\", \"zerolinecolor\": \"white\"}, \"zaxis\": {\"backgroundcolor\": \"#E5ECF6\", \"gridcolor\": \"white\", \"gridwidth\": 2, \"linecolor\": \"white\", \"showbackground\": true, \"ticks\": \"\", \"zerolinecolor\": \"white\"}}, \"shapedefaults\": {\"line\": {\"color\": \"#2a3f5f\"}}, \"ternary\": {\"aaxis\": {\"gridcolor\": \"white\", \"linecolor\": \"white\", \"ticks\": \"\"}, \"baxis\": {\"gridcolor\": \"white\", \"linecolor\": \"white\", \"ticks\": \"\"}, \"bgcolor\": \"#E5ECF6\", \"caxis\": {\"gridcolor\": \"white\", \"linecolor\": \"white\", \"ticks\": \"\"}}, \"title\": {\"x\": 0.05}, \"xaxis\": {\"automargin\": true, \"gridcolor\": \"white\", \"linecolor\": \"white\", \"ticks\": \"\", \"title\": {\"standoff\": 15}, \"zerolinecolor\": \"white\", \"zerolinewidth\": 2}, \"yaxis\": {\"automargin\": true, \"gridcolor\": \"white\", \"linecolor\": \"white\", \"ticks\": \"\", \"title\": {\"standoff\": 15}, \"zerolinecolor\": \"white\", \"zerolinewidth\": 2}}}, \"title\": {\"text\": \"Learning Curve of KNN with uniform weights\"}, \"xaxis\": {\"title\": {\"text\": \"#Training samples\"}}, \"yaxis\": {\"title\": {\"text\": \"F1 Score\"}}},                        {\"responsive\": true}                    ).then(function(){\n",
       "                            \n",
       "var gd = document.getElementById('f04d65bd-cb87-4bfc-9cd7-1648364a5593');\n",
       "var x = new MutationObserver(function (mutations, observer) {{\n",
       "        var display = window.getComputedStyle(gd).display;\n",
       "        if (!display || display === 'none') {{\n",
       "            console.log([gd, 'removed!']);\n",
       "            Plotly.purge(gd);\n",
       "            observer.disconnect();\n",
       "        }}\n",
       "}});\n",
       "\n",
       "// Listen for the removal of the full notebook cells\n",
       "var notebookContainer = gd.closest('#notebook-container');\n",
       "if (notebookContainer) {{\n",
       "    x.observe(notebookContainer, {childList: true});\n",
       "}}\n",
       "\n",
       "// Listen for the clearing of the current output cell\n",
       "var outputEl = gd.closest('.output');\n",
       "if (outputEl) {{\n",
       "    x.observe(outputEl, {childList: true});\n",
       "}}\n",
       "\n",
       "                        })                };                });            </script>        </div>"
      ]
     },
     "metadata": {},
     "output_type": "display_data"
    }
   ],
   "source": [
    "plot_learning_curve(gs_knn_uniform.best_estimator_, \"Learning Curve of KNN with uniform weights\", X_train, y_train, cv=5)"
   ]
  },
  {
   "cell_type": "markdown",
   "metadata": {},
   "source": [
    "### Evaluation of Support Vector Machine (SVM) Using Grid Search, Confusion Matrix, and Learning Curve\n",
    "\n",
    "These 5 next boxes evaluate a Support Vector Machine (SVM) classifier using hyperparameter tuning, performance analysis, and visualization through grid search with cross-validation, confusion matrix, and learning curve plotting.\n",
    "\n",
    "#### Key Steps and Explanation:\n",
    "\n",
    "1.  **Model Setup and Grid Search**:\n",
    "    \n",
    "    *   **Support Vector Machine Classifier**\n",
    "        \n",
    "        *   Initializes an SVM classifier with the option to estimate class probabilities (`probability=True`), enabling probabilistic interpretation of predictions.\n",
    "    *   **Grid Search with Cross-Validation**\n",
    "        \n",
    "        *   Conducts a grid search with cross-validation to optimize the SVM model's hyperparameters specified in `SVM_PARAMS`, which includes various configurations of kernel types and parameters such as `C` (regularization) and `gamma` (kernel coefficient).\n",
    "        *   Uses Stratified K-Fold (`kf`) for balanced cross-validation and incorporates SMOTE to handle class imbalance by generating synthetic samples for the minority class.\n",
    "    *   **Best Scores and Parameters**\n",
    "        \n",
    "        *   Prints the top grid search results, displaying the best validation scores along with their associated hyperparameters, helping identify the most effective model configuration.\n",
    "2.  **Model Evaluation on Test Set**:\n",
    "    \n",
    "    *   **Score and Predictions**\n",
    "        \n",
    "        *   Evaluates the optimized SVM model on the test set, returning the performance score and generating predictions.\n",
    "    *   **Confusion Matrix Calculation**\n",
    "        \n",
    "        *   Constructs a confusion matrix for the SVM model predictions, then normalizes it to display the values as proportions relative to the true class totals. This normalization helps assess the model's performance across different classes on an equal footing.\n",
    "    *   **Confusion Matrix DataFrame**\n",
    "        \n",
    "        *   Converts the normalized confusion matrix into a DataFrame with meaningful labels:\n",
    "            *   Rows represent actual classes: \"true no churn\" and \"true churn\".\n",
    "            *   Columns represent predicted classes: \"predicted no churn\" and \"predicted churn\".\n",
    "        *   This format provides clear insights into how accurately the model predicts each class, particularly in churn prediction contexts.\n",
    "3.  **Learning Curve Visualization**:\n",
    "    \n",
    "    *   **Plotting Learning Curve**\n",
    "        \n",
    "        *   Generates a learning curve for the best SVM model found through grid search.\n",
    "        *   **Purpose**: Displays the model's performance on both the training and validation sets across different training set sizes, offering insights into how the SVM model's accuracy evolves with more data. This plot helps identify overfitting (where the training accuracy is high but validation accuracy is low) or underfitting (where both accuracies are low), facilitating better model adjustments.\n",
    "\n",
    "#### Overall Workflow:\n",
    "\n",
    "*   These codes systematically optimize and evaluate an SVM classifier using grid search with cross-validation and SMOTE for handling imbalanced data. They assess the classifier's predictive power on the test set through a normalized confusion matrix and visualize the learning process using a learning curve plot, providing a comprehensive understanding of the model's performance and generalization capability."
   ]
  },
  {
   "cell_type": "code",
   "execution_count": 44,
   "metadata": {},
   "outputs": [
    {
     "name": "stdout",
     "output_type": "stream",
     "text": [
      "Best grid scores on validation set:\n",
      "0.559 (+/-0.148) for {'clf__C': 10, 'clf__kernel': 'linear'}\n",
      "0.558 (+/-0.146) for {'clf__C': 1, 'clf__kernel': 'linear'}\n",
      "0.557 (+/-0.158) for {'clf__C': 0.1, 'clf__kernel': 'linear'}\n",
      "0.543 (+/-0.198) for {'clf__C': 0.1, 'clf__gamma': 0.1, 'clf__kernel': 'rbf'}\n",
      "0.543 (+/-0.173) for {'clf__C': 10, 'clf__gamma': 0.01, 'clf__kernel': 'rbf'}\n",
      "0.542 (+/-0.203) for {'clf__C': 1, 'clf__gamma': 0.01, 'clf__kernel': 'rbf'}\n",
      "0.522 (+/-0.225) for {'clf__C': 0.1, 'clf__gamma': 0.01, 'clf__kernel': 'rbf'}\n",
      "0.519 (+/-0.279) for {'clf__C': 1, 'clf__gamma': 0.1, 'clf__kernel': 'rbf'}\n",
      "0.501 (+/-0.191) for {'clf__C': 100, 'clf__gamma': 0.01, 'clf__kernel': 'rbf'}\n",
      "0.445 (+/-0.189) for {'clf__C': 0.01, 'clf__gamma': 0.1, 'clf__kernel': 'rbf'}\n",
      "Wall time: 1min 59s\n"
     ]
    }
   ],
   "source": [
    "%%time\n",
    "clf_svm = svm.SVC(random_state=SEED, probability=True)\n",
    "gs_svm = do_gridsearch_with_cv(clf_svm, SVM_PARAMS, X_train, y_train, kf, smote=sm)\n",
    "print_best_grid_search_scores_with_params(gs_svm)"
   ]
  },
  {
   "cell_type": "code",
   "execution_count": 45,
   "metadata": {},
   "outputs": [],
   "source": [
    "gs_svm_score = gs_svm.score(X_test, y_test)\n",
    "y_pred_svm = gs_svm.predict(X_test)\n",
    "cm_svm = confusion_matrix(y_test, y_pred_svm)\n",
    "cm_svm = cm_svm.astype('float') / cm_svm.sum(axis=1)[:, np.newaxis] # normalize the confusion matrix"
   ]
  },
  {
   "cell_type": "code",
   "execution_count": 46,
   "metadata": {},
   "outputs": [
    {
     "data": {
      "text/html": [
       "<div>\n",
       "<style scoped>\n",
       "    .dataframe tbody tr th:only-of-type {\n",
       "        vertical-align: middle;\n",
       "    }\n",
       "\n",
       "    .dataframe tbody tr th {\n",
       "        vertical-align: top;\n",
       "    }\n",
       "\n",
       "    .dataframe thead th {\n",
       "        text-align: right;\n",
       "    }\n",
       "</style>\n",
       "<table border=\"1\" class=\"dataframe\">\n",
       "  <thead>\n",
       "    <tr style=\"text-align: right;\">\n",
       "      <th></th>\n",
       "      <th>predicted no churn</th>\n",
       "      <th>predicted churn</th>\n",
       "    </tr>\n",
       "  </thead>\n",
       "  <tbody>\n",
       "    <tr>\n",
       "      <th>true no churn</th>\n",
       "      <td>0.881</td>\n",
       "      <td>0.119</td>\n",
       "    </tr>\n",
       "    <tr>\n",
       "      <th>true churn</th>\n",
       "      <td>0.308</td>\n",
       "      <td>0.692</td>\n",
       "    </tr>\n",
       "  </tbody>\n",
       "</table>\n",
       "</div>"
      ],
      "text/plain": [
       "               predicted no churn  predicted churn\n",
       "true no churn               0.881            0.119\n",
       "true churn                  0.308            0.692"
      ]
     },
     "execution_count": 46,
     "metadata": {},
     "output_type": "execute_result"
    }
   ],
   "source": [
    "cm_df4 = pd.DataFrame(cm_svm.round(3), index=[\"true no churn\", \"true churn\"], columns=[\"predicted no churn\", \"predicted churn\"])\n",
    "cm_df4"
   ]
  },
  {
   "cell_type": "code",
   "execution_count": 47,
   "metadata": {},
   "outputs": [
    {
     "data": {
      "text/html": [
       "<div>\n",
       "<style scoped>\n",
       "    .dataframe tbody tr th:only-of-type {\n",
       "        vertical-align: middle;\n",
       "    }\n",
       "\n",
       "    .dataframe tbody tr th {\n",
       "        vertical-align: top;\n",
       "    }\n",
       "\n",
       "    .dataframe thead th {\n",
       "        text-align: right;\n",
       "    }\n",
       "</style>\n",
       "<table border=\"1\" class=\"dataframe\">\n",
       "  <thead>\n",
       "    <tr style=\"text-align: right;\">\n",
       "      <th></th>\n",
       "      <th>predicted no Fraud</th>\n",
       "      <th>predicted Fraud</th>\n",
       "    </tr>\n",
       "  </thead>\n",
       "  <tbody>\n",
       "    <tr>\n",
       "      <th>true no Fraud</th>\n",
       "      <td>0.881</td>\n",
       "      <td>0.119</td>\n",
       "    </tr>\n",
       "    <tr>\n",
       "      <th>true Fraud</th>\n",
       "      <td>0.308</td>\n",
       "      <td>0.692</td>\n",
       "    </tr>\n",
       "  </tbody>\n",
       "</table>\n",
       "</div>"
      ],
      "text/plain": [
       "               predicted no Fraud  predicted Fraud\n",
       "true no Fraud               0.881            0.119\n",
       "true Fraud                  0.308            0.692"
      ]
     },
     "execution_count": 47,
     "metadata": {},
     "output_type": "execute_result"
    }
   ],
   "source": [
    "pd.DataFrame(cm_svm.round(3), index=[\"true no Fraud\", \"true Fraud\"], columns=[\"predicted no Fraud\", \"predicted Fraud\"])"
   ]
  },
  {
   "cell_type": "code",
   "execution_count": 48,
   "metadata": {},
   "outputs": [
    {
     "data": {
      "application/vnd.plotly.v1+json": {
       "config": {
        "linkText": "Export to plot.ly",
        "plotlyServerURL": "https://plot.ly",
        "showLink": false
       },
       "data": [
        {
         "hoverlabel": {
          "namelength": 20
         },
         "line": {
          "color": "rgba(31, 119, 180, 0.40)",
          "width": 0.1
         },
         "mode": "lines",
         "name": "",
         "showlegend": false,
         "type": "scatter",
         "x": [
          89,
          289,
          490,
          691,
          892
         ],
         "y": [
          null,
          0.5874168567240179,
          0.622870277965385,
          0.5705279120358002,
          0.5690649657942507
         ]
        },
        {
         "fill": "tonexty",
         "hoverlabel": {
          "namelength": 20
         },
         "line": {
          "color": "rgba(31, 119, 180, 0.40)",
          "width": 0.1
         },
         "mode": "lines",
         "name": "",
         "showlegend": false,
         "type": "scatter",
         "x": [
          89,
          289,
          490,
          691,
          892
         ],
         "y": [
          null,
          0.6699941125596565,
          0.6363499039002478,
          0.6089021306951901,
          0.6145750842260483
         ]
        },
        {
         "line": {
          "color": "rgb(31, 119, 180)"
         },
         "name": "Train score",
         "showlegend": true,
         "type": "scatter",
         "x": [
          89,
          289,
          490,
          691,
          892
         ],
         "y": [
          null,
          0.6287054846418372,
          0.6296100909328164,
          0.5897150213654951,
          0.5918200250101495
         ]
        },
        {
         "hoverlabel": {
          "namelength": 20
         },
         "line": {
          "color": "rgba(255, 127, 14, 0.40)",
          "width": 0.1
         },
         "mode": "lines",
         "name": "",
         "showlegend": false,
         "type": "scatter",
         "x": [
          89,
          289,
          490,
          691,
          892
         ],
         "y": [
          null,
          0.3419805195231782,
          0.40944319589161754,
          0.454662870306894,
          0.4869185135700564
         ]
        },
        {
         "fill": "tonexty",
         "hoverlabel": {
          "namelength": 20
         },
         "line": {
          "color": "rgba(255, 127, 14, 0.40)",
          "width": 0.1
         },
         "mode": "lines",
         "name": "",
         "showlegend": false,
         "type": "scatter",
         "x": [
          89,
          289,
          490,
          691,
          892
         ],
         "y": [
          null,
          0.5353108271230073,
          0.5574439693332274,
          0.5712644334209211,
          0.5531652271092766
         ]
        },
        {
         "line": {
          "color": "rgb(255, 127, 14)"
         },
         "name": "Test score",
         "showlegend": true,
         "type": "scatter",
         "x": [
          89,
          289,
          490,
          691,
          892
         ],
         "y": [
          null,
          0.43864567332309273,
          0.48344358261242243,
          0.5129636518639076,
          0.5200418703396665
         ]
        }
       ],
       "layout": {
        "autosize": true,
        "legend": {
         "x": 0.8,
         "y": 0
        },
        "template": {
         "data": {
          "bar": [
           {
            "error_x": {
             "color": "#2a3f5f"
            },
            "error_y": {
             "color": "#2a3f5f"
            },
            "marker": {
             "line": {
              "color": "#E5ECF6",
              "width": 0.5
             }
            },
            "type": "bar"
           }
          ],
          "barpolar": [
           {
            "marker": {
             "line": {
              "color": "#E5ECF6",
              "width": 0.5
             }
            },
            "type": "barpolar"
           }
          ],
          "carpet": [
           {
            "aaxis": {
             "endlinecolor": "#2a3f5f",
             "gridcolor": "white",
             "linecolor": "white",
             "minorgridcolor": "white",
             "startlinecolor": "#2a3f5f"
            },
            "baxis": {
             "endlinecolor": "#2a3f5f",
             "gridcolor": "white",
             "linecolor": "white",
             "minorgridcolor": "white",
             "startlinecolor": "#2a3f5f"
            },
            "type": "carpet"
           }
          ],
          "choropleth": [
           {
            "colorbar": {
             "outlinewidth": 0,
             "ticks": ""
            },
            "type": "choropleth"
           }
          ],
          "contour": [
           {
            "colorbar": {
             "outlinewidth": 0,
             "ticks": ""
            },
            "colorscale": [
             [
              0,
              "#0d0887"
             ],
             [
              0.1111111111111111,
              "#46039f"
             ],
             [
              0.2222222222222222,
              "#7201a8"
             ],
             [
              0.3333333333333333,
              "#9c179e"
             ],
             [
              0.4444444444444444,
              "#bd3786"
             ],
             [
              0.5555555555555556,
              "#d8576b"
             ],
             [
              0.6666666666666666,
              "#ed7953"
             ],
             [
              0.7777777777777778,
              "#fb9f3a"
             ],
             [
              0.8888888888888888,
              "#fdca26"
             ],
             [
              1,
              "#f0f921"
             ]
            ],
            "type": "contour"
           }
          ],
          "contourcarpet": [
           {
            "colorbar": {
             "outlinewidth": 0,
             "ticks": ""
            },
            "type": "contourcarpet"
           }
          ],
          "heatmap": [
           {
            "colorbar": {
             "outlinewidth": 0,
             "ticks": ""
            },
            "colorscale": [
             [
              0,
              "#0d0887"
             ],
             [
              0.1111111111111111,
              "#46039f"
             ],
             [
              0.2222222222222222,
              "#7201a8"
             ],
             [
              0.3333333333333333,
              "#9c179e"
             ],
             [
              0.4444444444444444,
              "#bd3786"
             ],
             [
              0.5555555555555556,
              "#d8576b"
             ],
             [
              0.6666666666666666,
              "#ed7953"
             ],
             [
              0.7777777777777778,
              "#fb9f3a"
             ],
             [
              0.8888888888888888,
              "#fdca26"
             ],
             [
              1,
              "#f0f921"
             ]
            ],
            "type": "heatmap"
           }
          ],
          "heatmapgl": [
           {
            "colorbar": {
             "outlinewidth": 0,
             "ticks": ""
            },
            "colorscale": [
             [
              0,
              "#0d0887"
             ],
             [
              0.1111111111111111,
              "#46039f"
             ],
             [
              0.2222222222222222,
              "#7201a8"
             ],
             [
              0.3333333333333333,
              "#9c179e"
             ],
             [
              0.4444444444444444,
              "#bd3786"
             ],
             [
              0.5555555555555556,
              "#d8576b"
             ],
             [
              0.6666666666666666,
              "#ed7953"
             ],
             [
              0.7777777777777778,
              "#fb9f3a"
             ],
             [
              0.8888888888888888,
              "#fdca26"
             ],
             [
              1,
              "#f0f921"
             ]
            ],
            "type": "heatmapgl"
           }
          ],
          "histogram": [
           {
            "marker": {
             "colorbar": {
              "outlinewidth": 0,
              "ticks": ""
             }
            },
            "type": "histogram"
           }
          ],
          "histogram2d": [
           {
            "colorbar": {
             "outlinewidth": 0,
             "ticks": ""
            },
            "colorscale": [
             [
              0,
              "#0d0887"
             ],
             [
              0.1111111111111111,
              "#46039f"
             ],
             [
              0.2222222222222222,
              "#7201a8"
             ],
             [
              0.3333333333333333,
              "#9c179e"
             ],
             [
              0.4444444444444444,
              "#bd3786"
             ],
             [
              0.5555555555555556,
              "#d8576b"
             ],
             [
              0.6666666666666666,
              "#ed7953"
             ],
             [
              0.7777777777777778,
              "#fb9f3a"
             ],
             [
              0.8888888888888888,
              "#fdca26"
             ],
             [
              1,
              "#f0f921"
             ]
            ],
            "type": "histogram2d"
           }
          ],
          "histogram2dcontour": [
           {
            "colorbar": {
             "outlinewidth": 0,
             "ticks": ""
            },
            "colorscale": [
             [
              0,
              "#0d0887"
             ],
             [
              0.1111111111111111,
              "#46039f"
             ],
             [
              0.2222222222222222,
              "#7201a8"
             ],
             [
              0.3333333333333333,
              "#9c179e"
             ],
             [
              0.4444444444444444,
              "#bd3786"
             ],
             [
              0.5555555555555556,
              "#d8576b"
             ],
             [
              0.6666666666666666,
              "#ed7953"
             ],
             [
              0.7777777777777778,
              "#fb9f3a"
             ],
             [
              0.8888888888888888,
              "#fdca26"
             ],
             [
              1,
              "#f0f921"
             ]
            ],
            "type": "histogram2dcontour"
           }
          ],
          "mesh3d": [
           {
            "colorbar": {
             "outlinewidth": 0,
             "ticks": ""
            },
            "type": "mesh3d"
           }
          ],
          "parcoords": [
           {
            "line": {
             "colorbar": {
              "outlinewidth": 0,
              "ticks": ""
             }
            },
            "type": "parcoords"
           }
          ],
          "pie": [
           {
            "automargin": true,
            "type": "pie"
           }
          ],
          "scatter": [
           {
            "marker": {
             "colorbar": {
              "outlinewidth": 0,
              "ticks": ""
             }
            },
            "type": "scatter"
           }
          ],
          "scatter3d": [
           {
            "line": {
             "colorbar": {
              "outlinewidth": 0,
              "ticks": ""
             }
            },
            "marker": {
             "colorbar": {
              "outlinewidth": 0,
              "ticks": ""
             }
            },
            "type": "scatter3d"
           }
          ],
          "scattercarpet": [
           {
            "marker": {
             "colorbar": {
              "outlinewidth": 0,
              "ticks": ""
             }
            },
            "type": "scattercarpet"
           }
          ],
          "scattergeo": [
           {
            "marker": {
             "colorbar": {
              "outlinewidth": 0,
              "ticks": ""
             }
            },
            "type": "scattergeo"
           }
          ],
          "scattergl": [
           {
            "marker": {
             "colorbar": {
              "outlinewidth": 0,
              "ticks": ""
             }
            },
            "type": "scattergl"
           }
          ],
          "scattermapbox": [
           {
            "marker": {
             "colorbar": {
              "outlinewidth": 0,
              "ticks": ""
             }
            },
            "type": "scattermapbox"
           }
          ],
          "scatterpolar": [
           {
            "marker": {
             "colorbar": {
              "outlinewidth": 0,
              "ticks": ""
             }
            },
            "type": "scatterpolar"
           }
          ],
          "scatterpolargl": [
           {
            "marker": {
             "colorbar": {
              "outlinewidth": 0,
              "ticks": ""
             }
            },
            "type": "scatterpolargl"
           }
          ],
          "scatterternary": [
           {
            "marker": {
             "colorbar": {
              "outlinewidth": 0,
              "ticks": ""
             }
            },
            "type": "scatterternary"
           }
          ],
          "surface": [
           {
            "colorbar": {
             "outlinewidth": 0,
             "ticks": ""
            },
            "colorscale": [
             [
              0,
              "#0d0887"
             ],
             [
              0.1111111111111111,
              "#46039f"
             ],
             [
              0.2222222222222222,
              "#7201a8"
             ],
             [
              0.3333333333333333,
              "#9c179e"
             ],
             [
              0.4444444444444444,
              "#bd3786"
             ],
             [
              0.5555555555555556,
              "#d8576b"
             ],
             [
              0.6666666666666666,
              "#ed7953"
             ],
             [
              0.7777777777777778,
              "#fb9f3a"
             ],
             [
              0.8888888888888888,
              "#fdca26"
             ],
             [
              1,
              "#f0f921"
             ]
            ],
            "type": "surface"
           }
          ],
          "table": [
           {
            "cells": {
             "fill": {
              "color": "#EBF0F8"
             },
             "line": {
              "color": "white"
             }
            },
            "header": {
             "fill": {
              "color": "#C8D4E3"
             },
             "line": {
              "color": "white"
             }
            },
            "type": "table"
           }
          ]
         },
         "layout": {
          "annotationdefaults": {
           "arrowcolor": "#2a3f5f",
           "arrowhead": 0,
           "arrowwidth": 1
          },
          "autotypenumbers": "strict",
          "coloraxis": {
           "colorbar": {
            "outlinewidth": 0,
            "ticks": ""
           }
          },
          "colorscale": {
           "diverging": [
            [
             0,
             "#8e0152"
            ],
            [
             0.1,
             "#c51b7d"
            ],
            [
             0.2,
             "#de77ae"
            ],
            [
             0.3,
             "#f1b6da"
            ],
            [
             0.4,
             "#fde0ef"
            ],
            [
             0.5,
             "#f7f7f7"
            ],
            [
             0.6,
             "#e6f5d0"
            ],
            [
             0.7,
             "#b8e186"
            ],
            [
             0.8,
             "#7fbc41"
            ],
            [
             0.9,
             "#4d9221"
            ],
            [
             1,
             "#276419"
            ]
           ],
           "sequential": [
            [
             0,
             "#0d0887"
            ],
            [
             0.1111111111111111,
             "#46039f"
            ],
            [
             0.2222222222222222,
             "#7201a8"
            ],
            [
             0.3333333333333333,
             "#9c179e"
            ],
            [
             0.4444444444444444,
             "#bd3786"
            ],
            [
             0.5555555555555556,
             "#d8576b"
            ],
            [
             0.6666666666666666,
             "#ed7953"
            ],
            [
             0.7777777777777778,
             "#fb9f3a"
            ],
            [
             0.8888888888888888,
             "#fdca26"
            ],
            [
             1,
             "#f0f921"
            ]
           ],
           "sequentialminus": [
            [
             0,
             "#0d0887"
            ],
            [
             0.1111111111111111,
             "#46039f"
            ],
            [
             0.2222222222222222,
             "#7201a8"
            ],
            [
             0.3333333333333333,
             "#9c179e"
            ],
            [
             0.4444444444444444,
             "#bd3786"
            ],
            [
             0.5555555555555556,
             "#d8576b"
            ],
            [
             0.6666666666666666,
             "#ed7953"
            ],
            [
             0.7777777777777778,
             "#fb9f3a"
            ],
            [
             0.8888888888888888,
             "#fdca26"
            ],
            [
             1,
             "#f0f921"
            ]
           ]
          },
          "colorway": [
           "#636efa",
           "#EF553B",
           "#00cc96",
           "#ab63fa",
           "#FFA15A",
           "#19d3f3",
           "#FF6692",
           "#B6E880",
           "#FF97FF",
           "#FECB52"
          ],
          "font": {
           "color": "#2a3f5f"
          },
          "geo": {
           "bgcolor": "white",
           "lakecolor": "white",
           "landcolor": "#E5ECF6",
           "showlakes": true,
           "showland": true,
           "subunitcolor": "white"
          },
          "hoverlabel": {
           "align": "left"
          },
          "hovermode": "closest",
          "mapbox": {
           "style": "light"
          },
          "paper_bgcolor": "white",
          "plot_bgcolor": "#E5ECF6",
          "polar": {
           "angularaxis": {
            "gridcolor": "white",
            "linecolor": "white",
            "ticks": ""
           },
           "bgcolor": "#E5ECF6",
           "radialaxis": {
            "gridcolor": "white",
            "linecolor": "white",
            "ticks": ""
           }
          },
          "scene": {
           "xaxis": {
            "backgroundcolor": "#E5ECF6",
            "gridcolor": "white",
            "gridwidth": 2,
            "linecolor": "white",
            "showbackground": true,
            "ticks": "",
            "zerolinecolor": "white"
           },
           "yaxis": {
            "backgroundcolor": "#E5ECF6",
            "gridcolor": "white",
            "gridwidth": 2,
            "linecolor": "white",
            "showbackground": true,
            "ticks": "",
            "zerolinecolor": "white"
           },
           "zaxis": {
            "backgroundcolor": "#E5ECF6",
            "gridcolor": "white",
            "gridwidth": 2,
            "linecolor": "white",
            "showbackground": true,
            "ticks": "",
            "zerolinecolor": "white"
           }
          },
          "shapedefaults": {
           "line": {
            "color": "#2a3f5f"
           }
          },
          "ternary": {
           "aaxis": {
            "gridcolor": "white",
            "linecolor": "white",
            "ticks": ""
           },
           "baxis": {
            "gridcolor": "white",
            "linecolor": "white",
            "ticks": ""
           },
           "bgcolor": "#E5ECF6",
           "caxis": {
            "gridcolor": "white",
            "linecolor": "white",
            "ticks": ""
           }
          },
          "title": {
           "x": 0.05
          },
          "xaxis": {
           "automargin": true,
           "gridcolor": "white",
           "linecolor": "white",
           "ticks": "",
           "title": {
            "standoff": 15
           },
           "zerolinecolor": "white",
           "zerolinewidth": 2
          },
          "yaxis": {
           "automargin": true,
           "gridcolor": "white",
           "linecolor": "white",
           "ticks": "",
           "title": {
            "standoff": 15
           },
           "zerolinecolor": "white",
           "zerolinewidth": 2
          }
         }
        },
        "title": {
         "text": "Learning Curve of SVM"
        },
        "xaxis": {
         "title": {
          "text": "#Training samples"
         }
        },
        "yaxis": {
         "title": {
          "text": "F1 Score"
         }
        }
       }
      },
      "text/html": [
       "<div>                            <div id=\"c2e27204-e9d8-402e-b043-8265176102a2\" class=\"plotly-graph-div\" style=\"height:525px; width:100%;\"></div>            <script type=\"text/javascript\">                require([\"plotly\"], function(Plotly) {                    window.PLOTLYENV=window.PLOTLYENV || {};                                    if (document.getElementById(\"c2e27204-e9d8-402e-b043-8265176102a2\")) {                    Plotly.newPlot(                        \"c2e27204-e9d8-402e-b043-8265176102a2\",                        [{\"hoverlabel\": {\"namelength\": 20}, \"line\": {\"color\": \"rgba(31, 119, 180, 0.40)\", \"width\": 0.1}, \"mode\": \"lines\", \"name\": \"\", \"showlegend\": false, \"type\": \"scatter\", \"x\": [89, 289, 490, 691, 892], \"y\": [null, 0.5874168567240179, 0.622870277965385, 0.5705279120358002, 0.5690649657942507]}, {\"fill\": \"tonexty\", \"hoverlabel\": {\"namelength\": 20}, \"line\": {\"color\": \"rgba(31, 119, 180, 0.40)\", \"width\": 0.1}, \"mode\": \"lines\", \"name\": \"\", \"showlegend\": false, \"type\": \"scatter\", \"x\": [89, 289, 490, 691, 892], \"y\": [null, 0.6699941125596565, 0.6363499039002478, 0.6089021306951901, 0.6145750842260483]}, {\"line\": {\"color\": \"rgb(31, 119, 180)\"}, \"name\": \"Train score\", \"showlegend\": true, \"type\": \"scatter\", \"x\": [89, 289, 490, 691, 892], \"y\": [null, 0.6287054846418372, 0.6296100909328164, 0.5897150213654951, 0.5918200250101495]}, {\"hoverlabel\": {\"namelength\": 20}, \"line\": {\"color\": \"rgba(255, 127, 14, 0.40)\", \"width\": 0.1}, \"mode\": \"lines\", \"name\": \"\", \"showlegend\": false, \"type\": \"scatter\", \"x\": [89, 289, 490, 691, 892], \"y\": [null, 0.3419805195231782, 0.40944319589161754, 0.454662870306894, 0.4869185135700564]}, {\"fill\": \"tonexty\", \"hoverlabel\": {\"namelength\": 20}, \"line\": {\"color\": \"rgba(255, 127, 14, 0.40)\", \"width\": 0.1}, \"mode\": \"lines\", \"name\": \"\", \"showlegend\": false, \"type\": \"scatter\", \"x\": [89, 289, 490, 691, 892], \"y\": [null, 0.5353108271230073, 0.5574439693332274, 0.5712644334209211, 0.5531652271092766]}, {\"line\": {\"color\": \"rgb(255, 127, 14)\"}, \"name\": \"Test score\", \"showlegend\": true, \"type\": \"scatter\", \"x\": [89, 289, 490, 691, 892], \"y\": [null, 0.43864567332309273, 0.48344358261242243, 0.5129636518639076, 0.5200418703396665]}],                        {\"autosize\": true, \"legend\": {\"x\": 0.8, \"y\": 0}, \"template\": {\"data\": {\"bar\": [{\"error_x\": {\"color\": \"#2a3f5f\"}, \"error_y\": {\"color\": \"#2a3f5f\"}, \"marker\": {\"line\": {\"color\": \"#E5ECF6\", \"width\": 0.5}}, \"type\": \"bar\"}], \"barpolar\": [{\"marker\": {\"line\": {\"color\": \"#E5ECF6\", \"width\": 0.5}}, \"type\": \"barpolar\"}], \"carpet\": [{\"aaxis\": {\"endlinecolor\": \"#2a3f5f\", \"gridcolor\": \"white\", \"linecolor\": \"white\", \"minorgridcolor\": \"white\", \"startlinecolor\": \"#2a3f5f\"}, \"baxis\": {\"endlinecolor\": \"#2a3f5f\", \"gridcolor\": \"white\", \"linecolor\": \"white\", \"minorgridcolor\": \"white\", \"startlinecolor\": \"#2a3f5f\"}, \"type\": \"carpet\"}], \"choropleth\": [{\"colorbar\": {\"outlinewidth\": 0, \"ticks\": \"\"}, \"type\": \"choropleth\"}], \"contour\": [{\"colorbar\": {\"outlinewidth\": 0, \"ticks\": \"\"}, \"colorscale\": [[0.0, \"#0d0887\"], [0.1111111111111111, \"#46039f\"], [0.2222222222222222, \"#7201a8\"], [0.3333333333333333, \"#9c179e\"], [0.4444444444444444, \"#bd3786\"], [0.5555555555555556, \"#d8576b\"], [0.6666666666666666, \"#ed7953\"], [0.7777777777777778, \"#fb9f3a\"], [0.8888888888888888, \"#fdca26\"], [1.0, \"#f0f921\"]], \"type\": \"contour\"}], \"contourcarpet\": [{\"colorbar\": {\"outlinewidth\": 0, \"ticks\": \"\"}, \"type\": \"contourcarpet\"}], \"heatmap\": [{\"colorbar\": {\"outlinewidth\": 0, \"ticks\": \"\"}, \"colorscale\": [[0.0, \"#0d0887\"], [0.1111111111111111, \"#46039f\"], [0.2222222222222222, \"#7201a8\"], [0.3333333333333333, \"#9c179e\"], [0.4444444444444444, \"#bd3786\"], [0.5555555555555556, \"#d8576b\"], [0.6666666666666666, \"#ed7953\"], [0.7777777777777778, \"#fb9f3a\"], [0.8888888888888888, \"#fdca26\"], [1.0, \"#f0f921\"]], \"type\": \"heatmap\"}], \"heatmapgl\": [{\"colorbar\": {\"outlinewidth\": 0, \"ticks\": \"\"}, \"colorscale\": [[0.0, \"#0d0887\"], [0.1111111111111111, \"#46039f\"], [0.2222222222222222, \"#7201a8\"], [0.3333333333333333, \"#9c179e\"], [0.4444444444444444, \"#bd3786\"], [0.5555555555555556, \"#d8576b\"], [0.6666666666666666, \"#ed7953\"], [0.7777777777777778, \"#fb9f3a\"], [0.8888888888888888, \"#fdca26\"], [1.0, \"#f0f921\"]], \"type\": \"heatmapgl\"}], \"histogram\": [{\"marker\": {\"colorbar\": {\"outlinewidth\": 0, \"ticks\": \"\"}}, \"type\": \"histogram\"}], \"histogram2d\": [{\"colorbar\": {\"outlinewidth\": 0, \"ticks\": \"\"}, \"colorscale\": [[0.0, \"#0d0887\"], [0.1111111111111111, \"#46039f\"], [0.2222222222222222, \"#7201a8\"], [0.3333333333333333, \"#9c179e\"], [0.4444444444444444, \"#bd3786\"], [0.5555555555555556, \"#d8576b\"], [0.6666666666666666, \"#ed7953\"], [0.7777777777777778, \"#fb9f3a\"], [0.8888888888888888, \"#fdca26\"], [1.0, \"#f0f921\"]], \"type\": \"histogram2d\"}], \"histogram2dcontour\": [{\"colorbar\": {\"outlinewidth\": 0, \"ticks\": \"\"}, \"colorscale\": [[0.0, \"#0d0887\"], [0.1111111111111111, \"#46039f\"], [0.2222222222222222, \"#7201a8\"], [0.3333333333333333, \"#9c179e\"], [0.4444444444444444, \"#bd3786\"], [0.5555555555555556, \"#d8576b\"], [0.6666666666666666, \"#ed7953\"], [0.7777777777777778, \"#fb9f3a\"], [0.8888888888888888, \"#fdca26\"], [1.0, \"#f0f921\"]], \"type\": \"histogram2dcontour\"}], \"mesh3d\": [{\"colorbar\": {\"outlinewidth\": 0, \"ticks\": \"\"}, \"type\": \"mesh3d\"}], \"parcoords\": [{\"line\": {\"colorbar\": {\"outlinewidth\": 0, \"ticks\": \"\"}}, \"type\": \"parcoords\"}], \"pie\": [{\"automargin\": true, \"type\": \"pie\"}], \"scatter\": [{\"marker\": {\"colorbar\": {\"outlinewidth\": 0, \"ticks\": \"\"}}, \"type\": \"scatter\"}], \"scatter3d\": [{\"line\": {\"colorbar\": {\"outlinewidth\": 0, \"ticks\": \"\"}}, \"marker\": {\"colorbar\": {\"outlinewidth\": 0, \"ticks\": \"\"}}, \"type\": \"scatter3d\"}], \"scattercarpet\": [{\"marker\": {\"colorbar\": {\"outlinewidth\": 0, \"ticks\": \"\"}}, \"type\": \"scattercarpet\"}], \"scattergeo\": [{\"marker\": {\"colorbar\": {\"outlinewidth\": 0, \"ticks\": \"\"}}, \"type\": \"scattergeo\"}], \"scattergl\": [{\"marker\": {\"colorbar\": {\"outlinewidth\": 0, \"ticks\": \"\"}}, \"type\": \"scattergl\"}], \"scattermapbox\": [{\"marker\": {\"colorbar\": {\"outlinewidth\": 0, \"ticks\": \"\"}}, \"type\": \"scattermapbox\"}], \"scatterpolar\": [{\"marker\": {\"colorbar\": {\"outlinewidth\": 0, \"ticks\": \"\"}}, \"type\": \"scatterpolar\"}], \"scatterpolargl\": [{\"marker\": {\"colorbar\": {\"outlinewidth\": 0, \"ticks\": \"\"}}, \"type\": \"scatterpolargl\"}], \"scatterternary\": [{\"marker\": {\"colorbar\": {\"outlinewidth\": 0, \"ticks\": \"\"}}, \"type\": \"scatterternary\"}], \"surface\": [{\"colorbar\": {\"outlinewidth\": 0, \"ticks\": \"\"}, \"colorscale\": [[0.0, \"#0d0887\"], [0.1111111111111111, \"#46039f\"], [0.2222222222222222, \"#7201a8\"], [0.3333333333333333, \"#9c179e\"], [0.4444444444444444, \"#bd3786\"], [0.5555555555555556, \"#d8576b\"], [0.6666666666666666, \"#ed7953\"], [0.7777777777777778, \"#fb9f3a\"], [0.8888888888888888, \"#fdca26\"], [1.0, \"#f0f921\"]], \"type\": \"surface\"}], \"table\": [{\"cells\": {\"fill\": {\"color\": \"#EBF0F8\"}, \"line\": {\"color\": \"white\"}}, \"header\": {\"fill\": {\"color\": \"#C8D4E3\"}, \"line\": {\"color\": \"white\"}}, \"type\": \"table\"}]}, \"layout\": {\"annotationdefaults\": {\"arrowcolor\": \"#2a3f5f\", \"arrowhead\": 0, \"arrowwidth\": 1}, \"autotypenumbers\": \"strict\", \"coloraxis\": {\"colorbar\": {\"outlinewidth\": 0, \"ticks\": \"\"}}, \"colorscale\": {\"diverging\": [[0, \"#8e0152\"], [0.1, \"#c51b7d\"], [0.2, \"#de77ae\"], [0.3, \"#f1b6da\"], [0.4, \"#fde0ef\"], [0.5, \"#f7f7f7\"], [0.6, \"#e6f5d0\"], [0.7, \"#b8e186\"], [0.8, \"#7fbc41\"], [0.9, \"#4d9221\"], [1, \"#276419\"]], \"sequential\": [[0.0, \"#0d0887\"], [0.1111111111111111, \"#46039f\"], [0.2222222222222222, \"#7201a8\"], [0.3333333333333333, \"#9c179e\"], [0.4444444444444444, \"#bd3786\"], [0.5555555555555556, \"#d8576b\"], [0.6666666666666666, \"#ed7953\"], [0.7777777777777778, \"#fb9f3a\"], [0.8888888888888888, \"#fdca26\"], [1.0, \"#f0f921\"]], \"sequentialminus\": [[0.0, \"#0d0887\"], [0.1111111111111111, \"#46039f\"], [0.2222222222222222, \"#7201a8\"], [0.3333333333333333, \"#9c179e\"], [0.4444444444444444, \"#bd3786\"], [0.5555555555555556, \"#d8576b\"], [0.6666666666666666, \"#ed7953\"], [0.7777777777777778, \"#fb9f3a\"], [0.8888888888888888, \"#fdca26\"], [1.0, \"#f0f921\"]]}, \"colorway\": [\"#636efa\", \"#EF553B\", \"#00cc96\", \"#ab63fa\", \"#FFA15A\", \"#19d3f3\", \"#FF6692\", \"#B6E880\", \"#FF97FF\", \"#FECB52\"], \"font\": {\"color\": \"#2a3f5f\"}, \"geo\": {\"bgcolor\": \"white\", \"lakecolor\": \"white\", \"landcolor\": \"#E5ECF6\", \"showlakes\": true, \"showland\": true, \"subunitcolor\": \"white\"}, \"hoverlabel\": {\"align\": \"left\"}, \"hovermode\": \"closest\", \"mapbox\": {\"style\": \"light\"}, \"paper_bgcolor\": \"white\", \"plot_bgcolor\": \"#E5ECF6\", \"polar\": {\"angularaxis\": {\"gridcolor\": \"white\", \"linecolor\": \"white\", \"ticks\": \"\"}, \"bgcolor\": \"#E5ECF6\", \"radialaxis\": {\"gridcolor\": \"white\", \"linecolor\": \"white\", \"ticks\": \"\"}}, \"scene\": {\"xaxis\": {\"backgroundcolor\": \"#E5ECF6\", \"gridcolor\": \"white\", \"gridwidth\": 2, \"linecolor\": \"white\", \"showbackground\": true, \"ticks\": \"\", \"zerolinecolor\": \"white\"}, \"yaxis\": {\"backgroundcolor\": \"#E5ECF6\", \"gridcolor\": \"white\", \"gridwidth\": 2, \"linecolor\": \"white\", \"showbackground\": true, \"ticks\": \"\", \"zerolinecolor\": \"white\"}, \"zaxis\": {\"backgroundcolor\": \"#E5ECF6\", \"gridcolor\": \"white\", \"gridwidth\": 2, \"linecolor\": \"white\", \"showbackground\": true, \"ticks\": \"\", \"zerolinecolor\": \"white\"}}, \"shapedefaults\": {\"line\": {\"color\": \"#2a3f5f\"}}, \"ternary\": {\"aaxis\": {\"gridcolor\": \"white\", \"linecolor\": \"white\", \"ticks\": \"\"}, \"baxis\": {\"gridcolor\": \"white\", \"linecolor\": \"white\", \"ticks\": \"\"}, \"bgcolor\": \"#E5ECF6\", \"caxis\": {\"gridcolor\": \"white\", \"linecolor\": \"white\", \"ticks\": \"\"}}, \"title\": {\"x\": 0.05}, \"xaxis\": {\"automargin\": true, \"gridcolor\": \"white\", \"linecolor\": \"white\", \"ticks\": \"\", \"title\": {\"standoff\": 15}, \"zerolinecolor\": \"white\", \"zerolinewidth\": 2}, \"yaxis\": {\"automargin\": true, \"gridcolor\": \"white\", \"linecolor\": \"white\", \"ticks\": \"\", \"title\": {\"standoff\": 15}, \"zerolinecolor\": \"white\", \"zerolinewidth\": 2}}}, \"title\": {\"text\": \"Learning Curve of SVM\"}, \"xaxis\": {\"title\": {\"text\": \"#Training samples\"}}, \"yaxis\": {\"title\": {\"text\": \"F1 Score\"}}},                        {\"responsive\": true}                    ).then(function(){\n",
       "                            \n",
       "var gd = document.getElementById('c2e27204-e9d8-402e-b043-8265176102a2');\n",
       "var x = new MutationObserver(function (mutations, observer) {{\n",
       "        var display = window.getComputedStyle(gd).display;\n",
       "        if (!display || display === 'none') {{\n",
       "            console.log([gd, 'removed!']);\n",
       "            Plotly.purge(gd);\n",
       "            observer.disconnect();\n",
       "        }}\n",
       "}});\n",
       "\n",
       "// Listen for the removal of the full notebook cells\n",
       "var notebookContainer = gd.closest('#notebook-container');\n",
       "if (notebookContainer) {{\n",
       "    x.observe(notebookContainer, {childList: true});\n",
       "}}\n",
       "\n",
       "// Listen for the clearing of the current output cell\n",
       "var outputEl = gd.closest('.output');\n",
       "if (outputEl) {{\n",
       "    x.observe(outputEl, {childList: true});\n",
       "}}\n",
       "\n",
       "                        })                };                });            </script>        </div>"
      ]
     },
     "metadata": {},
     "output_type": "display_data"
    }
   ],
   "source": [
    "plot_learning_curve(gs_svm.best_estimator_, \"Learning Curve of SVM\", X_train, y_train, cv=5)"
   ]
  },
  {
   "cell_type": "markdown",
   "metadata": {},
   "source": []
  },
  {
   "cell_type": "code",
   "execution_count": 49,
   "metadata": {},
   "outputs": [
    {
     "name": "stdout",
     "output_type": "stream",
     "text": [
      "Best grid scores on validation set:\n",
      "0.439 (+/-0.216) for {'clf__criterion': 'entropy', 'clf__max_depth': 25, 'clf__max_features': 'sqrt', 'clf__min_samples_split': 6}\n",
      "0.439 (+/-0.216) for {'clf__criterion': 'entropy', 'clf__max_depth': 75, 'clf__max_features': 'sqrt', 'clf__min_samples_split': 6}\n",
      "0.439 (+/-0.216) for {'clf__criterion': 'entropy', 'clf__max_depth': 50, 'clf__max_features': 'sqrt', 'clf__min_samples_split': 6}\n",
      "0.432 (+/-0.227) for {'clf__criterion': 'entropy', 'clf__max_depth': 75, 'clf__max_features': 'sqrt', 'clf__min_samples_split': 14}\n",
      "0.432 (+/-0.227) for {'clf__criterion': 'entropy', 'clf__max_depth': 50, 'clf__max_features': 'sqrt', 'clf__min_samples_split': 14}\n",
      "0.432 (+/-0.227) for {'clf__criterion': 'entropy', 'clf__max_depth': 25, 'clf__max_features': 'sqrt', 'clf__min_samples_split': 14}\n",
      "0.423 (+/-0.167) for {'clf__criterion': 'gini', 'clf__max_depth': 50, 'clf__max_features': 'sqrt', 'clf__min_samples_split': 6}\n",
      "0.423 (+/-0.167) for {'clf__criterion': 'gini', 'clf__max_depth': 75, 'clf__max_features': 'sqrt', 'clf__min_samples_split': 6}\n",
      "0.423 (+/-0.167) for {'clf__criterion': 'gini', 'clf__max_depth': 25, 'clf__max_features': 'sqrt', 'clf__min_samples_split': 6}\n",
      "0.412 (+/-0.203) for {'clf__criterion': 'gini', 'clf__max_depth': 50, 'clf__max_features': 'sqrt', 'clf__min_samples_split': 14}\n",
      "Wall time: 1.09 s\n"
     ]
    }
   ],
   "source": [
    "%%time\n",
    "clf_dt = DecisionTreeClassifier(random_state=SEED)\n",
    "gs_dt = do_gridsearch_with_cv(clf_dt, DECISION_TREE_PARAMS, X_train, y_train, kf, smote=sm)\n",
    "print_best_grid_search_scores_with_params(gs_dt)"
   ]
  },
  {
   "cell_type": "code",
   "execution_count": 50,
   "metadata": {},
   "outputs": [],
   "source": [
    "gs_dt_score = gs_dt.score(X_test, y_test)\n",
    "y_pred_dt = gs_dt.predict(X_test)\n",
    "cm_dt = confusion_matrix(y_test, y_pred_dt)\n",
    "cm_dt = cm_dt.astype('float') / cm_dt.sum(axis=1)[:, np.newaxis] # normalize the confusion matrix"
   ]
  },
  {
   "cell_type": "code",
   "execution_count": 51,
   "metadata": {},
   "outputs": [
    {
     "data": {
      "text/html": [
       "<div>\n",
       "<style scoped>\n",
       "    .dataframe tbody tr th:only-of-type {\n",
       "        vertical-align: middle;\n",
       "    }\n",
       "\n",
       "    .dataframe tbody tr th {\n",
       "        vertical-align: top;\n",
       "    }\n",
       "\n",
       "    .dataframe thead th {\n",
       "        text-align: right;\n",
       "    }\n",
       "</style>\n",
       "<table border=\"1\" class=\"dataframe\">\n",
       "  <thead>\n",
       "    <tr style=\"text-align: right;\">\n",
       "      <th></th>\n",
       "      <th>predicted no Fraud</th>\n",
       "      <th>predicted Fraud</th>\n",
       "    </tr>\n",
       "  </thead>\n",
       "  <tbody>\n",
       "    <tr>\n",
       "      <th>true no Fraud</th>\n",
       "      <td>0.870</td>\n",
       "      <td>0.130</td>\n",
       "    </tr>\n",
       "    <tr>\n",
       "      <th>true Fraud</th>\n",
       "      <td>0.462</td>\n",
       "      <td>0.538</td>\n",
       "    </tr>\n",
       "  </tbody>\n",
       "</table>\n",
       "</div>"
      ],
      "text/plain": [
       "               predicted no Fraud  predicted Fraud\n",
       "true no Fraud               0.870            0.130\n",
       "true Fraud                  0.462            0.538"
      ]
     },
     "execution_count": 51,
     "metadata": {},
     "output_type": "execute_result"
    }
   ],
   "source": [
    "cm_df5 = pd.DataFrame(cm_dt.round(3), index=[\"true no Fraud\", \"true Fraud\"], columns=[\"predicted no Fraud\", \"predicted Fraud\"])\n",
    "cm_df5"
   ]
  },
  {
   "cell_type": "code",
   "execution_count": 52,
   "metadata": {},
   "outputs": [
    {
     "data": {
      "application/vnd.plotly.v1+json": {
       "config": {
        "linkText": "Export to plot.ly",
        "plotlyServerURL": "https://plot.ly",
        "showLink": false
       },
       "data": [
        {
         "marker": {
          "color": "rgb(31, 119, 180)"
         },
         "name": "feature importance",
         "type": "bar",
         "x": [
          "total_accepted_requests",
          "cancellation_by_biker",
          "cancellation_to_next_acception_time",
          "destination_to_next4_origin_distance",
          "origin_to_next4_origin_distance",
          "destination_to_next2_destination_distance",
          "destination_to_next3_origin_distance",
          "destination_to_next_destination_distance",
          "total_cancellation",
          "acception_to_acception_time",
          "destination_to_next3_destination_distance",
          "biker_delivery_fare",
          "origin_to_next3_origin_distance",
          "destination_to_next2_origin_distance",
          "scaled_time",
          "cancellation_by_customer",
          "origin_to_next2_origin_distance",
          "total_rides",
          "order_distance",
          "destination_to_next_origin_distance",
          "acception_to_cancellation_time",
          "origin_to_next_origin_distance",
          "cans_query"
         ],
         "y": [
          "0.01130508091027983",
          "0.011633375378204976",
          "0.013976870685762604",
          "0.014700232513992453",
          "0.015426345045752864",
          "0.018565166674717727",
          "0.022004326666902475",
          "0.022440492142070022",
          "0.023482642745683884",
          "0.025861634546984924",
          "0.02930946073814104",
          "0.03065001977827324",
          "0.031157739219477277",
          "0.03154145243468766",
          "0.033047248921472726",
          "0.03325064325907144",
          "0.03487569640785217",
          "0.048527505934715616",
          "0.06726867166106103",
          "0.07598038993605799",
          "0.12156964278458146",
          "0.13916660995501817",
          "0.14425875165923835"
         ]
        }
       ],
       "layout": {
        "autosize": true,
        "margin": {
         "b": 150,
         "l": 50,
         "r": 100
        },
        "template": {
         "data": {
          "bar": [
           {
            "error_x": {
             "color": "#2a3f5f"
            },
            "error_y": {
             "color": "#2a3f5f"
            },
            "marker": {
             "line": {
              "color": "#E5ECF6",
              "width": 0.5
             }
            },
            "type": "bar"
           }
          ],
          "barpolar": [
           {
            "marker": {
             "line": {
              "color": "#E5ECF6",
              "width": 0.5
             }
            },
            "type": "barpolar"
           }
          ],
          "carpet": [
           {
            "aaxis": {
             "endlinecolor": "#2a3f5f",
             "gridcolor": "white",
             "linecolor": "white",
             "minorgridcolor": "white",
             "startlinecolor": "#2a3f5f"
            },
            "baxis": {
             "endlinecolor": "#2a3f5f",
             "gridcolor": "white",
             "linecolor": "white",
             "minorgridcolor": "white",
             "startlinecolor": "#2a3f5f"
            },
            "type": "carpet"
           }
          ],
          "choropleth": [
           {
            "colorbar": {
             "outlinewidth": 0,
             "ticks": ""
            },
            "type": "choropleth"
           }
          ],
          "contour": [
           {
            "colorbar": {
             "outlinewidth": 0,
             "ticks": ""
            },
            "colorscale": [
             [
              0,
              "#0d0887"
             ],
             [
              0.1111111111111111,
              "#46039f"
             ],
             [
              0.2222222222222222,
              "#7201a8"
             ],
             [
              0.3333333333333333,
              "#9c179e"
             ],
             [
              0.4444444444444444,
              "#bd3786"
             ],
             [
              0.5555555555555556,
              "#d8576b"
             ],
             [
              0.6666666666666666,
              "#ed7953"
             ],
             [
              0.7777777777777778,
              "#fb9f3a"
             ],
             [
              0.8888888888888888,
              "#fdca26"
             ],
             [
              1,
              "#f0f921"
             ]
            ],
            "type": "contour"
           }
          ],
          "contourcarpet": [
           {
            "colorbar": {
             "outlinewidth": 0,
             "ticks": ""
            },
            "type": "contourcarpet"
           }
          ],
          "heatmap": [
           {
            "colorbar": {
             "outlinewidth": 0,
             "ticks": ""
            },
            "colorscale": [
             [
              0,
              "#0d0887"
             ],
             [
              0.1111111111111111,
              "#46039f"
             ],
             [
              0.2222222222222222,
              "#7201a8"
             ],
             [
              0.3333333333333333,
              "#9c179e"
             ],
             [
              0.4444444444444444,
              "#bd3786"
             ],
             [
              0.5555555555555556,
              "#d8576b"
             ],
             [
              0.6666666666666666,
              "#ed7953"
             ],
             [
              0.7777777777777778,
              "#fb9f3a"
             ],
             [
              0.8888888888888888,
              "#fdca26"
             ],
             [
              1,
              "#f0f921"
             ]
            ],
            "type": "heatmap"
           }
          ],
          "heatmapgl": [
           {
            "colorbar": {
             "outlinewidth": 0,
             "ticks": ""
            },
            "colorscale": [
             [
              0,
              "#0d0887"
             ],
             [
              0.1111111111111111,
              "#46039f"
             ],
             [
              0.2222222222222222,
              "#7201a8"
             ],
             [
              0.3333333333333333,
              "#9c179e"
             ],
             [
              0.4444444444444444,
              "#bd3786"
             ],
             [
              0.5555555555555556,
              "#d8576b"
             ],
             [
              0.6666666666666666,
              "#ed7953"
             ],
             [
              0.7777777777777778,
              "#fb9f3a"
             ],
             [
              0.8888888888888888,
              "#fdca26"
             ],
             [
              1,
              "#f0f921"
             ]
            ],
            "type": "heatmapgl"
           }
          ],
          "histogram": [
           {
            "marker": {
             "colorbar": {
              "outlinewidth": 0,
              "ticks": ""
             }
            },
            "type": "histogram"
           }
          ],
          "histogram2d": [
           {
            "colorbar": {
             "outlinewidth": 0,
             "ticks": ""
            },
            "colorscale": [
             [
              0,
              "#0d0887"
             ],
             [
              0.1111111111111111,
              "#46039f"
             ],
             [
              0.2222222222222222,
              "#7201a8"
             ],
             [
              0.3333333333333333,
              "#9c179e"
             ],
             [
              0.4444444444444444,
              "#bd3786"
             ],
             [
              0.5555555555555556,
              "#d8576b"
             ],
             [
              0.6666666666666666,
              "#ed7953"
             ],
             [
              0.7777777777777778,
              "#fb9f3a"
             ],
             [
              0.8888888888888888,
              "#fdca26"
             ],
             [
              1,
              "#f0f921"
             ]
            ],
            "type": "histogram2d"
           }
          ],
          "histogram2dcontour": [
           {
            "colorbar": {
             "outlinewidth": 0,
             "ticks": ""
            },
            "colorscale": [
             [
              0,
              "#0d0887"
             ],
             [
              0.1111111111111111,
              "#46039f"
             ],
             [
              0.2222222222222222,
              "#7201a8"
             ],
             [
              0.3333333333333333,
              "#9c179e"
             ],
             [
              0.4444444444444444,
              "#bd3786"
             ],
             [
              0.5555555555555556,
              "#d8576b"
             ],
             [
              0.6666666666666666,
              "#ed7953"
             ],
             [
              0.7777777777777778,
              "#fb9f3a"
             ],
             [
              0.8888888888888888,
              "#fdca26"
             ],
             [
              1,
              "#f0f921"
             ]
            ],
            "type": "histogram2dcontour"
           }
          ],
          "mesh3d": [
           {
            "colorbar": {
             "outlinewidth": 0,
             "ticks": ""
            },
            "type": "mesh3d"
           }
          ],
          "parcoords": [
           {
            "line": {
             "colorbar": {
              "outlinewidth": 0,
              "ticks": ""
             }
            },
            "type": "parcoords"
           }
          ],
          "pie": [
           {
            "automargin": true,
            "type": "pie"
           }
          ],
          "scatter": [
           {
            "marker": {
             "colorbar": {
              "outlinewidth": 0,
              "ticks": ""
             }
            },
            "type": "scatter"
           }
          ],
          "scatter3d": [
           {
            "line": {
             "colorbar": {
              "outlinewidth": 0,
              "ticks": ""
             }
            },
            "marker": {
             "colorbar": {
              "outlinewidth": 0,
              "ticks": ""
             }
            },
            "type": "scatter3d"
           }
          ],
          "scattercarpet": [
           {
            "marker": {
             "colorbar": {
              "outlinewidth": 0,
              "ticks": ""
             }
            },
            "type": "scattercarpet"
           }
          ],
          "scattergeo": [
           {
            "marker": {
             "colorbar": {
              "outlinewidth": 0,
              "ticks": ""
             }
            },
            "type": "scattergeo"
           }
          ],
          "scattergl": [
           {
            "marker": {
             "colorbar": {
              "outlinewidth": 0,
              "ticks": ""
             }
            },
            "type": "scattergl"
           }
          ],
          "scattermapbox": [
           {
            "marker": {
             "colorbar": {
              "outlinewidth": 0,
              "ticks": ""
             }
            },
            "type": "scattermapbox"
           }
          ],
          "scatterpolar": [
           {
            "marker": {
             "colorbar": {
              "outlinewidth": 0,
              "ticks": ""
             }
            },
            "type": "scatterpolar"
           }
          ],
          "scatterpolargl": [
           {
            "marker": {
             "colorbar": {
              "outlinewidth": 0,
              "ticks": ""
             }
            },
            "type": "scatterpolargl"
           }
          ],
          "scatterternary": [
           {
            "marker": {
             "colorbar": {
              "outlinewidth": 0,
              "ticks": ""
             }
            },
            "type": "scatterternary"
           }
          ],
          "surface": [
           {
            "colorbar": {
             "outlinewidth": 0,
             "ticks": ""
            },
            "colorscale": [
             [
              0,
              "#0d0887"
             ],
             [
              0.1111111111111111,
              "#46039f"
             ],
             [
              0.2222222222222222,
              "#7201a8"
             ],
             [
              0.3333333333333333,
              "#9c179e"
             ],
             [
              0.4444444444444444,
              "#bd3786"
             ],
             [
              0.5555555555555556,
              "#d8576b"
             ],
             [
              0.6666666666666666,
              "#ed7953"
             ],
             [
              0.7777777777777778,
              "#fb9f3a"
             ],
             [
              0.8888888888888888,
              "#fdca26"
             ],
             [
              1,
              "#f0f921"
             ]
            ],
            "type": "surface"
           }
          ],
          "table": [
           {
            "cells": {
             "fill": {
              "color": "#EBF0F8"
             },
             "line": {
              "color": "white"
             }
            },
            "header": {
             "fill": {
              "color": "#C8D4E3"
             },
             "line": {
              "color": "white"
             }
            },
            "type": "table"
           }
          ]
         },
         "layout": {
          "annotationdefaults": {
           "arrowcolor": "#2a3f5f",
           "arrowhead": 0,
           "arrowwidth": 1
          },
          "autotypenumbers": "strict",
          "coloraxis": {
           "colorbar": {
            "outlinewidth": 0,
            "ticks": ""
           }
          },
          "colorscale": {
           "diverging": [
            [
             0,
             "#8e0152"
            ],
            [
             0.1,
             "#c51b7d"
            ],
            [
             0.2,
             "#de77ae"
            ],
            [
             0.3,
             "#f1b6da"
            ],
            [
             0.4,
             "#fde0ef"
            ],
            [
             0.5,
             "#f7f7f7"
            ],
            [
             0.6,
             "#e6f5d0"
            ],
            [
             0.7,
             "#b8e186"
            ],
            [
             0.8,
             "#7fbc41"
            ],
            [
             0.9,
             "#4d9221"
            ],
            [
             1,
             "#276419"
            ]
           ],
           "sequential": [
            [
             0,
             "#0d0887"
            ],
            [
             0.1111111111111111,
             "#46039f"
            ],
            [
             0.2222222222222222,
             "#7201a8"
            ],
            [
             0.3333333333333333,
             "#9c179e"
            ],
            [
             0.4444444444444444,
             "#bd3786"
            ],
            [
             0.5555555555555556,
             "#d8576b"
            ],
            [
             0.6666666666666666,
             "#ed7953"
            ],
            [
             0.7777777777777778,
             "#fb9f3a"
            ],
            [
             0.8888888888888888,
             "#fdca26"
            ],
            [
             1,
             "#f0f921"
            ]
           ],
           "sequentialminus": [
            [
             0,
             "#0d0887"
            ],
            [
             0.1111111111111111,
             "#46039f"
            ],
            [
             0.2222222222222222,
             "#7201a8"
            ],
            [
             0.3333333333333333,
             "#9c179e"
            ],
            [
             0.4444444444444444,
             "#bd3786"
            ],
            [
             0.5555555555555556,
             "#d8576b"
            ],
            [
             0.6666666666666666,
             "#ed7953"
            ],
            [
             0.7777777777777778,
             "#fb9f3a"
            ],
            [
             0.8888888888888888,
             "#fdca26"
            ],
            [
             1,
             "#f0f921"
            ]
           ]
          },
          "colorway": [
           "#636efa",
           "#EF553B",
           "#00cc96",
           "#ab63fa",
           "#FFA15A",
           "#19d3f3",
           "#FF6692",
           "#B6E880",
           "#FF97FF",
           "#FECB52"
          ],
          "font": {
           "color": "#2a3f5f"
          },
          "geo": {
           "bgcolor": "white",
           "lakecolor": "white",
           "landcolor": "#E5ECF6",
           "showlakes": true,
           "showland": true,
           "subunitcolor": "white"
          },
          "hoverlabel": {
           "align": "left"
          },
          "hovermode": "closest",
          "mapbox": {
           "style": "light"
          },
          "paper_bgcolor": "white",
          "plot_bgcolor": "#E5ECF6",
          "polar": {
           "angularaxis": {
            "gridcolor": "white",
            "linecolor": "white",
            "ticks": ""
           },
           "bgcolor": "#E5ECF6",
           "radialaxis": {
            "gridcolor": "white",
            "linecolor": "white",
            "ticks": ""
           }
          },
          "scene": {
           "xaxis": {
            "backgroundcolor": "#E5ECF6",
            "gridcolor": "white",
            "gridwidth": 2,
            "linecolor": "white",
            "showbackground": true,
            "ticks": "",
            "zerolinecolor": "white"
           },
           "yaxis": {
            "backgroundcolor": "#E5ECF6",
            "gridcolor": "white",
            "gridwidth": 2,
            "linecolor": "white",
            "showbackground": true,
            "ticks": "",
            "zerolinecolor": "white"
           },
           "zaxis": {
            "backgroundcolor": "#E5ECF6",
            "gridcolor": "white",
            "gridwidth": 2,
            "linecolor": "white",
            "showbackground": true,
            "ticks": "",
            "zerolinecolor": "white"
           }
          },
          "shapedefaults": {
           "line": {
            "color": "#2a3f5f"
           }
          },
          "ternary": {
           "aaxis": {
            "gridcolor": "white",
            "linecolor": "white",
            "ticks": ""
           },
           "baxis": {
            "gridcolor": "white",
            "linecolor": "white",
            "ticks": ""
           },
           "bgcolor": "#E5ECF6",
           "caxis": {
            "gridcolor": "white",
            "linecolor": "white",
            "ticks": ""
           }
          },
          "title": {
           "x": 0.05
          },
          "xaxis": {
           "automargin": true,
           "gridcolor": "white",
           "linecolor": "white",
           "ticks": "",
           "title": {
            "standoff": 15
           },
           "zerolinecolor": "white",
           "zerolinewidth": 2
          },
          "yaxis": {
           "automargin": true,
           "gridcolor": "white",
           "linecolor": "white",
           "ticks": "",
           "title": {
            "standoff": 15
           },
           "zerolinecolor": "white",
           "zerolinewidth": 2
          }
         }
        },
        "title": {
         "text": "Feature importance in the decision tree"
        },
        "xaxis": {
         "tickangle": 30,
         "title": {
          "text": "feature"
         }
        },
        "yaxis": {
         "automargin": true,
         "title": {
          "text": "feature importance"
         }
        }
       }
      },
      "text/html": [
       "<div>                            <div id=\"49bc90ee-e8b7-4a81-8bc4-cdae40d5a7a8\" class=\"plotly-graph-div\" style=\"height:525px; width:100%;\"></div>            <script type=\"text/javascript\">                require([\"plotly\"], function(Plotly) {                    window.PLOTLYENV=window.PLOTLYENV || {};                                    if (document.getElementById(\"49bc90ee-e8b7-4a81-8bc4-cdae40d5a7a8\")) {                    Plotly.newPlot(                        \"49bc90ee-e8b7-4a81-8bc4-cdae40d5a7a8\",                        [{\"marker\": {\"color\": \"rgb(31, 119, 180)\"}, \"name\": \"feature importance\", \"type\": \"bar\", \"x\": [\"total_accepted_requests\", \"cancellation_by_biker\", \"cancellation_to_next_acception_time\", \"destination_to_next4_origin_distance\", \"origin_to_next4_origin_distance\", \"destination_to_next2_destination_distance\", \"destination_to_next3_origin_distance\", \"destination_to_next_destination_distance\", \"total_cancellation\", \"acception_to_acception_time\", \"destination_to_next3_destination_distance\", \"biker_delivery_fare\", \"origin_to_next3_origin_distance\", \"destination_to_next2_origin_distance\", \"scaled_time\", \"cancellation_by_customer\", \"origin_to_next2_origin_distance\", \"total_rides\", \"order_distance\", \"destination_to_next_origin_distance\", \"acception_to_cancellation_time\", \"origin_to_next_origin_distance\", \"cans_query\"], \"y\": [\"0.01130508091027983\", \"0.011633375378204976\", \"0.013976870685762604\", \"0.014700232513992453\", \"0.015426345045752864\", \"0.018565166674717727\", \"0.022004326666902475\", \"0.022440492142070022\", \"0.023482642745683884\", \"0.025861634546984924\", \"0.02930946073814104\", \"0.03065001977827324\", \"0.031157739219477277\", \"0.03154145243468766\", \"0.033047248921472726\", \"0.03325064325907144\", \"0.03487569640785217\", \"0.048527505934715616\", \"0.06726867166106103\", \"0.07598038993605799\", \"0.12156964278458146\", \"0.13916660995501817\", \"0.14425875165923835\"]}],                        {\"autosize\": true, \"margin\": {\"b\": 150, \"l\": 50, \"r\": 100}, \"template\": {\"data\": {\"bar\": [{\"error_x\": {\"color\": \"#2a3f5f\"}, \"error_y\": {\"color\": \"#2a3f5f\"}, \"marker\": {\"line\": {\"color\": \"#E5ECF6\", \"width\": 0.5}}, \"type\": \"bar\"}], \"barpolar\": [{\"marker\": {\"line\": {\"color\": \"#E5ECF6\", \"width\": 0.5}}, \"type\": \"barpolar\"}], \"carpet\": [{\"aaxis\": {\"endlinecolor\": \"#2a3f5f\", \"gridcolor\": \"white\", \"linecolor\": \"white\", \"minorgridcolor\": \"white\", \"startlinecolor\": \"#2a3f5f\"}, \"baxis\": {\"endlinecolor\": \"#2a3f5f\", \"gridcolor\": \"white\", \"linecolor\": \"white\", \"minorgridcolor\": \"white\", \"startlinecolor\": \"#2a3f5f\"}, \"type\": \"carpet\"}], \"choropleth\": [{\"colorbar\": {\"outlinewidth\": 0, \"ticks\": \"\"}, \"type\": \"choropleth\"}], \"contour\": [{\"colorbar\": {\"outlinewidth\": 0, \"ticks\": \"\"}, \"colorscale\": [[0.0, \"#0d0887\"], [0.1111111111111111, \"#46039f\"], [0.2222222222222222, \"#7201a8\"], [0.3333333333333333, \"#9c179e\"], [0.4444444444444444, \"#bd3786\"], [0.5555555555555556, \"#d8576b\"], [0.6666666666666666, \"#ed7953\"], [0.7777777777777778, \"#fb9f3a\"], [0.8888888888888888, \"#fdca26\"], [1.0, \"#f0f921\"]], \"type\": \"contour\"}], \"contourcarpet\": [{\"colorbar\": {\"outlinewidth\": 0, \"ticks\": \"\"}, \"type\": \"contourcarpet\"}], \"heatmap\": [{\"colorbar\": {\"outlinewidth\": 0, \"ticks\": \"\"}, \"colorscale\": [[0.0, \"#0d0887\"], [0.1111111111111111, \"#46039f\"], [0.2222222222222222, \"#7201a8\"], [0.3333333333333333, \"#9c179e\"], [0.4444444444444444, \"#bd3786\"], [0.5555555555555556, \"#d8576b\"], [0.6666666666666666, \"#ed7953\"], [0.7777777777777778, \"#fb9f3a\"], [0.8888888888888888, \"#fdca26\"], [1.0, \"#f0f921\"]], \"type\": \"heatmap\"}], \"heatmapgl\": [{\"colorbar\": {\"outlinewidth\": 0, \"ticks\": \"\"}, \"colorscale\": [[0.0, \"#0d0887\"], [0.1111111111111111, \"#46039f\"], [0.2222222222222222, \"#7201a8\"], [0.3333333333333333, \"#9c179e\"], [0.4444444444444444, \"#bd3786\"], [0.5555555555555556, \"#d8576b\"], [0.6666666666666666, \"#ed7953\"], [0.7777777777777778, \"#fb9f3a\"], [0.8888888888888888, \"#fdca26\"], [1.0, \"#f0f921\"]], \"type\": \"heatmapgl\"}], \"histogram\": [{\"marker\": {\"colorbar\": {\"outlinewidth\": 0, \"ticks\": \"\"}}, \"type\": \"histogram\"}], \"histogram2d\": [{\"colorbar\": {\"outlinewidth\": 0, \"ticks\": \"\"}, \"colorscale\": [[0.0, \"#0d0887\"], [0.1111111111111111, \"#46039f\"], [0.2222222222222222, \"#7201a8\"], [0.3333333333333333, \"#9c179e\"], [0.4444444444444444, \"#bd3786\"], [0.5555555555555556, \"#d8576b\"], [0.6666666666666666, \"#ed7953\"], [0.7777777777777778, \"#fb9f3a\"], [0.8888888888888888, \"#fdca26\"], [1.0, \"#f0f921\"]], \"type\": \"histogram2d\"}], \"histogram2dcontour\": [{\"colorbar\": {\"outlinewidth\": 0, \"ticks\": \"\"}, \"colorscale\": [[0.0, \"#0d0887\"], [0.1111111111111111, \"#46039f\"], [0.2222222222222222, \"#7201a8\"], [0.3333333333333333, \"#9c179e\"], [0.4444444444444444, \"#bd3786\"], [0.5555555555555556, \"#d8576b\"], [0.6666666666666666, \"#ed7953\"], [0.7777777777777778, \"#fb9f3a\"], [0.8888888888888888, \"#fdca26\"], [1.0, \"#f0f921\"]], \"type\": \"histogram2dcontour\"}], \"mesh3d\": [{\"colorbar\": {\"outlinewidth\": 0, \"ticks\": \"\"}, \"type\": \"mesh3d\"}], \"parcoords\": [{\"line\": {\"colorbar\": {\"outlinewidth\": 0, \"ticks\": \"\"}}, \"type\": \"parcoords\"}], \"pie\": [{\"automargin\": true, \"type\": \"pie\"}], \"scatter\": [{\"marker\": {\"colorbar\": {\"outlinewidth\": 0, \"ticks\": \"\"}}, \"type\": \"scatter\"}], \"scatter3d\": [{\"line\": {\"colorbar\": {\"outlinewidth\": 0, \"ticks\": \"\"}}, \"marker\": {\"colorbar\": {\"outlinewidth\": 0, \"ticks\": \"\"}}, \"type\": \"scatter3d\"}], \"scattercarpet\": [{\"marker\": {\"colorbar\": {\"outlinewidth\": 0, \"ticks\": \"\"}}, \"type\": \"scattercarpet\"}], \"scattergeo\": [{\"marker\": {\"colorbar\": {\"outlinewidth\": 0, \"ticks\": \"\"}}, \"type\": \"scattergeo\"}], \"scattergl\": [{\"marker\": {\"colorbar\": {\"outlinewidth\": 0, \"ticks\": \"\"}}, \"type\": \"scattergl\"}], \"scattermapbox\": [{\"marker\": {\"colorbar\": {\"outlinewidth\": 0, \"ticks\": \"\"}}, \"type\": \"scattermapbox\"}], \"scatterpolar\": [{\"marker\": {\"colorbar\": {\"outlinewidth\": 0, \"ticks\": \"\"}}, \"type\": \"scatterpolar\"}], \"scatterpolargl\": [{\"marker\": {\"colorbar\": {\"outlinewidth\": 0, \"ticks\": \"\"}}, \"type\": \"scatterpolargl\"}], \"scatterternary\": [{\"marker\": {\"colorbar\": {\"outlinewidth\": 0, \"ticks\": \"\"}}, \"type\": \"scatterternary\"}], \"surface\": [{\"colorbar\": {\"outlinewidth\": 0, \"ticks\": \"\"}, \"colorscale\": [[0.0, \"#0d0887\"], [0.1111111111111111, \"#46039f\"], [0.2222222222222222, \"#7201a8\"], [0.3333333333333333, \"#9c179e\"], [0.4444444444444444, \"#bd3786\"], [0.5555555555555556, \"#d8576b\"], [0.6666666666666666, \"#ed7953\"], [0.7777777777777778, \"#fb9f3a\"], [0.8888888888888888, \"#fdca26\"], [1.0, \"#f0f921\"]], \"type\": \"surface\"}], \"table\": [{\"cells\": {\"fill\": {\"color\": \"#EBF0F8\"}, \"line\": {\"color\": \"white\"}}, \"header\": {\"fill\": {\"color\": \"#C8D4E3\"}, \"line\": {\"color\": \"white\"}}, \"type\": \"table\"}]}, \"layout\": {\"annotationdefaults\": {\"arrowcolor\": \"#2a3f5f\", \"arrowhead\": 0, \"arrowwidth\": 1}, \"autotypenumbers\": \"strict\", \"coloraxis\": {\"colorbar\": {\"outlinewidth\": 0, \"ticks\": \"\"}}, \"colorscale\": {\"diverging\": [[0, \"#8e0152\"], [0.1, \"#c51b7d\"], [0.2, \"#de77ae\"], [0.3, \"#f1b6da\"], [0.4, \"#fde0ef\"], [0.5, \"#f7f7f7\"], [0.6, \"#e6f5d0\"], [0.7, \"#b8e186\"], [0.8, \"#7fbc41\"], [0.9, \"#4d9221\"], [1, \"#276419\"]], \"sequential\": [[0.0, \"#0d0887\"], [0.1111111111111111, \"#46039f\"], [0.2222222222222222, \"#7201a8\"], [0.3333333333333333, \"#9c179e\"], [0.4444444444444444, \"#bd3786\"], [0.5555555555555556, \"#d8576b\"], [0.6666666666666666, \"#ed7953\"], [0.7777777777777778, \"#fb9f3a\"], [0.8888888888888888, \"#fdca26\"], [1.0, \"#f0f921\"]], \"sequentialminus\": [[0.0, \"#0d0887\"], [0.1111111111111111, \"#46039f\"], [0.2222222222222222, \"#7201a8\"], [0.3333333333333333, \"#9c179e\"], [0.4444444444444444, \"#bd3786\"], [0.5555555555555556, \"#d8576b\"], [0.6666666666666666, \"#ed7953\"], [0.7777777777777778, \"#fb9f3a\"], [0.8888888888888888, \"#fdca26\"], [1.0, \"#f0f921\"]]}, \"colorway\": [\"#636efa\", \"#EF553B\", \"#00cc96\", \"#ab63fa\", \"#FFA15A\", \"#19d3f3\", \"#FF6692\", \"#B6E880\", \"#FF97FF\", \"#FECB52\"], \"font\": {\"color\": \"#2a3f5f\"}, \"geo\": {\"bgcolor\": \"white\", \"lakecolor\": \"white\", \"landcolor\": \"#E5ECF6\", \"showlakes\": true, \"showland\": true, \"subunitcolor\": \"white\"}, \"hoverlabel\": {\"align\": \"left\"}, \"hovermode\": \"closest\", \"mapbox\": {\"style\": \"light\"}, \"paper_bgcolor\": \"white\", \"plot_bgcolor\": \"#E5ECF6\", \"polar\": {\"angularaxis\": {\"gridcolor\": \"white\", \"linecolor\": \"white\", \"ticks\": \"\"}, \"bgcolor\": \"#E5ECF6\", \"radialaxis\": {\"gridcolor\": \"white\", \"linecolor\": \"white\", \"ticks\": \"\"}}, \"scene\": {\"xaxis\": {\"backgroundcolor\": \"#E5ECF6\", \"gridcolor\": \"white\", \"gridwidth\": 2, \"linecolor\": \"white\", \"showbackground\": true, \"ticks\": \"\", \"zerolinecolor\": \"white\"}, \"yaxis\": {\"backgroundcolor\": \"#E5ECF6\", \"gridcolor\": \"white\", \"gridwidth\": 2, \"linecolor\": \"white\", \"showbackground\": true, \"ticks\": \"\", \"zerolinecolor\": \"white\"}, \"zaxis\": {\"backgroundcolor\": \"#E5ECF6\", \"gridcolor\": \"white\", \"gridwidth\": 2, \"linecolor\": \"white\", \"showbackground\": true, \"ticks\": \"\", \"zerolinecolor\": \"white\"}}, \"shapedefaults\": {\"line\": {\"color\": \"#2a3f5f\"}}, \"ternary\": {\"aaxis\": {\"gridcolor\": \"white\", \"linecolor\": \"white\", \"ticks\": \"\"}, \"baxis\": {\"gridcolor\": \"white\", \"linecolor\": \"white\", \"ticks\": \"\"}, \"bgcolor\": \"#E5ECF6\", \"caxis\": {\"gridcolor\": \"white\", \"linecolor\": \"white\", \"ticks\": \"\"}}, \"title\": {\"x\": 0.05}, \"xaxis\": {\"automargin\": true, \"gridcolor\": \"white\", \"linecolor\": \"white\", \"ticks\": \"\", \"title\": {\"standoff\": 15}, \"zerolinecolor\": \"white\", \"zerolinewidth\": 2}, \"yaxis\": {\"automargin\": true, \"gridcolor\": \"white\", \"linecolor\": \"white\", \"ticks\": \"\", \"title\": {\"standoff\": 15}, \"zerolinecolor\": \"white\", \"zerolinewidth\": 2}}}, \"title\": {\"text\": \"Feature importance in the decision tree\"}, \"xaxis\": {\"tickangle\": 30, \"title\": {\"text\": \"feature\"}}, \"yaxis\": {\"automargin\": true, \"title\": {\"text\": \"feature importance\"}}},                        {\"responsive\": true}                    ).then(function(){\n",
       "                            \n",
       "var gd = document.getElementById('49bc90ee-e8b7-4a81-8bc4-cdae40d5a7a8');\n",
       "var x = new MutationObserver(function (mutations, observer) {{\n",
       "        var display = window.getComputedStyle(gd).display;\n",
       "        if (!display || display === 'none') {{\n",
       "            console.log([gd, 'removed!']);\n",
       "            Plotly.purge(gd);\n",
       "            observer.disconnect();\n",
       "        }}\n",
       "}});\n",
       "\n",
       "// Listen for the removal of the full notebook cells\n",
       "var notebookContainer = gd.closest('#notebook-container');\n",
       "if (notebookContainer) {{\n",
       "    x.observe(notebookContainer, {childList: true});\n",
       "}}\n",
       "\n",
       "// Listen for the clearing of the current output cell\n",
       "var outputEl = gd.closest('.output');\n",
       "if (outputEl) {{\n",
       "    x.observe(outputEl, {childList: true});\n",
       "}}\n",
       "\n",
       "                        })                };                });            </script>        </div>"
      ]
     },
     "metadata": {},
     "output_type": "display_data"
    }
   ],
   "source": [
    "feature_importance = np.array(sorted(zip(X_train.columns, gs_dt.best_estimator_.named_steps['clf'].feature_importances_), key=lambda x: x[1]))\n",
    "#, reverse=True\n",
    "plot_feature_importance(feature_importance, \"Feature importance in the decision tree\")"
   ]
  },
  {
   "cell_type": "code",
   "execution_count": 53,
   "metadata": {},
   "outputs": [
    {
     "data": {
      "application/vnd.plotly.v1+json": {
       "config": {
        "linkText": "Export to plot.ly",
        "plotlyServerURL": "https://plot.ly",
        "showLink": false
       },
       "data": [
        {
         "hoverlabel": {
          "namelength": 20
         },
         "line": {
          "color": "rgba(31, 119, 180, 0.40)",
          "width": 0.1
         },
         "mode": "lines",
         "name": "",
         "showlegend": false,
         "type": "scatter",
         "x": [
          89,
          289,
          490,
          691,
          892
         ],
         "y": [
          null,
          0.9077109861134491,
          0.9362777910657794,
          0.9259157898197038,
          0.9306046308452144
         ]
        },
        {
         "fill": "tonexty",
         "hoverlabel": {
          "namelength": 20
         },
         "line": {
          "color": "rgba(31, 119, 180, 0.40)",
          "width": 0.1
         },
         "mode": "lines",
         "name": "",
         "showlegend": false,
         "type": "scatter",
         "x": [
          89,
          289,
          490,
          691,
          892
         ],
         "y": [
          null,
          0.954185133495919,
          0.961427351226519,
          0.9580646960425029,
          0.9604401094453608
         ]
        },
        {
         "line": {
          "color": "rgb(31, 119, 180)"
         },
         "name": "Train score",
         "showlegend": true,
         "type": "scatter",
         "x": [
          89,
          289,
          490,
          691,
          892
         ],
         "y": [
          null,
          0.9309480598046841,
          0.9488525711461492,
          0.9419902429311033,
          0.9455223701452876
         ]
        },
        {
         "hoverlabel": {
          "namelength": 20
         },
         "line": {
          "color": "rgba(255, 127, 14, 0.40)",
          "width": 0.1
         },
         "mode": "lines",
         "name": "",
         "showlegend": false,
         "type": "scatter",
         "x": [
          89,
          289,
          490,
          691,
          892
         ],
         "y": [
          null,
          0.2904292570877771,
          0.342443280428011,
          0.2721939068706042,
          0.3572440534346027
         ]
        },
        {
         "fill": "tonexty",
         "hoverlabel": {
          "namelength": 20
         },
         "line": {
          "color": "rgba(255, 127, 14, 0.40)",
          "width": 0.1
         },
         "mode": "lines",
         "name": "",
         "showlegend": false,
         "type": "scatter",
         "x": [
          89,
          289,
          490,
          691,
          892
         ],
         "y": [
          null,
          0.4708718118347752,
          0.4919403244728353,
          0.4534293063941185,
          0.44005497370313423
         ]
        },
        {
         "line": {
          "color": "rgb(255, 127, 14)"
         },
         "name": "Test score",
         "showlegend": true,
         "type": "scatter",
         "x": [
          89,
          289,
          490,
          691,
          892
         ],
         "y": [
          null,
          0.38065053446127617,
          0.41719180245042314,
          0.36281160663236134,
          0.39864951356886846
         ]
        }
       ],
       "layout": {
        "autosize": true,
        "legend": {
         "x": 0.8,
         "y": 0
        },
        "template": {
         "data": {
          "bar": [
           {
            "error_x": {
             "color": "#2a3f5f"
            },
            "error_y": {
             "color": "#2a3f5f"
            },
            "marker": {
             "line": {
              "color": "#E5ECF6",
              "width": 0.5
             }
            },
            "type": "bar"
           }
          ],
          "barpolar": [
           {
            "marker": {
             "line": {
              "color": "#E5ECF6",
              "width": 0.5
             }
            },
            "type": "barpolar"
           }
          ],
          "carpet": [
           {
            "aaxis": {
             "endlinecolor": "#2a3f5f",
             "gridcolor": "white",
             "linecolor": "white",
             "minorgridcolor": "white",
             "startlinecolor": "#2a3f5f"
            },
            "baxis": {
             "endlinecolor": "#2a3f5f",
             "gridcolor": "white",
             "linecolor": "white",
             "minorgridcolor": "white",
             "startlinecolor": "#2a3f5f"
            },
            "type": "carpet"
           }
          ],
          "choropleth": [
           {
            "colorbar": {
             "outlinewidth": 0,
             "ticks": ""
            },
            "type": "choropleth"
           }
          ],
          "contour": [
           {
            "colorbar": {
             "outlinewidth": 0,
             "ticks": ""
            },
            "colorscale": [
             [
              0,
              "#0d0887"
             ],
             [
              0.1111111111111111,
              "#46039f"
             ],
             [
              0.2222222222222222,
              "#7201a8"
             ],
             [
              0.3333333333333333,
              "#9c179e"
             ],
             [
              0.4444444444444444,
              "#bd3786"
             ],
             [
              0.5555555555555556,
              "#d8576b"
             ],
             [
              0.6666666666666666,
              "#ed7953"
             ],
             [
              0.7777777777777778,
              "#fb9f3a"
             ],
             [
              0.8888888888888888,
              "#fdca26"
             ],
             [
              1,
              "#f0f921"
             ]
            ],
            "type": "contour"
           }
          ],
          "contourcarpet": [
           {
            "colorbar": {
             "outlinewidth": 0,
             "ticks": ""
            },
            "type": "contourcarpet"
           }
          ],
          "heatmap": [
           {
            "colorbar": {
             "outlinewidth": 0,
             "ticks": ""
            },
            "colorscale": [
             [
              0,
              "#0d0887"
             ],
             [
              0.1111111111111111,
              "#46039f"
             ],
             [
              0.2222222222222222,
              "#7201a8"
             ],
             [
              0.3333333333333333,
              "#9c179e"
             ],
             [
              0.4444444444444444,
              "#bd3786"
             ],
             [
              0.5555555555555556,
              "#d8576b"
             ],
             [
              0.6666666666666666,
              "#ed7953"
             ],
             [
              0.7777777777777778,
              "#fb9f3a"
             ],
             [
              0.8888888888888888,
              "#fdca26"
             ],
             [
              1,
              "#f0f921"
             ]
            ],
            "type": "heatmap"
           }
          ],
          "heatmapgl": [
           {
            "colorbar": {
             "outlinewidth": 0,
             "ticks": ""
            },
            "colorscale": [
             [
              0,
              "#0d0887"
             ],
             [
              0.1111111111111111,
              "#46039f"
             ],
             [
              0.2222222222222222,
              "#7201a8"
             ],
             [
              0.3333333333333333,
              "#9c179e"
             ],
             [
              0.4444444444444444,
              "#bd3786"
             ],
             [
              0.5555555555555556,
              "#d8576b"
             ],
             [
              0.6666666666666666,
              "#ed7953"
             ],
             [
              0.7777777777777778,
              "#fb9f3a"
             ],
             [
              0.8888888888888888,
              "#fdca26"
             ],
             [
              1,
              "#f0f921"
             ]
            ],
            "type": "heatmapgl"
           }
          ],
          "histogram": [
           {
            "marker": {
             "colorbar": {
              "outlinewidth": 0,
              "ticks": ""
             }
            },
            "type": "histogram"
           }
          ],
          "histogram2d": [
           {
            "colorbar": {
             "outlinewidth": 0,
             "ticks": ""
            },
            "colorscale": [
             [
              0,
              "#0d0887"
             ],
             [
              0.1111111111111111,
              "#46039f"
             ],
             [
              0.2222222222222222,
              "#7201a8"
             ],
             [
              0.3333333333333333,
              "#9c179e"
             ],
             [
              0.4444444444444444,
              "#bd3786"
             ],
             [
              0.5555555555555556,
              "#d8576b"
             ],
             [
              0.6666666666666666,
              "#ed7953"
             ],
             [
              0.7777777777777778,
              "#fb9f3a"
             ],
             [
              0.8888888888888888,
              "#fdca26"
             ],
             [
              1,
              "#f0f921"
             ]
            ],
            "type": "histogram2d"
           }
          ],
          "histogram2dcontour": [
           {
            "colorbar": {
             "outlinewidth": 0,
             "ticks": ""
            },
            "colorscale": [
             [
              0,
              "#0d0887"
             ],
             [
              0.1111111111111111,
              "#46039f"
             ],
             [
              0.2222222222222222,
              "#7201a8"
             ],
             [
              0.3333333333333333,
              "#9c179e"
             ],
             [
              0.4444444444444444,
              "#bd3786"
             ],
             [
              0.5555555555555556,
              "#d8576b"
             ],
             [
              0.6666666666666666,
              "#ed7953"
             ],
             [
              0.7777777777777778,
              "#fb9f3a"
             ],
             [
              0.8888888888888888,
              "#fdca26"
             ],
             [
              1,
              "#f0f921"
             ]
            ],
            "type": "histogram2dcontour"
           }
          ],
          "mesh3d": [
           {
            "colorbar": {
             "outlinewidth": 0,
             "ticks": ""
            },
            "type": "mesh3d"
           }
          ],
          "parcoords": [
           {
            "line": {
             "colorbar": {
              "outlinewidth": 0,
              "ticks": ""
             }
            },
            "type": "parcoords"
           }
          ],
          "pie": [
           {
            "automargin": true,
            "type": "pie"
           }
          ],
          "scatter": [
           {
            "marker": {
             "colorbar": {
              "outlinewidth": 0,
              "ticks": ""
             }
            },
            "type": "scatter"
           }
          ],
          "scatter3d": [
           {
            "line": {
             "colorbar": {
              "outlinewidth": 0,
              "ticks": ""
             }
            },
            "marker": {
             "colorbar": {
              "outlinewidth": 0,
              "ticks": ""
             }
            },
            "type": "scatter3d"
           }
          ],
          "scattercarpet": [
           {
            "marker": {
             "colorbar": {
              "outlinewidth": 0,
              "ticks": ""
             }
            },
            "type": "scattercarpet"
           }
          ],
          "scattergeo": [
           {
            "marker": {
             "colorbar": {
              "outlinewidth": 0,
              "ticks": ""
             }
            },
            "type": "scattergeo"
           }
          ],
          "scattergl": [
           {
            "marker": {
             "colorbar": {
              "outlinewidth": 0,
              "ticks": ""
             }
            },
            "type": "scattergl"
           }
          ],
          "scattermapbox": [
           {
            "marker": {
             "colorbar": {
              "outlinewidth": 0,
              "ticks": ""
             }
            },
            "type": "scattermapbox"
           }
          ],
          "scatterpolar": [
           {
            "marker": {
             "colorbar": {
              "outlinewidth": 0,
              "ticks": ""
             }
            },
            "type": "scatterpolar"
           }
          ],
          "scatterpolargl": [
           {
            "marker": {
             "colorbar": {
              "outlinewidth": 0,
              "ticks": ""
             }
            },
            "type": "scatterpolargl"
           }
          ],
          "scatterternary": [
           {
            "marker": {
             "colorbar": {
              "outlinewidth": 0,
              "ticks": ""
             }
            },
            "type": "scatterternary"
           }
          ],
          "surface": [
           {
            "colorbar": {
             "outlinewidth": 0,
             "ticks": ""
            },
            "colorscale": [
             [
              0,
              "#0d0887"
             ],
             [
              0.1111111111111111,
              "#46039f"
             ],
             [
              0.2222222222222222,
              "#7201a8"
             ],
             [
              0.3333333333333333,
              "#9c179e"
             ],
             [
              0.4444444444444444,
              "#bd3786"
             ],
             [
              0.5555555555555556,
              "#d8576b"
             ],
             [
              0.6666666666666666,
              "#ed7953"
             ],
             [
              0.7777777777777778,
              "#fb9f3a"
             ],
             [
              0.8888888888888888,
              "#fdca26"
             ],
             [
              1,
              "#f0f921"
             ]
            ],
            "type": "surface"
           }
          ],
          "table": [
           {
            "cells": {
             "fill": {
              "color": "#EBF0F8"
             },
             "line": {
              "color": "white"
             }
            },
            "header": {
             "fill": {
              "color": "#C8D4E3"
             },
             "line": {
              "color": "white"
             }
            },
            "type": "table"
           }
          ]
         },
         "layout": {
          "annotationdefaults": {
           "arrowcolor": "#2a3f5f",
           "arrowhead": 0,
           "arrowwidth": 1
          },
          "autotypenumbers": "strict",
          "coloraxis": {
           "colorbar": {
            "outlinewidth": 0,
            "ticks": ""
           }
          },
          "colorscale": {
           "diverging": [
            [
             0,
             "#8e0152"
            ],
            [
             0.1,
             "#c51b7d"
            ],
            [
             0.2,
             "#de77ae"
            ],
            [
             0.3,
             "#f1b6da"
            ],
            [
             0.4,
             "#fde0ef"
            ],
            [
             0.5,
             "#f7f7f7"
            ],
            [
             0.6,
             "#e6f5d0"
            ],
            [
             0.7,
             "#b8e186"
            ],
            [
             0.8,
             "#7fbc41"
            ],
            [
             0.9,
             "#4d9221"
            ],
            [
             1,
             "#276419"
            ]
           ],
           "sequential": [
            [
             0,
             "#0d0887"
            ],
            [
             0.1111111111111111,
             "#46039f"
            ],
            [
             0.2222222222222222,
             "#7201a8"
            ],
            [
             0.3333333333333333,
             "#9c179e"
            ],
            [
             0.4444444444444444,
             "#bd3786"
            ],
            [
             0.5555555555555556,
             "#d8576b"
            ],
            [
             0.6666666666666666,
             "#ed7953"
            ],
            [
             0.7777777777777778,
             "#fb9f3a"
            ],
            [
             0.8888888888888888,
             "#fdca26"
            ],
            [
             1,
             "#f0f921"
            ]
           ],
           "sequentialminus": [
            [
             0,
             "#0d0887"
            ],
            [
             0.1111111111111111,
             "#46039f"
            ],
            [
             0.2222222222222222,
             "#7201a8"
            ],
            [
             0.3333333333333333,
             "#9c179e"
            ],
            [
             0.4444444444444444,
             "#bd3786"
            ],
            [
             0.5555555555555556,
             "#d8576b"
            ],
            [
             0.6666666666666666,
             "#ed7953"
            ],
            [
             0.7777777777777778,
             "#fb9f3a"
            ],
            [
             0.8888888888888888,
             "#fdca26"
            ],
            [
             1,
             "#f0f921"
            ]
           ]
          },
          "colorway": [
           "#636efa",
           "#EF553B",
           "#00cc96",
           "#ab63fa",
           "#FFA15A",
           "#19d3f3",
           "#FF6692",
           "#B6E880",
           "#FF97FF",
           "#FECB52"
          ],
          "font": {
           "color": "#2a3f5f"
          },
          "geo": {
           "bgcolor": "white",
           "lakecolor": "white",
           "landcolor": "#E5ECF6",
           "showlakes": true,
           "showland": true,
           "subunitcolor": "white"
          },
          "hoverlabel": {
           "align": "left"
          },
          "hovermode": "closest",
          "mapbox": {
           "style": "light"
          },
          "paper_bgcolor": "white",
          "plot_bgcolor": "#E5ECF6",
          "polar": {
           "angularaxis": {
            "gridcolor": "white",
            "linecolor": "white",
            "ticks": ""
           },
           "bgcolor": "#E5ECF6",
           "radialaxis": {
            "gridcolor": "white",
            "linecolor": "white",
            "ticks": ""
           }
          },
          "scene": {
           "xaxis": {
            "backgroundcolor": "#E5ECF6",
            "gridcolor": "white",
            "gridwidth": 2,
            "linecolor": "white",
            "showbackground": true,
            "ticks": "",
            "zerolinecolor": "white"
           },
           "yaxis": {
            "backgroundcolor": "#E5ECF6",
            "gridcolor": "white",
            "gridwidth": 2,
            "linecolor": "white",
            "showbackground": true,
            "ticks": "",
            "zerolinecolor": "white"
           },
           "zaxis": {
            "backgroundcolor": "#E5ECF6",
            "gridcolor": "white",
            "gridwidth": 2,
            "linecolor": "white",
            "showbackground": true,
            "ticks": "",
            "zerolinecolor": "white"
           }
          },
          "shapedefaults": {
           "line": {
            "color": "#2a3f5f"
           }
          },
          "ternary": {
           "aaxis": {
            "gridcolor": "white",
            "linecolor": "white",
            "ticks": ""
           },
           "baxis": {
            "gridcolor": "white",
            "linecolor": "white",
            "ticks": ""
           },
           "bgcolor": "#E5ECF6",
           "caxis": {
            "gridcolor": "white",
            "linecolor": "white",
            "ticks": ""
           }
          },
          "title": {
           "x": 0.05
          },
          "xaxis": {
           "automargin": true,
           "gridcolor": "white",
           "linecolor": "white",
           "ticks": "",
           "title": {
            "standoff": 15
           },
           "zerolinecolor": "white",
           "zerolinewidth": 2
          },
          "yaxis": {
           "automargin": true,
           "gridcolor": "white",
           "linecolor": "white",
           "ticks": "",
           "title": {
            "standoff": 15
           },
           "zerolinecolor": "white",
           "zerolinewidth": 2
          }
         }
        },
        "title": {
         "text": "Learning Curve of the Decision Tree"
        },
        "xaxis": {
         "title": {
          "text": "#Training samples"
         }
        },
        "yaxis": {
         "title": {
          "text": "F1 Score"
         }
        }
       }
      },
      "text/html": [
       "<div>                            <div id=\"2e3cdea1-060b-4e29-a999-31433f9f9e70\" class=\"plotly-graph-div\" style=\"height:525px; width:100%;\"></div>            <script type=\"text/javascript\">                require([\"plotly\"], function(Plotly) {                    window.PLOTLYENV=window.PLOTLYENV || {};                                    if (document.getElementById(\"2e3cdea1-060b-4e29-a999-31433f9f9e70\")) {                    Plotly.newPlot(                        \"2e3cdea1-060b-4e29-a999-31433f9f9e70\",                        [{\"hoverlabel\": {\"namelength\": 20}, \"line\": {\"color\": \"rgba(31, 119, 180, 0.40)\", \"width\": 0.1}, \"mode\": \"lines\", \"name\": \"\", \"showlegend\": false, \"type\": \"scatter\", \"x\": [89, 289, 490, 691, 892], \"y\": [null, 0.9077109861134491, 0.9362777910657794, 0.9259157898197038, 0.9306046308452144]}, {\"fill\": \"tonexty\", \"hoverlabel\": {\"namelength\": 20}, \"line\": {\"color\": \"rgba(31, 119, 180, 0.40)\", \"width\": 0.1}, \"mode\": \"lines\", \"name\": \"\", \"showlegend\": false, \"type\": \"scatter\", \"x\": [89, 289, 490, 691, 892], \"y\": [null, 0.954185133495919, 0.961427351226519, 0.9580646960425029, 0.9604401094453608]}, {\"line\": {\"color\": \"rgb(31, 119, 180)\"}, \"name\": \"Train score\", \"showlegend\": true, \"type\": \"scatter\", \"x\": [89, 289, 490, 691, 892], \"y\": [null, 0.9309480598046841, 0.9488525711461492, 0.9419902429311033, 0.9455223701452876]}, {\"hoverlabel\": {\"namelength\": 20}, \"line\": {\"color\": \"rgba(255, 127, 14, 0.40)\", \"width\": 0.1}, \"mode\": \"lines\", \"name\": \"\", \"showlegend\": false, \"type\": \"scatter\", \"x\": [89, 289, 490, 691, 892], \"y\": [null, 0.2904292570877771, 0.342443280428011, 0.2721939068706042, 0.3572440534346027]}, {\"fill\": \"tonexty\", \"hoverlabel\": {\"namelength\": 20}, \"line\": {\"color\": \"rgba(255, 127, 14, 0.40)\", \"width\": 0.1}, \"mode\": \"lines\", \"name\": \"\", \"showlegend\": false, \"type\": \"scatter\", \"x\": [89, 289, 490, 691, 892], \"y\": [null, 0.4708718118347752, 0.4919403244728353, 0.4534293063941185, 0.44005497370313423]}, {\"line\": {\"color\": \"rgb(255, 127, 14)\"}, \"name\": \"Test score\", \"showlegend\": true, \"type\": \"scatter\", \"x\": [89, 289, 490, 691, 892], \"y\": [null, 0.38065053446127617, 0.41719180245042314, 0.36281160663236134, 0.39864951356886846]}],                        {\"autosize\": true, \"legend\": {\"x\": 0.8, \"y\": 0}, \"template\": {\"data\": {\"bar\": [{\"error_x\": {\"color\": \"#2a3f5f\"}, \"error_y\": {\"color\": \"#2a3f5f\"}, \"marker\": {\"line\": {\"color\": \"#E5ECF6\", \"width\": 0.5}}, \"type\": \"bar\"}], \"barpolar\": [{\"marker\": {\"line\": {\"color\": \"#E5ECF6\", \"width\": 0.5}}, \"type\": \"barpolar\"}], \"carpet\": [{\"aaxis\": {\"endlinecolor\": \"#2a3f5f\", \"gridcolor\": \"white\", \"linecolor\": \"white\", \"minorgridcolor\": \"white\", \"startlinecolor\": \"#2a3f5f\"}, \"baxis\": {\"endlinecolor\": \"#2a3f5f\", \"gridcolor\": \"white\", \"linecolor\": \"white\", \"minorgridcolor\": \"white\", \"startlinecolor\": \"#2a3f5f\"}, \"type\": \"carpet\"}], \"choropleth\": [{\"colorbar\": {\"outlinewidth\": 0, \"ticks\": \"\"}, \"type\": \"choropleth\"}], \"contour\": [{\"colorbar\": {\"outlinewidth\": 0, \"ticks\": \"\"}, \"colorscale\": [[0.0, \"#0d0887\"], [0.1111111111111111, \"#46039f\"], [0.2222222222222222, \"#7201a8\"], [0.3333333333333333, \"#9c179e\"], [0.4444444444444444, \"#bd3786\"], [0.5555555555555556, \"#d8576b\"], [0.6666666666666666, \"#ed7953\"], [0.7777777777777778, \"#fb9f3a\"], [0.8888888888888888, \"#fdca26\"], [1.0, \"#f0f921\"]], \"type\": \"contour\"}], \"contourcarpet\": [{\"colorbar\": {\"outlinewidth\": 0, \"ticks\": \"\"}, \"type\": \"contourcarpet\"}], \"heatmap\": [{\"colorbar\": {\"outlinewidth\": 0, \"ticks\": \"\"}, \"colorscale\": [[0.0, \"#0d0887\"], [0.1111111111111111, \"#46039f\"], [0.2222222222222222, \"#7201a8\"], [0.3333333333333333, \"#9c179e\"], [0.4444444444444444, \"#bd3786\"], [0.5555555555555556, \"#d8576b\"], [0.6666666666666666, \"#ed7953\"], [0.7777777777777778, \"#fb9f3a\"], [0.8888888888888888, \"#fdca26\"], [1.0, \"#f0f921\"]], \"type\": \"heatmap\"}], \"heatmapgl\": [{\"colorbar\": {\"outlinewidth\": 0, \"ticks\": \"\"}, \"colorscale\": [[0.0, \"#0d0887\"], [0.1111111111111111, \"#46039f\"], [0.2222222222222222, \"#7201a8\"], [0.3333333333333333, \"#9c179e\"], [0.4444444444444444, \"#bd3786\"], [0.5555555555555556, \"#d8576b\"], [0.6666666666666666, \"#ed7953\"], [0.7777777777777778, \"#fb9f3a\"], [0.8888888888888888, \"#fdca26\"], [1.0, \"#f0f921\"]], \"type\": \"heatmapgl\"}], \"histogram\": [{\"marker\": {\"colorbar\": {\"outlinewidth\": 0, \"ticks\": \"\"}}, \"type\": \"histogram\"}], \"histogram2d\": [{\"colorbar\": {\"outlinewidth\": 0, \"ticks\": \"\"}, \"colorscale\": [[0.0, \"#0d0887\"], [0.1111111111111111, \"#46039f\"], [0.2222222222222222, \"#7201a8\"], [0.3333333333333333, \"#9c179e\"], [0.4444444444444444, \"#bd3786\"], [0.5555555555555556, \"#d8576b\"], [0.6666666666666666, \"#ed7953\"], [0.7777777777777778, \"#fb9f3a\"], [0.8888888888888888, \"#fdca26\"], [1.0, \"#f0f921\"]], \"type\": \"histogram2d\"}], \"histogram2dcontour\": [{\"colorbar\": {\"outlinewidth\": 0, \"ticks\": \"\"}, \"colorscale\": [[0.0, \"#0d0887\"], [0.1111111111111111, \"#46039f\"], [0.2222222222222222, \"#7201a8\"], [0.3333333333333333, \"#9c179e\"], [0.4444444444444444, \"#bd3786\"], [0.5555555555555556, \"#d8576b\"], [0.6666666666666666, \"#ed7953\"], [0.7777777777777778, \"#fb9f3a\"], [0.8888888888888888, \"#fdca26\"], [1.0, \"#f0f921\"]], \"type\": \"histogram2dcontour\"}], \"mesh3d\": [{\"colorbar\": {\"outlinewidth\": 0, \"ticks\": \"\"}, \"type\": \"mesh3d\"}], \"parcoords\": [{\"line\": {\"colorbar\": {\"outlinewidth\": 0, \"ticks\": \"\"}}, \"type\": \"parcoords\"}], \"pie\": [{\"automargin\": true, \"type\": \"pie\"}], \"scatter\": [{\"marker\": {\"colorbar\": {\"outlinewidth\": 0, \"ticks\": \"\"}}, \"type\": \"scatter\"}], \"scatter3d\": [{\"line\": {\"colorbar\": {\"outlinewidth\": 0, \"ticks\": \"\"}}, \"marker\": {\"colorbar\": {\"outlinewidth\": 0, \"ticks\": \"\"}}, \"type\": \"scatter3d\"}], \"scattercarpet\": [{\"marker\": {\"colorbar\": {\"outlinewidth\": 0, \"ticks\": \"\"}}, \"type\": \"scattercarpet\"}], \"scattergeo\": [{\"marker\": {\"colorbar\": {\"outlinewidth\": 0, \"ticks\": \"\"}}, \"type\": \"scattergeo\"}], \"scattergl\": [{\"marker\": {\"colorbar\": {\"outlinewidth\": 0, \"ticks\": \"\"}}, \"type\": \"scattergl\"}], \"scattermapbox\": [{\"marker\": {\"colorbar\": {\"outlinewidth\": 0, \"ticks\": \"\"}}, \"type\": \"scattermapbox\"}], \"scatterpolar\": [{\"marker\": {\"colorbar\": {\"outlinewidth\": 0, \"ticks\": \"\"}}, \"type\": \"scatterpolar\"}], \"scatterpolargl\": [{\"marker\": {\"colorbar\": {\"outlinewidth\": 0, \"ticks\": \"\"}}, \"type\": \"scatterpolargl\"}], \"scatterternary\": [{\"marker\": {\"colorbar\": {\"outlinewidth\": 0, \"ticks\": \"\"}}, \"type\": \"scatterternary\"}], \"surface\": [{\"colorbar\": {\"outlinewidth\": 0, \"ticks\": \"\"}, \"colorscale\": [[0.0, \"#0d0887\"], [0.1111111111111111, \"#46039f\"], [0.2222222222222222, \"#7201a8\"], [0.3333333333333333, \"#9c179e\"], [0.4444444444444444, \"#bd3786\"], [0.5555555555555556, \"#d8576b\"], [0.6666666666666666, \"#ed7953\"], [0.7777777777777778, \"#fb9f3a\"], [0.8888888888888888, \"#fdca26\"], [1.0, \"#f0f921\"]], \"type\": \"surface\"}], \"table\": [{\"cells\": {\"fill\": {\"color\": \"#EBF0F8\"}, \"line\": {\"color\": \"white\"}}, \"header\": {\"fill\": {\"color\": \"#C8D4E3\"}, \"line\": {\"color\": \"white\"}}, \"type\": \"table\"}]}, \"layout\": {\"annotationdefaults\": {\"arrowcolor\": \"#2a3f5f\", \"arrowhead\": 0, \"arrowwidth\": 1}, \"autotypenumbers\": \"strict\", \"coloraxis\": {\"colorbar\": {\"outlinewidth\": 0, \"ticks\": \"\"}}, \"colorscale\": {\"diverging\": [[0, \"#8e0152\"], [0.1, \"#c51b7d\"], [0.2, \"#de77ae\"], [0.3, \"#f1b6da\"], [0.4, \"#fde0ef\"], [0.5, \"#f7f7f7\"], [0.6, \"#e6f5d0\"], [0.7, \"#b8e186\"], [0.8, \"#7fbc41\"], [0.9, \"#4d9221\"], [1, \"#276419\"]], \"sequential\": [[0.0, \"#0d0887\"], [0.1111111111111111, \"#46039f\"], [0.2222222222222222, \"#7201a8\"], [0.3333333333333333, \"#9c179e\"], [0.4444444444444444, \"#bd3786\"], [0.5555555555555556, \"#d8576b\"], [0.6666666666666666, \"#ed7953\"], [0.7777777777777778, \"#fb9f3a\"], [0.8888888888888888, \"#fdca26\"], [1.0, \"#f0f921\"]], \"sequentialminus\": [[0.0, \"#0d0887\"], [0.1111111111111111, \"#46039f\"], [0.2222222222222222, \"#7201a8\"], [0.3333333333333333, \"#9c179e\"], [0.4444444444444444, \"#bd3786\"], [0.5555555555555556, \"#d8576b\"], [0.6666666666666666, \"#ed7953\"], [0.7777777777777778, \"#fb9f3a\"], [0.8888888888888888, \"#fdca26\"], [1.0, \"#f0f921\"]]}, \"colorway\": [\"#636efa\", \"#EF553B\", \"#00cc96\", \"#ab63fa\", \"#FFA15A\", \"#19d3f3\", \"#FF6692\", \"#B6E880\", \"#FF97FF\", \"#FECB52\"], \"font\": {\"color\": \"#2a3f5f\"}, \"geo\": {\"bgcolor\": \"white\", \"lakecolor\": \"white\", \"landcolor\": \"#E5ECF6\", \"showlakes\": true, \"showland\": true, \"subunitcolor\": \"white\"}, \"hoverlabel\": {\"align\": \"left\"}, \"hovermode\": \"closest\", \"mapbox\": {\"style\": \"light\"}, \"paper_bgcolor\": \"white\", \"plot_bgcolor\": \"#E5ECF6\", \"polar\": {\"angularaxis\": {\"gridcolor\": \"white\", \"linecolor\": \"white\", \"ticks\": \"\"}, \"bgcolor\": \"#E5ECF6\", \"radialaxis\": {\"gridcolor\": \"white\", \"linecolor\": \"white\", \"ticks\": \"\"}}, \"scene\": {\"xaxis\": {\"backgroundcolor\": \"#E5ECF6\", \"gridcolor\": \"white\", \"gridwidth\": 2, \"linecolor\": \"white\", \"showbackground\": true, \"ticks\": \"\", \"zerolinecolor\": \"white\"}, \"yaxis\": {\"backgroundcolor\": \"#E5ECF6\", \"gridcolor\": \"white\", \"gridwidth\": 2, \"linecolor\": \"white\", \"showbackground\": true, \"ticks\": \"\", \"zerolinecolor\": \"white\"}, \"zaxis\": {\"backgroundcolor\": \"#E5ECF6\", \"gridcolor\": \"white\", \"gridwidth\": 2, \"linecolor\": \"white\", \"showbackground\": true, \"ticks\": \"\", \"zerolinecolor\": \"white\"}}, \"shapedefaults\": {\"line\": {\"color\": \"#2a3f5f\"}}, \"ternary\": {\"aaxis\": {\"gridcolor\": \"white\", \"linecolor\": \"white\", \"ticks\": \"\"}, \"baxis\": {\"gridcolor\": \"white\", \"linecolor\": \"white\", \"ticks\": \"\"}, \"bgcolor\": \"#E5ECF6\", \"caxis\": {\"gridcolor\": \"white\", \"linecolor\": \"white\", \"ticks\": \"\"}}, \"title\": {\"x\": 0.05}, \"xaxis\": {\"automargin\": true, \"gridcolor\": \"white\", \"linecolor\": \"white\", \"ticks\": \"\", \"title\": {\"standoff\": 15}, \"zerolinecolor\": \"white\", \"zerolinewidth\": 2}, \"yaxis\": {\"automargin\": true, \"gridcolor\": \"white\", \"linecolor\": \"white\", \"ticks\": \"\", \"title\": {\"standoff\": 15}, \"zerolinecolor\": \"white\", \"zerolinewidth\": 2}}}, \"title\": {\"text\": \"Learning Curve of the Decision Tree\"}, \"xaxis\": {\"title\": {\"text\": \"#Training samples\"}}, \"yaxis\": {\"title\": {\"text\": \"F1 Score\"}}},                        {\"responsive\": true}                    ).then(function(){\n",
       "                            \n",
       "var gd = document.getElementById('2e3cdea1-060b-4e29-a999-31433f9f9e70');\n",
       "var x = new MutationObserver(function (mutations, observer) {{\n",
       "        var display = window.getComputedStyle(gd).display;\n",
       "        if (!display || display === 'none') {{\n",
       "            console.log([gd, 'removed!']);\n",
       "            Plotly.purge(gd);\n",
       "            observer.disconnect();\n",
       "        }}\n",
       "}});\n",
       "\n",
       "// Listen for the removal of the full notebook cells\n",
       "var notebookContainer = gd.closest('#notebook-container');\n",
       "if (notebookContainer) {{\n",
       "    x.observe(notebookContainer, {childList: true});\n",
       "}}\n",
       "\n",
       "// Listen for the clearing of the current output cell\n",
       "var outputEl = gd.closest('.output');\n",
       "if (outputEl) {{\n",
       "    x.observe(outputEl, {childList: true});\n",
       "}}\n",
       "\n",
       "                        })                };                });            </script>        </div>"
      ]
     },
     "metadata": {},
     "output_type": "display_data"
    }
   ],
   "source": [
    "plot_learning_curve(gs_dt.best_estimator_, \"Learning Curve of the Decision Tree\", X_train, y_train, cv=5)"
   ]
  },
  {
   "cell_type": "markdown",
   "metadata": {},
   "source": [
    "### Evaluation of Decision Tree Classifier Using Grid Search, Confusion Matrix, Feature Importance, and Learning Curve\n",
    "\n",
    "These 5 next boxes evaluate a Decision Tree classifier by optimizing hyperparameters, analyzing performance, and visualizing key metrics using grid search with cross-validation, confusion matrix, feature importance, and learning curve.\n",
    "\n",
    "#### Key Steps and Explanation:\n",
    "\n",
    "1.  **Model Setup and Grid Search**:\n",
    "    \n",
    "    *   **Decision Tree Classifier Initialization**\n",
    "        \n",
    "        *   Initializes a Decision Tree classifier with a specified random seed to ensure reproducibility of results.\n",
    "    *   **Grid Search with Cross-Validation**\n",
    "        \n",
    "        *   Performs a grid search with cross-validation to find the optimal hyperparameters for the Decision Tree classifier. The hyperparameters specified in `DECISION_TREE_PARAMS` include maximum depth, maximum features, criterion (either 'gini' or 'entropy'), and the minimum number of samples required to split an internal node.\n",
    "        *   Utilizes Stratified K-Fold (`kf`) to maintain class distribution across folds and applies SMOTE to address class imbalance by generating synthetic samples for the minority class.\n",
    "    *   **Printing Best Scores and Parameters**\n",
    "        \n",
    "        *   Outputs the best grid search scores along with their corresponding hyperparameters, allowing identification of the most effective Decision Tree configuration.\n",
    "2.  **Model Evaluation on Test Set**:\n",
    "    \n",
    "    *   **Score and Predictions**\n",
    "        \n",
    "        *   Evaluates the optimized Decision Tree on the test set, yielding the performance score and generating predictions for the test data.\n",
    "    *   **Confusion Matrix Calculation**\n",
    "        \n",
    "        *   Constructs a confusion matrix based on the model's predictions and normalizes it to represent the proportions of true positives, false positives, true negatives, and false negatives relative to each actual class.\n",
    "    *   **Confusion Matrix DataFrame**\n",
    "        \n",
    "        *   Converts the normalized confusion matrix into a DataFrame with descriptive labels:\n",
    "            *   Rows represent actual classes: \"true no Fraud\" and \"true Fraud\".\n",
    "            *   Columns represent predicted classes: \"predicted no Fraud\" and \"predicted Fraud\".\n",
    "        *   This table provides a clear view of the model's classification accuracy for both fraud and non-fraud instances.\n",
    "3.  **Feature Importance Analysis**:\n",
    "    \n",
    "    *   **Extracting and Plotting Feature Importance**\n",
    "        \n",
    "        *   Identifies and sorts features based on their importance as determined by the best Decision Tree model from grid search.\n",
    "        *   **Purpose**: Highlights which features contribute most significantly to the model's decision-making process, enabling better understanding and potential feature engineering.\n",
    "4.  **Learning Curve Visualization**:\n",
    "    \n",
    "    *   **Plotting Learning Curve**\n",
    "        \n",
    "        *   Generates a learning curve for the optimal Decision Tree model found through grid search.\n",
    "        *   **Purpose**: Displays how the model's performance evolves with varying sizes of training data, comparing training and validation accuracy. This visualization is essential for diagnosing issues such as overfitting (high training accuracy, low validation accuracy) or underfitting (low accuracy in both training and validation sets), guiding further model refinement.\n",
    "\n",
    "#### Overall Workflow:\n",
    "\n",
    "*   This workflow systematically optimizes, evaluates, and interprets a Decision Tree classifier using grid search with cross-validation and SMOTE to manage imbalanced classes. It assesses performance using a normalized confusion matrix, investigates feature importance, and visualizes the model's learning behavior through a learning curve, offering a comprehensive approach to model assessment and understanding."
   ]
  },
  {
   "cell_type": "code",
   "execution_count": 54,
   "metadata": {},
   "outputs": [
    {
     "name": "stdout",
     "output_type": "stream",
     "text": [
      "Best grid scores on validation set:\n",
      "0.578 (+/-0.163) for {'clf__criterion': 'entropy', 'clf__max_depth': 75, 'clf__max_features': 'sqrt', 'clf__n_estimators': 300}\n",
      "0.578 (+/-0.163) for {'clf__criterion': 'entropy', 'clf__max_depth': 50, 'clf__max_features': 'sqrt', 'clf__n_estimators': 300}\n",
      "0.578 (+/-0.163) for {'clf__criterion': 'entropy', 'clf__max_depth': 25, 'clf__max_features': 'sqrt', 'clf__n_estimators': 300}\n",
      "0.570 (+/-0.152) for {'clf__criterion': 'entropy', 'clf__max_depth': 50, 'clf__max_features': 'sqrt', 'clf__n_estimators': 500}\n",
      "0.570 (+/-0.152) for {'clf__criterion': 'entropy', 'clf__max_depth': 25, 'clf__max_features': 'sqrt', 'clf__n_estimators': 500}\n",
      "0.570 (+/-0.152) for {'clf__criterion': 'entropy', 'clf__max_depth': 75, 'clf__max_features': 'sqrt', 'clf__n_estimators': 500}\n",
      "0.558 (+/-0.180) for {'clf__criterion': 'entropy', 'clf__max_depth': 75, 'clf__max_features': 'sqrt', 'clf__n_estimators': 1000}\n",
      "0.558 (+/-0.180) for {'clf__criterion': 'entropy', 'clf__max_depth': 50, 'clf__max_features': 'sqrt', 'clf__n_estimators': 1000}\n",
      "0.558 (+/-0.180) for {'clf__criterion': 'entropy', 'clf__max_depth': 25, 'clf__max_features': 'sqrt', 'clf__n_estimators': 1000}\n",
      "0.542 (+/-0.192) for {'clf__criterion': 'gini', 'clf__max_depth': 50, 'clf__max_features': 'sqrt', 'clf__n_estimators': 500}\n",
      "Wall time: 2min 50s\n"
     ]
    }
   ],
   "source": [
    "%%time\n",
    "clf_rf = RandomForestClassifier(random_state=SEED)\n",
    "gs_rf = do_gridsearch_with_cv(clf_rf, RANDOM_FOREST_PARAMS, X_train, y_train, kf, smote=sm)\n",
    "print_best_grid_search_scores_with_params(gs_rf)"
   ]
  },
  {
   "cell_type": "code",
   "execution_count": 55,
   "metadata": {},
   "outputs": [],
   "source": [
    "gs_rf_score = gs_rf.score(X_test, y_test)\n",
    "y_pred_rf = gs_rf.predict(X_test)\n",
    "cm_rf = confusion_matrix(y_test, y_pred_rf)\n",
    "cm_rf = cm_rf.astype('float') / cm_rf.sum(axis=1)[:, np.newaxis] # normalize the confusion matrix"
   ]
  },
  {
   "cell_type": "code",
   "execution_count": 56,
   "metadata": {},
   "outputs": [
    {
     "data": {
      "text/html": [
       "<div>\n",
       "<style scoped>\n",
       "    .dataframe tbody tr th:only-of-type {\n",
       "        vertical-align: middle;\n",
       "    }\n",
       "\n",
       "    .dataframe tbody tr th {\n",
       "        vertical-align: top;\n",
       "    }\n",
       "\n",
       "    .dataframe thead th {\n",
       "        text-align: right;\n",
       "    }\n",
       "</style>\n",
       "<table border=\"1\" class=\"dataframe\">\n",
       "  <thead>\n",
       "    <tr style=\"text-align: right;\">\n",
       "      <th></th>\n",
       "      <th>predicted no Fraud</th>\n",
       "      <th>predicted Fraud</th>\n",
       "    </tr>\n",
       "  </thead>\n",
       "  <tbody>\n",
       "    <tr>\n",
       "      <th>true no Fraud</th>\n",
       "      <td>0.976</td>\n",
       "      <td>0.024</td>\n",
       "    </tr>\n",
       "    <tr>\n",
       "      <th>true Fraud</th>\n",
       "      <td>0.385</td>\n",
       "      <td>0.615</td>\n",
       "    </tr>\n",
       "  </tbody>\n",
       "</table>\n",
       "</div>"
      ],
      "text/plain": [
       "               predicted no Fraud  predicted Fraud\n",
       "true no Fraud               0.976            0.024\n",
       "true Fraud                  0.385            0.615"
      ]
     },
     "execution_count": 56,
     "metadata": {},
     "output_type": "execute_result"
    }
   ],
   "source": [
    "cm_df6 = pd.DataFrame(cm_rf.round(3), index=[\"true no Fraud\", \"true Fraud\"], columns=[\"predicted no Fraud\", \"predicted Fraud\"])\n",
    "cm_df6"
   ]
  },
  {
   "cell_type": "code",
   "execution_count": 57,
   "metadata": {},
   "outputs": [
    {
     "data": {
      "application/vnd.plotly.v1+json": {
       "config": {
        "linkText": "Export to plot.ly",
        "plotlyServerURL": "https://plot.ly",
        "showLink": false
       },
       "data": [
        {
         "marker": {
          "color": "rgb(31, 119, 180)"
         },
         "name": "feature importance",
         "type": "bar",
         "x": [
          "cancellation_by_biker",
          "origin_to_next4_origin_distance",
          "destination_to_next2_destination_distance",
          "cancellation_by_customer",
          "destination_to_next3_origin_distance",
          "total_accepted_requests",
          "total_rides",
          "destination_to_next4_origin_distance",
          "scaled_time",
          "destination_to_next3_destination_distance",
          "biker_delivery_fare",
          "destination_to_next_destination_distance",
          "total_cancellation",
          "cancellation_to_next_acception_time",
          "origin_to_next3_origin_distance",
          "destination_to_next2_origin_distance",
          "cans_query",
          "origin_to_next2_origin_distance",
          "order_distance",
          "acception_to_acception_time",
          "acception_to_cancellation_time",
          "destination_to_next_origin_distance",
          "origin_to_next_origin_distance"
         ],
         "y": [
          "0.021025486140159606",
          "0.021400747054153416",
          "0.02286808059668545",
          "0.022936604778449016",
          "0.024146441912575804",
          "0.02459663732291736",
          "0.02474572490946314",
          "0.025027507973106173",
          "0.029609222735869984",
          "0.030027511662079655",
          "0.032107381883388415",
          "0.032325104899994996",
          "0.03254414916879101",
          "0.032603507606277886",
          "0.03419143616351131",
          "0.035201305500405865",
          "0.03681118755040994",
          "0.04314715481427729",
          "0.045705888496234526",
          "0.05394810485572122",
          "0.08398539309218823",
          "0.14443162664084033",
          "0.14661379424249937"
         ]
        }
       ],
       "layout": {
        "autosize": true,
        "margin": {
         "b": 150,
         "l": 50,
         "r": 100
        },
        "template": {
         "data": {
          "bar": [
           {
            "error_x": {
             "color": "#2a3f5f"
            },
            "error_y": {
             "color": "#2a3f5f"
            },
            "marker": {
             "line": {
              "color": "#E5ECF6",
              "width": 0.5
             }
            },
            "type": "bar"
           }
          ],
          "barpolar": [
           {
            "marker": {
             "line": {
              "color": "#E5ECF6",
              "width": 0.5
             }
            },
            "type": "barpolar"
           }
          ],
          "carpet": [
           {
            "aaxis": {
             "endlinecolor": "#2a3f5f",
             "gridcolor": "white",
             "linecolor": "white",
             "minorgridcolor": "white",
             "startlinecolor": "#2a3f5f"
            },
            "baxis": {
             "endlinecolor": "#2a3f5f",
             "gridcolor": "white",
             "linecolor": "white",
             "minorgridcolor": "white",
             "startlinecolor": "#2a3f5f"
            },
            "type": "carpet"
           }
          ],
          "choropleth": [
           {
            "colorbar": {
             "outlinewidth": 0,
             "ticks": ""
            },
            "type": "choropleth"
           }
          ],
          "contour": [
           {
            "colorbar": {
             "outlinewidth": 0,
             "ticks": ""
            },
            "colorscale": [
             [
              0,
              "#0d0887"
             ],
             [
              0.1111111111111111,
              "#46039f"
             ],
             [
              0.2222222222222222,
              "#7201a8"
             ],
             [
              0.3333333333333333,
              "#9c179e"
             ],
             [
              0.4444444444444444,
              "#bd3786"
             ],
             [
              0.5555555555555556,
              "#d8576b"
             ],
             [
              0.6666666666666666,
              "#ed7953"
             ],
             [
              0.7777777777777778,
              "#fb9f3a"
             ],
             [
              0.8888888888888888,
              "#fdca26"
             ],
             [
              1,
              "#f0f921"
             ]
            ],
            "type": "contour"
           }
          ],
          "contourcarpet": [
           {
            "colorbar": {
             "outlinewidth": 0,
             "ticks": ""
            },
            "type": "contourcarpet"
           }
          ],
          "heatmap": [
           {
            "colorbar": {
             "outlinewidth": 0,
             "ticks": ""
            },
            "colorscale": [
             [
              0,
              "#0d0887"
             ],
             [
              0.1111111111111111,
              "#46039f"
             ],
             [
              0.2222222222222222,
              "#7201a8"
             ],
             [
              0.3333333333333333,
              "#9c179e"
             ],
             [
              0.4444444444444444,
              "#bd3786"
             ],
             [
              0.5555555555555556,
              "#d8576b"
             ],
             [
              0.6666666666666666,
              "#ed7953"
             ],
             [
              0.7777777777777778,
              "#fb9f3a"
             ],
             [
              0.8888888888888888,
              "#fdca26"
             ],
             [
              1,
              "#f0f921"
             ]
            ],
            "type": "heatmap"
           }
          ],
          "heatmapgl": [
           {
            "colorbar": {
             "outlinewidth": 0,
             "ticks": ""
            },
            "colorscale": [
             [
              0,
              "#0d0887"
             ],
             [
              0.1111111111111111,
              "#46039f"
             ],
             [
              0.2222222222222222,
              "#7201a8"
             ],
             [
              0.3333333333333333,
              "#9c179e"
             ],
             [
              0.4444444444444444,
              "#bd3786"
             ],
             [
              0.5555555555555556,
              "#d8576b"
             ],
             [
              0.6666666666666666,
              "#ed7953"
             ],
             [
              0.7777777777777778,
              "#fb9f3a"
             ],
             [
              0.8888888888888888,
              "#fdca26"
             ],
             [
              1,
              "#f0f921"
             ]
            ],
            "type": "heatmapgl"
           }
          ],
          "histogram": [
           {
            "marker": {
             "colorbar": {
              "outlinewidth": 0,
              "ticks": ""
             }
            },
            "type": "histogram"
           }
          ],
          "histogram2d": [
           {
            "colorbar": {
             "outlinewidth": 0,
             "ticks": ""
            },
            "colorscale": [
             [
              0,
              "#0d0887"
             ],
             [
              0.1111111111111111,
              "#46039f"
             ],
             [
              0.2222222222222222,
              "#7201a8"
             ],
             [
              0.3333333333333333,
              "#9c179e"
             ],
             [
              0.4444444444444444,
              "#bd3786"
             ],
             [
              0.5555555555555556,
              "#d8576b"
             ],
             [
              0.6666666666666666,
              "#ed7953"
             ],
             [
              0.7777777777777778,
              "#fb9f3a"
             ],
             [
              0.8888888888888888,
              "#fdca26"
             ],
             [
              1,
              "#f0f921"
             ]
            ],
            "type": "histogram2d"
           }
          ],
          "histogram2dcontour": [
           {
            "colorbar": {
             "outlinewidth": 0,
             "ticks": ""
            },
            "colorscale": [
             [
              0,
              "#0d0887"
             ],
             [
              0.1111111111111111,
              "#46039f"
             ],
             [
              0.2222222222222222,
              "#7201a8"
             ],
             [
              0.3333333333333333,
              "#9c179e"
             ],
             [
              0.4444444444444444,
              "#bd3786"
             ],
             [
              0.5555555555555556,
              "#d8576b"
             ],
             [
              0.6666666666666666,
              "#ed7953"
             ],
             [
              0.7777777777777778,
              "#fb9f3a"
             ],
             [
              0.8888888888888888,
              "#fdca26"
             ],
             [
              1,
              "#f0f921"
             ]
            ],
            "type": "histogram2dcontour"
           }
          ],
          "mesh3d": [
           {
            "colorbar": {
             "outlinewidth": 0,
             "ticks": ""
            },
            "type": "mesh3d"
           }
          ],
          "parcoords": [
           {
            "line": {
             "colorbar": {
              "outlinewidth": 0,
              "ticks": ""
             }
            },
            "type": "parcoords"
           }
          ],
          "pie": [
           {
            "automargin": true,
            "type": "pie"
           }
          ],
          "scatter": [
           {
            "marker": {
             "colorbar": {
              "outlinewidth": 0,
              "ticks": ""
             }
            },
            "type": "scatter"
           }
          ],
          "scatter3d": [
           {
            "line": {
             "colorbar": {
              "outlinewidth": 0,
              "ticks": ""
             }
            },
            "marker": {
             "colorbar": {
              "outlinewidth": 0,
              "ticks": ""
             }
            },
            "type": "scatter3d"
           }
          ],
          "scattercarpet": [
           {
            "marker": {
             "colorbar": {
              "outlinewidth": 0,
              "ticks": ""
             }
            },
            "type": "scattercarpet"
           }
          ],
          "scattergeo": [
           {
            "marker": {
             "colorbar": {
              "outlinewidth": 0,
              "ticks": ""
             }
            },
            "type": "scattergeo"
           }
          ],
          "scattergl": [
           {
            "marker": {
             "colorbar": {
              "outlinewidth": 0,
              "ticks": ""
             }
            },
            "type": "scattergl"
           }
          ],
          "scattermapbox": [
           {
            "marker": {
             "colorbar": {
              "outlinewidth": 0,
              "ticks": ""
             }
            },
            "type": "scattermapbox"
           }
          ],
          "scatterpolar": [
           {
            "marker": {
             "colorbar": {
              "outlinewidth": 0,
              "ticks": ""
             }
            },
            "type": "scatterpolar"
           }
          ],
          "scatterpolargl": [
           {
            "marker": {
             "colorbar": {
              "outlinewidth": 0,
              "ticks": ""
             }
            },
            "type": "scatterpolargl"
           }
          ],
          "scatterternary": [
           {
            "marker": {
             "colorbar": {
              "outlinewidth": 0,
              "ticks": ""
             }
            },
            "type": "scatterternary"
           }
          ],
          "surface": [
           {
            "colorbar": {
             "outlinewidth": 0,
             "ticks": ""
            },
            "colorscale": [
             [
              0,
              "#0d0887"
             ],
             [
              0.1111111111111111,
              "#46039f"
             ],
             [
              0.2222222222222222,
              "#7201a8"
             ],
             [
              0.3333333333333333,
              "#9c179e"
             ],
             [
              0.4444444444444444,
              "#bd3786"
             ],
             [
              0.5555555555555556,
              "#d8576b"
             ],
             [
              0.6666666666666666,
              "#ed7953"
             ],
             [
              0.7777777777777778,
              "#fb9f3a"
             ],
             [
              0.8888888888888888,
              "#fdca26"
             ],
             [
              1,
              "#f0f921"
             ]
            ],
            "type": "surface"
           }
          ],
          "table": [
           {
            "cells": {
             "fill": {
              "color": "#EBF0F8"
             },
             "line": {
              "color": "white"
             }
            },
            "header": {
             "fill": {
              "color": "#C8D4E3"
             },
             "line": {
              "color": "white"
             }
            },
            "type": "table"
           }
          ]
         },
         "layout": {
          "annotationdefaults": {
           "arrowcolor": "#2a3f5f",
           "arrowhead": 0,
           "arrowwidth": 1
          },
          "autotypenumbers": "strict",
          "coloraxis": {
           "colorbar": {
            "outlinewidth": 0,
            "ticks": ""
           }
          },
          "colorscale": {
           "diverging": [
            [
             0,
             "#8e0152"
            ],
            [
             0.1,
             "#c51b7d"
            ],
            [
             0.2,
             "#de77ae"
            ],
            [
             0.3,
             "#f1b6da"
            ],
            [
             0.4,
             "#fde0ef"
            ],
            [
             0.5,
             "#f7f7f7"
            ],
            [
             0.6,
             "#e6f5d0"
            ],
            [
             0.7,
             "#b8e186"
            ],
            [
             0.8,
             "#7fbc41"
            ],
            [
             0.9,
             "#4d9221"
            ],
            [
             1,
             "#276419"
            ]
           ],
           "sequential": [
            [
             0,
             "#0d0887"
            ],
            [
             0.1111111111111111,
             "#46039f"
            ],
            [
             0.2222222222222222,
             "#7201a8"
            ],
            [
             0.3333333333333333,
             "#9c179e"
            ],
            [
             0.4444444444444444,
             "#bd3786"
            ],
            [
             0.5555555555555556,
             "#d8576b"
            ],
            [
             0.6666666666666666,
             "#ed7953"
            ],
            [
             0.7777777777777778,
             "#fb9f3a"
            ],
            [
             0.8888888888888888,
             "#fdca26"
            ],
            [
             1,
             "#f0f921"
            ]
           ],
           "sequentialminus": [
            [
             0,
             "#0d0887"
            ],
            [
             0.1111111111111111,
             "#46039f"
            ],
            [
             0.2222222222222222,
             "#7201a8"
            ],
            [
             0.3333333333333333,
             "#9c179e"
            ],
            [
             0.4444444444444444,
             "#bd3786"
            ],
            [
             0.5555555555555556,
             "#d8576b"
            ],
            [
             0.6666666666666666,
             "#ed7953"
            ],
            [
             0.7777777777777778,
             "#fb9f3a"
            ],
            [
             0.8888888888888888,
             "#fdca26"
            ],
            [
             1,
             "#f0f921"
            ]
           ]
          },
          "colorway": [
           "#636efa",
           "#EF553B",
           "#00cc96",
           "#ab63fa",
           "#FFA15A",
           "#19d3f3",
           "#FF6692",
           "#B6E880",
           "#FF97FF",
           "#FECB52"
          ],
          "font": {
           "color": "#2a3f5f"
          },
          "geo": {
           "bgcolor": "white",
           "lakecolor": "white",
           "landcolor": "#E5ECF6",
           "showlakes": true,
           "showland": true,
           "subunitcolor": "white"
          },
          "hoverlabel": {
           "align": "left"
          },
          "hovermode": "closest",
          "mapbox": {
           "style": "light"
          },
          "paper_bgcolor": "white",
          "plot_bgcolor": "#E5ECF6",
          "polar": {
           "angularaxis": {
            "gridcolor": "white",
            "linecolor": "white",
            "ticks": ""
           },
           "bgcolor": "#E5ECF6",
           "radialaxis": {
            "gridcolor": "white",
            "linecolor": "white",
            "ticks": ""
           }
          },
          "scene": {
           "xaxis": {
            "backgroundcolor": "#E5ECF6",
            "gridcolor": "white",
            "gridwidth": 2,
            "linecolor": "white",
            "showbackground": true,
            "ticks": "",
            "zerolinecolor": "white"
           },
           "yaxis": {
            "backgroundcolor": "#E5ECF6",
            "gridcolor": "white",
            "gridwidth": 2,
            "linecolor": "white",
            "showbackground": true,
            "ticks": "",
            "zerolinecolor": "white"
           },
           "zaxis": {
            "backgroundcolor": "#E5ECF6",
            "gridcolor": "white",
            "gridwidth": 2,
            "linecolor": "white",
            "showbackground": true,
            "ticks": "",
            "zerolinecolor": "white"
           }
          },
          "shapedefaults": {
           "line": {
            "color": "#2a3f5f"
           }
          },
          "ternary": {
           "aaxis": {
            "gridcolor": "white",
            "linecolor": "white",
            "ticks": ""
           },
           "baxis": {
            "gridcolor": "white",
            "linecolor": "white",
            "ticks": ""
           },
           "bgcolor": "#E5ECF6",
           "caxis": {
            "gridcolor": "white",
            "linecolor": "white",
            "ticks": ""
           }
          },
          "title": {
           "x": 0.05
          },
          "xaxis": {
           "automargin": true,
           "gridcolor": "white",
           "linecolor": "white",
           "ticks": "",
           "title": {
            "standoff": 15
           },
           "zerolinecolor": "white",
           "zerolinewidth": 2
          },
          "yaxis": {
           "automargin": true,
           "gridcolor": "white",
           "linecolor": "white",
           "ticks": "",
           "title": {
            "standoff": 15
           },
           "zerolinecolor": "white",
           "zerolinewidth": 2
          }
         }
        },
        "title": {
         "text": "Feature importance in the Random Forest"
        },
        "xaxis": {
         "tickangle": 30,
         "title": {
          "text": "feature"
         }
        },
        "yaxis": {
         "automargin": true,
         "title": {
          "text": "feature importance"
         }
        }
       }
      },
      "text/html": [
       "<div>                            <div id=\"88366db4-4242-481a-bfde-73ba4bedc6cf\" class=\"plotly-graph-div\" style=\"height:525px; width:100%;\"></div>            <script type=\"text/javascript\">                require([\"plotly\"], function(Plotly) {                    window.PLOTLYENV=window.PLOTLYENV || {};                                    if (document.getElementById(\"88366db4-4242-481a-bfde-73ba4bedc6cf\")) {                    Plotly.newPlot(                        \"88366db4-4242-481a-bfde-73ba4bedc6cf\",                        [{\"marker\": {\"color\": \"rgb(31, 119, 180)\"}, \"name\": \"feature importance\", \"type\": \"bar\", \"x\": [\"cancellation_by_biker\", \"origin_to_next4_origin_distance\", \"destination_to_next2_destination_distance\", \"cancellation_by_customer\", \"destination_to_next3_origin_distance\", \"total_accepted_requests\", \"total_rides\", \"destination_to_next4_origin_distance\", \"scaled_time\", \"destination_to_next3_destination_distance\", \"biker_delivery_fare\", \"destination_to_next_destination_distance\", \"total_cancellation\", \"cancellation_to_next_acception_time\", \"origin_to_next3_origin_distance\", \"destination_to_next2_origin_distance\", \"cans_query\", \"origin_to_next2_origin_distance\", \"order_distance\", \"acception_to_acception_time\", \"acception_to_cancellation_time\", \"destination_to_next_origin_distance\", \"origin_to_next_origin_distance\"], \"y\": [\"0.021025486140159606\", \"0.021400747054153416\", \"0.02286808059668545\", \"0.022936604778449016\", \"0.024146441912575804\", \"0.02459663732291736\", \"0.02474572490946314\", \"0.025027507973106173\", \"0.029609222735869984\", \"0.030027511662079655\", \"0.032107381883388415\", \"0.032325104899994996\", \"0.03254414916879101\", \"0.032603507606277886\", \"0.03419143616351131\", \"0.035201305500405865\", \"0.03681118755040994\", \"0.04314715481427729\", \"0.045705888496234526\", \"0.05394810485572122\", \"0.08398539309218823\", \"0.14443162664084033\", \"0.14661379424249937\"]}],                        {\"autosize\": true, \"margin\": {\"b\": 150, \"l\": 50, \"r\": 100}, \"template\": {\"data\": {\"bar\": [{\"error_x\": {\"color\": \"#2a3f5f\"}, \"error_y\": {\"color\": \"#2a3f5f\"}, \"marker\": {\"line\": {\"color\": \"#E5ECF6\", \"width\": 0.5}}, \"type\": \"bar\"}], \"barpolar\": [{\"marker\": {\"line\": {\"color\": \"#E5ECF6\", \"width\": 0.5}}, \"type\": \"barpolar\"}], \"carpet\": [{\"aaxis\": {\"endlinecolor\": \"#2a3f5f\", \"gridcolor\": \"white\", \"linecolor\": \"white\", \"minorgridcolor\": \"white\", \"startlinecolor\": \"#2a3f5f\"}, \"baxis\": {\"endlinecolor\": \"#2a3f5f\", \"gridcolor\": \"white\", \"linecolor\": \"white\", \"minorgridcolor\": \"white\", \"startlinecolor\": \"#2a3f5f\"}, \"type\": \"carpet\"}], \"choropleth\": [{\"colorbar\": {\"outlinewidth\": 0, \"ticks\": \"\"}, \"type\": \"choropleth\"}], \"contour\": [{\"colorbar\": {\"outlinewidth\": 0, \"ticks\": \"\"}, \"colorscale\": [[0.0, \"#0d0887\"], [0.1111111111111111, \"#46039f\"], [0.2222222222222222, \"#7201a8\"], [0.3333333333333333, \"#9c179e\"], [0.4444444444444444, \"#bd3786\"], [0.5555555555555556, \"#d8576b\"], [0.6666666666666666, \"#ed7953\"], [0.7777777777777778, \"#fb9f3a\"], [0.8888888888888888, \"#fdca26\"], [1.0, \"#f0f921\"]], \"type\": \"contour\"}], \"contourcarpet\": [{\"colorbar\": {\"outlinewidth\": 0, \"ticks\": \"\"}, \"type\": \"contourcarpet\"}], \"heatmap\": [{\"colorbar\": {\"outlinewidth\": 0, \"ticks\": \"\"}, \"colorscale\": [[0.0, \"#0d0887\"], [0.1111111111111111, \"#46039f\"], [0.2222222222222222, \"#7201a8\"], [0.3333333333333333, \"#9c179e\"], [0.4444444444444444, \"#bd3786\"], [0.5555555555555556, \"#d8576b\"], [0.6666666666666666, \"#ed7953\"], [0.7777777777777778, \"#fb9f3a\"], [0.8888888888888888, \"#fdca26\"], [1.0, \"#f0f921\"]], \"type\": \"heatmap\"}], \"heatmapgl\": [{\"colorbar\": {\"outlinewidth\": 0, \"ticks\": \"\"}, \"colorscale\": [[0.0, \"#0d0887\"], [0.1111111111111111, \"#46039f\"], [0.2222222222222222, \"#7201a8\"], [0.3333333333333333, \"#9c179e\"], [0.4444444444444444, \"#bd3786\"], [0.5555555555555556, \"#d8576b\"], [0.6666666666666666, \"#ed7953\"], [0.7777777777777778, \"#fb9f3a\"], [0.8888888888888888, \"#fdca26\"], [1.0, \"#f0f921\"]], \"type\": \"heatmapgl\"}], \"histogram\": [{\"marker\": {\"colorbar\": {\"outlinewidth\": 0, \"ticks\": \"\"}}, \"type\": \"histogram\"}], \"histogram2d\": [{\"colorbar\": {\"outlinewidth\": 0, \"ticks\": \"\"}, \"colorscale\": [[0.0, \"#0d0887\"], [0.1111111111111111, \"#46039f\"], [0.2222222222222222, \"#7201a8\"], [0.3333333333333333, \"#9c179e\"], [0.4444444444444444, \"#bd3786\"], [0.5555555555555556, \"#d8576b\"], [0.6666666666666666, \"#ed7953\"], [0.7777777777777778, \"#fb9f3a\"], [0.8888888888888888, \"#fdca26\"], [1.0, \"#f0f921\"]], \"type\": \"histogram2d\"}], \"histogram2dcontour\": [{\"colorbar\": {\"outlinewidth\": 0, \"ticks\": \"\"}, \"colorscale\": [[0.0, \"#0d0887\"], [0.1111111111111111, \"#46039f\"], [0.2222222222222222, \"#7201a8\"], [0.3333333333333333, \"#9c179e\"], [0.4444444444444444, \"#bd3786\"], [0.5555555555555556, \"#d8576b\"], [0.6666666666666666, \"#ed7953\"], [0.7777777777777778, \"#fb9f3a\"], [0.8888888888888888, \"#fdca26\"], [1.0, \"#f0f921\"]], \"type\": \"histogram2dcontour\"}], \"mesh3d\": [{\"colorbar\": {\"outlinewidth\": 0, \"ticks\": \"\"}, \"type\": \"mesh3d\"}], \"parcoords\": [{\"line\": {\"colorbar\": {\"outlinewidth\": 0, \"ticks\": \"\"}}, \"type\": \"parcoords\"}], \"pie\": [{\"automargin\": true, \"type\": \"pie\"}], \"scatter\": [{\"marker\": {\"colorbar\": {\"outlinewidth\": 0, \"ticks\": \"\"}}, \"type\": \"scatter\"}], \"scatter3d\": [{\"line\": {\"colorbar\": {\"outlinewidth\": 0, \"ticks\": \"\"}}, \"marker\": {\"colorbar\": {\"outlinewidth\": 0, \"ticks\": \"\"}}, \"type\": \"scatter3d\"}], \"scattercarpet\": [{\"marker\": {\"colorbar\": {\"outlinewidth\": 0, \"ticks\": \"\"}}, \"type\": \"scattercarpet\"}], \"scattergeo\": [{\"marker\": {\"colorbar\": {\"outlinewidth\": 0, \"ticks\": \"\"}}, \"type\": \"scattergeo\"}], \"scattergl\": [{\"marker\": {\"colorbar\": {\"outlinewidth\": 0, \"ticks\": \"\"}}, \"type\": \"scattergl\"}], \"scattermapbox\": [{\"marker\": {\"colorbar\": {\"outlinewidth\": 0, \"ticks\": \"\"}}, \"type\": \"scattermapbox\"}], \"scatterpolar\": [{\"marker\": {\"colorbar\": {\"outlinewidth\": 0, \"ticks\": \"\"}}, \"type\": \"scatterpolar\"}], \"scatterpolargl\": [{\"marker\": {\"colorbar\": {\"outlinewidth\": 0, \"ticks\": \"\"}}, \"type\": \"scatterpolargl\"}], \"scatterternary\": [{\"marker\": {\"colorbar\": {\"outlinewidth\": 0, \"ticks\": \"\"}}, \"type\": \"scatterternary\"}], \"surface\": [{\"colorbar\": {\"outlinewidth\": 0, \"ticks\": \"\"}, \"colorscale\": [[0.0, \"#0d0887\"], [0.1111111111111111, \"#46039f\"], [0.2222222222222222, \"#7201a8\"], [0.3333333333333333, \"#9c179e\"], [0.4444444444444444, \"#bd3786\"], [0.5555555555555556, \"#d8576b\"], [0.6666666666666666, \"#ed7953\"], [0.7777777777777778, \"#fb9f3a\"], [0.8888888888888888, \"#fdca26\"], [1.0, \"#f0f921\"]], \"type\": \"surface\"}], \"table\": [{\"cells\": {\"fill\": {\"color\": \"#EBF0F8\"}, \"line\": {\"color\": \"white\"}}, \"header\": {\"fill\": {\"color\": \"#C8D4E3\"}, \"line\": {\"color\": \"white\"}}, \"type\": \"table\"}]}, \"layout\": {\"annotationdefaults\": {\"arrowcolor\": \"#2a3f5f\", \"arrowhead\": 0, \"arrowwidth\": 1}, \"autotypenumbers\": \"strict\", \"coloraxis\": {\"colorbar\": {\"outlinewidth\": 0, \"ticks\": \"\"}}, \"colorscale\": {\"diverging\": [[0, \"#8e0152\"], [0.1, \"#c51b7d\"], [0.2, \"#de77ae\"], [0.3, \"#f1b6da\"], [0.4, \"#fde0ef\"], [0.5, \"#f7f7f7\"], [0.6, \"#e6f5d0\"], [0.7, \"#b8e186\"], [0.8, \"#7fbc41\"], [0.9, \"#4d9221\"], [1, \"#276419\"]], \"sequential\": [[0.0, \"#0d0887\"], [0.1111111111111111, \"#46039f\"], [0.2222222222222222, \"#7201a8\"], [0.3333333333333333, \"#9c179e\"], [0.4444444444444444, \"#bd3786\"], [0.5555555555555556, \"#d8576b\"], [0.6666666666666666, \"#ed7953\"], [0.7777777777777778, \"#fb9f3a\"], [0.8888888888888888, \"#fdca26\"], [1.0, \"#f0f921\"]], \"sequentialminus\": [[0.0, \"#0d0887\"], [0.1111111111111111, \"#46039f\"], [0.2222222222222222, \"#7201a8\"], [0.3333333333333333, \"#9c179e\"], [0.4444444444444444, \"#bd3786\"], [0.5555555555555556, \"#d8576b\"], [0.6666666666666666, \"#ed7953\"], [0.7777777777777778, \"#fb9f3a\"], [0.8888888888888888, \"#fdca26\"], [1.0, \"#f0f921\"]]}, \"colorway\": [\"#636efa\", \"#EF553B\", \"#00cc96\", \"#ab63fa\", \"#FFA15A\", \"#19d3f3\", \"#FF6692\", \"#B6E880\", \"#FF97FF\", \"#FECB52\"], \"font\": {\"color\": \"#2a3f5f\"}, \"geo\": {\"bgcolor\": \"white\", \"lakecolor\": \"white\", \"landcolor\": \"#E5ECF6\", \"showlakes\": true, \"showland\": true, \"subunitcolor\": \"white\"}, \"hoverlabel\": {\"align\": \"left\"}, \"hovermode\": \"closest\", \"mapbox\": {\"style\": \"light\"}, \"paper_bgcolor\": \"white\", \"plot_bgcolor\": \"#E5ECF6\", \"polar\": {\"angularaxis\": {\"gridcolor\": \"white\", \"linecolor\": \"white\", \"ticks\": \"\"}, \"bgcolor\": \"#E5ECF6\", \"radialaxis\": {\"gridcolor\": \"white\", \"linecolor\": \"white\", \"ticks\": \"\"}}, \"scene\": {\"xaxis\": {\"backgroundcolor\": \"#E5ECF6\", \"gridcolor\": \"white\", \"gridwidth\": 2, \"linecolor\": \"white\", \"showbackground\": true, \"ticks\": \"\", \"zerolinecolor\": \"white\"}, \"yaxis\": {\"backgroundcolor\": \"#E5ECF6\", \"gridcolor\": \"white\", \"gridwidth\": 2, \"linecolor\": \"white\", \"showbackground\": true, \"ticks\": \"\", \"zerolinecolor\": \"white\"}, \"zaxis\": {\"backgroundcolor\": \"#E5ECF6\", \"gridcolor\": \"white\", \"gridwidth\": 2, \"linecolor\": \"white\", \"showbackground\": true, \"ticks\": \"\", \"zerolinecolor\": \"white\"}}, \"shapedefaults\": {\"line\": {\"color\": \"#2a3f5f\"}}, \"ternary\": {\"aaxis\": {\"gridcolor\": \"white\", \"linecolor\": \"white\", \"ticks\": \"\"}, \"baxis\": {\"gridcolor\": \"white\", \"linecolor\": \"white\", \"ticks\": \"\"}, \"bgcolor\": \"#E5ECF6\", \"caxis\": {\"gridcolor\": \"white\", \"linecolor\": \"white\", \"ticks\": \"\"}}, \"title\": {\"x\": 0.05}, \"xaxis\": {\"automargin\": true, \"gridcolor\": \"white\", \"linecolor\": \"white\", \"ticks\": \"\", \"title\": {\"standoff\": 15}, \"zerolinecolor\": \"white\", \"zerolinewidth\": 2}, \"yaxis\": {\"automargin\": true, \"gridcolor\": \"white\", \"linecolor\": \"white\", \"ticks\": \"\", \"title\": {\"standoff\": 15}, \"zerolinecolor\": \"white\", \"zerolinewidth\": 2}}}, \"title\": {\"text\": \"Feature importance in the Random Forest\"}, \"xaxis\": {\"tickangle\": 30, \"title\": {\"text\": \"feature\"}}, \"yaxis\": {\"automargin\": true, \"title\": {\"text\": \"feature importance\"}}},                        {\"responsive\": true}                    ).then(function(){\n",
       "                            \n",
       "var gd = document.getElementById('88366db4-4242-481a-bfde-73ba4bedc6cf');\n",
       "var x = new MutationObserver(function (mutations, observer) {{\n",
       "        var display = window.getComputedStyle(gd).display;\n",
       "        if (!display || display === 'none') {{\n",
       "            console.log([gd, 'removed!']);\n",
       "            Plotly.purge(gd);\n",
       "            observer.disconnect();\n",
       "        }}\n",
       "}});\n",
       "\n",
       "// Listen for the removal of the full notebook cells\n",
       "var notebookContainer = gd.closest('#notebook-container');\n",
       "if (notebookContainer) {{\n",
       "    x.observe(notebookContainer, {childList: true});\n",
       "}}\n",
       "\n",
       "// Listen for the clearing of the current output cell\n",
       "var outputEl = gd.closest('.output');\n",
       "if (outputEl) {{\n",
       "    x.observe(outputEl, {childList: true});\n",
       "}}\n",
       "\n",
       "                        })                };                });            </script>        </div>"
      ]
     },
     "metadata": {},
     "output_type": "display_data"
    }
   ],
   "source": [
    "feature_importance_rf = np.array(sorted(zip(X_train.columns, gs_rf.best_estimator_.named_steps['clf'].feature_importances_), key=lambda x: x[1]))\n",
    "#, reverse=True\n",
    "plot_feature_importance(feature_importance_rf, \"Feature importance in the Random Forest\")"
   ]
  },
  {
   "cell_type": "code",
   "execution_count": 58,
   "metadata": {},
   "outputs": [
    {
     "data": {
      "application/vnd.plotly.v1+json": {
       "config": {
        "linkText": "Export to plot.ly",
        "plotlyServerURL": "https://plot.ly",
        "showLink": false
       },
       "data": [
        {
         "hoverlabel": {
          "namelength": 20
         },
         "line": {
          "color": "rgba(31, 119, 180, 0.40)",
          "width": 0.1
         },
         "mode": "lines",
         "name": "",
         "showlegend": false,
         "type": "scatter",
         "x": [
          89,
          289,
          490,
          691,
          892
         ],
         "y": [
          null,
          0.9077109861134491,
          0.9362777910657794,
          0.9259157898197038,
          0.9306046308452144
         ]
        },
        {
         "fill": "tonexty",
         "hoverlabel": {
          "namelength": 20
         },
         "line": {
          "color": "rgba(31, 119, 180, 0.40)",
          "width": 0.1
         },
         "mode": "lines",
         "name": "",
         "showlegend": false,
         "type": "scatter",
         "x": [
          89,
          289,
          490,
          691,
          892
         ],
         "y": [
          null,
          0.954185133495919,
          0.961427351226519,
          0.9580646960425029,
          0.9604401094453608
         ]
        },
        {
         "line": {
          "color": "rgb(31, 119, 180)"
         },
         "name": "Train score",
         "showlegend": true,
         "type": "scatter",
         "x": [
          89,
          289,
          490,
          691,
          892
         ],
         "y": [
          null,
          0.9309480598046841,
          0.9488525711461492,
          0.9419902429311033,
          0.9455223701452876
         ]
        },
        {
         "hoverlabel": {
          "namelength": 20
         },
         "line": {
          "color": "rgba(255, 127, 14, 0.40)",
          "width": 0.1
         },
         "mode": "lines",
         "name": "",
         "showlegend": false,
         "type": "scatter",
         "x": [
          89,
          289,
          490,
          691,
          892
         ],
         "y": [
          null,
          0.2904292570877771,
          0.342443280428011,
          0.2721939068706042,
          0.3572440534346027
         ]
        },
        {
         "fill": "tonexty",
         "hoverlabel": {
          "namelength": 20
         },
         "line": {
          "color": "rgba(255, 127, 14, 0.40)",
          "width": 0.1
         },
         "mode": "lines",
         "name": "",
         "showlegend": false,
         "type": "scatter",
         "x": [
          89,
          289,
          490,
          691,
          892
         ],
         "y": [
          null,
          0.4708718118347752,
          0.4919403244728353,
          0.4534293063941185,
          0.44005497370313423
         ]
        },
        {
         "line": {
          "color": "rgb(255, 127, 14)"
         },
         "name": "Test score",
         "showlegend": true,
         "type": "scatter",
         "x": [
          89,
          289,
          490,
          691,
          892
         ],
         "y": [
          null,
          0.38065053446127617,
          0.41719180245042314,
          0.36281160663236134,
          0.39864951356886846
         ]
        }
       ],
       "layout": {
        "autosize": true,
        "legend": {
         "x": 0.8,
         "y": 0
        },
        "template": {
         "data": {
          "bar": [
           {
            "error_x": {
             "color": "#2a3f5f"
            },
            "error_y": {
             "color": "#2a3f5f"
            },
            "marker": {
             "line": {
              "color": "#E5ECF6",
              "width": 0.5
             }
            },
            "type": "bar"
           }
          ],
          "barpolar": [
           {
            "marker": {
             "line": {
              "color": "#E5ECF6",
              "width": 0.5
             }
            },
            "type": "barpolar"
           }
          ],
          "carpet": [
           {
            "aaxis": {
             "endlinecolor": "#2a3f5f",
             "gridcolor": "white",
             "linecolor": "white",
             "minorgridcolor": "white",
             "startlinecolor": "#2a3f5f"
            },
            "baxis": {
             "endlinecolor": "#2a3f5f",
             "gridcolor": "white",
             "linecolor": "white",
             "minorgridcolor": "white",
             "startlinecolor": "#2a3f5f"
            },
            "type": "carpet"
           }
          ],
          "choropleth": [
           {
            "colorbar": {
             "outlinewidth": 0,
             "ticks": ""
            },
            "type": "choropleth"
           }
          ],
          "contour": [
           {
            "colorbar": {
             "outlinewidth": 0,
             "ticks": ""
            },
            "colorscale": [
             [
              0,
              "#0d0887"
             ],
             [
              0.1111111111111111,
              "#46039f"
             ],
             [
              0.2222222222222222,
              "#7201a8"
             ],
             [
              0.3333333333333333,
              "#9c179e"
             ],
             [
              0.4444444444444444,
              "#bd3786"
             ],
             [
              0.5555555555555556,
              "#d8576b"
             ],
             [
              0.6666666666666666,
              "#ed7953"
             ],
             [
              0.7777777777777778,
              "#fb9f3a"
             ],
             [
              0.8888888888888888,
              "#fdca26"
             ],
             [
              1,
              "#f0f921"
             ]
            ],
            "type": "contour"
           }
          ],
          "contourcarpet": [
           {
            "colorbar": {
             "outlinewidth": 0,
             "ticks": ""
            },
            "type": "contourcarpet"
           }
          ],
          "heatmap": [
           {
            "colorbar": {
             "outlinewidth": 0,
             "ticks": ""
            },
            "colorscale": [
             [
              0,
              "#0d0887"
             ],
             [
              0.1111111111111111,
              "#46039f"
             ],
             [
              0.2222222222222222,
              "#7201a8"
             ],
             [
              0.3333333333333333,
              "#9c179e"
             ],
             [
              0.4444444444444444,
              "#bd3786"
             ],
             [
              0.5555555555555556,
              "#d8576b"
             ],
             [
              0.6666666666666666,
              "#ed7953"
             ],
             [
              0.7777777777777778,
              "#fb9f3a"
             ],
             [
              0.8888888888888888,
              "#fdca26"
             ],
             [
              1,
              "#f0f921"
             ]
            ],
            "type": "heatmap"
           }
          ],
          "heatmapgl": [
           {
            "colorbar": {
             "outlinewidth": 0,
             "ticks": ""
            },
            "colorscale": [
             [
              0,
              "#0d0887"
             ],
             [
              0.1111111111111111,
              "#46039f"
             ],
             [
              0.2222222222222222,
              "#7201a8"
             ],
             [
              0.3333333333333333,
              "#9c179e"
             ],
             [
              0.4444444444444444,
              "#bd3786"
             ],
             [
              0.5555555555555556,
              "#d8576b"
             ],
             [
              0.6666666666666666,
              "#ed7953"
             ],
             [
              0.7777777777777778,
              "#fb9f3a"
             ],
             [
              0.8888888888888888,
              "#fdca26"
             ],
             [
              1,
              "#f0f921"
             ]
            ],
            "type": "heatmapgl"
           }
          ],
          "histogram": [
           {
            "marker": {
             "colorbar": {
              "outlinewidth": 0,
              "ticks": ""
             }
            },
            "type": "histogram"
           }
          ],
          "histogram2d": [
           {
            "colorbar": {
             "outlinewidth": 0,
             "ticks": ""
            },
            "colorscale": [
             [
              0,
              "#0d0887"
             ],
             [
              0.1111111111111111,
              "#46039f"
             ],
             [
              0.2222222222222222,
              "#7201a8"
             ],
             [
              0.3333333333333333,
              "#9c179e"
             ],
             [
              0.4444444444444444,
              "#bd3786"
             ],
             [
              0.5555555555555556,
              "#d8576b"
             ],
             [
              0.6666666666666666,
              "#ed7953"
             ],
             [
              0.7777777777777778,
              "#fb9f3a"
             ],
             [
              0.8888888888888888,
              "#fdca26"
             ],
             [
              1,
              "#f0f921"
             ]
            ],
            "type": "histogram2d"
           }
          ],
          "histogram2dcontour": [
           {
            "colorbar": {
             "outlinewidth": 0,
             "ticks": ""
            },
            "colorscale": [
             [
              0,
              "#0d0887"
             ],
             [
              0.1111111111111111,
              "#46039f"
             ],
             [
              0.2222222222222222,
              "#7201a8"
             ],
             [
              0.3333333333333333,
              "#9c179e"
             ],
             [
              0.4444444444444444,
              "#bd3786"
             ],
             [
              0.5555555555555556,
              "#d8576b"
             ],
             [
              0.6666666666666666,
              "#ed7953"
             ],
             [
              0.7777777777777778,
              "#fb9f3a"
             ],
             [
              0.8888888888888888,
              "#fdca26"
             ],
             [
              1,
              "#f0f921"
             ]
            ],
            "type": "histogram2dcontour"
           }
          ],
          "mesh3d": [
           {
            "colorbar": {
             "outlinewidth": 0,
             "ticks": ""
            },
            "type": "mesh3d"
           }
          ],
          "parcoords": [
           {
            "line": {
             "colorbar": {
              "outlinewidth": 0,
              "ticks": ""
             }
            },
            "type": "parcoords"
           }
          ],
          "pie": [
           {
            "automargin": true,
            "type": "pie"
           }
          ],
          "scatter": [
           {
            "marker": {
             "colorbar": {
              "outlinewidth": 0,
              "ticks": ""
             }
            },
            "type": "scatter"
           }
          ],
          "scatter3d": [
           {
            "line": {
             "colorbar": {
              "outlinewidth": 0,
              "ticks": ""
             }
            },
            "marker": {
             "colorbar": {
              "outlinewidth": 0,
              "ticks": ""
             }
            },
            "type": "scatter3d"
           }
          ],
          "scattercarpet": [
           {
            "marker": {
             "colorbar": {
              "outlinewidth": 0,
              "ticks": ""
             }
            },
            "type": "scattercarpet"
           }
          ],
          "scattergeo": [
           {
            "marker": {
             "colorbar": {
              "outlinewidth": 0,
              "ticks": ""
             }
            },
            "type": "scattergeo"
           }
          ],
          "scattergl": [
           {
            "marker": {
             "colorbar": {
              "outlinewidth": 0,
              "ticks": ""
             }
            },
            "type": "scattergl"
           }
          ],
          "scattermapbox": [
           {
            "marker": {
             "colorbar": {
              "outlinewidth": 0,
              "ticks": ""
             }
            },
            "type": "scattermapbox"
           }
          ],
          "scatterpolar": [
           {
            "marker": {
             "colorbar": {
              "outlinewidth": 0,
              "ticks": ""
             }
            },
            "type": "scatterpolar"
           }
          ],
          "scatterpolargl": [
           {
            "marker": {
             "colorbar": {
              "outlinewidth": 0,
              "ticks": ""
             }
            },
            "type": "scatterpolargl"
           }
          ],
          "scatterternary": [
           {
            "marker": {
             "colorbar": {
              "outlinewidth": 0,
              "ticks": ""
             }
            },
            "type": "scatterternary"
           }
          ],
          "surface": [
           {
            "colorbar": {
             "outlinewidth": 0,
             "ticks": ""
            },
            "colorscale": [
             [
              0,
              "#0d0887"
             ],
             [
              0.1111111111111111,
              "#46039f"
             ],
             [
              0.2222222222222222,
              "#7201a8"
             ],
             [
              0.3333333333333333,
              "#9c179e"
             ],
             [
              0.4444444444444444,
              "#bd3786"
             ],
             [
              0.5555555555555556,
              "#d8576b"
             ],
             [
              0.6666666666666666,
              "#ed7953"
             ],
             [
              0.7777777777777778,
              "#fb9f3a"
             ],
             [
              0.8888888888888888,
              "#fdca26"
             ],
             [
              1,
              "#f0f921"
             ]
            ],
            "type": "surface"
           }
          ],
          "table": [
           {
            "cells": {
             "fill": {
              "color": "#EBF0F8"
             },
             "line": {
              "color": "white"
             }
            },
            "header": {
             "fill": {
              "color": "#C8D4E3"
             },
             "line": {
              "color": "white"
             }
            },
            "type": "table"
           }
          ]
         },
         "layout": {
          "annotationdefaults": {
           "arrowcolor": "#2a3f5f",
           "arrowhead": 0,
           "arrowwidth": 1
          },
          "autotypenumbers": "strict",
          "coloraxis": {
           "colorbar": {
            "outlinewidth": 0,
            "ticks": ""
           }
          },
          "colorscale": {
           "diverging": [
            [
             0,
             "#8e0152"
            ],
            [
             0.1,
             "#c51b7d"
            ],
            [
             0.2,
             "#de77ae"
            ],
            [
             0.3,
             "#f1b6da"
            ],
            [
             0.4,
             "#fde0ef"
            ],
            [
             0.5,
             "#f7f7f7"
            ],
            [
             0.6,
             "#e6f5d0"
            ],
            [
             0.7,
             "#b8e186"
            ],
            [
             0.8,
             "#7fbc41"
            ],
            [
             0.9,
             "#4d9221"
            ],
            [
             1,
             "#276419"
            ]
           ],
           "sequential": [
            [
             0,
             "#0d0887"
            ],
            [
             0.1111111111111111,
             "#46039f"
            ],
            [
             0.2222222222222222,
             "#7201a8"
            ],
            [
             0.3333333333333333,
             "#9c179e"
            ],
            [
             0.4444444444444444,
             "#bd3786"
            ],
            [
             0.5555555555555556,
             "#d8576b"
            ],
            [
             0.6666666666666666,
             "#ed7953"
            ],
            [
             0.7777777777777778,
             "#fb9f3a"
            ],
            [
             0.8888888888888888,
             "#fdca26"
            ],
            [
             1,
             "#f0f921"
            ]
           ],
           "sequentialminus": [
            [
             0,
             "#0d0887"
            ],
            [
             0.1111111111111111,
             "#46039f"
            ],
            [
             0.2222222222222222,
             "#7201a8"
            ],
            [
             0.3333333333333333,
             "#9c179e"
            ],
            [
             0.4444444444444444,
             "#bd3786"
            ],
            [
             0.5555555555555556,
             "#d8576b"
            ],
            [
             0.6666666666666666,
             "#ed7953"
            ],
            [
             0.7777777777777778,
             "#fb9f3a"
            ],
            [
             0.8888888888888888,
             "#fdca26"
            ],
            [
             1,
             "#f0f921"
            ]
           ]
          },
          "colorway": [
           "#636efa",
           "#EF553B",
           "#00cc96",
           "#ab63fa",
           "#FFA15A",
           "#19d3f3",
           "#FF6692",
           "#B6E880",
           "#FF97FF",
           "#FECB52"
          ],
          "font": {
           "color": "#2a3f5f"
          },
          "geo": {
           "bgcolor": "white",
           "lakecolor": "white",
           "landcolor": "#E5ECF6",
           "showlakes": true,
           "showland": true,
           "subunitcolor": "white"
          },
          "hoverlabel": {
           "align": "left"
          },
          "hovermode": "closest",
          "mapbox": {
           "style": "light"
          },
          "paper_bgcolor": "white",
          "plot_bgcolor": "#E5ECF6",
          "polar": {
           "angularaxis": {
            "gridcolor": "white",
            "linecolor": "white",
            "ticks": ""
           },
           "bgcolor": "#E5ECF6",
           "radialaxis": {
            "gridcolor": "white",
            "linecolor": "white",
            "ticks": ""
           }
          },
          "scene": {
           "xaxis": {
            "backgroundcolor": "#E5ECF6",
            "gridcolor": "white",
            "gridwidth": 2,
            "linecolor": "white",
            "showbackground": true,
            "ticks": "",
            "zerolinecolor": "white"
           },
           "yaxis": {
            "backgroundcolor": "#E5ECF6",
            "gridcolor": "white",
            "gridwidth": 2,
            "linecolor": "white",
            "showbackground": true,
            "ticks": "",
            "zerolinecolor": "white"
           },
           "zaxis": {
            "backgroundcolor": "#E5ECF6",
            "gridcolor": "white",
            "gridwidth": 2,
            "linecolor": "white",
            "showbackground": true,
            "ticks": "",
            "zerolinecolor": "white"
           }
          },
          "shapedefaults": {
           "line": {
            "color": "#2a3f5f"
           }
          },
          "ternary": {
           "aaxis": {
            "gridcolor": "white",
            "linecolor": "white",
            "ticks": ""
           },
           "baxis": {
            "gridcolor": "white",
            "linecolor": "white",
            "ticks": ""
           },
           "bgcolor": "#E5ECF6",
           "caxis": {
            "gridcolor": "white",
            "linecolor": "white",
            "ticks": ""
           }
          },
          "title": {
           "x": 0.05
          },
          "xaxis": {
           "automargin": true,
           "gridcolor": "white",
           "linecolor": "white",
           "ticks": "",
           "title": {
            "standoff": 15
           },
           "zerolinecolor": "white",
           "zerolinewidth": 2
          },
          "yaxis": {
           "automargin": true,
           "gridcolor": "white",
           "linecolor": "white",
           "ticks": "",
           "title": {
            "standoff": 15
           },
           "zerolinecolor": "white",
           "zerolinewidth": 2
          }
         }
        },
        "title": {
         "text": "Learning Curve of the Random Forest"
        },
        "xaxis": {
         "title": {
          "text": "#Training samples"
         }
        },
        "yaxis": {
         "title": {
          "text": "F1 Score"
         }
        }
       }
      },
      "text/html": [
       "<div>                            <div id=\"bb1ddee0-f149-4733-a04d-39569453792b\" class=\"plotly-graph-div\" style=\"height:525px; width:100%;\"></div>            <script type=\"text/javascript\">                require([\"plotly\"], function(Plotly) {                    window.PLOTLYENV=window.PLOTLYENV || {};                                    if (document.getElementById(\"bb1ddee0-f149-4733-a04d-39569453792b\")) {                    Plotly.newPlot(                        \"bb1ddee0-f149-4733-a04d-39569453792b\",                        [{\"hoverlabel\": {\"namelength\": 20}, \"line\": {\"color\": \"rgba(31, 119, 180, 0.40)\", \"width\": 0.1}, \"mode\": \"lines\", \"name\": \"\", \"showlegend\": false, \"type\": \"scatter\", \"x\": [89, 289, 490, 691, 892], \"y\": [null, 0.9077109861134491, 0.9362777910657794, 0.9259157898197038, 0.9306046308452144]}, {\"fill\": \"tonexty\", \"hoverlabel\": {\"namelength\": 20}, \"line\": {\"color\": \"rgba(31, 119, 180, 0.40)\", \"width\": 0.1}, \"mode\": \"lines\", \"name\": \"\", \"showlegend\": false, \"type\": \"scatter\", \"x\": [89, 289, 490, 691, 892], \"y\": [null, 0.954185133495919, 0.961427351226519, 0.9580646960425029, 0.9604401094453608]}, {\"line\": {\"color\": \"rgb(31, 119, 180)\"}, \"name\": \"Train score\", \"showlegend\": true, \"type\": \"scatter\", \"x\": [89, 289, 490, 691, 892], \"y\": [null, 0.9309480598046841, 0.9488525711461492, 0.9419902429311033, 0.9455223701452876]}, {\"hoverlabel\": {\"namelength\": 20}, \"line\": {\"color\": \"rgba(255, 127, 14, 0.40)\", \"width\": 0.1}, \"mode\": \"lines\", \"name\": \"\", \"showlegend\": false, \"type\": \"scatter\", \"x\": [89, 289, 490, 691, 892], \"y\": [null, 0.2904292570877771, 0.342443280428011, 0.2721939068706042, 0.3572440534346027]}, {\"fill\": \"tonexty\", \"hoverlabel\": {\"namelength\": 20}, \"line\": {\"color\": \"rgba(255, 127, 14, 0.40)\", \"width\": 0.1}, \"mode\": \"lines\", \"name\": \"\", \"showlegend\": false, \"type\": \"scatter\", \"x\": [89, 289, 490, 691, 892], \"y\": [null, 0.4708718118347752, 0.4919403244728353, 0.4534293063941185, 0.44005497370313423]}, {\"line\": {\"color\": \"rgb(255, 127, 14)\"}, \"name\": \"Test score\", \"showlegend\": true, \"type\": \"scatter\", \"x\": [89, 289, 490, 691, 892], \"y\": [null, 0.38065053446127617, 0.41719180245042314, 0.36281160663236134, 0.39864951356886846]}],                        {\"autosize\": true, \"legend\": {\"x\": 0.8, \"y\": 0}, \"template\": {\"data\": {\"bar\": [{\"error_x\": {\"color\": \"#2a3f5f\"}, \"error_y\": {\"color\": \"#2a3f5f\"}, \"marker\": {\"line\": {\"color\": \"#E5ECF6\", \"width\": 0.5}}, \"type\": \"bar\"}], \"barpolar\": [{\"marker\": {\"line\": {\"color\": \"#E5ECF6\", \"width\": 0.5}}, \"type\": \"barpolar\"}], \"carpet\": [{\"aaxis\": {\"endlinecolor\": \"#2a3f5f\", \"gridcolor\": \"white\", \"linecolor\": \"white\", \"minorgridcolor\": \"white\", \"startlinecolor\": \"#2a3f5f\"}, \"baxis\": {\"endlinecolor\": \"#2a3f5f\", \"gridcolor\": \"white\", \"linecolor\": \"white\", \"minorgridcolor\": \"white\", \"startlinecolor\": \"#2a3f5f\"}, \"type\": \"carpet\"}], \"choropleth\": [{\"colorbar\": {\"outlinewidth\": 0, \"ticks\": \"\"}, \"type\": \"choropleth\"}], \"contour\": [{\"colorbar\": {\"outlinewidth\": 0, \"ticks\": \"\"}, \"colorscale\": [[0.0, \"#0d0887\"], [0.1111111111111111, \"#46039f\"], [0.2222222222222222, \"#7201a8\"], [0.3333333333333333, \"#9c179e\"], [0.4444444444444444, \"#bd3786\"], [0.5555555555555556, \"#d8576b\"], [0.6666666666666666, \"#ed7953\"], [0.7777777777777778, \"#fb9f3a\"], [0.8888888888888888, \"#fdca26\"], [1.0, \"#f0f921\"]], \"type\": \"contour\"}], \"contourcarpet\": [{\"colorbar\": {\"outlinewidth\": 0, \"ticks\": \"\"}, \"type\": \"contourcarpet\"}], \"heatmap\": [{\"colorbar\": {\"outlinewidth\": 0, \"ticks\": \"\"}, \"colorscale\": [[0.0, \"#0d0887\"], [0.1111111111111111, \"#46039f\"], [0.2222222222222222, \"#7201a8\"], [0.3333333333333333, \"#9c179e\"], [0.4444444444444444, \"#bd3786\"], [0.5555555555555556, \"#d8576b\"], [0.6666666666666666, \"#ed7953\"], [0.7777777777777778, \"#fb9f3a\"], [0.8888888888888888, \"#fdca26\"], [1.0, \"#f0f921\"]], \"type\": \"heatmap\"}], \"heatmapgl\": [{\"colorbar\": {\"outlinewidth\": 0, \"ticks\": \"\"}, \"colorscale\": [[0.0, \"#0d0887\"], [0.1111111111111111, \"#46039f\"], [0.2222222222222222, \"#7201a8\"], [0.3333333333333333, \"#9c179e\"], [0.4444444444444444, \"#bd3786\"], [0.5555555555555556, \"#d8576b\"], [0.6666666666666666, \"#ed7953\"], [0.7777777777777778, \"#fb9f3a\"], [0.8888888888888888, \"#fdca26\"], [1.0, \"#f0f921\"]], \"type\": \"heatmapgl\"}], \"histogram\": [{\"marker\": {\"colorbar\": {\"outlinewidth\": 0, \"ticks\": \"\"}}, \"type\": \"histogram\"}], \"histogram2d\": [{\"colorbar\": {\"outlinewidth\": 0, \"ticks\": \"\"}, \"colorscale\": [[0.0, \"#0d0887\"], [0.1111111111111111, \"#46039f\"], [0.2222222222222222, \"#7201a8\"], [0.3333333333333333, \"#9c179e\"], [0.4444444444444444, \"#bd3786\"], [0.5555555555555556, \"#d8576b\"], [0.6666666666666666, \"#ed7953\"], [0.7777777777777778, \"#fb9f3a\"], [0.8888888888888888, \"#fdca26\"], [1.0, \"#f0f921\"]], \"type\": \"histogram2d\"}], \"histogram2dcontour\": [{\"colorbar\": {\"outlinewidth\": 0, \"ticks\": \"\"}, \"colorscale\": [[0.0, \"#0d0887\"], [0.1111111111111111, \"#46039f\"], [0.2222222222222222, \"#7201a8\"], [0.3333333333333333, \"#9c179e\"], [0.4444444444444444, \"#bd3786\"], [0.5555555555555556, \"#d8576b\"], [0.6666666666666666, \"#ed7953\"], [0.7777777777777778, \"#fb9f3a\"], [0.8888888888888888, \"#fdca26\"], [1.0, \"#f0f921\"]], \"type\": \"histogram2dcontour\"}], \"mesh3d\": [{\"colorbar\": {\"outlinewidth\": 0, \"ticks\": \"\"}, \"type\": \"mesh3d\"}], \"parcoords\": [{\"line\": {\"colorbar\": {\"outlinewidth\": 0, \"ticks\": \"\"}}, \"type\": \"parcoords\"}], \"pie\": [{\"automargin\": true, \"type\": \"pie\"}], \"scatter\": [{\"marker\": {\"colorbar\": {\"outlinewidth\": 0, \"ticks\": \"\"}}, \"type\": \"scatter\"}], \"scatter3d\": [{\"line\": {\"colorbar\": {\"outlinewidth\": 0, \"ticks\": \"\"}}, \"marker\": {\"colorbar\": {\"outlinewidth\": 0, \"ticks\": \"\"}}, \"type\": \"scatter3d\"}], \"scattercarpet\": [{\"marker\": {\"colorbar\": {\"outlinewidth\": 0, \"ticks\": \"\"}}, \"type\": \"scattercarpet\"}], \"scattergeo\": [{\"marker\": {\"colorbar\": {\"outlinewidth\": 0, \"ticks\": \"\"}}, \"type\": \"scattergeo\"}], \"scattergl\": [{\"marker\": {\"colorbar\": {\"outlinewidth\": 0, \"ticks\": \"\"}}, \"type\": \"scattergl\"}], \"scattermapbox\": [{\"marker\": {\"colorbar\": {\"outlinewidth\": 0, \"ticks\": \"\"}}, \"type\": \"scattermapbox\"}], \"scatterpolar\": [{\"marker\": {\"colorbar\": {\"outlinewidth\": 0, \"ticks\": \"\"}}, \"type\": \"scatterpolar\"}], \"scatterpolargl\": [{\"marker\": {\"colorbar\": {\"outlinewidth\": 0, \"ticks\": \"\"}}, \"type\": \"scatterpolargl\"}], \"scatterternary\": [{\"marker\": {\"colorbar\": {\"outlinewidth\": 0, \"ticks\": \"\"}}, \"type\": \"scatterternary\"}], \"surface\": [{\"colorbar\": {\"outlinewidth\": 0, \"ticks\": \"\"}, \"colorscale\": [[0.0, \"#0d0887\"], [0.1111111111111111, \"#46039f\"], [0.2222222222222222, \"#7201a8\"], [0.3333333333333333, \"#9c179e\"], [0.4444444444444444, \"#bd3786\"], [0.5555555555555556, \"#d8576b\"], [0.6666666666666666, \"#ed7953\"], [0.7777777777777778, \"#fb9f3a\"], [0.8888888888888888, \"#fdca26\"], [1.0, \"#f0f921\"]], \"type\": \"surface\"}], \"table\": [{\"cells\": {\"fill\": {\"color\": \"#EBF0F8\"}, \"line\": {\"color\": \"white\"}}, \"header\": {\"fill\": {\"color\": \"#C8D4E3\"}, \"line\": {\"color\": \"white\"}}, \"type\": \"table\"}]}, \"layout\": {\"annotationdefaults\": {\"arrowcolor\": \"#2a3f5f\", \"arrowhead\": 0, \"arrowwidth\": 1}, \"autotypenumbers\": \"strict\", \"coloraxis\": {\"colorbar\": {\"outlinewidth\": 0, \"ticks\": \"\"}}, \"colorscale\": {\"diverging\": [[0, \"#8e0152\"], [0.1, \"#c51b7d\"], [0.2, \"#de77ae\"], [0.3, \"#f1b6da\"], [0.4, \"#fde0ef\"], [0.5, \"#f7f7f7\"], [0.6, \"#e6f5d0\"], [0.7, \"#b8e186\"], [0.8, \"#7fbc41\"], [0.9, \"#4d9221\"], [1, \"#276419\"]], \"sequential\": [[0.0, \"#0d0887\"], [0.1111111111111111, \"#46039f\"], [0.2222222222222222, \"#7201a8\"], [0.3333333333333333, \"#9c179e\"], [0.4444444444444444, \"#bd3786\"], [0.5555555555555556, \"#d8576b\"], [0.6666666666666666, \"#ed7953\"], [0.7777777777777778, \"#fb9f3a\"], [0.8888888888888888, \"#fdca26\"], [1.0, \"#f0f921\"]], \"sequentialminus\": [[0.0, \"#0d0887\"], [0.1111111111111111, \"#46039f\"], [0.2222222222222222, \"#7201a8\"], [0.3333333333333333, \"#9c179e\"], [0.4444444444444444, \"#bd3786\"], [0.5555555555555556, \"#d8576b\"], [0.6666666666666666, \"#ed7953\"], [0.7777777777777778, \"#fb9f3a\"], [0.8888888888888888, \"#fdca26\"], [1.0, \"#f0f921\"]]}, \"colorway\": [\"#636efa\", \"#EF553B\", \"#00cc96\", \"#ab63fa\", \"#FFA15A\", \"#19d3f3\", \"#FF6692\", \"#B6E880\", \"#FF97FF\", \"#FECB52\"], \"font\": {\"color\": \"#2a3f5f\"}, \"geo\": {\"bgcolor\": \"white\", \"lakecolor\": \"white\", \"landcolor\": \"#E5ECF6\", \"showlakes\": true, \"showland\": true, \"subunitcolor\": \"white\"}, \"hoverlabel\": {\"align\": \"left\"}, \"hovermode\": \"closest\", \"mapbox\": {\"style\": \"light\"}, \"paper_bgcolor\": \"white\", \"plot_bgcolor\": \"#E5ECF6\", \"polar\": {\"angularaxis\": {\"gridcolor\": \"white\", \"linecolor\": \"white\", \"ticks\": \"\"}, \"bgcolor\": \"#E5ECF6\", \"radialaxis\": {\"gridcolor\": \"white\", \"linecolor\": \"white\", \"ticks\": \"\"}}, \"scene\": {\"xaxis\": {\"backgroundcolor\": \"#E5ECF6\", \"gridcolor\": \"white\", \"gridwidth\": 2, \"linecolor\": \"white\", \"showbackground\": true, \"ticks\": \"\", \"zerolinecolor\": \"white\"}, \"yaxis\": {\"backgroundcolor\": \"#E5ECF6\", \"gridcolor\": \"white\", \"gridwidth\": 2, \"linecolor\": \"white\", \"showbackground\": true, \"ticks\": \"\", \"zerolinecolor\": \"white\"}, \"zaxis\": {\"backgroundcolor\": \"#E5ECF6\", \"gridcolor\": \"white\", \"gridwidth\": 2, \"linecolor\": \"white\", \"showbackground\": true, \"ticks\": \"\", \"zerolinecolor\": \"white\"}}, \"shapedefaults\": {\"line\": {\"color\": \"#2a3f5f\"}}, \"ternary\": {\"aaxis\": {\"gridcolor\": \"white\", \"linecolor\": \"white\", \"ticks\": \"\"}, \"baxis\": {\"gridcolor\": \"white\", \"linecolor\": \"white\", \"ticks\": \"\"}, \"bgcolor\": \"#E5ECF6\", \"caxis\": {\"gridcolor\": \"white\", \"linecolor\": \"white\", \"ticks\": \"\"}}, \"title\": {\"x\": 0.05}, \"xaxis\": {\"automargin\": true, \"gridcolor\": \"white\", \"linecolor\": \"white\", \"ticks\": \"\", \"title\": {\"standoff\": 15}, \"zerolinecolor\": \"white\", \"zerolinewidth\": 2}, \"yaxis\": {\"automargin\": true, \"gridcolor\": \"white\", \"linecolor\": \"white\", \"ticks\": \"\", \"title\": {\"standoff\": 15}, \"zerolinecolor\": \"white\", \"zerolinewidth\": 2}}}, \"title\": {\"text\": \"Learning Curve of the Random Forest\"}, \"xaxis\": {\"title\": {\"text\": \"#Training samples\"}}, \"yaxis\": {\"title\": {\"text\": \"F1 Score\"}}},                        {\"responsive\": true}                    ).then(function(){\n",
       "                            \n",
       "var gd = document.getElementById('bb1ddee0-f149-4733-a04d-39569453792b');\n",
       "var x = new MutationObserver(function (mutations, observer) {{\n",
       "        var display = window.getComputedStyle(gd).display;\n",
       "        if (!display || display === 'none') {{\n",
       "            console.log([gd, 'removed!']);\n",
       "            Plotly.purge(gd);\n",
       "            observer.disconnect();\n",
       "        }}\n",
       "}});\n",
       "\n",
       "// Listen for the removal of the full notebook cells\n",
       "var notebookContainer = gd.closest('#notebook-container');\n",
       "if (notebookContainer) {{\n",
       "    x.observe(notebookContainer, {childList: true});\n",
       "}}\n",
       "\n",
       "// Listen for the clearing of the current output cell\n",
       "var outputEl = gd.closest('.output');\n",
       "if (outputEl) {{\n",
       "    x.observe(outputEl, {childList: true});\n",
       "}}\n",
       "\n",
       "                        })                };                });            </script>        </div>"
      ]
     },
     "metadata": {},
     "output_type": "display_data"
    }
   ],
   "source": [
    "plot_learning_curve(gs_dt.best_estimator_, \"Learning Curve of the Random Forest\", X_train, y_train, cv=5)"
   ]
  },
  {
   "cell_type": "markdown",
   "metadata": {},
   "source": [
    "### Summary: Plotting ROC Curves and Evaluating Classifier Performance Metrics\n",
    "\n",
    "These last boxes evaluate multiple classifiers using ROC curves and various performance metrics, including accuracy, precision, recall, F1 score, and AUC (Area Under the Curve). The results are visualized and summarized in a table which is then saved to an Excel file.\n",
    "\n",
    "#### Key Steps and Explanation:\n",
    "\n",
    "1.  **ROC Curve Plotting Function**:\n",
    "    \n",
    "    *   **Function Definition**:\n",
    "        \n",
    "        *   This function plots the ROC (Receiver Operating Characteristic) curves for a list of classifiers on the test set and calculates the AUC for each classifier.\n",
    "    *   **Baseline Diagonal Line**:\n",
    "        \n",
    "        *   Adds a baseline diagonal line representing the performance of a random classifier (no discrimination between classes).\n",
    "    *   **Loop Through Classifiers**:\n",
    "        \n",
    "        *   Iterates over each classifier, plotting its ROC curve and computing performance metrics:\n",
    "            *   **Probability Predictions**:\n",
    "                \n",
    "                *   Generates probability predictions for each class from the classifier.\n",
    "            *   **ROC Curve and AUC Calculation**:\n",
    "                \n",
    "                *   Computes the False Positive Rate (FPR) and True Positive Rate (TPR) for each class to plot the ROC curve.\n",
    "                *   Calculates the AUC for each class, including a micro-average ROC curve and AUC.\n",
    "    *   **Plotting ROC Curves**:\n",
    "        \n",
    "        *   Plots each classifier's ROC curve with its corresponding AUC value annotated in the legend.\n",
    "    *   **Layout and Display**:\n",
    "        \n",
    "        *   Creates a figure layout with labeled axes for True Positive Rate and False Positive Rate, and displays the ROC curves interactively.\n",
    "2.  **Applying the ROC Plotting Function**:\n",
    "    \n",
    "    *   **Classifier List and Names**:\n",
    "        \n",
    "        *   Specifies the classifiers (Logistic Regression, K-Nearest Neighbors, Support Vector Machine, Decision Tree, and Random Forest) and their respective names for plotting.\n",
    "    *   **Function Call**:\n",
    "        \n",
    "        *   Calls the `plot_roc_curve` function with the classifiers, their names, and test data to generate the ROC curves and AUC scores.\n",
    "3.  **Performance Metrics Calculation**:\n",
    "    \n",
    "    *   **Metrics Computation**:\n",
    "        \n",
    "        *   Computes various performance metrics (accuracy, precision, recall, F1 score) for each classifier based on its predictions on the test set.\n",
    "        *   Formats the metrics to three decimal places and stores them in a DataFrame for easier interpretation.\n",
    "4.  **Saving Results to Excel**:\n",
    "    \n",
    "    *   **Excel Export**:\n",
    "        \n",
    "        *   Exports the results table to an Excel file, providing a saved record of each classifier's performance metrics for further analysis.\n",
    "\n",
    "#### Overall Workflow:\n",
    "\n",
    "*   This comprehensive evaluation includes generating ROC curves to visualize the performance of multiple classifiers, calculating detailed performance metrics, and saving the results to an Excel file. This approach allows for a thorough comparison of different models' abilities to distinguish between classes, supporting informed model selection and refinement in a machine learning pipeline."
   ]
  },
  {
   "cell_type": "code",
   "execution_count": 59,
   "metadata": {},
   "outputs": [],
   "source": [
    "# code partially from https://scikit-learn.org/stable/auto_examples/model_selection/plot_roc.html\n",
    "def plot_roc_curve(classifiers, legend, title, X_test, y_test):\n",
    "    trace1 = go.Scatter(\n",
    "        x=[0, 1], \n",
    "        y=[0, 1], \n",
    "        showlegend=False,\n",
    "        mode=\"lines\",\n",
    "        name=\"\",\n",
    "        line = dict(\n",
    "            color = colors[0],\n",
    "        ),\n",
    "    )\n",
    "    \n",
    "    data = [trace1]\n",
    "    aucs = []\n",
    "    for clf, string, c in zip(classifiers, legend, colors[1:]):\n",
    "        y_test_roc = np.array([([0, 1] if y else [1, 0]) for y in y_test])\n",
    "        y_score = clf.predict_proba(X_test)\n",
    "        \n",
    "        # Compute ROC curve and ROC area for each class\n",
    "        fpr = dict()\n",
    "        tpr = dict()\n",
    "        roc_auc = dict()\n",
    "        for i in range(2):\n",
    "            fpr[i], tpr[i], _ = roc_curve(y_test_roc[:, i], y_score[:, i])\n",
    "            roc_auc[i] = auc(fpr[i], tpr[i])\n",
    "\n",
    "        # Compute micro-average ROC curve and ROC area\n",
    "        fpr[\"micro\"], tpr[\"micro\"], _ = roc_curve(y_test_roc.ravel(), y_score.ravel())\n",
    "        roc_auc[\"micro\"] = auc(fpr[\"micro\"], tpr[\"micro\"])\n",
    "        aucs.append(roc_auc['micro'])\n",
    "\n",
    "        trace = go.Scatter(\n",
    "            x=fpr['micro'], \n",
    "            y=tpr['micro'], \n",
    "            showlegend=True,\n",
    "            mode=\"lines\",\n",
    "            name=string + \" (area = %0.2f)\" % roc_auc['micro'],\n",
    "            hoverlabel = dict(\n",
    "                namelength=30\n",
    "            ),\n",
    "            line = dict(\n",
    "                color = c,\n",
    "            ),\n",
    "        )\n",
    "        data.append(trace)\n",
    "\n",
    "    layout = go.Layout(\n",
    "        title=title,\n",
    "        autosize=False,\n",
    "        width=550,\n",
    "        height=550,\n",
    "        yaxis=dict(\n",
    "            title='True Positive Rate',\n",
    "        ),\n",
    "        xaxis=dict(\n",
    "            title=\"False Positive Rate\",\n",
    "        ),\n",
    "        legend=dict(\n",
    "            x=0.4,\n",
    "            y=0.06,\n",
    "        ),\n",
    "    )\n",
    "    fig = go.Figure(data=data, layout=layout)\n",
    "    return aucs, iplot(fig, filename=title)"
   ]
  },
  {
   "cell_type": "code",
   "execution_count": 60,
   "metadata": {},
   "outputs": [
    {
     "data": {
      "application/vnd.plotly.v1+json": {
       "config": {
        "linkText": "Export to plot.ly",
        "plotlyServerURL": "https://plot.ly",
        "showLink": false
       },
       "data": [
        {
         "line": {
          "color": "rgb(31, 119, 180)"
         },
         "mode": "lines",
         "name": "",
         "showlegend": false,
         "type": "scatter",
         "x": [
          0,
          1
         ],
         "y": [
          0,
          1
         ]
        },
        {
         "hoverlabel": {
          "namelength": 30
         },
         "line": {
          "color": "rgb(255, 127, 14)"
         },
         "mode": "lines",
         "name": "Logistic Regression (area = 0.92)",
         "showlegend": true,
         "type": "scatter",
         "x": [
          0,
          0,
          0,
          0.0035842293906810036,
          0.0035842293906810036,
          0.007168458781362007,
          0.007168458781362007,
          0.010752688172043012,
          0.010752688172043012,
          0.014336917562724014,
          0.014336917562724014,
          0.017921146953405017,
          0.017921146953405017,
          0.021505376344086023,
          0.021505376344086023,
          0.025089605734767026,
          0.025089605734767026,
          0.02867383512544803,
          0.02867383512544803,
          0.03225806451612903,
          0.03225806451612903,
          0.035842293906810034,
          0.035842293906810034,
          0.03942652329749104,
          0.03942652329749104,
          0.043010752688172046,
          0.043010752688172046,
          0.04659498207885305,
          0.04659498207885305,
          0.053763440860215055,
          0.053763440860215055,
          0.05734767025089606,
          0.05734767025089606,
          0.06093189964157706,
          0.06093189964157706,
          0.06451612903225806,
          0.06451612903225806,
          0.06810035842293907,
          0.06810035842293907,
          0.07168458781362007,
          0.07168458781362007,
          0.07526881720430108,
          0.07526881720430108,
          0.08243727598566308,
          0.08243727598566308,
          0.0931899641577061,
          0.0931899641577061,
          0.0967741935483871,
          0.0967741935483871,
          0.1111111111111111,
          0.1111111111111111,
          0.11469534050179211,
          0.11469534050179211,
          0.12186379928315412,
          0.12186379928315412,
          0.12903225806451613,
          0.12903225806451613,
          0.14695340501792115,
          0.14695340501792115,
          0.15412186379928317,
          0.15412186379928317,
          0.15770609318996415,
          0.15770609318996415,
          0.16129032258064516,
          0.16129032258064516,
          0.16487455197132617,
          0.16487455197132617,
          0.17562724014336917,
          0.17562724014336917,
          0.1827956989247312,
          0.1827956989247312,
          0.18996415770609318,
          0.18996415770609318,
          0.1971326164874552,
          0.1971326164874552,
          0.24372759856630824,
          0.24372759856630824,
          0.25448028673835127,
          0.25448028673835127,
          0.26881720430107525,
          0.26881720430107525,
          0.2903225806451613,
          0.2903225806451613,
          0.3046594982078853,
          0.3046594982078853,
          0.37992831541218636,
          0.37992831541218636,
          0.3978494623655914,
          0.3978494623655914,
          0.41935483870967744,
          0.41935483870967744,
          0.4444444444444444,
          0.4444444444444444,
          0.48028673835125446,
          0.48028673835125446,
          0.5412186379928315,
          0.5412186379928315,
          0.6308243727598566,
          0.6308243727598566,
          0.7132616487455197,
          0.7132616487455197,
          0.7204301075268817,
          0.7204301075268817,
          0.8136200716845878,
          0.8136200716845878,
          0.8422939068100358,
          0.8422939068100358,
          0.978494623655914,
          0.978494623655914,
          0.989247311827957,
          0.989247311827957,
          1
         ],
         "y": [
          0,
          0.0035842293906810036,
          0.010752688172043012,
          0.010752688172043012,
          0.021505376344086023,
          0.021505376344086023,
          0.15770609318996415,
          0.15770609318996415,
          0.1863799283154122,
          0.1863799283154122,
          0.27956989247311825,
          0.27956989247311825,
          0.2867383512544803,
          0.2867383512544803,
          0.36917562724014336,
          0.36917562724014336,
          0.45878136200716846,
          0.45878136200716846,
          0.5197132616487455,
          0.5197132616487455,
          0.5555555555555556,
          0.5555555555555556,
          0.5806451612903226,
          0.5806451612903226,
          0.6021505376344086,
          0.6021505376344086,
          0.6200716845878136,
          0.6200716845878136,
          0.6953405017921147,
          0.6953405017921147,
          0.7096774193548387,
          0.7096774193548387,
          0.7311827956989247,
          0.7311827956989247,
          0.7455197132616488,
          0.7455197132616488,
          0.7562724014336918,
          0.7562724014336918,
          0.8028673835125448,
          0.8028673835125448,
          0.8100358422939068,
          0.8100358422939068,
          0.8172043010752689,
          0.8172043010752689,
          0.8243727598566308,
          0.8243727598566308,
          0.8351254480286738,
          0.8351254480286738,
          0.8387096774193549,
          0.8387096774193549,
          0.8422939068100358,
          0.8422939068100358,
          0.8458781362007168,
          0.8458781362007168,
          0.8530465949820788,
          0.8530465949820788,
          0.8709677419354839,
          0.8709677419354839,
          0.8781362007168458,
          0.8781362007168458,
          0.8853046594982079,
          0.8853046594982079,
          0.8888888888888888,
          0.8888888888888888,
          0.9032258064516129,
          0.9032258064516129,
          0.9068100358422939,
          0.9068100358422939,
          0.9175627240143369,
          0.9175627240143369,
          0.9247311827956989,
          0.9247311827956989,
          0.9283154121863799,
          0.9283154121863799,
          0.931899641577061,
          0.931899641577061,
          0.9354838709677419,
          0.9354838709677419,
          0.9390681003584229,
          0.9390681003584229,
          0.942652329749104,
          0.942652329749104,
          0.946236559139785,
          0.946236559139785,
          0.953405017921147,
          0.953405017921147,
          0.956989247311828,
          0.956989247311828,
          0.9605734767025089,
          0.9605734767025089,
          0.96415770609319,
          0.96415770609319,
          0.967741935483871,
          0.967741935483871,
          0.9713261648745519,
          0.9713261648745519,
          0.974910394265233,
          0.974910394265233,
          0.978494623655914,
          0.978494623655914,
          0.982078853046595,
          0.982078853046595,
          0.985663082437276,
          0.985663082437276,
          0.989247311827957,
          0.989247311827957,
          0.992831541218638,
          0.992831541218638,
          0.996415770609319,
          0.996415770609319,
          1,
          1
         ]
        },
        {
         "hoverlabel": {
          "namelength": 30
         },
         "line": {
          "color": "rgb(44, 160, 44)"
         },
         "mode": "lines",
         "name": "KNN (area = 0.87)",
         "showlegend": true,
         "type": "scatter",
         "x": [
          0,
          0.0035842293906810036,
          0.0035842293906810036,
          0.007168458781362007,
          0.007168458781362007,
          0.010752688172043012,
          0.010752688172043012,
          0.014336917562724014,
          0.014336917562724014,
          0.017921146953405017,
          0.017921146953405017,
          0.021505376344086023,
          0.021505376344086023,
          0.025089605734767026,
          0.025089605734767026,
          0.02867383512544803,
          0.02867383512544803,
          0.03225806451612903,
          0.03225806451612903,
          0.035842293906810034,
          0.035842293906810034,
          0.03942652329749104,
          0.03942652329749104,
          0.043010752688172046,
          0.043010752688172046,
          0.04659498207885305,
          0.04659498207885305,
          0.05017921146953405,
          0.05017921146953405,
          0.053763440860215055,
          0.053763440860215055,
          0.05734767025089606,
          0.05734767025089606,
          0.06093189964157706,
          0.06093189964157706,
          0.06451612903225806,
          0.06451612903225806,
          0.06810035842293907,
          0.06810035842293907,
          0.07168458781362007,
          0.07168458781362007,
          0.07526881720430108,
          0.07526881720430108,
          0.07885304659498207,
          0.07885304659498207,
          0.08243727598566308,
          0.08243727598566308,
          0.08602150537634409,
          0.08602150537634409,
          0.0967741935483871,
          0.0967741935483871,
          0.1003584229390681,
          0.1003584229390681,
          0.11469534050179211,
          0.11469534050179211,
          0.11827956989247312,
          0.11827956989247312,
          0.12186379928315412,
          0.12186379928315412,
          0.12544802867383512,
          0.12544802867383512,
          0.13620071684587814,
          0.13620071684587814,
          0.14336917562724014,
          0.14336917562724014,
          0.14695340501792115,
          0.14695340501792115,
          0.15053763440860216,
          0.15053763440860216,
          0.15412186379928317,
          0.15412186379928317,
          0.15770609318996415,
          0.15770609318996415,
          0.16845878136200718,
          0.16845878136200718,
          0.17562724014336917,
          0.17562724014336917,
          0.17921146953405018,
          0.17921146953405018,
          0.1863799283154122,
          0.1863799283154122,
          0.2007168458781362,
          0.2007168458781362,
          0.21505376344086022,
          0.21505376344086022,
          0.21863799283154123,
          0.21863799283154123,
          0.23297491039426524,
          0.23297491039426524,
          0.23655913978494625,
          0.23655913978494625,
          0.24014336917562723,
          0.24014336917562723,
          0.24372759856630824,
          0.24372759856630824,
          0.24731182795698925,
          0.24731182795698925,
          0.2724014336917563,
          0.2724014336917563,
          0.27598566308243727,
          0.27598566308243727,
          0.27956989247311825,
          0.27956989247311825,
          0.2867383512544803,
          0.2867383512544803,
          0.2903225806451613,
          0.2903225806451613,
          0.2974910394265233,
          0.2974910394265233,
          0.3046594982078853,
          0.3046594982078853,
          0.30824372759856633,
          0.30824372759856633,
          0.3225806451612903,
          0.3225806451612903,
          0.35125448028673834,
          0.35125448028673834,
          0.35842293906810035,
          0.35842293906810035,
          0.3763440860215054,
          0.3763440860215054,
          0.3835125448028674,
          0.3835125448028674,
          0.3942652329749104,
          0.3942652329749104,
          0.4121863799283154,
          0.4121863799283154,
          0.43010752688172044,
          0.43010752688172044,
          0.43727598566308246,
          0.43727598566308246,
          0.4551971326164875,
          0.4551971326164875,
          0.45878136200716846,
          0.45878136200716846,
          0.4731182795698925,
          0.4731182795698925,
          0.5053763440860215,
          0.5053763440860215,
          0.5197132616487455,
          0.5197132616487455,
          0.5985663082437276,
          0.5985663082437276,
          0.6021505376344086,
          0.6021505376344086,
          0.6164874551971327,
          0.6164874551971327,
          0.6845878136200717,
          0.6845878136200717,
          0.7096774193548387,
          0.7096774193548387,
          0.7383512544802867,
          0.7383512544802867,
          0.7741935483870968,
          0.7741935483870968,
          0.8136200716845878,
          0.8136200716845878,
          0.8817204301075269,
          0.8817204301075269,
          0.9175627240143369,
          0.9175627240143369,
          0.921146953405018,
          0.921146953405018,
          0.967741935483871,
          1
         ],
         "y": [
          0,
          0.03225806451612903,
          0.07885304659498207,
          0.07885304659498207,
          0.08243727598566308,
          0.08243727598566308,
          0.11827956989247312,
          0.11827956989247312,
          0.1863799283154122,
          0.1863799283154122,
          0.22580645161290322,
          0.22580645161290322,
          0.2616487455197133,
          0.2616487455197133,
          0.2903225806451613,
          0.2903225806451613,
          0.3154121863799283,
          0.3154121863799283,
          0.3835125448028674,
          0.3835125448028674,
          0.3978494623655914,
          0.3978494623655914,
          0.4014336917562724,
          0.4014336917562724,
          0.48028673835125446,
          0.48028673835125446,
          0.4946236559139785,
          0.4946236559139785,
          0.5268817204301075,
          0.5268817204301075,
          0.5412186379928315,
          0.5412186379928315,
          0.5448028673835126,
          0.5448028673835126,
          0.5627240143369175,
          0.5627240143369175,
          0.5698924731182796,
          0.5698924731182796,
          0.5878136200716846,
          0.5878136200716846,
          0.6057347670250897,
          0.6057347670250897,
          0.6164874551971327,
          0.6164874551971327,
          0.6236559139784946,
          0.6236559139784946,
          0.6415770609318996,
          0.6415770609318996,
          0.6487455197132617,
          0.6487455197132617,
          0.6774193548387096,
          0.6774193548387096,
          0.6917562724014337,
          0.6917562724014337,
          0.6953405017921147,
          0.6953405017921147,
          0.7025089605734767,
          0.7025089605734767,
          0.7096774193548387,
          0.7096774193548387,
          0.7132616487455197,
          0.7132616487455197,
          0.7204301075268817,
          0.7204301075268817,
          0.7240143369175627,
          0.7240143369175627,
          0.7275985663082437,
          0.7275985663082437,
          0.7526881720430108,
          0.7526881720430108,
          0.7562724014336918,
          0.7562724014336918,
          0.7598566308243727,
          0.7598566308243727,
          0.7634408602150538,
          0.7634408602150538,
          0.7670250896057348,
          0.7670250896057348,
          0.7813620071684588,
          0.7813620071684588,
          0.7849462365591398,
          0.7849462365591398,
          0.7992831541218638,
          0.7992831541218638,
          0.8136200716845878,
          0.8136200716845878,
          0.8207885304659498,
          0.8207885304659498,
          0.8243727598566308,
          0.8243727598566308,
          0.8315412186379928,
          0.8315412186379928,
          0.8422939068100358,
          0.8422939068100358,
          0.8458781362007168,
          0.8458781362007168,
          0.8494623655913979,
          0.8494623655913979,
          0.8530465949820788,
          0.8530465949820788,
          0.8566308243727598,
          0.8566308243727598,
          0.8637992831541219,
          0.8637992831541219,
          0.8745519713261649,
          0.8745519713261649,
          0.8781362007168458,
          0.8781362007168458,
          0.8817204301075269,
          0.8817204301075269,
          0.8853046594982079,
          0.8853046594982079,
          0.899641577060932,
          0.899641577060932,
          0.9032258064516129,
          0.9032258064516129,
          0.9139784946236559,
          0.9139784946236559,
          0.9175627240143369,
          0.9175627240143369,
          0.921146953405018,
          0.921146953405018,
          0.9247311827956989,
          0.9247311827956989,
          0.9283154121863799,
          0.9283154121863799,
          0.931899641577061,
          0.931899641577061,
          0.9354838709677419,
          0.9354838709677419,
          0.9390681003584229,
          0.9390681003584229,
          0.942652329749104,
          0.942652329749104,
          0.946236559139785,
          0.946236559139785,
          0.9498207885304659,
          0.9498207885304659,
          0.953405017921147,
          0.953405017921147,
          0.956989247311828,
          0.956989247311828,
          0.9605734767025089,
          0.9605734767025089,
          0.96415770609319,
          0.96415770609319,
          0.967741935483871,
          0.967741935483871,
          0.9713261648745519,
          0.9713261648745519,
          0.974910394265233,
          0.974910394265233,
          0.978494623655914,
          0.978494623655914,
          0.982078853046595,
          0.982078853046595,
          0.985663082437276,
          0.985663082437276,
          0.989247311827957,
          0.989247311827957,
          0.992831541218638,
          0.992831541218638,
          0.996415770609319,
          0.996415770609319,
          1
         ]
        },
        {
         "hoverlabel": {
          "namelength": 30
         },
         "line": {
          "color": "rgb(214, 39, 40)"
         },
         "mode": "lines",
         "name": "SVM (area = 0.92)",
         "showlegend": true,
         "type": "scatter",
         "x": [
          0,
          0,
          0.0035842293906810036,
          0.0035842293906810036,
          0.007168458781362007,
          0.007168458781362007,
          0.010752688172043012,
          0.010752688172043012,
          0.014336917562724014,
          0.014336917562724014,
          0.017921146953405017,
          0.017921146953405017,
          0.021505376344086023,
          0.021505376344086023,
          0.025089605734767026,
          0.025089605734767026,
          0.02867383512544803,
          0.02867383512544803,
          0.03225806451612903,
          0.03225806451612903,
          0.035842293906810034,
          0.035842293906810034,
          0.03942652329749104,
          0.03942652329749104,
          0.043010752688172046,
          0.043010752688172046,
          0.04659498207885305,
          0.04659498207885305,
          0.053763440860215055,
          0.053763440860215055,
          0.05734767025089606,
          0.05734767025089606,
          0.06451612903225806,
          0.06451612903225806,
          0.06810035842293907,
          0.06810035842293907,
          0.07168458781362007,
          0.07168458781362007,
          0.08243727598566308,
          0.08243727598566308,
          0.08602150537634409,
          0.08602150537634409,
          0.08960573476702509,
          0.08960573476702509,
          0.0931899641577061,
          0.0931899641577061,
          0.1003584229390681,
          0.1003584229390681,
          0.1039426523297491,
          0.1039426523297491,
          0.10752688172043011,
          0.10752688172043011,
          0.11827956989247312,
          0.11827956989247312,
          0.12544802867383512,
          0.12544802867383512,
          0.12903225806451613,
          0.12903225806451613,
          0.13978494623655913,
          0.13978494623655913,
          0.14695340501792115,
          0.14695340501792115,
          0.15412186379928317,
          0.15412186379928317,
          0.15770609318996415,
          0.15770609318996415,
          0.17562724014336917,
          0.17562724014336917,
          0.17921146953405018,
          0.17921146953405018,
          0.1827956989247312,
          0.1827956989247312,
          0.1863799283154122,
          0.1863799283154122,
          0.1971326164874552,
          0.1971326164874552,
          0.2007168458781362,
          0.2007168458781362,
          0.20430107526881722,
          0.20430107526881722,
          0.22939068100358423,
          0.22939068100358423,
          0.23655913978494625,
          0.23655913978494625,
          0.24731182795698925,
          0.24731182795698925,
          0.25448028673835127,
          0.25448028673835127,
          0.2616487455197133,
          0.2616487455197133,
          0.3333333333333333,
          0.3333333333333333,
          0.3870967741935484,
          0.3870967741935484,
          0.3906810035842294,
          0.3906810035842294,
          0.3942652329749104,
          0.3942652329749104,
          0.5448028673835126,
          0.5448028673835126,
          0.5842293906810035,
          0.5842293906810035,
          0.6236559139784946,
          0.6236559139784946,
          0.6379928315412187,
          0.6379928315412187,
          0.7670250896057348,
          0.7670250896057348,
          0.7813620071684588,
          0.7813620071684588,
          0.8781362007168458,
          0.8781362007168458,
          0.978494623655914,
          0.978494623655914,
          0.996415770609319,
          0.996415770609319,
          1
         ],
         "y": [
          0,
          0.0035842293906810036,
          0.0035842293906810036,
          0.021505376344086023,
          0.021505376344086023,
          0.12186379928315412,
          0.12186379928315412,
          0.21863799283154123,
          0.21863799283154123,
          0.23297491039426524,
          0.23297491039426524,
          0.36200716845878134,
          0.36200716845878134,
          0.3763440860215054,
          0.3763440860215054,
          0.4157706093189964,
          0.4157706093189964,
          0.4551971326164875,
          0.4551971326164875,
          0.6057347670250897,
          0.6057347670250897,
          0.6093189964157706,
          0.6093189964157706,
          0.6129032258064516,
          0.6129032258064516,
          0.6666666666666666,
          0.6666666666666666,
          0.7383512544802867,
          0.7383512544802867,
          0.7455197132616488,
          0.7455197132616488,
          0.7526881720430108,
          0.7526881720430108,
          0.7634408602150538,
          0.7634408602150538,
          0.7706093189964157,
          0.7706093189964157,
          0.7956989247311828,
          0.7956989247311828,
          0.7992831541218638,
          0.7992831541218638,
          0.8028673835125448,
          0.8028673835125448,
          0.8136200716845878,
          0.8136200716845878,
          0.8172043010752689,
          0.8172043010752689,
          0.8207885304659498,
          0.8207885304659498,
          0.8243727598566308,
          0.8243727598566308,
          0.8422939068100358,
          0.8422939068100358,
          0.8458781362007168,
          0.8458781362007168,
          0.8530465949820788,
          0.8530465949820788,
          0.8602150537634409,
          0.8602150537634409,
          0.8709677419354839,
          0.8709677419354839,
          0.8745519713261649,
          0.8745519713261649,
          0.8817204301075269,
          0.8817204301075269,
          0.8924731182795699,
          0.8924731182795699,
          0.8960573476702509,
          0.8960573476702509,
          0.899641577060932,
          0.899641577060932,
          0.9068100358422939,
          0.9068100358422939,
          0.910394265232975,
          0.910394265232975,
          0.9139784946236559,
          0.9139784946236559,
          0.9175627240143369,
          0.9175627240143369,
          0.9283154121863799,
          0.9283154121863799,
          0.931899641577061,
          0.931899641577061,
          0.9354838709677419,
          0.9354838709677419,
          0.942652329749104,
          0.942652329749104,
          0.946236559139785,
          0.946236559139785,
          0.953405017921147,
          0.953405017921147,
          0.956989247311828,
          0.956989247311828,
          0.9605734767025089,
          0.9605734767025089,
          0.96415770609319,
          0.96415770609319,
          0.967741935483871,
          0.967741935483871,
          0.9713261648745519,
          0.9713261648745519,
          0.974910394265233,
          0.974910394265233,
          0.978494623655914,
          0.978494623655914,
          0.982078853046595,
          0.982078853046595,
          0.985663082437276,
          0.985663082437276,
          0.989247311827957,
          0.989247311827957,
          0.992831541218638,
          0.992831541218638,
          0.996415770609319,
          0.996415770609319,
          1,
          1
         ]
        },
        {
         "hoverlabel": {
          "namelength": 30
         },
         "line": {
          "color": "rgb(148, 103, 189)"
         },
         "mode": "lines",
         "name": "Decision Tree (area = 0.84)",
         "showlegend": true,
         "type": "scatter",
         "x": [
          0,
          0.15412186379928317,
          0.16129032258064516,
          0.17562724014336917,
          0.1935483870967742,
          1
         ],
         "y": [
          0,
          0.8064516129032258,
          0.8243727598566308,
          0.8387096774193549,
          0.8458781362007168,
          1
         ]
        },
        {
         "hoverlabel": {
          "namelength": 30
         },
         "line": {
          "color": "rgb(140, 86, 75)"
         },
         "mode": "lines",
         "name": "Random Forest (area = 0.96)",
         "showlegend": true,
         "type": "scatter",
         "x": [
          0,
          0,
          0,
          0,
          0,
          0,
          0,
          0,
          0,
          0.0035842293906810036,
          0.0035842293906810036,
          0.010752688172043012,
          0.014336917562724014,
          0.014336917562724014,
          0.014336917562724014,
          0.014336917562724014,
          0.014336917562724014,
          0.017921146953405017,
          0.017921146953405017,
          0.017921146953405017,
          0.017921146953405017,
          0.017921146953405017,
          0.017921146953405017,
          0.017921146953405017,
          0.017921146953405017,
          0.017921146953405017,
          0.021505376344086023,
          0.021505376344086023,
          0.021505376344086023,
          0.021505376344086023,
          0.021505376344086023,
          0.021505376344086023,
          0.021505376344086023,
          0.021505376344086023,
          0.021505376344086023,
          0.021505376344086023,
          0.021505376344086023,
          0.021505376344086023,
          0.021505376344086023,
          0.021505376344086023,
          0.021505376344086023,
          0.021505376344086023,
          0.025089605734767026,
          0.025089605734767026,
          0.025089605734767026,
          0.025089605734767026,
          0.025089605734767026,
          0.025089605734767026,
          0.025089605734767026,
          0.025089605734767026,
          0.025089605734767026,
          0.025089605734767026,
          0.025089605734767026,
          0.025089605734767026,
          0.025089605734767026,
          0.025089605734767026,
          0.02867383512544803,
          0.02867383512544803,
          0.03225806451612903,
          0.035842293906810034,
          0.035842293906810034,
          0.035842293906810034,
          0.035842293906810034,
          0.035842293906810034,
          0.035842293906810034,
          0.035842293906810034,
          0.035842293906810034,
          0.035842293906810034,
          0.035842293906810034,
          0.035842293906810034,
          0.035842293906810034,
          0.035842293906810034,
          0.035842293906810034,
          0.03942652329749104,
          0.03942652329749104,
          0.043010752688172046,
          0.043010752688172046,
          0.04659498207885305,
          0.04659498207885305,
          0.053763440860215055,
          0.053763440860215055,
          0.05734767025089606,
          0.06093189964157706,
          0.06093189964157706,
          0.07526881720430108,
          0.07526881720430108,
          0.08243727598566308,
          0.08243727598566308,
          0.0931899641577061,
          0.0931899641577061,
          0.1003584229390681,
          0.1003584229390681,
          0.1039426523297491,
          0.12186379928315412,
          0.13620071684587814,
          0.14336917562724014,
          0.15412186379928317,
          0.16845878136200718,
          0.17562724014336917,
          0.17921146953405018,
          0.1863799283154122,
          0.1935483870967742,
          0.2007168458781362,
          0.20430107526881722,
          0.21863799283154123,
          0.22580645161290322,
          0.24014336917562723,
          0.25448028673835127,
          0.25806451612903225,
          0.2724014336917563,
          0.2867383512544803,
          0.3010752688172043,
          0.30824372759856633,
          0.31899641577060933,
          0.32616487455197135,
          0.33691756272401435,
          0.35125448028673834,
          0.3548387096774194,
          0.3727598566308244,
          0.3763440860215054,
          0.3870967741935484,
          0.4050179211469534,
          0.4121863799283154,
          0.4157706093189964,
          0.43010752688172044,
          0.4551971326164875,
          0.46236559139784944,
          0.4731182795698925,
          0.4874551971326165,
          0.4910394265232975,
          0.4982078853046595,
          0.5161290322580645,
          0.5304659498207885,
          0.5376344086021505,
          0.5412186379928315,
          0.5591397849462365,
          0.5698924731182796,
          0.5734767025089605,
          0.5770609318996416,
          0.5806451612903226,
          0.5985663082437276,
          0.6093189964157706,
          0.6523297491039427,
          0.6630824372759857,
          0.6810035842293907,
          0.6845878136200717,
          0.7096774193548387,
          0.7383512544802867,
          0.7562724014336918,
          0.7706093189964157,
          0.7992831541218638,
          0.8136200716845878,
          0.8351254480286738,
          0.8602150537634409,
          0.8673835125448028,
          0.8745519713261649,
          0.8853046594982079,
          0.899641577060932,
          0.9175627240143369,
          0.9498207885304659,
          0.96415770609319,
          0.985663082437276,
          1
         ],
         "y": [
          0,
          0.007168458781362007,
          0.014336917562724014,
          0.035842293906810034,
          0.05017921146953405,
          0.08243727598566308,
          0.1003584229390681,
          0.11469534050179211,
          0.12544802867383512,
          0.13261648745519714,
          0.13978494623655913,
          0.16487455197132617,
          0.1863799283154122,
          0.2007168458781362,
          0.22939068100358423,
          0.24372759856630824,
          0.2616487455197133,
          0.2903225806451613,
          0.3154121863799283,
          0.31899641577060933,
          0.33691756272401435,
          0.34767025089605735,
          0.3906810035842294,
          0.4014336917562724,
          0.41935483870967744,
          0.4229390681003584,
          0.4265232974910394,
          0.43010752688172044,
          0.44086021505376344,
          0.45878136200716846,
          0.46236559139784944,
          0.46953405017921146,
          0.4838709677419355,
          0.5017921146953405,
          0.5089605734767025,
          0.5125448028673835,
          0.5268817204301075,
          0.5376344086021505,
          0.5448028673835126,
          0.5698924731182796,
          0.5842293906810035,
          0.5878136200716846,
          0.5949820788530465,
          0.6129032258064516,
          0.6236559139784946,
          0.6272401433691757,
          0.6451612903225806,
          0.6487455197132617,
          0.6630824372759857,
          0.6738351254480287,
          0.6810035842293907,
          0.6917562724014337,
          0.6989247311827957,
          0.7132616487455197,
          0.7275985663082437,
          0.7419354838709677,
          0.7455197132616488,
          0.7598566308243727,
          0.7741935483870968,
          0.7813620071684588,
          0.7956989247311828,
          0.7992831541218638,
          0.8064516129032258,
          0.8136200716845878,
          0.8207885304659498,
          0.8243727598566308,
          0.8315412186379928,
          0.8458781362007168,
          0.8566308243727598,
          0.8637992831541219,
          0.8781362007168458,
          0.8960573476702509,
          0.899641577060932,
          0.899641577060932,
          0.9068100358422939,
          0.9068100358422939,
          0.9175627240143369,
          0.9175627240143369,
          0.9247311827956989,
          0.9247311827956989,
          0.9390681003584229,
          0.9390681003584229,
          0.942652329749104,
          0.946236559139785,
          0.946236559139785,
          0.953405017921147,
          0.953405017921147,
          0.956989247311828,
          0.956989247311828,
          0.9605734767025089,
          0.9605734767025089,
          0.96415770609319,
          0.96415770609319,
          0.96415770609319,
          0.96415770609319,
          0.96415770609319,
          0.96415770609319,
          0.96415770609319,
          0.96415770609319,
          0.96415770609319,
          0.96415770609319,
          0.96415770609319,
          0.96415770609319,
          0.96415770609319,
          0.96415770609319,
          0.967741935483871,
          0.9713261648745519,
          0.9713261648745519,
          0.974910394265233,
          0.974910394265233,
          0.974910394265233,
          0.974910394265233,
          0.974910394265233,
          0.974910394265233,
          0.974910394265233,
          0.974910394265233,
          0.974910394265233,
          0.974910394265233,
          0.974910394265233,
          0.974910394265233,
          0.974910394265233,
          0.974910394265233,
          0.978494623655914,
          0.978494623655914,
          0.978494623655914,
          0.978494623655914,
          0.978494623655914,
          0.978494623655914,
          0.978494623655914,
          0.978494623655914,
          0.978494623655914,
          0.978494623655914,
          0.978494623655914,
          0.978494623655914,
          0.978494623655914,
          0.978494623655914,
          0.978494623655914,
          0.978494623655914,
          0.982078853046595,
          0.982078853046595,
          0.982078853046595,
          0.982078853046595,
          0.982078853046595,
          0.982078853046595,
          0.982078853046595,
          0.982078853046595,
          0.982078853046595,
          0.985663082437276,
          0.985663082437276,
          0.985663082437276,
          0.985663082437276,
          0.985663082437276,
          0.989247311827957,
          0.996415770609319,
          0.996415770609319,
          1,
          1,
          1,
          1,
          1,
          1,
          1,
          1
         ]
        }
       ],
       "layout": {
        "autosize": false,
        "height": 550,
        "legend": {
         "x": 0.4,
         "y": 0.06
        },
        "template": {
         "data": {
          "bar": [
           {
            "error_x": {
             "color": "#2a3f5f"
            },
            "error_y": {
             "color": "#2a3f5f"
            },
            "marker": {
             "line": {
              "color": "#E5ECF6",
              "width": 0.5
             }
            },
            "type": "bar"
           }
          ],
          "barpolar": [
           {
            "marker": {
             "line": {
              "color": "#E5ECF6",
              "width": 0.5
             }
            },
            "type": "barpolar"
           }
          ],
          "carpet": [
           {
            "aaxis": {
             "endlinecolor": "#2a3f5f",
             "gridcolor": "white",
             "linecolor": "white",
             "minorgridcolor": "white",
             "startlinecolor": "#2a3f5f"
            },
            "baxis": {
             "endlinecolor": "#2a3f5f",
             "gridcolor": "white",
             "linecolor": "white",
             "minorgridcolor": "white",
             "startlinecolor": "#2a3f5f"
            },
            "type": "carpet"
           }
          ],
          "choropleth": [
           {
            "colorbar": {
             "outlinewidth": 0,
             "ticks": ""
            },
            "type": "choropleth"
           }
          ],
          "contour": [
           {
            "colorbar": {
             "outlinewidth": 0,
             "ticks": ""
            },
            "colorscale": [
             [
              0,
              "#0d0887"
             ],
             [
              0.1111111111111111,
              "#46039f"
             ],
             [
              0.2222222222222222,
              "#7201a8"
             ],
             [
              0.3333333333333333,
              "#9c179e"
             ],
             [
              0.4444444444444444,
              "#bd3786"
             ],
             [
              0.5555555555555556,
              "#d8576b"
             ],
             [
              0.6666666666666666,
              "#ed7953"
             ],
             [
              0.7777777777777778,
              "#fb9f3a"
             ],
             [
              0.8888888888888888,
              "#fdca26"
             ],
             [
              1,
              "#f0f921"
             ]
            ],
            "type": "contour"
           }
          ],
          "contourcarpet": [
           {
            "colorbar": {
             "outlinewidth": 0,
             "ticks": ""
            },
            "type": "contourcarpet"
           }
          ],
          "heatmap": [
           {
            "colorbar": {
             "outlinewidth": 0,
             "ticks": ""
            },
            "colorscale": [
             [
              0,
              "#0d0887"
             ],
             [
              0.1111111111111111,
              "#46039f"
             ],
             [
              0.2222222222222222,
              "#7201a8"
             ],
             [
              0.3333333333333333,
              "#9c179e"
             ],
             [
              0.4444444444444444,
              "#bd3786"
             ],
             [
              0.5555555555555556,
              "#d8576b"
             ],
             [
              0.6666666666666666,
              "#ed7953"
             ],
             [
              0.7777777777777778,
              "#fb9f3a"
             ],
             [
              0.8888888888888888,
              "#fdca26"
             ],
             [
              1,
              "#f0f921"
             ]
            ],
            "type": "heatmap"
           }
          ],
          "heatmapgl": [
           {
            "colorbar": {
             "outlinewidth": 0,
             "ticks": ""
            },
            "colorscale": [
             [
              0,
              "#0d0887"
             ],
             [
              0.1111111111111111,
              "#46039f"
             ],
             [
              0.2222222222222222,
              "#7201a8"
             ],
             [
              0.3333333333333333,
              "#9c179e"
             ],
             [
              0.4444444444444444,
              "#bd3786"
             ],
             [
              0.5555555555555556,
              "#d8576b"
             ],
             [
              0.6666666666666666,
              "#ed7953"
             ],
             [
              0.7777777777777778,
              "#fb9f3a"
             ],
             [
              0.8888888888888888,
              "#fdca26"
             ],
             [
              1,
              "#f0f921"
             ]
            ],
            "type": "heatmapgl"
           }
          ],
          "histogram": [
           {
            "marker": {
             "colorbar": {
              "outlinewidth": 0,
              "ticks": ""
             }
            },
            "type": "histogram"
           }
          ],
          "histogram2d": [
           {
            "colorbar": {
             "outlinewidth": 0,
             "ticks": ""
            },
            "colorscale": [
             [
              0,
              "#0d0887"
             ],
             [
              0.1111111111111111,
              "#46039f"
             ],
             [
              0.2222222222222222,
              "#7201a8"
             ],
             [
              0.3333333333333333,
              "#9c179e"
             ],
             [
              0.4444444444444444,
              "#bd3786"
             ],
             [
              0.5555555555555556,
              "#d8576b"
             ],
             [
              0.6666666666666666,
              "#ed7953"
             ],
             [
              0.7777777777777778,
              "#fb9f3a"
             ],
             [
              0.8888888888888888,
              "#fdca26"
             ],
             [
              1,
              "#f0f921"
             ]
            ],
            "type": "histogram2d"
           }
          ],
          "histogram2dcontour": [
           {
            "colorbar": {
             "outlinewidth": 0,
             "ticks": ""
            },
            "colorscale": [
             [
              0,
              "#0d0887"
             ],
             [
              0.1111111111111111,
              "#46039f"
             ],
             [
              0.2222222222222222,
              "#7201a8"
             ],
             [
              0.3333333333333333,
              "#9c179e"
             ],
             [
              0.4444444444444444,
              "#bd3786"
             ],
             [
              0.5555555555555556,
              "#d8576b"
             ],
             [
              0.6666666666666666,
              "#ed7953"
             ],
             [
              0.7777777777777778,
              "#fb9f3a"
             ],
             [
              0.8888888888888888,
              "#fdca26"
             ],
             [
              1,
              "#f0f921"
             ]
            ],
            "type": "histogram2dcontour"
           }
          ],
          "mesh3d": [
           {
            "colorbar": {
             "outlinewidth": 0,
             "ticks": ""
            },
            "type": "mesh3d"
           }
          ],
          "parcoords": [
           {
            "line": {
             "colorbar": {
              "outlinewidth": 0,
              "ticks": ""
             }
            },
            "type": "parcoords"
           }
          ],
          "pie": [
           {
            "automargin": true,
            "type": "pie"
           }
          ],
          "scatter": [
           {
            "marker": {
             "colorbar": {
              "outlinewidth": 0,
              "ticks": ""
             }
            },
            "type": "scatter"
           }
          ],
          "scatter3d": [
           {
            "line": {
             "colorbar": {
              "outlinewidth": 0,
              "ticks": ""
             }
            },
            "marker": {
             "colorbar": {
              "outlinewidth": 0,
              "ticks": ""
             }
            },
            "type": "scatter3d"
           }
          ],
          "scattercarpet": [
           {
            "marker": {
             "colorbar": {
              "outlinewidth": 0,
              "ticks": ""
             }
            },
            "type": "scattercarpet"
           }
          ],
          "scattergeo": [
           {
            "marker": {
             "colorbar": {
              "outlinewidth": 0,
              "ticks": ""
             }
            },
            "type": "scattergeo"
           }
          ],
          "scattergl": [
           {
            "marker": {
             "colorbar": {
              "outlinewidth": 0,
              "ticks": ""
             }
            },
            "type": "scattergl"
           }
          ],
          "scattermapbox": [
           {
            "marker": {
             "colorbar": {
              "outlinewidth": 0,
              "ticks": ""
             }
            },
            "type": "scattermapbox"
           }
          ],
          "scatterpolar": [
           {
            "marker": {
             "colorbar": {
              "outlinewidth": 0,
              "ticks": ""
             }
            },
            "type": "scatterpolar"
           }
          ],
          "scatterpolargl": [
           {
            "marker": {
             "colorbar": {
              "outlinewidth": 0,
              "ticks": ""
             }
            },
            "type": "scatterpolargl"
           }
          ],
          "scatterternary": [
           {
            "marker": {
             "colorbar": {
              "outlinewidth": 0,
              "ticks": ""
             }
            },
            "type": "scatterternary"
           }
          ],
          "surface": [
           {
            "colorbar": {
             "outlinewidth": 0,
             "ticks": ""
            },
            "colorscale": [
             [
              0,
              "#0d0887"
             ],
             [
              0.1111111111111111,
              "#46039f"
             ],
             [
              0.2222222222222222,
              "#7201a8"
             ],
             [
              0.3333333333333333,
              "#9c179e"
             ],
             [
              0.4444444444444444,
              "#bd3786"
             ],
             [
              0.5555555555555556,
              "#d8576b"
             ],
             [
              0.6666666666666666,
              "#ed7953"
             ],
             [
              0.7777777777777778,
              "#fb9f3a"
             ],
             [
              0.8888888888888888,
              "#fdca26"
             ],
             [
              1,
              "#f0f921"
             ]
            ],
            "type": "surface"
           }
          ],
          "table": [
           {
            "cells": {
             "fill": {
              "color": "#EBF0F8"
             },
             "line": {
              "color": "white"
             }
            },
            "header": {
             "fill": {
              "color": "#C8D4E3"
             },
             "line": {
              "color": "white"
             }
            },
            "type": "table"
           }
          ]
         },
         "layout": {
          "annotationdefaults": {
           "arrowcolor": "#2a3f5f",
           "arrowhead": 0,
           "arrowwidth": 1
          },
          "autotypenumbers": "strict",
          "coloraxis": {
           "colorbar": {
            "outlinewidth": 0,
            "ticks": ""
           }
          },
          "colorscale": {
           "diverging": [
            [
             0,
             "#8e0152"
            ],
            [
             0.1,
             "#c51b7d"
            ],
            [
             0.2,
             "#de77ae"
            ],
            [
             0.3,
             "#f1b6da"
            ],
            [
             0.4,
             "#fde0ef"
            ],
            [
             0.5,
             "#f7f7f7"
            ],
            [
             0.6,
             "#e6f5d0"
            ],
            [
             0.7,
             "#b8e186"
            ],
            [
             0.8,
             "#7fbc41"
            ],
            [
             0.9,
             "#4d9221"
            ],
            [
             1,
             "#276419"
            ]
           ],
           "sequential": [
            [
             0,
             "#0d0887"
            ],
            [
             0.1111111111111111,
             "#46039f"
            ],
            [
             0.2222222222222222,
             "#7201a8"
            ],
            [
             0.3333333333333333,
             "#9c179e"
            ],
            [
             0.4444444444444444,
             "#bd3786"
            ],
            [
             0.5555555555555556,
             "#d8576b"
            ],
            [
             0.6666666666666666,
             "#ed7953"
            ],
            [
             0.7777777777777778,
             "#fb9f3a"
            ],
            [
             0.8888888888888888,
             "#fdca26"
            ],
            [
             1,
             "#f0f921"
            ]
           ],
           "sequentialminus": [
            [
             0,
             "#0d0887"
            ],
            [
             0.1111111111111111,
             "#46039f"
            ],
            [
             0.2222222222222222,
             "#7201a8"
            ],
            [
             0.3333333333333333,
             "#9c179e"
            ],
            [
             0.4444444444444444,
             "#bd3786"
            ],
            [
             0.5555555555555556,
             "#d8576b"
            ],
            [
             0.6666666666666666,
             "#ed7953"
            ],
            [
             0.7777777777777778,
             "#fb9f3a"
            ],
            [
             0.8888888888888888,
             "#fdca26"
            ],
            [
             1,
             "#f0f921"
            ]
           ]
          },
          "colorway": [
           "#636efa",
           "#EF553B",
           "#00cc96",
           "#ab63fa",
           "#FFA15A",
           "#19d3f3",
           "#FF6692",
           "#B6E880",
           "#FF97FF",
           "#FECB52"
          ],
          "font": {
           "color": "#2a3f5f"
          },
          "geo": {
           "bgcolor": "white",
           "lakecolor": "white",
           "landcolor": "#E5ECF6",
           "showlakes": true,
           "showland": true,
           "subunitcolor": "white"
          },
          "hoverlabel": {
           "align": "left"
          },
          "hovermode": "closest",
          "mapbox": {
           "style": "light"
          },
          "paper_bgcolor": "white",
          "plot_bgcolor": "#E5ECF6",
          "polar": {
           "angularaxis": {
            "gridcolor": "white",
            "linecolor": "white",
            "ticks": ""
           },
           "bgcolor": "#E5ECF6",
           "radialaxis": {
            "gridcolor": "white",
            "linecolor": "white",
            "ticks": ""
           }
          },
          "scene": {
           "xaxis": {
            "backgroundcolor": "#E5ECF6",
            "gridcolor": "white",
            "gridwidth": 2,
            "linecolor": "white",
            "showbackground": true,
            "ticks": "",
            "zerolinecolor": "white"
           },
           "yaxis": {
            "backgroundcolor": "#E5ECF6",
            "gridcolor": "white",
            "gridwidth": 2,
            "linecolor": "white",
            "showbackground": true,
            "ticks": "",
            "zerolinecolor": "white"
           },
           "zaxis": {
            "backgroundcolor": "#E5ECF6",
            "gridcolor": "white",
            "gridwidth": 2,
            "linecolor": "white",
            "showbackground": true,
            "ticks": "",
            "zerolinecolor": "white"
           }
          },
          "shapedefaults": {
           "line": {
            "color": "#2a3f5f"
           }
          },
          "ternary": {
           "aaxis": {
            "gridcolor": "white",
            "linecolor": "white",
            "ticks": ""
           },
           "baxis": {
            "gridcolor": "white",
            "linecolor": "white",
            "ticks": ""
           },
           "bgcolor": "#E5ECF6",
           "caxis": {
            "gridcolor": "white",
            "linecolor": "white",
            "ticks": ""
           }
          },
          "title": {
           "x": 0.05
          },
          "xaxis": {
           "automargin": true,
           "gridcolor": "white",
           "linecolor": "white",
           "ticks": "",
           "title": {
            "standoff": 15
           },
           "zerolinecolor": "white",
           "zerolinewidth": 2
          },
          "yaxis": {
           "automargin": true,
           "gridcolor": "white",
           "linecolor": "white",
           "ticks": "",
           "title": {
            "standoff": 15
           },
           "zerolinecolor": "white",
           "zerolinewidth": 2
          }
         }
        },
        "title": {
         "text": "ROC curve"
        },
        "width": 550,
        "xaxis": {
         "title": {
          "text": "False Positive Rate"
         }
        },
        "yaxis": {
         "title": {
          "text": "True Positive Rate"
         }
        }
       }
      },
      "text/html": [
       "<div>                            <div id=\"40511ee0-d6dd-4df6-b655-153311f35a7a\" class=\"plotly-graph-div\" style=\"height:550px; width:550px;\"></div>            <script type=\"text/javascript\">                require([\"plotly\"], function(Plotly) {                    window.PLOTLYENV=window.PLOTLYENV || {};                                    if (document.getElementById(\"40511ee0-d6dd-4df6-b655-153311f35a7a\")) {                    Plotly.newPlot(                        \"40511ee0-d6dd-4df6-b655-153311f35a7a\",                        [{\"line\": {\"color\": \"rgb(31, 119, 180)\"}, \"mode\": \"lines\", \"name\": \"\", \"showlegend\": false, \"type\": \"scatter\", \"x\": [0, 1], \"y\": [0, 1]}, {\"hoverlabel\": {\"namelength\": 30}, \"line\": {\"color\": \"rgb(255, 127, 14)\"}, \"mode\": \"lines\", \"name\": \"Logistic Regression (area = 0.92)\", \"showlegend\": true, \"type\": \"scatter\", \"x\": [0.0, 0.0, 0.0, 0.0035842293906810036, 0.0035842293906810036, 0.007168458781362007, 0.007168458781362007, 0.010752688172043012, 0.010752688172043012, 0.014336917562724014, 0.014336917562724014, 0.017921146953405017, 0.017921146953405017, 0.021505376344086023, 0.021505376344086023, 0.025089605734767026, 0.025089605734767026, 0.02867383512544803, 0.02867383512544803, 0.03225806451612903, 0.03225806451612903, 0.035842293906810034, 0.035842293906810034, 0.03942652329749104, 0.03942652329749104, 0.043010752688172046, 0.043010752688172046, 0.04659498207885305, 0.04659498207885305, 0.053763440860215055, 0.053763440860215055, 0.05734767025089606, 0.05734767025089606, 0.06093189964157706, 0.06093189964157706, 0.06451612903225806, 0.06451612903225806, 0.06810035842293907, 0.06810035842293907, 0.07168458781362007, 0.07168458781362007, 0.07526881720430108, 0.07526881720430108, 0.08243727598566308, 0.08243727598566308, 0.0931899641577061, 0.0931899641577061, 0.0967741935483871, 0.0967741935483871, 0.1111111111111111, 0.1111111111111111, 0.11469534050179211, 0.11469534050179211, 0.12186379928315412, 0.12186379928315412, 0.12903225806451613, 0.12903225806451613, 0.14695340501792115, 0.14695340501792115, 0.15412186379928317, 0.15412186379928317, 0.15770609318996415, 0.15770609318996415, 0.16129032258064516, 0.16129032258064516, 0.16487455197132617, 0.16487455197132617, 0.17562724014336917, 0.17562724014336917, 0.1827956989247312, 0.1827956989247312, 0.18996415770609318, 0.18996415770609318, 0.1971326164874552, 0.1971326164874552, 0.24372759856630824, 0.24372759856630824, 0.25448028673835127, 0.25448028673835127, 0.26881720430107525, 0.26881720430107525, 0.2903225806451613, 0.2903225806451613, 0.3046594982078853, 0.3046594982078853, 0.37992831541218636, 0.37992831541218636, 0.3978494623655914, 0.3978494623655914, 0.41935483870967744, 0.41935483870967744, 0.4444444444444444, 0.4444444444444444, 0.48028673835125446, 0.48028673835125446, 0.5412186379928315, 0.5412186379928315, 0.6308243727598566, 0.6308243727598566, 0.7132616487455197, 0.7132616487455197, 0.7204301075268817, 0.7204301075268817, 0.8136200716845878, 0.8136200716845878, 0.8422939068100358, 0.8422939068100358, 0.978494623655914, 0.978494623655914, 0.989247311827957, 0.989247311827957, 1.0], \"y\": [0.0, 0.0035842293906810036, 0.010752688172043012, 0.010752688172043012, 0.021505376344086023, 0.021505376344086023, 0.15770609318996415, 0.15770609318996415, 0.1863799283154122, 0.1863799283154122, 0.27956989247311825, 0.27956989247311825, 0.2867383512544803, 0.2867383512544803, 0.36917562724014336, 0.36917562724014336, 0.45878136200716846, 0.45878136200716846, 0.5197132616487455, 0.5197132616487455, 0.5555555555555556, 0.5555555555555556, 0.5806451612903226, 0.5806451612903226, 0.6021505376344086, 0.6021505376344086, 0.6200716845878136, 0.6200716845878136, 0.6953405017921147, 0.6953405017921147, 0.7096774193548387, 0.7096774193548387, 0.7311827956989247, 0.7311827956989247, 0.7455197132616488, 0.7455197132616488, 0.7562724014336918, 0.7562724014336918, 0.8028673835125448, 0.8028673835125448, 0.8100358422939068, 0.8100358422939068, 0.8172043010752689, 0.8172043010752689, 0.8243727598566308, 0.8243727598566308, 0.8351254480286738, 0.8351254480286738, 0.8387096774193549, 0.8387096774193549, 0.8422939068100358, 0.8422939068100358, 0.8458781362007168, 0.8458781362007168, 0.8530465949820788, 0.8530465949820788, 0.8709677419354839, 0.8709677419354839, 0.8781362007168458, 0.8781362007168458, 0.8853046594982079, 0.8853046594982079, 0.8888888888888888, 0.8888888888888888, 0.9032258064516129, 0.9032258064516129, 0.9068100358422939, 0.9068100358422939, 0.9175627240143369, 0.9175627240143369, 0.9247311827956989, 0.9247311827956989, 0.9283154121863799, 0.9283154121863799, 0.931899641577061, 0.931899641577061, 0.9354838709677419, 0.9354838709677419, 0.9390681003584229, 0.9390681003584229, 0.942652329749104, 0.942652329749104, 0.946236559139785, 0.946236559139785, 0.953405017921147, 0.953405017921147, 0.956989247311828, 0.956989247311828, 0.9605734767025089, 0.9605734767025089, 0.96415770609319, 0.96415770609319, 0.967741935483871, 0.967741935483871, 0.9713261648745519, 0.9713261648745519, 0.974910394265233, 0.974910394265233, 0.978494623655914, 0.978494623655914, 0.982078853046595, 0.982078853046595, 0.985663082437276, 0.985663082437276, 0.989247311827957, 0.989247311827957, 0.992831541218638, 0.992831541218638, 0.996415770609319, 0.996415770609319, 1.0, 1.0]}, {\"hoverlabel\": {\"namelength\": 30}, \"line\": {\"color\": \"rgb(44, 160, 44)\"}, \"mode\": \"lines\", \"name\": \"KNN (area = 0.87)\", \"showlegend\": true, \"type\": \"scatter\", \"x\": [0.0, 0.0035842293906810036, 0.0035842293906810036, 0.007168458781362007, 0.007168458781362007, 0.010752688172043012, 0.010752688172043012, 0.014336917562724014, 0.014336917562724014, 0.017921146953405017, 0.017921146953405017, 0.021505376344086023, 0.021505376344086023, 0.025089605734767026, 0.025089605734767026, 0.02867383512544803, 0.02867383512544803, 0.03225806451612903, 0.03225806451612903, 0.035842293906810034, 0.035842293906810034, 0.03942652329749104, 0.03942652329749104, 0.043010752688172046, 0.043010752688172046, 0.04659498207885305, 0.04659498207885305, 0.05017921146953405, 0.05017921146953405, 0.053763440860215055, 0.053763440860215055, 0.05734767025089606, 0.05734767025089606, 0.06093189964157706, 0.06093189964157706, 0.06451612903225806, 0.06451612903225806, 0.06810035842293907, 0.06810035842293907, 0.07168458781362007, 0.07168458781362007, 0.07526881720430108, 0.07526881720430108, 0.07885304659498207, 0.07885304659498207, 0.08243727598566308, 0.08243727598566308, 0.08602150537634409, 0.08602150537634409, 0.0967741935483871, 0.0967741935483871, 0.1003584229390681, 0.1003584229390681, 0.11469534050179211, 0.11469534050179211, 0.11827956989247312, 0.11827956989247312, 0.12186379928315412, 0.12186379928315412, 0.12544802867383512, 0.12544802867383512, 0.13620071684587814, 0.13620071684587814, 0.14336917562724014, 0.14336917562724014, 0.14695340501792115, 0.14695340501792115, 0.15053763440860216, 0.15053763440860216, 0.15412186379928317, 0.15412186379928317, 0.15770609318996415, 0.15770609318996415, 0.16845878136200718, 0.16845878136200718, 0.17562724014336917, 0.17562724014336917, 0.17921146953405018, 0.17921146953405018, 0.1863799283154122, 0.1863799283154122, 0.2007168458781362, 0.2007168458781362, 0.21505376344086022, 0.21505376344086022, 0.21863799283154123, 0.21863799283154123, 0.23297491039426524, 0.23297491039426524, 0.23655913978494625, 0.23655913978494625, 0.24014336917562723, 0.24014336917562723, 0.24372759856630824, 0.24372759856630824, 0.24731182795698925, 0.24731182795698925, 0.2724014336917563, 0.2724014336917563, 0.27598566308243727, 0.27598566308243727, 0.27956989247311825, 0.27956989247311825, 0.2867383512544803, 0.2867383512544803, 0.2903225806451613, 0.2903225806451613, 0.2974910394265233, 0.2974910394265233, 0.3046594982078853, 0.3046594982078853, 0.30824372759856633, 0.30824372759856633, 0.3225806451612903, 0.3225806451612903, 0.35125448028673834, 0.35125448028673834, 0.35842293906810035, 0.35842293906810035, 0.3763440860215054, 0.3763440860215054, 0.3835125448028674, 0.3835125448028674, 0.3942652329749104, 0.3942652329749104, 0.4121863799283154, 0.4121863799283154, 0.43010752688172044, 0.43010752688172044, 0.43727598566308246, 0.43727598566308246, 0.4551971326164875, 0.4551971326164875, 0.45878136200716846, 0.45878136200716846, 0.4731182795698925, 0.4731182795698925, 0.5053763440860215, 0.5053763440860215, 0.5197132616487455, 0.5197132616487455, 0.5985663082437276, 0.5985663082437276, 0.6021505376344086, 0.6021505376344086, 0.6164874551971327, 0.6164874551971327, 0.6845878136200717, 0.6845878136200717, 0.7096774193548387, 0.7096774193548387, 0.7383512544802867, 0.7383512544802867, 0.7741935483870968, 0.7741935483870968, 0.8136200716845878, 0.8136200716845878, 0.8817204301075269, 0.8817204301075269, 0.9175627240143369, 0.9175627240143369, 0.921146953405018, 0.921146953405018, 0.967741935483871, 1.0], \"y\": [0.0, 0.03225806451612903, 0.07885304659498207, 0.07885304659498207, 0.08243727598566308, 0.08243727598566308, 0.11827956989247312, 0.11827956989247312, 0.1863799283154122, 0.1863799283154122, 0.22580645161290322, 0.22580645161290322, 0.2616487455197133, 0.2616487455197133, 0.2903225806451613, 0.2903225806451613, 0.3154121863799283, 0.3154121863799283, 0.3835125448028674, 0.3835125448028674, 0.3978494623655914, 0.3978494623655914, 0.4014336917562724, 0.4014336917562724, 0.48028673835125446, 0.48028673835125446, 0.4946236559139785, 0.4946236559139785, 0.5268817204301075, 0.5268817204301075, 0.5412186379928315, 0.5412186379928315, 0.5448028673835126, 0.5448028673835126, 0.5627240143369175, 0.5627240143369175, 0.5698924731182796, 0.5698924731182796, 0.5878136200716846, 0.5878136200716846, 0.6057347670250897, 0.6057347670250897, 0.6164874551971327, 0.6164874551971327, 0.6236559139784946, 0.6236559139784946, 0.6415770609318996, 0.6415770609318996, 0.6487455197132617, 0.6487455197132617, 0.6774193548387096, 0.6774193548387096, 0.6917562724014337, 0.6917562724014337, 0.6953405017921147, 0.6953405017921147, 0.7025089605734767, 0.7025089605734767, 0.7096774193548387, 0.7096774193548387, 0.7132616487455197, 0.7132616487455197, 0.7204301075268817, 0.7204301075268817, 0.7240143369175627, 0.7240143369175627, 0.7275985663082437, 0.7275985663082437, 0.7526881720430108, 0.7526881720430108, 0.7562724014336918, 0.7562724014336918, 0.7598566308243727, 0.7598566308243727, 0.7634408602150538, 0.7634408602150538, 0.7670250896057348, 0.7670250896057348, 0.7813620071684588, 0.7813620071684588, 0.7849462365591398, 0.7849462365591398, 0.7992831541218638, 0.7992831541218638, 0.8136200716845878, 0.8136200716845878, 0.8207885304659498, 0.8207885304659498, 0.8243727598566308, 0.8243727598566308, 0.8315412186379928, 0.8315412186379928, 0.8422939068100358, 0.8422939068100358, 0.8458781362007168, 0.8458781362007168, 0.8494623655913979, 0.8494623655913979, 0.8530465949820788, 0.8530465949820788, 0.8566308243727598, 0.8566308243727598, 0.8637992831541219, 0.8637992831541219, 0.8745519713261649, 0.8745519713261649, 0.8781362007168458, 0.8781362007168458, 0.8817204301075269, 0.8817204301075269, 0.8853046594982079, 0.8853046594982079, 0.899641577060932, 0.899641577060932, 0.9032258064516129, 0.9032258064516129, 0.9139784946236559, 0.9139784946236559, 0.9175627240143369, 0.9175627240143369, 0.921146953405018, 0.921146953405018, 0.9247311827956989, 0.9247311827956989, 0.9283154121863799, 0.9283154121863799, 0.931899641577061, 0.931899641577061, 0.9354838709677419, 0.9354838709677419, 0.9390681003584229, 0.9390681003584229, 0.942652329749104, 0.942652329749104, 0.946236559139785, 0.946236559139785, 0.9498207885304659, 0.9498207885304659, 0.953405017921147, 0.953405017921147, 0.956989247311828, 0.956989247311828, 0.9605734767025089, 0.9605734767025089, 0.96415770609319, 0.96415770609319, 0.967741935483871, 0.967741935483871, 0.9713261648745519, 0.9713261648745519, 0.974910394265233, 0.974910394265233, 0.978494623655914, 0.978494623655914, 0.982078853046595, 0.982078853046595, 0.985663082437276, 0.985663082437276, 0.989247311827957, 0.989247311827957, 0.992831541218638, 0.992831541218638, 0.996415770609319, 0.996415770609319, 1.0]}, {\"hoverlabel\": {\"namelength\": 30}, \"line\": {\"color\": \"rgb(214, 39, 40)\"}, \"mode\": \"lines\", \"name\": \"SVM (area = 0.92)\", \"showlegend\": true, \"type\": \"scatter\", \"x\": [0.0, 0.0, 0.0035842293906810036, 0.0035842293906810036, 0.007168458781362007, 0.007168458781362007, 0.010752688172043012, 0.010752688172043012, 0.014336917562724014, 0.014336917562724014, 0.017921146953405017, 0.017921146953405017, 0.021505376344086023, 0.021505376344086023, 0.025089605734767026, 0.025089605734767026, 0.02867383512544803, 0.02867383512544803, 0.03225806451612903, 0.03225806451612903, 0.035842293906810034, 0.035842293906810034, 0.03942652329749104, 0.03942652329749104, 0.043010752688172046, 0.043010752688172046, 0.04659498207885305, 0.04659498207885305, 0.053763440860215055, 0.053763440860215055, 0.05734767025089606, 0.05734767025089606, 0.06451612903225806, 0.06451612903225806, 0.06810035842293907, 0.06810035842293907, 0.07168458781362007, 0.07168458781362007, 0.08243727598566308, 0.08243727598566308, 0.08602150537634409, 0.08602150537634409, 0.08960573476702509, 0.08960573476702509, 0.0931899641577061, 0.0931899641577061, 0.1003584229390681, 0.1003584229390681, 0.1039426523297491, 0.1039426523297491, 0.10752688172043011, 0.10752688172043011, 0.11827956989247312, 0.11827956989247312, 0.12544802867383512, 0.12544802867383512, 0.12903225806451613, 0.12903225806451613, 0.13978494623655913, 0.13978494623655913, 0.14695340501792115, 0.14695340501792115, 0.15412186379928317, 0.15412186379928317, 0.15770609318996415, 0.15770609318996415, 0.17562724014336917, 0.17562724014336917, 0.17921146953405018, 0.17921146953405018, 0.1827956989247312, 0.1827956989247312, 0.1863799283154122, 0.1863799283154122, 0.1971326164874552, 0.1971326164874552, 0.2007168458781362, 0.2007168458781362, 0.20430107526881722, 0.20430107526881722, 0.22939068100358423, 0.22939068100358423, 0.23655913978494625, 0.23655913978494625, 0.24731182795698925, 0.24731182795698925, 0.25448028673835127, 0.25448028673835127, 0.2616487455197133, 0.2616487455197133, 0.3333333333333333, 0.3333333333333333, 0.3870967741935484, 0.3870967741935484, 0.3906810035842294, 0.3906810035842294, 0.3942652329749104, 0.3942652329749104, 0.5448028673835126, 0.5448028673835126, 0.5842293906810035, 0.5842293906810035, 0.6236559139784946, 0.6236559139784946, 0.6379928315412187, 0.6379928315412187, 0.7670250896057348, 0.7670250896057348, 0.7813620071684588, 0.7813620071684588, 0.8781362007168458, 0.8781362007168458, 0.978494623655914, 0.978494623655914, 0.996415770609319, 0.996415770609319, 1.0], \"y\": [0.0, 0.0035842293906810036, 0.0035842293906810036, 0.021505376344086023, 0.021505376344086023, 0.12186379928315412, 0.12186379928315412, 0.21863799283154123, 0.21863799283154123, 0.23297491039426524, 0.23297491039426524, 0.36200716845878134, 0.36200716845878134, 0.3763440860215054, 0.3763440860215054, 0.4157706093189964, 0.4157706093189964, 0.4551971326164875, 0.4551971326164875, 0.6057347670250897, 0.6057347670250897, 0.6093189964157706, 0.6093189964157706, 0.6129032258064516, 0.6129032258064516, 0.6666666666666666, 0.6666666666666666, 0.7383512544802867, 0.7383512544802867, 0.7455197132616488, 0.7455197132616488, 0.7526881720430108, 0.7526881720430108, 0.7634408602150538, 0.7634408602150538, 0.7706093189964157, 0.7706093189964157, 0.7956989247311828, 0.7956989247311828, 0.7992831541218638, 0.7992831541218638, 0.8028673835125448, 0.8028673835125448, 0.8136200716845878, 0.8136200716845878, 0.8172043010752689, 0.8172043010752689, 0.8207885304659498, 0.8207885304659498, 0.8243727598566308, 0.8243727598566308, 0.8422939068100358, 0.8422939068100358, 0.8458781362007168, 0.8458781362007168, 0.8530465949820788, 0.8530465949820788, 0.8602150537634409, 0.8602150537634409, 0.8709677419354839, 0.8709677419354839, 0.8745519713261649, 0.8745519713261649, 0.8817204301075269, 0.8817204301075269, 0.8924731182795699, 0.8924731182795699, 0.8960573476702509, 0.8960573476702509, 0.899641577060932, 0.899641577060932, 0.9068100358422939, 0.9068100358422939, 0.910394265232975, 0.910394265232975, 0.9139784946236559, 0.9139784946236559, 0.9175627240143369, 0.9175627240143369, 0.9283154121863799, 0.9283154121863799, 0.931899641577061, 0.931899641577061, 0.9354838709677419, 0.9354838709677419, 0.942652329749104, 0.942652329749104, 0.946236559139785, 0.946236559139785, 0.953405017921147, 0.953405017921147, 0.956989247311828, 0.956989247311828, 0.9605734767025089, 0.9605734767025089, 0.96415770609319, 0.96415770609319, 0.967741935483871, 0.967741935483871, 0.9713261648745519, 0.9713261648745519, 0.974910394265233, 0.974910394265233, 0.978494623655914, 0.978494623655914, 0.982078853046595, 0.982078853046595, 0.985663082437276, 0.985663082437276, 0.989247311827957, 0.989247311827957, 0.992831541218638, 0.992831541218638, 0.996415770609319, 0.996415770609319, 1.0, 1.0]}, {\"hoverlabel\": {\"namelength\": 30}, \"line\": {\"color\": \"rgb(148, 103, 189)\"}, \"mode\": \"lines\", \"name\": \"Decision Tree (area = 0.84)\", \"showlegend\": true, \"type\": \"scatter\", \"x\": [0.0, 0.15412186379928317, 0.16129032258064516, 0.17562724014336917, 0.1935483870967742, 1.0], \"y\": [0.0, 0.8064516129032258, 0.8243727598566308, 0.8387096774193549, 0.8458781362007168, 1.0]}, {\"hoverlabel\": {\"namelength\": 30}, \"line\": {\"color\": \"rgb(140, 86, 75)\"}, \"mode\": \"lines\", \"name\": \"Random Forest (area = 0.96)\", \"showlegend\": true, \"type\": \"scatter\", \"x\": [0.0, 0.0, 0.0, 0.0, 0.0, 0.0, 0.0, 0.0, 0.0, 0.0035842293906810036, 0.0035842293906810036, 0.010752688172043012, 0.014336917562724014, 0.014336917562724014, 0.014336917562724014, 0.014336917562724014, 0.014336917562724014, 0.017921146953405017, 0.017921146953405017, 0.017921146953405017, 0.017921146953405017, 0.017921146953405017, 0.017921146953405017, 0.017921146953405017, 0.017921146953405017, 0.017921146953405017, 0.021505376344086023, 0.021505376344086023, 0.021505376344086023, 0.021505376344086023, 0.021505376344086023, 0.021505376344086023, 0.021505376344086023, 0.021505376344086023, 0.021505376344086023, 0.021505376344086023, 0.021505376344086023, 0.021505376344086023, 0.021505376344086023, 0.021505376344086023, 0.021505376344086023, 0.021505376344086023, 0.025089605734767026, 0.025089605734767026, 0.025089605734767026, 0.025089605734767026, 0.025089605734767026, 0.025089605734767026, 0.025089605734767026, 0.025089605734767026, 0.025089605734767026, 0.025089605734767026, 0.025089605734767026, 0.025089605734767026, 0.025089605734767026, 0.025089605734767026, 0.02867383512544803, 0.02867383512544803, 0.03225806451612903, 0.035842293906810034, 0.035842293906810034, 0.035842293906810034, 0.035842293906810034, 0.035842293906810034, 0.035842293906810034, 0.035842293906810034, 0.035842293906810034, 0.035842293906810034, 0.035842293906810034, 0.035842293906810034, 0.035842293906810034, 0.035842293906810034, 0.035842293906810034, 0.03942652329749104, 0.03942652329749104, 0.043010752688172046, 0.043010752688172046, 0.04659498207885305, 0.04659498207885305, 0.053763440860215055, 0.053763440860215055, 0.05734767025089606, 0.06093189964157706, 0.06093189964157706, 0.07526881720430108, 0.07526881720430108, 0.08243727598566308, 0.08243727598566308, 0.0931899641577061, 0.0931899641577061, 0.1003584229390681, 0.1003584229390681, 0.1039426523297491, 0.12186379928315412, 0.13620071684587814, 0.14336917562724014, 0.15412186379928317, 0.16845878136200718, 0.17562724014336917, 0.17921146953405018, 0.1863799283154122, 0.1935483870967742, 0.2007168458781362, 0.20430107526881722, 0.21863799283154123, 0.22580645161290322, 0.24014336917562723, 0.25448028673835127, 0.25806451612903225, 0.2724014336917563, 0.2867383512544803, 0.3010752688172043, 0.30824372759856633, 0.31899641577060933, 0.32616487455197135, 0.33691756272401435, 0.35125448028673834, 0.3548387096774194, 0.3727598566308244, 0.3763440860215054, 0.3870967741935484, 0.4050179211469534, 0.4121863799283154, 0.4157706093189964, 0.43010752688172044, 0.4551971326164875, 0.46236559139784944, 0.4731182795698925, 0.4874551971326165, 0.4910394265232975, 0.4982078853046595, 0.5161290322580645, 0.5304659498207885, 0.5376344086021505, 0.5412186379928315, 0.5591397849462365, 0.5698924731182796, 0.5734767025089605, 0.5770609318996416, 0.5806451612903226, 0.5985663082437276, 0.6093189964157706, 0.6523297491039427, 0.6630824372759857, 0.6810035842293907, 0.6845878136200717, 0.7096774193548387, 0.7383512544802867, 0.7562724014336918, 0.7706093189964157, 0.7992831541218638, 0.8136200716845878, 0.8351254480286738, 0.8602150537634409, 0.8673835125448028, 0.8745519713261649, 0.8853046594982079, 0.899641577060932, 0.9175627240143369, 0.9498207885304659, 0.96415770609319, 0.985663082437276, 1.0], \"y\": [0.0, 0.007168458781362007, 0.014336917562724014, 0.035842293906810034, 0.05017921146953405, 0.08243727598566308, 0.1003584229390681, 0.11469534050179211, 0.12544802867383512, 0.13261648745519714, 0.13978494623655913, 0.16487455197132617, 0.1863799283154122, 0.2007168458781362, 0.22939068100358423, 0.24372759856630824, 0.2616487455197133, 0.2903225806451613, 0.3154121863799283, 0.31899641577060933, 0.33691756272401435, 0.34767025089605735, 0.3906810035842294, 0.4014336917562724, 0.41935483870967744, 0.4229390681003584, 0.4265232974910394, 0.43010752688172044, 0.44086021505376344, 0.45878136200716846, 0.46236559139784944, 0.46953405017921146, 0.4838709677419355, 0.5017921146953405, 0.5089605734767025, 0.5125448028673835, 0.5268817204301075, 0.5376344086021505, 0.5448028673835126, 0.5698924731182796, 0.5842293906810035, 0.5878136200716846, 0.5949820788530465, 0.6129032258064516, 0.6236559139784946, 0.6272401433691757, 0.6451612903225806, 0.6487455197132617, 0.6630824372759857, 0.6738351254480287, 0.6810035842293907, 0.6917562724014337, 0.6989247311827957, 0.7132616487455197, 0.7275985663082437, 0.7419354838709677, 0.7455197132616488, 0.7598566308243727, 0.7741935483870968, 0.7813620071684588, 0.7956989247311828, 0.7992831541218638, 0.8064516129032258, 0.8136200716845878, 0.8207885304659498, 0.8243727598566308, 0.8315412186379928, 0.8458781362007168, 0.8566308243727598, 0.8637992831541219, 0.8781362007168458, 0.8960573476702509, 0.899641577060932, 0.899641577060932, 0.9068100358422939, 0.9068100358422939, 0.9175627240143369, 0.9175627240143369, 0.9247311827956989, 0.9247311827956989, 0.9390681003584229, 0.9390681003584229, 0.942652329749104, 0.946236559139785, 0.946236559139785, 0.953405017921147, 0.953405017921147, 0.956989247311828, 0.956989247311828, 0.9605734767025089, 0.9605734767025089, 0.96415770609319, 0.96415770609319, 0.96415770609319, 0.96415770609319, 0.96415770609319, 0.96415770609319, 0.96415770609319, 0.96415770609319, 0.96415770609319, 0.96415770609319, 0.96415770609319, 0.96415770609319, 0.96415770609319, 0.96415770609319, 0.967741935483871, 0.9713261648745519, 0.9713261648745519, 0.974910394265233, 0.974910394265233, 0.974910394265233, 0.974910394265233, 0.974910394265233, 0.974910394265233, 0.974910394265233, 0.974910394265233, 0.974910394265233, 0.974910394265233, 0.974910394265233, 0.974910394265233, 0.974910394265233, 0.974910394265233, 0.978494623655914, 0.978494623655914, 0.978494623655914, 0.978494623655914, 0.978494623655914, 0.978494623655914, 0.978494623655914, 0.978494623655914, 0.978494623655914, 0.978494623655914, 0.978494623655914, 0.978494623655914, 0.978494623655914, 0.978494623655914, 0.978494623655914, 0.978494623655914, 0.982078853046595, 0.982078853046595, 0.982078853046595, 0.982078853046595, 0.982078853046595, 0.982078853046595, 0.982078853046595, 0.982078853046595, 0.982078853046595, 0.985663082437276, 0.985663082437276, 0.985663082437276, 0.985663082437276, 0.985663082437276, 0.989247311827957, 0.996415770609319, 0.996415770609319, 1.0, 1.0, 1.0, 1.0, 1.0, 1.0, 1.0, 1.0]}],                        {\"autosize\": false, \"height\": 550, \"legend\": {\"x\": 0.4, \"y\": 0.06}, \"template\": {\"data\": {\"bar\": [{\"error_x\": {\"color\": \"#2a3f5f\"}, \"error_y\": {\"color\": \"#2a3f5f\"}, \"marker\": {\"line\": {\"color\": \"#E5ECF6\", \"width\": 0.5}}, \"type\": \"bar\"}], \"barpolar\": [{\"marker\": {\"line\": {\"color\": \"#E5ECF6\", \"width\": 0.5}}, \"type\": \"barpolar\"}], \"carpet\": [{\"aaxis\": {\"endlinecolor\": \"#2a3f5f\", \"gridcolor\": \"white\", \"linecolor\": \"white\", \"minorgridcolor\": \"white\", \"startlinecolor\": \"#2a3f5f\"}, \"baxis\": {\"endlinecolor\": \"#2a3f5f\", \"gridcolor\": \"white\", \"linecolor\": \"white\", \"minorgridcolor\": \"white\", \"startlinecolor\": \"#2a3f5f\"}, \"type\": \"carpet\"}], \"choropleth\": [{\"colorbar\": {\"outlinewidth\": 0, \"ticks\": \"\"}, \"type\": \"choropleth\"}], \"contour\": [{\"colorbar\": {\"outlinewidth\": 0, \"ticks\": \"\"}, \"colorscale\": [[0.0, \"#0d0887\"], [0.1111111111111111, \"#46039f\"], [0.2222222222222222, \"#7201a8\"], [0.3333333333333333, \"#9c179e\"], [0.4444444444444444, \"#bd3786\"], [0.5555555555555556, \"#d8576b\"], [0.6666666666666666, \"#ed7953\"], [0.7777777777777778, \"#fb9f3a\"], [0.8888888888888888, \"#fdca26\"], [1.0, \"#f0f921\"]], \"type\": \"contour\"}], \"contourcarpet\": [{\"colorbar\": {\"outlinewidth\": 0, \"ticks\": \"\"}, \"type\": \"contourcarpet\"}], \"heatmap\": [{\"colorbar\": {\"outlinewidth\": 0, \"ticks\": \"\"}, \"colorscale\": [[0.0, \"#0d0887\"], [0.1111111111111111, \"#46039f\"], [0.2222222222222222, \"#7201a8\"], [0.3333333333333333, \"#9c179e\"], [0.4444444444444444, \"#bd3786\"], [0.5555555555555556, \"#d8576b\"], [0.6666666666666666, \"#ed7953\"], [0.7777777777777778, \"#fb9f3a\"], [0.8888888888888888, \"#fdca26\"], [1.0, \"#f0f921\"]], \"type\": \"heatmap\"}], \"heatmapgl\": [{\"colorbar\": {\"outlinewidth\": 0, \"ticks\": \"\"}, \"colorscale\": [[0.0, \"#0d0887\"], [0.1111111111111111, \"#46039f\"], [0.2222222222222222, \"#7201a8\"], [0.3333333333333333, \"#9c179e\"], [0.4444444444444444, \"#bd3786\"], [0.5555555555555556, \"#d8576b\"], [0.6666666666666666, \"#ed7953\"], [0.7777777777777778, \"#fb9f3a\"], [0.8888888888888888, \"#fdca26\"], [1.0, \"#f0f921\"]], \"type\": \"heatmapgl\"}], \"histogram\": [{\"marker\": {\"colorbar\": {\"outlinewidth\": 0, \"ticks\": \"\"}}, \"type\": \"histogram\"}], \"histogram2d\": [{\"colorbar\": {\"outlinewidth\": 0, \"ticks\": \"\"}, \"colorscale\": [[0.0, \"#0d0887\"], [0.1111111111111111, \"#46039f\"], [0.2222222222222222, \"#7201a8\"], [0.3333333333333333, \"#9c179e\"], [0.4444444444444444, \"#bd3786\"], [0.5555555555555556, \"#d8576b\"], [0.6666666666666666, \"#ed7953\"], [0.7777777777777778, \"#fb9f3a\"], [0.8888888888888888, \"#fdca26\"], [1.0, \"#f0f921\"]], \"type\": \"histogram2d\"}], \"histogram2dcontour\": [{\"colorbar\": {\"outlinewidth\": 0, \"ticks\": \"\"}, \"colorscale\": [[0.0, \"#0d0887\"], [0.1111111111111111, \"#46039f\"], [0.2222222222222222, \"#7201a8\"], [0.3333333333333333, \"#9c179e\"], [0.4444444444444444, \"#bd3786\"], [0.5555555555555556, \"#d8576b\"], [0.6666666666666666, \"#ed7953\"], [0.7777777777777778, \"#fb9f3a\"], [0.8888888888888888, \"#fdca26\"], [1.0, \"#f0f921\"]], \"type\": \"histogram2dcontour\"}], \"mesh3d\": [{\"colorbar\": {\"outlinewidth\": 0, \"ticks\": \"\"}, \"type\": \"mesh3d\"}], \"parcoords\": [{\"line\": {\"colorbar\": {\"outlinewidth\": 0, \"ticks\": \"\"}}, \"type\": \"parcoords\"}], \"pie\": [{\"automargin\": true, \"type\": \"pie\"}], \"scatter\": [{\"marker\": {\"colorbar\": {\"outlinewidth\": 0, \"ticks\": \"\"}}, \"type\": \"scatter\"}], \"scatter3d\": [{\"line\": {\"colorbar\": {\"outlinewidth\": 0, \"ticks\": \"\"}}, \"marker\": {\"colorbar\": {\"outlinewidth\": 0, \"ticks\": \"\"}}, \"type\": \"scatter3d\"}], \"scattercarpet\": [{\"marker\": {\"colorbar\": {\"outlinewidth\": 0, \"ticks\": \"\"}}, \"type\": \"scattercarpet\"}], \"scattergeo\": [{\"marker\": {\"colorbar\": {\"outlinewidth\": 0, \"ticks\": \"\"}}, \"type\": \"scattergeo\"}], \"scattergl\": [{\"marker\": {\"colorbar\": {\"outlinewidth\": 0, \"ticks\": \"\"}}, \"type\": \"scattergl\"}], \"scattermapbox\": [{\"marker\": {\"colorbar\": {\"outlinewidth\": 0, \"ticks\": \"\"}}, \"type\": \"scattermapbox\"}], \"scatterpolar\": [{\"marker\": {\"colorbar\": {\"outlinewidth\": 0, \"ticks\": \"\"}}, \"type\": \"scatterpolar\"}], \"scatterpolargl\": [{\"marker\": {\"colorbar\": {\"outlinewidth\": 0, \"ticks\": \"\"}}, \"type\": \"scatterpolargl\"}], \"scatterternary\": [{\"marker\": {\"colorbar\": {\"outlinewidth\": 0, \"ticks\": \"\"}}, \"type\": \"scatterternary\"}], \"surface\": [{\"colorbar\": {\"outlinewidth\": 0, \"ticks\": \"\"}, \"colorscale\": [[0.0, \"#0d0887\"], [0.1111111111111111, \"#46039f\"], [0.2222222222222222, \"#7201a8\"], [0.3333333333333333, \"#9c179e\"], [0.4444444444444444, \"#bd3786\"], [0.5555555555555556, \"#d8576b\"], [0.6666666666666666, \"#ed7953\"], [0.7777777777777778, \"#fb9f3a\"], [0.8888888888888888, \"#fdca26\"], [1.0, \"#f0f921\"]], \"type\": \"surface\"}], \"table\": [{\"cells\": {\"fill\": {\"color\": \"#EBF0F8\"}, \"line\": {\"color\": \"white\"}}, \"header\": {\"fill\": {\"color\": \"#C8D4E3\"}, \"line\": {\"color\": \"white\"}}, \"type\": \"table\"}]}, \"layout\": {\"annotationdefaults\": {\"arrowcolor\": \"#2a3f5f\", \"arrowhead\": 0, \"arrowwidth\": 1}, \"autotypenumbers\": \"strict\", \"coloraxis\": {\"colorbar\": {\"outlinewidth\": 0, \"ticks\": \"\"}}, \"colorscale\": {\"diverging\": [[0, \"#8e0152\"], [0.1, \"#c51b7d\"], [0.2, \"#de77ae\"], [0.3, \"#f1b6da\"], [0.4, \"#fde0ef\"], [0.5, \"#f7f7f7\"], [0.6, \"#e6f5d0\"], [0.7, \"#b8e186\"], [0.8, \"#7fbc41\"], [0.9, \"#4d9221\"], [1, \"#276419\"]], \"sequential\": [[0.0, \"#0d0887\"], [0.1111111111111111, \"#46039f\"], [0.2222222222222222, \"#7201a8\"], [0.3333333333333333, \"#9c179e\"], [0.4444444444444444, \"#bd3786\"], [0.5555555555555556, \"#d8576b\"], [0.6666666666666666, \"#ed7953\"], [0.7777777777777778, \"#fb9f3a\"], [0.8888888888888888, \"#fdca26\"], [1.0, \"#f0f921\"]], \"sequentialminus\": [[0.0, \"#0d0887\"], [0.1111111111111111, \"#46039f\"], [0.2222222222222222, \"#7201a8\"], [0.3333333333333333, \"#9c179e\"], [0.4444444444444444, \"#bd3786\"], [0.5555555555555556, \"#d8576b\"], [0.6666666666666666, \"#ed7953\"], [0.7777777777777778, \"#fb9f3a\"], [0.8888888888888888, \"#fdca26\"], [1.0, \"#f0f921\"]]}, \"colorway\": [\"#636efa\", \"#EF553B\", \"#00cc96\", \"#ab63fa\", \"#FFA15A\", \"#19d3f3\", \"#FF6692\", \"#B6E880\", \"#FF97FF\", \"#FECB52\"], \"font\": {\"color\": \"#2a3f5f\"}, \"geo\": {\"bgcolor\": \"white\", \"lakecolor\": \"white\", \"landcolor\": \"#E5ECF6\", \"showlakes\": true, \"showland\": true, \"subunitcolor\": \"white\"}, \"hoverlabel\": {\"align\": \"left\"}, \"hovermode\": \"closest\", \"mapbox\": {\"style\": \"light\"}, \"paper_bgcolor\": \"white\", \"plot_bgcolor\": \"#E5ECF6\", \"polar\": {\"angularaxis\": {\"gridcolor\": \"white\", \"linecolor\": \"white\", \"ticks\": \"\"}, \"bgcolor\": \"#E5ECF6\", \"radialaxis\": {\"gridcolor\": \"white\", \"linecolor\": \"white\", \"ticks\": \"\"}}, \"scene\": {\"xaxis\": {\"backgroundcolor\": \"#E5ECF6\", \"gridcolor\": \"white\", \"gridwidth\": 2, \"linecolor\": \"white\", \"showbackground\": true, \"ticks\": \"\", \"zerolinecolor\": \"white\"}, \"yaxis\": {\"backgroundcolor\": \"#E5ECF6\", \"gridcolor\": \"white\", \"gridwidth\": 2, \"linecolor\": \"white\", \"showbackground\": true, \"ticks\": \"\", \"zerolinecolor\": \"white\"}, \"zaxis\": {\"backgroundcolor\": \"#E5ECF6\", \"gridcolor\": \"white\", \"gridwidth\": 2, \"linecolor\": \"white\", \"showbackground\": true, \"ticks\": \"\", \"zerolinecolor\": \"white\"}}, \"shapedefaults\": {\"line\": {\"color\": \"#2a3f5f\"}}, \"ternary\": {\"aaxis\": {\"gridcolor\": \"white\", \"linecolor\": \"white\", \"ticks\": \"\"}, \"baxis\": {\"gridcolor\": \"white\", \"linecolor\": \"white\", \"ticks\": \"\"}, \"bgcolor\": \"#E5ECF6\", \"caxis\": {\"gridcolor\": \"white\", \"linecolor\": \"white\", \"ticks\": \"\"}}, \"title\": {\"x\": 0.05}, \"xaxis\": {\"automargin\": true, \"gridcolor\": \"white\", \"linecolor\": \"white\", \"ticks\": \"\", \"title\": {\"standoff\": 15}, \"zerolinecolor\": \"white\", \"zerolinewidth\": 2}, \"yaxis\": {\"automargin\": true, \"gridcolor\": \"white\", \"linecolor\": \"white\", \"ticks\": \"\", \"title\": {\"standoff\": 15}, \"zerolinecolor\": \"white\", \"zerolinewidth\": 2}}}, \"title\": {\"text\": \"ROC curve\"}, \"width\": 550, \"xaxis\": {\"title\": {\"text\": \"False Positive Rate\"}}, \"yaxis\": {\"title\": {\"text\": \"True Positive Rate\"}}},                        {\"responsive\": true}                    ).then(function(){\n",
       "                            \n",
       "var gd = document.getElementById('40511ee0-d6dd-4df6-b655-153311f35a7a');\n",
       "var x = new MutationObserver(function (mutations, observer) {{\n",
       "        var display = window.getComputedStyle(gd).display;\n",
       "        if (!display || display === 'none') {{\n",
       "            console.log([gd, 'removed!']);\n",
       "            Plotly.purge(gd);\n",
       "            observer.disconnect();\n",
       "        }}\n",
       "}});\n",
       "\n",
       "// Listen for the removal of the full notebook cells\n",
       "var notebookContainer = gd.closest('#notebook-container');\n",
       "if (notebookContainer) {{\n",
       "    x.observe(notebookContainer, {childList: true});\n",
       "}}\n",
       "\n",
       "// Listen for the clearing of the current output cell\n",
       "var outputEl = gd.closest('.output');\n",
       "if (outputEl) {{\n",
       "    x.observe(outputEl, {childList: true});\n",
       "}}\n",
       "\n",
       "                        })                };                });            </script>        </div>"
      ]
     },
     "metadata": {},
     "output_type": "display_data"
    }
   ],
   "source": [
    "classifiers = [gs_lr, gs_knn, gs_svm, gs_dt, gs_rf]\n",
    "classifier_names = [\"Logistic Regression\", \"KNN\", \"SVM\", \"Decision Tree\", \"Random Forest\"]\n",
    "auc_scores, roc_plot = plot_roc_curve(classifiers, classifier_names, \"ROC curve\", X_test, y_test)\n",
    "roc_plot"
   ]
  },
  {
   "cell_type": "code",
   "execution_count": 61,
   "metadata": {},
   "outputs": [],
   "source": [
    "accs = []\n",
    "recalls = []\n",
    "precision = []\n",
    "results_table = pd.DataFrame(columns=[\"accuracy\", \"precision\", \"recall\", \"f1\", \"auc\"])\n",
    "for (i, clf), name, auc in zip(enumerate(classifiers), classifier_names, auc_scores):\n",
    "    y_pred = clf.predict(X_test)\n",
    "    row = []\n",
    "    row.append(accuracy_score(y_test, y_pred))\n",
    "    row.append(precision_score(y_test, y_pred))\n",
    "    row.append(recall_score(y_test, y_pred))\n",
    "    row.append(f1_score(y_test, y_pred))\n",
    "    row.append(auc)\n",
    "    row = [\"%.3f\" % r for r in row]\n",
    "    results_table.loc[name] = row"
   ]
  },
  {
   "cell_type": "code",
   "execution_count": 62,
   "metadata": {},
   "outputs": [
    {
     "data": {
      "text/html": [
       "<div>\n",
       "<style scoped>\n",
       "    .dataframe tbody tr th:only-of-type {\n",
       "        vertical-align: middle;\n",
       "    }\n",
       "\n",
       "    .dataframe tbody tr th {\n",
       "        vertical-align: top;\n",
       "    }\n",
       "\n",
       "    .dataframe thead th {\n",
       "        text-align: right;\n",
       "    }\n",
       "</style>\n",
       "<table border=\"1\" class=\"dataframe\">\n",
       "  <thead>\n",
       "    <tr style=\"text-align: right;\">\n",
       "      <th></th>\n",
       "      <th>accuracy</th>\n",
       "      <th>precision</th>\n",
       "      <th>recall</th>\n",
       "      <th>f1</th>\n",
       "      <th>auc</th>\n",
       "    </tr>\n",
       "  </thead>\n",
       "  <tbody>\n",
       "    <tr>\n",
       "      <th>Logistic Regression</th>\n",
       "      <td>0.871</td>\n",
       "      <td>0.391</td>\n",
       "      <td>0.692</td>\n",
       "      <td>0.500</td>\n",
       "      <td>0.924</td>\n",
       "    </tr>\n",
       "    <tr>\n",
       "      <th>KNN</th>\n",
       "      <td>0.799</td>\n",
       "      <td>0.266</td>\n",
       "      <td>0.654</td>\n",
       "      <td>0.378</td>\n",
       "      <td>0.874</td>\n",
       "    </tr>\n",
       "    <tr>\n",
       "      <th>SVM</th>\n",
       "      <td>0.864</td>\n",
       "      <td>0.375</td>\n",
       "      <td>0.692</td>\n",
       "      <td>0.486</td>\n",
       "      <td>0.924</td>\n",
       "    </tr>\n",
       "    <tr>\n",
       "      <th>Decision Tree</th>\n",
       "      <td>0.839</td>\n",
       "      <td>0.298</td>\n",
       "      <td>0.538</td>\n",
       "      <td>0.384</td>\n",
       "      <td>0.839</td>\n",
       "    </tr>\n",
       "    <tr>\n",
       "      <th>Random Forest</th>\n",
       "      <td>0.943</td>\n",
       "      <td>0.727</td>\n",
       "      <td>0.615</td>\n",
       "      <td>0.667</td>\n",
       "      <td>0.958</td>\n",
       "    </tr>\n",
       "  </tbody>\n",
       "</table>\n",
       "</div>"
      ],
      "text/plain": [
       "                    accuracy precision recall     f1    auc\n",
       "Logistic Regression    0.871     0.391  0.692  0.500  0.924\n",
       "KNN                    0.799     0.266  0.654  0.378  0.874\n",
       "SVM                    0.864     0.375  0.692  0.486  0.924\n",
       "Decision Tree          0.839     0.298  0.538  0.384  0.839\n",
       "Random Forest          0.943     0.727  0.615  0.667  0.958"
      ]
     },
     "execution_count": 62,
     "metadata": {},
     "output_type": "execute_result"
    }
   ],
   "source": [
    "results_table.to_excel(\"C:/Users/Snapp/Desktop/results_table1.xlsx\")\n",
    "results_table"
   ]
  }
 ],
 "metadata": {
  "kernelspec": {
   "display_name": "Python 3",
   "language": "python",
   "name": "python3"
  },
  "language_info": {
   "codemirror_mode": {
    "name": "ipython",
    "version": 3
   },
   "file_extension": ".py",
   "mimetype": "text/x-python",
   "name": "python",
   "nbconvert_exporter": "python",
   "pygments_lexer": "ipython3",
   "version": "3.6.13"
  }
 },
 "nbformat": 4,
 "nbformat_minor": 4
}
